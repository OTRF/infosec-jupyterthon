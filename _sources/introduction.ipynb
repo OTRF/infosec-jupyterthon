{
 "cells": [
  {
   "cell_type": "markdown",
   "metadata": {},
   "source": [
    "# Infosec Jupyterthon!\n",
    "\n",
    "[![Twitter](https://img.shields.io/twitter/follow/jupyterthon.svg?style=social&label=Follow)](https://twitter.com/jupyterthon)\n",
    "[![Open_Threat_Research Community](https://img.shields.io/badge/Open_Threat_Research-Community-brightgreen.svg)](https://twitter.com/OTR_Community)\n",
    "[![Open Source Love](https://badges.frapsoft.com/os/v3/open-source.svg?v=103)](https://github.com/ellerbrock/open-source-badges/)\n",
    "\n",
    "![](images/infosec-jupyterthon-main.png)\n",
    "\n",
    "An open community event for security researchers to share their experience and favorite notebooks with the infosec community. We meet virtually, share notebooks, and have fun learning more about Jupyter notebooks applied to the infosec field. A great place to meet other Infosec Jovyans!\n"
   ]
  },
  {
   "cell_type": "code",
   "execution_count": 1,
   "metadata": {},
   "outputs": [
    {
     "name": "stdout",
     "output_type": "stream",
     "text": [
      "Hola Infosec Jovyan!\n"
     ]
    }
   ],
   "source": [
    "print(\"Hola Infosec Jovyan!\")"
   ]
  },
  {
   "cell_type": "markdown",
   "metadata": {},
   "source": [
    "## Event Goals\n",
    "\n",
    "* Learn the basics of Jupyter Notebooks!\n",
    "* Share knowledge around Jupyter notebooks used for real-world scenarios in the Infosec field!\n",
    "* Share information about how to integrate Jupyter notebooks with other open source projects in the Infosec community!\n",
    "* Have fun!\n",
    "\n",
    "## Agenda\n",
    "* [https://infosecjupyterthon.com/2021/agenda.html](https://infosecjupyterthon.com/2021/agenda.html)\n",
    "\n",
    "\n",
    "## Quick Information\n",
    "* **When?** December 2nd and 3rd, 2021 (8:30 AM - 5:30 PM (PST))\n",
    "* **Where?** YouTube Live Stream\n",
    "    * Day 1: [https://aka.ms/Jupyterthon2021Live1](https://aka.ms/Jupyterthon2021Live1)\n",
    "    * Day 2: [https://aka.ms/Jupyterthon2021Live2](https://aka.ms/Jupyterthon2021Live2)\n",
    "* **How Much?** FREE\n",
    "\n",
    "## Registration\n",
    "* **Form** [https://aka.ms/Jupyterthon2021Registration](https://aka.ms/Jupyterthon2021Registration)\n",
    "\n",
    "## Call For Notebooks!\n",
    "If you are using Jupyter notebooks for any use case applied to Infosec, we want to hear from you! Presentation slides are not required. You and a notebook is enough!.\n",
    "\n",
    "* **CFN form:** [https://aka.ms/Jupyterthon2021CFP](https://aka.ms/Jupyterthon2021CFP)\n",
    "* **CFN starts:** 2021/10/27\n",
    "* **CFN ends:** 2021/11/21\n",
    "\n",
    "### A few submission guidelines\n",
    "* Well documented notebook with enough context (e.g. Markdown text) to tell the story behind the code.\n",
    "* A well defined step by step process to go from basic to advanced skills.\n",
    "* Use of open source code (e.g pandas) to allow attendees to replicate the research at home.\n",
    "* Notebook and data must be freely releasable\n",
    "* 30-45mins notebook presentation.\n",
    "\n",
    "## Open Infrastructure for an Open Event!\n",
    "\n",
    "Thanks to the [@mybinderteam](https://twitter.com/mybinderteam), **all the material that can be tested at home for this event** will be shared and run in their public BinderHub environment. This website was built with the awesome project [Jupyter Book](https://github.com/executablebooks/jupyter-book) and it is already integrated with [Binder](https://mybinder.org/). Therefore, you could use this site to know about the event, but also use it during the event to follow most of the notebooks shared by the community! You will be able to run most of the notebooks interactively without installing anything in your computer.\n",
    "\n",
    "![](images/binderhub-process.png)\n",
    "\n",
    "\n",
    "## What is a Notebook?\n",
    "Think of a notebook as a document that you can access via a web interface that allows you to save input (i.e. live code) and output (i.e. code execution results / evaluated code output) of interactive sessions as well as important notes needed to explain the methodology and steps taken to perform specific tasks (i.e data analysis).\n",
    "\n",
    "## What is a Jupyter Notebook?\n",
    "> The Jupyter Notebook is an open-source web application that allows you to create and share documents that contain live code, equations, visualizations and narrative text. Uses include: data cleaning and transformation, numerical simulation, statistical modeling, data visualization, machine learning, and much more.\n",
    "\n",
    "## What is a Jovyan?\n",
    "\n",
    "You may see the word Jovyan used in Jupyter tools (such as the user ID in the Jupyter Docker stacks or referenced in conversations. But what is a Jovyan?\n",
    "\n",
    "In astronomical terms, the word “Jovian” means “like Jupiter”. It describes several planets that share Jupyter-like properties.\n",
    "\n",
    "Much like the planet Jupiter and our solar system, the Jupyter community is large, distributed, and nebulous. We like to use the word Jovyan to describe members of this community. Jovyans are fellow open enthusiasts that use, develop, promote, teach, learn, and otherwise enjoy tools in Jupyter’s orbit. They make up the Jupyter community. If you’re not sure whether you’re a Jovyan, you probably are :-)\n",
    "\n",
    "## References\n",
    "\n",
    "* [https://mybinder.readthedocs.io/en/latest/](https://mybinder.readthedocs.io/en/latest/)\n",
    "* [https://medium.com/threat-hunters-forge/writing-an-interactive-book-over-the-threat-hunter-playbook-with-the-help-of-the-jupyter-book-3ff37a3123c7](https://medium.com/threat-hunters-forge/writing-an-interactive-book-over-the-threat-hunter-playbook-with-the-help-of-the-jupyter-book-3ff37a3123c7)\n",
    "* [https://medium.com/threat-hunters-forge/threat-hunter-playbook-mordor-datasets-binderhub-open-infrastructure-for-open-8c8aee3d8b4](https://medium.com/threat-hunters-forge/threat-hunter-playbook-mordor-datasets-binderhub-open-infrastructure-for-open-8c8aee3d8b4)\n",
    "* [https://jupyter.readthedocs.io/en/latest/community/content-community.html#what-is-a-jovyan](https://jupyter.readthedocs.io/en/latest/community/content-community.html#what-is-a-jovyan)\n",
    "* [https://discover-cookbook.numfocus.org/](https://discover-cookbook.numfocus.org/)\n",
    "* [https://blog.jupyter.org/the-superheros-and-the-magic-wand-596acaab722a](https://blog.jupyter.org/the-superheros-and-the-magic-wand-596acaab722a)"
   ]
  },
  {
   "cell_type": "code",
   "execution_count": null,
   "metadata": {},
   "outputs": [],
   "source": []
  }
 ],
 "metadata": {
  "interpreter": {
   "hash": "3d7fb05271fa7c3b05853fc68d7f46d03e32076aeb144544de622d2b3709ee56"
  },
  "kernelspec": {
   "display_name": "Python 3.9.5 64-bit",
   "name": "python3"
  },
  "language_info": {
   "codemirror_mode": {
    "name": "ipython",
    "version": 3
   },
   "file_extension": ".py",
   "mimetype": "text/x-python",
   "name": "python",
   "nbconvert_exporter": "python",
   "pygments_lexer": "ipython3",
   "version": "3.9.5"
  }
 },
 "nbformat": 4,
 "nbformat_minor": 4
}
