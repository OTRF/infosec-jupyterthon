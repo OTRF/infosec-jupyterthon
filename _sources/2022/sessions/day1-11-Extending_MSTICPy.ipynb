{
 "cells": [
  {
   "cell_type": "markdown",
   "metadata": {},
   "source": [
    "# Extending MSTICPy with Pivot functions"
   ]
  },
  {
   "cell_type": "markdown",
   "metadata": {},
   "source": [
    "<h1 style=\"border: solid; padding: 5pt; color: goldenrod; background-color: darkblue\">\n",
    "Extending MSTICPy with Pivot functions\n",
    "</h1>\n",
    "\n",
    "<h2 style=\"color: blue; font-style: italic\">Infosec Jupyterthon 2022</h2>\n",
    "\n",
    "#### Ian Hellen (<span style=\"color: blue\">@ianhellen</span> Twitter/ <span style=\"color: blue\">@ianhelle</span> GitHub)\n",
    "Principal Software Engineer<br>\n",
    "<b>Microsoft Security Research</b>\n",
    "\n",
    "---"
   ]
  },
  {
   "cell_type": "markdown",
   "metadata": {},
   "source": [
    "<div style=\"border: solid; padding: 5pt\">\n",
    "Note: you'll need a msticpyconfig.yaml\n",
    "and a working data connection to run some parts of this notebook\n",
    "</div>"
   ]
  },
  {
   "cell_type": "code",
   "execution_count": 51,
   "metadata": {},
   "outputs": [],
   "source": [
    "# MSTICPy initialization\n",
    "import msticpy as mp\n",
    "mp.init_notebook()"
   ]
  },
  {
   "cell_type": "markdown",
   "metadata": {},
   "source": [
    "<div style=\"border: solid; padding: 5pt; font-size: 150%\">\n",
    "<h4><i>Pivot function</i> definition</h4>\n",
    "A pivot function is a contextual function that<br>\n",
    "lets you invoke operations on different entity types.<br>\n",
    "\n",
    "Pivot functions are wrappers around other functions and<br>\n",
    "are exposed as methods of entity classes:\n",
    "<div style=\"font-family: courier; font-weight: bold\">\n",
    "IpAddress, Host, Account, Url, File, etc.\n",
    "</div>\n",
    "<br>\n",
    "Examples:<br>\n",
    "<div style=\"font-family: courier\">\n",
    "> IpAddress.geoip(\"135.2.4.18\")<br>\n",
    "> Dns.util.dns_resolve(\"www.python.org\")<br>\n",
    "> Host.MSSentinel.get_processes(host_name=\"MyPC\")\n",
    "</div>\n",
    "\n",
    "</div>"
   ]
  },
  {
   "cell_type": "markdown",
   "metadata": {},
   "source": [
    "<h2 style=\"border: solid; padding: 5pt; color: goldenrod; background-color: #333333\">\n",
    "1. Adding a simple pivot function\n",
    "</h2>\n"
   ]
  },
  {
   "cell_type": "code",
   "execution_count": 52,
   "metadata": {},
   "outputs": [
    {
     "data": {
      "text/plain": [
       "['MSSentinel_cybersecuritysoc.dns_queries',\n",
       " 'MSSentinel_cybersecuritysoc.sent_bookmarks',\n",
       " 'MSSentinel_cybersecuritysoc.ti_list_indicators_by_domain',\n",
       " 'RiskIQ.articles',\n",
       " 'RiskIQ.artifacts',\n",
       " 'RiskIQ.certificates',\n",
       " 'RiskIQ.components',\n",
       " 'RiskIQ.cookies',\n",
       " 'RiskIQ.hostpair_children',\n",
       " 'RiskIQ.hostpair_parents',\n",
       " 'RiskIQ.malware',\n",
       " 'RiskIQ.projects',\n",
       " 'RiskIQ.reputation',\n",
       " 'RiskIQ.resolutions',\n",
       " 'RiskIQ.summary',\n",
       " 'RiskIQ.trackers',\n",
       " 'RiskIQ.whois',\n",
       " 'VT.vt_communicating_files',\n",
       " 'VT.vt_historical_ssl_certificates',\n",
       " 'VT.vt_historical_whois',\n",
       " 'VT.vt_parent',\n",
       " 'VT.vt_resolutions',\n",
       " 'VT.vt_subdomains',\n",
       " 'bye',\n",
       " 'defang2',\n",
       " 'dns_is_resolvable',\n",
       " 'dns_resolve',\n",
       " 'hello',\n",
       " 'other.bye',\n",
       " 'other.defang2',\n",
       " 'other.hello',\n",
       " 'ti.lookup_dns',\n",
       " 'tilookup_dns',\n",
       " 'util.defang',\n",
       " 'util.dns_components',\n",
       " 'util.dns_in_abuse_list',\n",
       " 'util.dns_is_resolvable',\n",
       " 'util.dns_resolve',\n",
       " 'util.dns_validate_tld']"
      ]
     },
     "execution_count": 52,
     "metadata": {},
     "output_type": "execute_result"
    }
   ],
   "source": [
    "Dns.pivots()"
   ]
  },
  {
   "cell_type": "markdown",
   "metadata": {},
   "source": [
    "### Here is the function that we want to add to some entities\n",
    "\n",
    "Note it takes a string parameter for the entity value input and returns a string\n"
   ]
  },
  {
   "cell_type": "code",
   "execution_count": 3,
   "metadata": {},
   "outputs": [],
   "source": [
    "def defang_ioc(ioc: str, ioc_type: str = None) -> str:\n",
    "    \"\"\"\n",
    "    Return de-fanged observable.\n",
    "\n",
    "    Parameters\n",
    "    ----------\n",
    "    ioc : str\n",
    "        The observable.\n",
    "    ioc_type : str\n",
    "        The type of IoC. If URL or Email it will do\n",
    "        extra processing to neuter the URL protocol and email @ symbol\n",
    "\n",
    "    Returns\n",
    "    -------\n",
    "    str\n",
    "        The de-fanged observable.\n",
    "    \"\"\"\n",
    "    de_fanged = ioc\n",
    "    if ioc_type == \"email\":\n",
    "        de_fanged = de_fanged.replace(\"@\", \"AT\")\n",
    "    elif ioc_type == \"url\":\n",
    "        de_fanged = de_fanged.replace(\"http\", \"hXXp\").replace(\"ftp\", \"fXp\")\n",
    "    return de_fanged.replace(\".\", \"[.]\")"
   ]
  },
  {
   "cell_type": "code",
   "execution_count": 46,
   "metadata": {},
   "outputs": [
    {
     "data": {
      "text/plain": [
       "'192[.]168[.]1[.]1'"
      ]
     },
     "execution_count": 46,
     "metadata": {},
     "output_type": "execute_result"
    }
   ],
   "source": [
    "# Check that our function works as expected\n",
    "defang_ioc(\"192.168.1.1\")"
   ]
  },
  {
   "cell_type": "markdown",
   "metadata": {},
   "source": [
    "### Call `Pivot.add_pivot_function` to add the function to a couple of entities"
   ]
  },
  {
   "cell_type": "code",
   "execution_count": 5,
   "metadata": {},
   "outputs": [],
   "source": [
    "\n",
    "mp.Pivot.add_pivot_function(\n",
    "    func=defang_ioc,\n",
    "    container=\"util\",\n",
    "    input_type=\"value\",\n",
    "    entity_map={\n",
    "        \"IpAddress\": \"Address\",\n",
    "        \"Dns\": \"Domain\",\n",
    "    },\n",
    "    func_input_value_arg=\"ioc\",\n",
    "    func_new_name=\"defang\",\n",
    ")"
   ]
  },
  {
   "cell_type": "markdown",
   "metadata": {},
   "source": [
    "### Now we can defang IP addresses and DNS names\n",
    "\n",
    "<div style=\"border: solid; padding: 5pt\">\n",
    "Note - even though the input and output of our original function was a string,<br> it accepts lists and DataFrames as inputs.\n",
    "</div>"
   ]
  },
  {
   "cell_type": "code",
   "execution_count": 6,
   "metadata": {},
   "outputs": [
    {
     "data": {
      "text/html": [
       "<div>\n",
       "<style scoped>\n",
       "    .dataframe tbody tr th:only-of-type {\n",
       "        vertical-align: middle;\n",
       "    }\n",
       "\n",
       "    .dataframe tbody tr th {\n",
       "        vertical-align: top;\n",
       "    }\n",
       "\n",
       "    .dataframe thead th {\n",
       "        text-align: right;\n",
       "    }\n",
       "</style>\n",
       "<table border=\"1\" class=\"dataframe\">\n",
       "  <thead>\n",
       "    <tr style=\"text-align: right;\">\n",
       "      <th></th>\n",
       "      <th>ioc</th>\n",
       "      <th>result</th>\n",
       "      <th>src_row_index</th>\n",
       "    </tr>\n",
       "  </thead>\n",
       "  <tbody>\n",
       "    <tr>\n",
       "      <th>0</th>\n",
       "      <td>192.1.1.1</td>\n",
       "      <td>192[.]1[.]1[.]1</td>\n",
       "      <td>0</td>\n",
       "    </tr>\n",
       "  </tbody>\n",
       "</table>\n",
       "</div>"
      ],
      "text/plain": [
       "         ioc           result  src_row_index\n",
       "0  192.1.1.1  192[.]1[.]1[.]1              0"
      ]
     },
     "execution_count": 6,
     "metadata": {},
     "output_type": "execute_result"
    }
   ],
   "source": [
    "IpAddress.util.defang(\"192.1.1.1\")"
   ]
  },
  {
   "cell_type": "code",
   "execution_count": 50,
   "metadata": {},
   "outputs": [
    {
     "data": {
      "text/html": [
       "<div>\n",
       "<style scoped>\n",
       "    .dataframe tbody tr th:only-of-type {\n",
       "        vertical-align: middle;\n",
       "    }\n",
       "\n",
       "    .dataframe tbody tr th {\n",
       "        vertical-align: top;\n",
       "    }\n",
       "\n",
       "    .dataframe thead th {\n",
       "        text-align: right;\n",
       "    }\n",
       "</style>\n",
       "<table border=\"1\" class=\"dataframe\">\n",
       "  <thead>\n",
       "    <tr style=\"text-align: right;\">\n",
       "      <th></th>\n",
       "      <th>ioc</th>\n",
       "      <th>result</th>\n",
       "      <th>src_row_index</th>\n",
       "    </tr>\n",
       "  </thead>\n",
       "  <tbody>\n",
       "    <tr>\n",
       "      <th>0</th>\n",
       "      <td>www.infosecjupyterthon.com</td>\n",
       "      <td>www[.]infosecjupyterthon[.]com</td>\n",
       "      <td>0</td>\n",
       "    </tr>\n",
       "  </tbody>\n",
       "</table>\n",
       "</div>"
      ],
      "text/plain": [
       "                          ioc                          result  src_row_index\n",
       "0  www.infosecjupyterthon.com  www[.]infosecjupyterthon[.]com              0"
      ]
     },
     "execution_count": 50,
     "metadata": {},
     "output_type": "execute_result"
    }
   ],
   "source": [
    "Dns.util.defang(\"www.infosecjupyterthon.com\")"
   ]
  },
  {
   "cell_type": "code",
   "execution_count": 7,
   "metadata": {},
   "outputs": [
    {
     "data": {
      "text/html": [
       "<div>\n",
       "<style scoped>\n",
       "    .dataframe tbody tr th:only-of-type {\n",
       "        vertical-align: middle;\n",
       "    }\n",
       "\n",
       "    .dataframe tbody tr th {\n",
       "        vertical-align: top;\n",
       "    }\n",
       "\n",
       "    .dataframe thead th {\n",
       "        text-align: right;\n",
       "    }\n",
       "</style>\n",
       "<table border=\"1\" class=\"dataframe\">\n",
       "  <thead>\n",
       "    <tr style=\"text-align: right;\">\n",
       "      <th></th>\n",
       "      <th>ioc</th>\n",
       "      <th>result</th>\n",
       "      <th>src_row_index</th>\n",
       "    </tr>\n",
       "  </thead>\n",
       "  <tbody>\n",
       "    <tr>\n",
       "      <th>0</th>\n",
       "      <td>54.69.246.204</td>\n",
       "      <td>54[.]69[.]246[.]204</td>\n",
       "      <td>0</td>\n",
       "    </tr>\n",
       "    <tr>\n",
       "      <th>1</th>\n",
       "      <td>104.73.1.162</td>\n",
       "      <td>104[.]73[.]1[.]162</td>\n",
       "      <td>1</td>\n",
       "    </tr>\n",
       "  </tbody>\n",
       "</table>\n",
       "</div>"
      ],
      "text/plain": [
       "             ioc               result  src_row_index\n",
       "0  54.69.246.204  54[.]69[.]246[.]204              0\n",
       "1   104.73.1.162   104[.]73[.]1[.]162              1"
      ]
     },
     "execution_count": 7,
     "metadata": {},
     "output_type": "execute_result"
    }
   ],
   "source": [
    "IpAddress.util.defang([\"54.69.246.204\", \"104.73.1.162\"])"
   ]
  },
  {
   "cell_type": "markdown",
   "metadata": {},
   "source": [
    "### For URLs we want to also set the `ioc_type` parameter\n",
    "\n",
    "We can add that as a registration parameter - `func_static_params`.\n",
    "\n",
    "This is a dict of `{param_name: param_value}`"
   ]
  },
  {
   "cell_type": "code",
   "execution_count": 8,
   "metadata": {},
   "outputs": [],
   "source": [
    "# Adding static parameters to supply ioc_type param\n",
    "mp.Pivot.add_pivot_function(\n",
    "    func=defang_ioc,\n",
    "    container=\"util\",\n",
    "    input_type=\"value\",\n",
    "    entity_map={\n",
    "        \"Url\": \"Url\",\n",
    "    },\n",
    "    func_input_value_arg=\"ioc\",\n",
    "    func_new_name=\"defang\",\n",
    "    func_static_params={\"ioc_type\": \"url\"}\n",
    ")"
   ]
  },
  {
   "cell_type": "markdown",
   "metadata": {},
   "source": [
    "We should now have a `defang` method on the `Url` class"
   ]
  },
  {
   "cell_type": "code",
   "execution_count": 9,
   "metadata": {},
   "outputs": [
    {
     "data": {
      "text/html": [
       "<div>\n",
       "<style scoped>\n",
       "    .dataframe tbody tr th:only-of-type {\n",
       "        vertical-align: middle;\n",
       "    }\n",
       "\n",
       "    .dataframe tbody tr th {\n",
       "        vertical-align: top;\n",
       "    }\n",
       "\n",
       "    .dataframe thead th {\n",
       "        text-align: right;\n",
       "    }\n",
       "</style>\n",
       "<table border=\"1\" class=\"dataframe\">\n",
       "  <thead>\n",
       "    <tr style=\"text-align: right;\">\n",
       "      <th></th>\n",
       "      <th>ioc</th>\n",
       "      <th>result</th>\n",
       "      <th>src_row_index</th>\n",
       "    </tr>\n",
       "  </thead>\n",
       "  <tbody>\n",
       "    <tr>\n",
       "      <th>0</th>\n",
       "      <td>https://python.org</td>\n",
       "      <td>hXXps://python[.]org</td>\n",
       "      <td>0</td>\n",
       "    </tr>\n",
       "  </tbody>\n",
       "</table>\n",
       "</div>"
      ],
      "text/plain": [
       "                  ioc                result  src_row_index\n",
       "0  https://python.org  hXXps://python[.]org              0"
      ]
     },
     "execution_count": 9,
     "metadata": {},
     "output_type": "execute_result"
    }
   ],
   "source": [
    "Url.util.defang(\"https://python.org\")"
   ]
  },
  {
   "cell_type": "markdown",
   "metadata": {},
   "source": [
    "<h2 style=\"border: solid; padding: 5pt; color: goldenrod; background-color: #333333\">\n",
    "2. Adding functions from modules and packages\n",
    "</h2>"
   ]
  },
  {
   "cell_type": "markdown",
   "metadata": {},
   "source": [
    "### Define a Python module and write it to a file"
   ]
  },
  {
   "cell_type": "code",
   "execution_count": 10,
   "metadata": {},
   "outputs": [
    {
     "name": "stdout",
     "output_type": "stream",
     "text": [
      "Overwriting ioc_utils.py\n"
     ]
    }
   ],
   "source": [
    "%%writefile ioc_utils.py\n",
    "\"\"\"IoC Utility functions\"\"\"\n",
    "\n",
    "def defang_ioc(ioc: str, ioc_type: str = None) -> str:\n",
    "    \"\"\"\n",
    "    Return de-fanged observable.\n",
    "\n",
    "    Parameters\n",
    "    ----------\n",
    "    ioc : str\n",
    "        The observable.\n",
    "    ioc_type : str\n",
    "        The type of IoC. If URL or Email it will do\n",
    "        extra processing to neuter the URL protocol and email @ symbol\n",
    "\n",
    "    Returns\n",
    "    -------\n",
    "    str\n",
    "        The de-fanged observable.\n",
    "    \"\"\"\n",
    "    de_fanged = ioc\n",
    "    if ioc_type == \"email\":\n",
    "        de_fanged = de_fanged.replace(\"@\", \"AT\")\n",
    "    elif ioc_type == \"url\":\n",
    "        de_fanged = de_fanged.replace(\"http\", \"hXXp\").replace(\"ftp\", \"fXp\")\n",
    "    return de_fanged.replace(\".\", \"[.]\")\n",
    "\n",
    "\n",
    "def ioc_hello(ioc: str, lang: str=\"en\"):\n",
    "    if lang == \"en\":\n",
    "        return f\"Hello {ioc}!\"\n",
    "    if lang == \"es\":\n",
    "        return f\"Hola {ioc}!\"\n",
    "    if lang == \"it\":\n",
    "        return f\"Ciao {ioc}!\"\n",
    "\n",
    "\n",
    "def ioc_goodbye(ioc: str, lang: str=\"en\"):\n",
    "    if lang == \"en\":\n",
    "        return f\"Goodbye {ioc}!\"\n",
    "    if lang == \"es\":\n",
    "        return f\"Adios {ioc}!\"\n",
    "    if lang == \"it\":\n",
    "        return f\"Ciao {ioc}!\""
   ]
  },
  {
   "cell_type": "markdown",
   "metadata": {},
   "source": [
    "### Pivot definition file"
   ]
  },
  {
   "cell_type": "code",
   "execution_count": 46,
   "metadata": {},
   "outputs": [
    {
     "name": "stdout",
     "output_type": "stream",
     "text": [
      "Overwriting pivot_funcs.yaml\n"
     ]
    }
   ],
   "source": [
    "%%writefile pivot_funcs.yaml\n",
    "\n",
    "pivot_providers:\n",
    "  # Defang function for IPs and DNS\n",
    "  defang_ioc:\n",
    "    src_module: ioc_utils\n",
    "    src_func_name: defang_ioc\n",
    "    func_new_name: defang2\n",
    "    input_type: value\n",
    "    entity_map:\n",
    "      IpAddress: Address\n",
    "      Dns: Domain\n",
    "    func_input_value_arg: ioc\n",
    "    create_shortcut: True\n",
    "\n",
    "  # Defang function for IPs and DNS\n",
    "  defang_ioc_url:\n",
    "    src_module: ioc_utils\n",
    "    src_func_name: defang_ioc\n",
    "    func_new_name: defang2\n",
    "    input_type: value\n",
    "    entity_map:\n",
    "      Account: qualified_name\n",
    "      Mailbox: MailboxPrimaryAddress\n",
    "    func_input_value_arg: ioc\n",
    "    create_shortcut: True\n",
    "    func_static_params:\n",
    "      ioc_type: email\n",
    "\n",
    "  # Other \"utility\" functions\n",
    "  hello:\n",
    "    src_module: ioc_utils\n",
    "    src_func_name: ioc_hello\n",
    "    func_new_name: hello\n",
    "    input_type: value\n",
    "    entity_map:\n",
    "      IpAddress: Address\n",
    "      Dns: Domain\n",
    "      Account: qualified_name\n",
    "      Mailbox: MailboxPrimaryAddress\n",
    "    func_input_value_arg: ioc\n",
    "    create_shortcut: True\n",
    "\n",
    "  goodbye:\n",
    "    src_module: ioc_utils\n",
    "    src_func_name: ioc_goodbye\n",
    "    func_new_name: bye\n",
    "    input_type: value\n",
    "    entity_map:\n",
    "      IpAddress: Address\n",
    "      Dns: Domain\n",
    "      Account: qualified_name\n",
    "      Mailbox: MailboxPrimaryAddress\n",
    "    func_input_value_arg: ioc\n",
    "    create_shortcut: True\n",
    "\n",
    "  quote:\n",
    "    src_module: urllib.parse\n",
    "    src_func_name: quote\n",
    "    func_new_name: quote\n",
    "    input_type: value\n",
    "    entity_map:\n",
    "      Url: Url\n",
    "    func_input_value_arg: string\n"
   ]
  },
  {
   "cell_type": "code",
   "execution_count": 11,
   "metadata": {},
   "outputs": [],
   "source": [
    "# Good to check that your file reads as valid YAML\n",
    "# - no exceptions thrown!\n",
    "import yaml\n",
    "from pathlib import Path\n",
    "yaml.safe_load(Path(\"./pivot_funcs.yaml\").read_text());"
   ]
  },
  {
   "cell_type": "code",
   "execution_count": 12,
   "metadata": {},
   "outputs": [
    {
     "name": "stdout",
     "output_type": "stream",
     "text": [
      "Help on function register_pivot_providers in module msticpy.init.pivot:\n",
      "\n",
      "register_pivot_providers(pivot_reg_path: str, namespace: Dict[str, Any] = None, def_container: str = 'custom', force_container: bool = False)\n",
      "    Register pivot functions from configuration file.\n",
      "    \n",
      "    Parameters\n",
      "    ----------\n",
      "    pivot_reg_path : str\n",
      "        Path to config yaml file\n",
      "    namespace : Dict[str, Any], optional\n",
      "        Namespace to search for existing instances of classes, by default None\n",
      "    def_container : str, optional\n",
      "        Container name to use for entity pivot functions, by default \"other\"\n",
      "    force_container : bool, optional\n",
      "        Force `container` value to be used even if entity definitions have\n",
      "        specific setting for a container name, by default False\n",
      "    \n",
      "    Raises\n",
      "    ------\n",
      "    ValueError\n",
      "        An entity specified in the config file is not recognized.\n",
      "\n"
     ]
    }
   ],
   "source": [
    "help(mp.Pivot.register_pivot_providers)"
   ]
  },
  {
   "cell_type": "code",
   "execution_count": 13,
   "metadata": {},
   "outputs": [],
   "source": [
    "mp.Pivot.register_pivot_providers(\"pivot_funcs.yaml\")"
   ]
  },
  {
   "cell_type": "code",
   "execution_count": 14,
   "metadata": {},
   "outputs": [
    {
     "data": {
      "text/plain": [
       "['bye', 'defang2', 'hello', 'other.bye', 'other.defang2', 'other.hello']"
      ]
     },
     "execution_count": 14,
     "metadata": {},
     "output_type": "execute_result"
    }
   ],
   "source": [
    "Mailbox.pivots()"
   ]
  },
  {
   "cell_type": "code",
   "execution_count": 15,
   "metadata": {},
   "outputs": [
    {
     "data": {
      "text/html": [
       "<div>\n",
       "<style scoped>\n",
       "    .dataframe tbody tr th:only-of-type {\n",
       "        vertical-align: middle;\n",
       "    }\n",
       "\n",
       "    .dataframe tbody tr th {\n",
       "        vertical-align: top;\n",
       "    }\n",
       "\n",
       "    .dataframe thead th {\n",
       "        text-align: right;\n",
       "    }\n",
       "</style>\n",
       "<table border=\"1\" class=\"dataframe\">\n",
       "  <thead>\n",
       "    <tr style=\"text-align: right;\">\n",
       "      <th></th>\n",
       "      <th>ioc</th>\n",
       "      <th>result</th>\n",
       "      <th>src_row_index</th>\n",
       "    </tr>\n",
       "  </thead>\n",
       "  <tbody>\n",
       "    <tr>\n",
       "      <th>0</th>\n",
       "      <td>ian@infosecjupyterthon.com</td>\n",
       "      <td>Hello ian@infosecjupyterthon.com!</td>\n",
       "      <td>0</td>\n",
       "    </tr>\n",
       "  </tbody>\n",
       "</table>\n",
       "</div>"
      ],
      "text/plain": [
       "                          ioc                             result  \\\n",
       "0  ian@infosecjupyterthon.com  Hello ian@infosecjupyterthon.com!   \n",
       "\n",
       "   src_row_index  \n",
       "0              0  "
      ]
     },
     "execution_count": 15,
     "metadata": {},
     "output_type": "execute_result"
    }
   ],
   "source": [
    "Mailbox.hello(\"ian@infosecjupyterthon.com\")"
   ]
  },
  {
   "cell_type": "markdown",
   "metadata": {},
   "source": [
    "<div style=\"border: solid; padding: 5pt\">\n",
    "Note that other keyword arguments are just passed to underlying function\n",
    "</div>"
   ]
  },
  {
   "cell_type": "code",
   "execution_count": 16,
   "metadata": {},
   "outputs": [
    {
     "data": {
      "text/html": [
       "<div>\n",
       "<style scoped>\n",
       "    .dataframe tbody tr th:only-of-type {\n",
       "        vertical-align: middle;\n",
       "    }\n",
       "\n",
       "    .dataframe tbody tr th {\n",
       "        vertical-align: top;\n",
       "    }\n",
       "\n",
       "    .dataframe thead th {\n",
       "        text-align: right;\n",
       "    }\n",
       "</style>\n",
       "<table border=\"1\" class=\"dataframe\">\n",
       "  <thead>\n",
       "    <tr style=\"text-align: right;\">\n",
       "      <th></th>\n",
       "      <th>ioc</th>\n",
       "      <th>result</th>\n",
       "      <th>src_row_index</th>\n",
       "    </tr>\n",
       "  </thead>\n",
       "  <tbody>\n",
       "    <tr>\n",
       "      <th>0</th>\n",
       "      <td>ian@infosecjupyterthon.com</td>\n",
       "      <td>Ciao ian@infosecjupyterthon.com!</td>\n",
       "      <td>0</td>\n",
       "    </tr>\n",
       "  </tbody>\n",
       "</table>\n",
       "</div>"
      ],
      "text/plain": [
       "                          ioc                            result  src_row_index\n",
       "0  ian@infosecjupyterthon.com  Ciao ian@infosecjupyterthon.com!              0"
      ]
     },
     "execution_count": 16,
     "metadata": {},
     "output_type": "execute_result"
    }
   ],
   "source": [
    "Mailbox.hello(\"ian@infosecjupyterthon.com\", lang=\"it\")"
   ]
  },
  {
   "cell_type": "markdown",
   "metadata": {},
   "source": [
    "<div style=\"border: solid; padding: 5pt\">\n",
    "Also supports passing lists and other iterables\n",
    "</div>"
   ]
  },
  {
   "cell_type": "code",
   "execution_count": 49,
   "metadata": {},
   "outputs": [
    {
     "data": {
      "text/html": [
       "<div>\n",
       "<style scoped>\n",
       "    .dataframe tbody tr th:only-of-type {\n",
       "        vertical-align: middle;\n",
       "    }\n",
       "\n",
       "    .dataframe tbody tr th {\n",
       "        vertical-align: top;\n",
       "    }\n",
       "\n",
       "    .dataframe thead th {\n",
       "        text-align: right;\n",
       "    }\n",
       "</style>\n",
       "<table border=\"1\" class=\"dataframe\">\n",
       "  <thead>\n",
       "    <tr style=\"text-align: right;\">\n",
       "      <th></th>\n",
       "      <th>ioc</th>\n",
       "      <th>result</th>\n",
       "      <th>src_row_index</th>\n",
       "    </tr>\n",
       "  </thead>\n",
       "  <tbody>\n",
       "    <tr>\n",
       "      <th>0</th>\n",
       "      <td>ian@infosecjupyterthon.com</td>\n",
       "      <td>Hola ian@infosecjupyterthon.com!</td>\n",
       "      <td>0</td>\n",
       "    </tr>\n",
       "    <tr>\n",
       "      <th>1</th>\n",
       "      <td>roberto@infosecjupyterthon.com</td>\n",
       "      <td>Hola roberto@infosecjupyterthon.com!</td>\n",
       "      <td>1</td>\n",
       "    </tr>\n",
       "  </tbody>\n",
       "</table>\n",
       "</div>"
      ],
      "text/plain": [
       "                              ioc                                result  \\\n",
       "0      ian@infosecjupyterthon.com      Hola ian@infosecjupyterthon.com!   \n",
       "1  roberto@infosecjupyterthon.com  Hola roberto@infosecjupyterthon.com!   \n",
       "\n",
       "   src_row_index  \n",
       "0              0  \n",
       "1              1  "
      ]
     },
     "execution_count": 49,
     "metadata": {},
     "output_type": "execute_result"
    }
   ],
   "source": [
    "Mailbox.hello(\n",
    "    (\"ian@infosecjupyterthon.com\", \"roberto@infosecjupyterthon.com\"),\n",
    "    lang=\"es\"\n",
    ")"
   ]
  },
  {
   "cell_type": "markdown",
   "metadata": {},
   "source": [
    "#### Works with functions from other libraries\n",
    "Python's `urllib.parse.quote` function"
   ]
  },
  {
   "cell_type": "code",
   "execution_count": 18,
   "metadata": {},
   "outputs": [
    {
     "data": {
      "text/html": [
       "<div>\n",
       "<style scoped>\n",
       "    .dataframe tbody tr th:only-of-type {\n",
       "        vertical-align: middle;\n",
       "    }\n",
       "\n",
       "    .dataframe tbody tr th {\n",
       "        vertical-align: top;\n",
       "    }\n",
       "\n",
       "    .dataframe thead th {\n",
       "        text-align: right;\n",
       "    }\n",
       "</style>\n",
       "<table border=\"1\" class=\"dataframe\">\n",
       "  <thead>\n",
       "    <tr style=\"text-align: right;\">\n",
       "      <th></th>\n",
       "      <th>string</th>\n",
       "      <th>result</th>\n",
       "      <th>src_row_index</th>\n",
       "    </tr>\n",
       "  </thead>\n",
       "  <tbody>\n",
       "    <tr>\n",
       "      <th>0</th>\n",
       "      <td>https://myspacey.dom/the path/to mañana</td>\n",
       "      <td>https%3A//myspacey.dom/the%20path/to%20ma%C3%B1ana</td>\n",
       "      <td>0</td>\n",
       "    </tr>\n",
       "  </tbody>\n",
       "</table>\n",
       "</div>"
      ],
      "text/plain": [
       "                                    string  \\\n",
       "0  https://myspacey.dom/the path/to mañana   \n",
       "\n",
       "                                               result  src_row_index  \n",
       "0  https%3A//myspacey.dom/the%20path/to%20ma%C3%B1ana              0  "
      ]
     },
     "execution_count": 18,
     "metadata": {},
     "output_type": "execute_result"
    }
   ],
   "source": [
    "Url.other.quote(\"https://myspacey.dom/the path/to mañana\")"
   ]
  },
  {
   "cell_type": "markdown",
   "metadata": {},
   "source": [
    "<h2 style=\"border: solid; padding: 5pt; color: goldenrod; background-color: #333333\">\n",
    "What are the benefits?\n",
    "</h2>\n",
    "\n",
    "### 1. Entity-specific functionality all in one place - no searching, no imports\n",
    "### 2. Flexible input types\n",
    "#### &nbsp;&nbsp;&nbsp;&nbsp;- Can also wrap functions that expect `list` or `dataframe` input\n",
    "### 3. Standardized output types"
   ]
  },
  {
   "cell_type": "markdown",
   "metadata": {},
   "source": [
    "<h2 style=\"border: solid; padding: 5pt; color: goldenrod; background-color: #333333\">\n",
    "3. Queries as Pivot functions\n",
    "</h2>"
   ]
  },
  {
   "cell_type": "markdown",
   "metadata": {},
   "source": [
    "#### Starting Query\n",
    "\n",
    "---\n",
    "```kql\n",
    "SecurityEvent\n",
    "| where TimeGenerated > ago(1d)\n",
    "| where EventID == 4625\n",
    "| where Computer has \"infected_pc\"\n",
    "```"
   ]
  },
  {
   "cell_type": "markdown",
   "metadata": {},
   "source": [
    "### Parameterize the query\n",
    "\n",
    "---\n",
    "```kql\n",
    "SecurityEvent\n",
    "| where TimeGenerated between (datetime({start}) .. datetime({end}))\n",
    "| where EventID == 4624\n",
    "| where Computer has \"{host_name}\"\n",
    "```"
   ]
  },
  {
   "cell_type": "markdown",
   "metadata": {},
   "source": [
    "### Example query definition file"
   ]
  },
  {
   "cell_type": "markdown",
   "metadata": {},
   "source": [
    "### Add query to query definition file\n",
    "\n",
    "---\n",
    "\n",
    "```yaml\n",
    "metadata:\n",
    "  version: 1\n",
    "  description: My Event Queries\n",
    "  data_environments: [MSSentinel]\n",
    "  data_families: [Events]\n",
    "defaults:\n",
    "  parameters:\n",
    "    start:\n",
    "      description: Query start time\n",
    "      type: datetime\n",
    "    end:\n",
    "      description: Query end time\n",
    "      type: datetime\n",
    "    add_query_items:\n",
    "      description: Additional query clauses\n",
    "      type: str\n",
    "      default: \"\"\n",
    "sources:\n",
    "  get_alerts_for_host:\n",
    "    description: Retrieves list of alerts for host\n",
    "    args:\n",
    "      query: '\n",
    "        SecurityEvent\n",
    "        | where TimeGenerated between (datetime({start}) .. datetime({end}))\n",
    "        | where EventID == 4624\n",
    "        | where Computer has \"{host_name}\"\n",
    "        {add_query_items}'\n",
    "      uri: None\n",
    "    parameters:\n",
    "      host_name:\n",
    "        description: Name of host\n",
    "        type: str\n",
    "```\n"
   ]
  },
  {
   "cell_type": "code",
   "execution_count": 19,
   "metadata": {},
   "outputs": [
    {
     "name": "stderr",
     "output_type": "stream",
     "text": [
      "A subdirectory or file queries already exists.\n"
     ]
    }
   ],
   "source": [
    "# Create a subfolder to hold our query files\n",
    "!mkdir queries"
   ]
  },
  {
   "cell_type": "markdown",
   "metadata": {},
   "source": [
    "#### Write our query definitions to a file"
   ]
  },
  {
   "cell_type": "code",
   "execution_count": 40,
   "metadata": {},
   "outputs": [
    {
     "name": "stdout",
     "output_type": "stream",
     "text": [
      "Overwriting queries/my_queries.yaml\n"
     ]
    }
   ],
   "source": [
    "%%writefile queries/my_queries.yaml\n",
    "\n",
    "metadata:\n",
    "  version: 1\n",
    "  description: My Event Queries\n",
    "  data_environments: [MSSentinel]\n",
    "  data_families: [WinEvents]\n",
    "defaults:\n",
    "  parameters:\n",
    "    start:\n",
    "      description: Query start time\n",
    "      type: datetime\n",
    "    end:\n",
    "      description: Query end time\n",
    "      type: datetime\n",
    "    add_query_items:\n",
    "      description: Additional query clauses\n",
    "      type: str\n",
    "      default: \"\"\n",
    "sources:\n",
    "  get_logons_for_host_jt:\n",
    "    description: Retrieves list of alerts for Jupyterthon\n",
    "    args:\n",
    "      query: '\n",
    "        SecurityEvent\n",
    "        | where TimeGenerated between (datetime({start}) .. datetime({end}))\n",
    "        | where EventID == 4624\n",
    "        | where Computer has \"{host_name}\"\n",
    "        | limit 3\n",
    "        {add_query_items}'\n",
    "    parameters:\n",
    "      host_name:\n",
    "        description: Name of host\n",
    "        type: str"
   ]
  },
  {
   "cell_type": "markdown",
   "metadata": {},
   "source": [
    "#### Create a query provider<br> and tell it to look in the ./queries folder for additional queries"
   ]
  },
  {
   "cell_type": "code",
   "execution_count": 41,
   "metadata": {},
   "outputs": [
    {
     "name": "stdout",
     "output_type": "stream",
     "text": [
      "Connecting... connected\n"
     ]
    }
   ],
   "source": [
    "\n",
    "qry_prov = mp.QueryProvider(\"MSSentinel\", query_paths=[\"./queries\"])\n",
    "\n",
    "# Authenticate/connect\n",
    "qry_prov.connect(workspace=\"CyberSecuritySOC\")"
   ]
  },
  {
   "cell_type": "code",
   "execution_count": 42,
   "metadata": {},
   "outputs": [
    {
     "name": "stdout",
     "output_type": "stream",
     "text": [
      "Query:  get_logons_for_host_jt\n",
      "Data source:  MSSentinel\n",
      "Retrieves list of alerts for Jupyterthon\n",
      "\n",
      "Parameters\n",
      "----------\n",
      "add_query_items: str (optional)\n",
      "    Additional query clauses\n",
      "end: datetime\n",
      "    Query end time\n",
      "host_name: str\n",
      "    Name of host\n",
      "start: datetime\n",
      "    Query start time\n",
      "Query:\n",
      " SecurityEvent | where TimeGenerated between (datetime({start}) .. datetime({end})) | where EventID == 4624 | where Computer has \"{host_name}\" | limit 3 {add_query_items}\n"
     ]
    }
   ],
   "source": [
    "# Check that our query has been added to the provider\n",
    "qry_prov.WinEvents.get_logons_for_host_jt(\"?\")"
   ]
  },
  {
   "cell_type": "markdown",
   "metadata": {},
   "source": [
    "#### Since it has a \"host_name\" parameter it should also be<br>available as a pivot function on the Host class."
   ]
  },
  {
   "cell_type": "code",
   "execution_count": 43,
   "metadata": {},
   "outputs": [
    {
     "name": "stdout",
     "output_type": "stream",
     "text": [
      "CommonSecurityLog_host_connections_csl (pivot function)\n",
      "CommonSecurityLog_ips_csl (pivot function)\n",
      "DeviceNetworkEvents_host_connections (pivot function)\n",
      "DeviceProcessEvents_list_host_processes (pivot function)\n",
      "VMComputer_vmcomputer (pivot function)\n",
      "auditd_auditd_all (pivot function)\n",
      "az_nsg_interface (pivot function)\n",
      "az_nsg_net_flows (pivot function)\n",
      "az_nsg_net_flows_depr (pivot function)\n",
      "get_alerts_for_host (pivot function)\n",
      "get_logons_for_host (pivot function)\n",
      "get_logons_for_host_jt (pivot function)\n",
      "heartbeat (pivot function)\n",
      "heartbeat_for_host_depr (pivot function)\n",
      "sec_alerts (pivot function)\n",
      "sent_bookmarks (pivot function)\n",
      "syslog_all_syslog (pivot function)\n",
      "syslog_cron_activity (pivot function)\n",
      "syslog_logon_failures (pivot function)\n",
      "syslog_logons (pivot function)\n",
      "syslog_notable_events (pivot function)\n",
      "syslog_squid_activity (pivot function)\n",
      "syslog_sudo_activity (pivot function)\n",
      "syslog_summarize_events (pivot function)\n",
      "syslog_user_group_activity (pivot function)\n",
      "syslog_user_logon (pivot function)\n",
      "sysmon_process_events (pivot function)\n",
      "uncommon_powershell (pivot function)\n",
      "wevt_account_change_events (pivot function)\n",
      "wevt_all_events (pivot function)\n",
      "wevt_events_by_id (pivot function)\n",
      "wevt_get_process_tree (pivot function)\n",
      "wevt_list_other_events (pivot function)\n",
      "wevt_logon_attempts (pivot function)\n",
      "wevt_logon_failures (pivot function)\n",
      "wevt_logon_session (pivot function)\n",
      "wevt_logons (pivot function)\n",
      "wevt_notable_events (pivot function)\n",
      "wevt_parent_process (pivot function)\n",
      "wevt_process_session (pivot function)\n",
      "wevt_processes (pivot function)\n",
      "wevt_schdld_tasks_and_services (pivot function)\n",
      "wevt_summarize_events (pivot function)\n"
     ]
    }
   ],
   "source": [
    "# Host.MSSentinel_cybersecuritysoc()\n",
    "Host"
   ]
  },
  {
   "cell_type": "code",
   "execution_count": 44,
   "metadata": {},
   "outputs": [
    {
     "data": {
      "text/html": [
       "<div>\n",
       "<style scoped>\n",
       "    .dataframe tbody tr th:only-of-type {\n",
       "        vertical-align: middle;\n",
       "    }\n",
       "\n",
       "    .dataframe tbody tr th {\n",
       "        vertical-align: top;\n",
       "    }\n",
       "\n",
       "    .dataframe thead th {\n",
       "        text-align: right;\n",
       "    }\n",
       "</style>\n",
       "<table border=\"1\" class=\"dataframe\">\n",
       "  <thead>\n",
       "    <tr style=\"text-align: right;\">\n",
       "      <th></th>\n",
       "      <th>TenantId</th>\n",
       "      <th>TimeGenerated</th>\n",
       "      <th>SourceSystem</th>\n",
       "      <th>Account</th>\n",
       "      <th>AccountType</th>\n",
       "      <th>Computer</th>\n",
       "      <th>EventSourceName</th>\n",
       "      <th>Channel</th>\n",
       "      <th>Task</th>\n",
       "      <th>Level</th>\n",
       "      <th>EventData</th>\n",
       "      <th>EventID</th>\n",
       "      <th>Activity</th>\n",
       "      <th>SourceComputerId</th>\n",
       "      <th>EventOriginId</th>\n",
       "      <th>MG</th>\n",
       "      <th>TimeCollected</th>\n",
       "      <th>ManagementGroupName</th>\n",
       "      <th>AccessList</th>\n",
       "      <th>AccessMask</th>\n",
       "      <th>AccessReason</th>\n",
       "      <th>AccountDomain</th>\n",
       "      <th>AccountExpires</th>\n",
       "      <th>AccountName</th>\n",
       "      <th>AccountSessionIdentifier</th>\n",
       "      <th>...</th>\n",
       "      <th>TargetUserName</th>\n",
       "      <th>TargetUserSid</th>\n",
       "      <th>TemplateContent</th>\n",
       "      <th>TemplateDSObjectFQDN</th>\n",
       "      <th>TemplateInternalName</th>\n",
       "      <th>TemplateOID</th>\n",
       "      <th>TemplateSchemaVersion</th>\n",
       "      <th>TemplateVersion</th>\n",
       "      <th>TokenElevationType</th>\n",
       "      <th>TransmittedServices</th>\n",
       "      <th>UserAccountControl</th>\n",
       "      <th>UserParameters</th>\n",
       "      <th>UserPrincipalName</th>\n",
       "      <th>UserWorkstations</th>\n",
       "      <th>VirtualAccount</th>\n",
       "      <th>VendorIds</th>\n",
       "      <th>Workstation</th>\n",
       "      <th>WorkstationName</th>\n",
       "      <th>PartitionKey</th>\n",
       "      <th>RowKey</th>\n",
       "      <th>StorageAccount</th>\n",
       "      <th>AzureDeploymentID</th>\n",
       "      <th>AzureTableName</th>\n",
       "      <th>Type</th>\n",
       "      <th>_ResourceId</th>\n",
       "    </tr>\n",
       "  </thead>\n",
       "  <tbody>\n",
       "    <tr>\n",
       "      <th>0</th>\n",
       "      <td>8ecf8077-cf51-4820-aadd-14040956f35d</td>\n",
       "      <td>2022-12-01 17:49:47.817824+00:00</td>\n",
       "      <td>OpsManager</td>\n",
       "      <td>NT AUTHORITY\\SYSTEM</td>\n",
       "      <td>Machine</td>\n",
       "      <td>Workstation6.seccxp.ninja</td>\n",
       "      <td>Microsoft-Windows-Security-Auditing</td>\n",
       "      <td>Security</td>\n",
       "      <td>12544</td>\n",
       "      <td>8</td>\n",
       "      <td></td>\n",
       "      <td>4624</td>\n",
       "      <td>4624 - An account was successfully logged on.</td>\n",
       "      <td>6cff374c-b8ff-4495-9470-930d981b217a</td>\n",
       "      <td>1afd56e9-75e6-4218-9421-076406ac08ff</td>\n",
       "      <td>00000000-0000-0000-0000-000000000001</td>\n",
       "      <td>2022-12-01 17:50:09.566740+00:00</td>\n",
       "      <td>AOI-8ecf8077-cf51-4820-aadd-14040956f35d</td>\n",
       "      <td></td>\n",
       "      <td></td>\n",
       "      <td></td>\n",
       "      <td></td>\n",
       "      <td></td>\n",
       "      <td></td>\n",
       "      <td></td>\n",
       "      <td>...</td>\n",
       "      <td>SYSTEM</td>\n",
       "      <td>S-1-5-18</td>\n",
       "      <td></td>\n",
       "      <td></td>\n",
       "      <td></td>\n",
       "      <td></td>\n",
       "      <td></td>\n",
       "      <td></td>\n",
       "      <td></td>\n",
       "      <td>-</td>\n",
       "      <td></td>\n",
       "      <td></td>\n",
       "      <td></td>\n",
       "      <td></td>\n",
       "      <td>%%1843</td>\n",
       "      <td></td>\n",
       "      <td></td>\n",
       "      <td>-</td>\n",
       "      <td></td>\n",
       "      <td></td>\n",
       "      <td></td>\n",
       "      <td></td>\n",
       "      <td></td>\n",
       "      <td>SecurityEvent</td>\n",
       "      <td>/subscriptions/d1d8779d-38d7-4f06-91db-9cbc8de0176f/resourcegroups/simuland/providers/microsoft....</td>\n",
       "    </tr>\n",
       "    <tr>\n",
       "      <th>1</th>\n",
       "      <td>8ecf8077-cf51-4820-aadd-14040956f35d</td>\n",
       "      <td>2022-12-01 17:55:23.462961800+00:00</td>\n",
       "      <td>OpsManager</td>\n",
       "      <td>NT AUTHORITY\\SYSTEM</td>\n",
       "      <td>Machine</td>\n",
       "      <td>Workstation6.seccxp.ninja</td>\n",
       "      <td>Microsoft-Windows-Security-Auditing</td>\n",
       "      <td>Security</td>\n",
       "      <td>12544</td>\n",
       "      <td>8</td>\n",
       "      <td></td>\n",
       "      <td>4624</td>\n",
       "      <td>4624 - An account was successfully logged on.</td>\n",
       "      <td>6cff374c-b8ff-4495-9470-930d981b217a</td>\n",
       "      <td>590a20a0-305e-4668-bc37-721e2b38c89c</td>\n",
       "      <td>00000000-0000-0000-0000-000000000001</td>\n",
       "      <td>2022-12-01 17:55:54.552881700+00:00</td>\n",
       "      <td>AOI-8ecf8077-cf51-4820-aadd-14040956f35d</td>\n",
       "      <td></td>\n",
       "      <td></td>\n",
       "      <td></td>\n",
       "      <td></td>\n",
       "      <td></td>\n",
       "      <td></td>\n",
       "      <td></td>\n",
       "      <td>...</td>\n",
       "      <td>SYSTEM</td>\n",
       "      <td>S-1-5-18</td>\n",
       "      <td></td>\n",
       "      <td></td>\n",
       "      <td></td>\n",
       "      <td></td>\n",
       "      <td></td>\n",
       "      <td></td>\n",
       "      <td></td>\n",
       "      <td>-</td>\n",
       "      <td></td>\n",
       "      <td></td>\n",
       "      <td></td>\n",
       "      <td></td>\n",
       "      <td>%%1843</td>\n",
       "      <td></td>\n",
       "      <td></td>\n",
       "      <td>-</td>\n",
       "      <td></td>\n",
       "      <td></td>\n",
       "      <td></td>\n",
       "      <td></td>\n",
       "      <td></td>\n",
       "      <td>SecurityEvent</td>\n",
       "      <td>/subscriptions/d1d8779d-38d7-4f06-91db-9cbc8de0176f/resourcegroups/simuland/providers/microsoft....</td>\n",
       "    </tr>\n",
       "    <tr>\n",
       "      <th>2</th>\n",
       "      <td>8ecf8077-cf51-4820-aadd-14040956f35d</td>\n",
       "      <td>2022-12-01 17:44:42.875699300+00:00</td>\n",
       "      <td>OpsManager</td>\n",
       "      <td>NT AUTHORITY\\SYSTEM</td>\n",
       "      <td>Machine</td>\n",
       "      <td>Workstation6.seccxp.ninja</td>\n",
       "      <td>Microsoft-Windows-Security-Auditing</td>\n",
       "      <td>Security</td>\n",
       "      <td>12544</td>\n",
       "      <td>8</td>\n",
       "      <td></td>\n",
       "      <td>4624</td>\n",
       "      <td>4624 - An account was successfully logged on.</td>\n",
       "      <td>6cff374c-b8ff-4495-9470-930d981b217a</td>\n",
       "      <td>b5e7ba10-38b5-41b1-99b7-20f6cf531510</td>\n",
       "      <td>00000000-0000-0000-0000-000000000001</td>\n",
       "      <td>2022-12-01 17:44:55.554926+00:00</td>\n",
       "      <td>AOI-8ecf8077-cf51-4820-aadd-14040956f35d</td>\n",
       "      <td></td>\n",
       "      <td></td>\n",
       "      <td></td>\n",
       "      <td></td>\n",
       "      <td></td>\n",
       "      <td></td>\n",
       "      <td></td>\n",
       "      <td>...</td>\n",
       "      <td>SYSTEM</td>\n",
       "      <td>S-1-5-18</td>\n",
       "      <td></td>\n",
       "      <td></td>\n",
       "      <td></td>\n",
       "      <td></td>\n",
       "      <td></td>\n",
       "      <td></td>\n",
       "      <td></td>\n",
       "      <td>-</td>\n",
       "      <td></td>\n",
       "      <td></td>\n",
       "      <td></td>\n",
       "      <td></td>\n",
       "      <td>%%1843</td>\n",
       "      <td></td>\n",
       "      <td></td>\n",
       "      <td>-</td>\n",
       "      <td></td>\n",
       "      <td></td>\n",
       "      <td></td>\n",
       "      <td></td>\n",
       "      <td></td>\n",
       "      <td>SecurityEvent</td>\n",
       "      <td>/subscriptions/d1d8779d-38d7-4f06-91db-9cbc8de0176f/resourcegroups/simuland/providers/microsoft....</td>\n",
       "    </tr>\n",
       "  </tbody>\n",
       "</table>\n",
       "<p>3 rows × 225 columns</p>\n",
       "</div>"
      ],
      "text/plain": [
       "                               TenantId                       TimeGenerated  \\\n",
       "0  8ecf8077-cf51-4820-aadd-14040956f35d    2022-12-01 17:49:47.817824+00:00   \n",
       "1  8ecf8077-cf51-4820-aadd-14040956f35d 2022-12-01 17:55:23.462961800+00:00   \n",
       "2  8ecf8077-cf51-4820-aadd-14040956f35d 2022-12-01 17:44:42.875699300+00:00   \n",
       "\n",
       "  SourceSystem              Account AccountType                   Computer  \\\n",
       "0   OpsManager  NT AUTHORITY\\SYSTEM     Machine  Workstation6.seccxp.ninja   \n",
       "1   OpsManager  NT AUTHORITY\\SYSTEM     Machine  Workstation6.seccxp.ninja   \n",
       "2   OpsManager  NT AUTHORITY\\SYSTEM     Machine  Workstation6.seccxp.ninja   \n",
       "\n",
       "                       EventSourceName   Channel   Task Level EventData  \\\n",
       "0  Microsoft-Windows-Security-Auditing  Security  12544     8             \n",
       "1  Microsoft-Windows-Security-Auditing  Security  12544     8             \n",
       "2  Microsoft-Windows-Security-Auditing  Security  12544     8             \n",
       "\n",
       "   EventID                                       Activity  \\\n",
       "0     4624  4624 - An account was successfully logged on.   \n",
       "1     4624  4624 - An account was successfully logged on.   \n",
       "2     4624  4624 - An account was successfully logged on.   \n",
       "\n",
       "                       SourceComputerId                         EventOriginId  \\\n",
       "0  6cff374c-b8ff-4495-9470-930d981b217a  1afd56e9-75e6-4218-9421-076406ac08ff   \n",
       "1  6cff374c-b8ff-4495-9470-930d981b217a  590a20a0-305e-4668-bc37-721e2b38c89c   \n",
       "2  6cff374c-b8ff-4495-9470-930d981b217a  b5e7ba10-38b5-41b1-99b7-20f6cf531510   \n",
       "\n",
       "                                     MG                       TimeCollected  \\\n",
       "0  00000000-0000-0000-0000-000000000001    2022-12-01 17:50:09.566740+00:00   \n",
       "1  00000000-0000-0000-0000-000000000001 2022-12-01 17:55:54.552881700+00:00   \n",
       "2  00000000-0000-0000-0000-000000000001    2022-12-01 17:44:55.554926+00:00   \n",
       "\n",
       "                        ManagementGroupName AccessList AccessMask  \\\n",
       "0  AOI-8ecf8077-cf51-4820-aadd-14040956f35d                         \n",
       "1  AOI-8ecf8077-cf51-4820-aadd-14040956f35d                         \n",
       "2  AOI-8ecf8077-cf51-4820-aadd-14040956f35d                         \n",
       "\n",
       "  AccessReason AccountDomain AccountExpires AccountName  \\\n",
       "0                                                         \n",
       "1                                                         \n",
       "2                                                         \n",
       "\n",
       "  AccountSessionIdentifier  ... TargetUserName TargetUserSid TemplateContent  \\\n",
       "0                           ...         SYSTEM      S-1-5-18                   \n",
       "1                           ...         SYSTEM      S-1-5-18                   \n",
       "2                           ...         SYSTEM      S-1-5-18                   \n",
       "\n",
       "  TemplateDSObjectFQDN TemplateInternalName  TemplateOID  \\\n",
       "0                                                          \n",
       "1                                                          \n",
       "2                                                          \n",
       "\n",
       "   TemplateSchemaVersion TemplateVersion TokenElevationType  \\\n",
       "0                                                             \n",
       "1                                                             \n",
       "2                                                             \n",
       "\n",
       "  TransmittedServices  UserAccountControl UserParameters UserPrincipalName  \\\n",
       "0                   -                                                        \n",
       "1                   -                                                        \n",
       "2                   -                                                        \n",
       "\n",
       "  UserWorkstations VirtualAccount VendorIds Workstation WorkstationName  \\\n",
       "0                          %%1843                                     -   \n",
       "1                          %%1843                                     -   \n",
       "2                          %%1843                                     -   \n",
       "\n",
       "  PartitionKey RowKey StorageAccount AzureDeploymentID AzureTableName  \\\n",
       "0                                                                       \n",
       "1                                                                       \n",
       "2                                                                       \n",
       "\n",
       "            Type  \\\n",
       "0  SecurityEvent   \n",
       "1  SecurityEvent   \n",
       "2  SecurityEvent   \n",
       "\n",
       "                                                                                           _ResourceId  \n",
       "0  /subscriptions/d1d8779d-38d7-4f06-91db-9cbc8de0176f/resourcegroups/simuland/providers/microsoft....  \n",
       "1  /subscriptions/d1d8779d-38d7-4f06-91db-9cbc8de0176f/resourcegroups/simuland/providers/microsoft....  \n",
       "2  /subscriptions/d1d8779d-38d7-4f06-91db-9cbc8de0176f/resourcegroups/simuland/providers/microsoft....  \n",
       "\n",
       "[3 rows x 225 columns]"
      ]
     },
     "execution_count": 44,
     "metadata": {},
     "output_type": "execute_result"
    }
   ],
   "source": [
    "Host.MSSentinel_cybersecuritysoc.get_logons_for_host_jt(host_name=\"Workstation6\")"
   ]
  },
  {
   "cell_type": "markdown",
   "metadata": {},
   "source": [
    "---\n",
    "<h2 style=\"border: solid; padding: 5pt; color: goldenrod; background-color: #333333\">\n",
    "References\n",
    "</h2>\n",
    "\n",
    "### Pivot Functions\n",
    "https://msticpy.readthedocs.io/en/latest/data_analysis/PivotFunctions.html\n",
    "\n",
    "Entity to parameter mapping<br>\n",
    "https://msticpy.readthedocs.io/en/latest/data_analysis/PivotFunctions.html#how-are-queries-assigned-to-specific-entities\n",
    "\n",
    "Creating custom Pivot functions<br>\n",
    "https://msticpy.readthedocs.io/en/latest/data_analysis/PivotFunctions.html#customizing-and-managing-pivots\n",
    "\n",
    "### MSTICPy Queries\n",
    "https://msticpy.readthedocs.io/en/latest/data_acquisition/DataProviders.html\n",
    "\n",
    "Creating custom queries<br>\n",
    "https://msticpy.readthedocs.io/en/latest/data_acquisition/DataProviders.html#creating-new-queries\n"
   ]
  }
 ],
 "metadata": {
  "kernelspec": {
   "display_name": "Python 3.9.5 64-bit",
   "language": "python",
   "name": "python3"
  },
  "language_info": {
   "codemirror_mode": {
    "name": "ipython",
    "version": 3
   },
   "file_extension": ".py",
   "mimetype": "text/x-python",
   "name": "python",
   "nbconvert_exporter": "python",
   "pygments_lexer": "ipython3",
   "version": "3.9.5"
  },
  "orig_nbformat": 4,
  "vscode": {
   "interpreter": {
    "hash": "d5578407454ed8b46d5a520aa891bfa98d54062902a5b11199a67e3a266b6c1b"
   }
  }
 },
 "nbformat": 4,
 "nbformat_minor": 2
}
