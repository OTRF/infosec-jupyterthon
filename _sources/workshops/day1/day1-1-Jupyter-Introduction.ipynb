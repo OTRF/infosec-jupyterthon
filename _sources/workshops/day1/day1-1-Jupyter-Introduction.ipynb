{
 "cells": [
  {
   "cell_type": "markdown",
   "metadata": {
    "slideshow": {
     "slide_type": "slide"
    }
   },
   "source": [
    "![Banner](../media/banner1.png)\n",
    "\n",
    "---\n",
    "# Workshop 1.1: <font color=peru>Jupyter Notebooks Introduction</font>\n",
    "* **Contributors**:\n",
    "    * Roberto Rodriguez (@Cyb3rWard0g)\n",
    "    * Jose Rodriguez (@Cyb3rPandah)\n",
    "* **Agenda**:\n",
    "    * [Overview](#overview)\n",
    "    * [Architecture](#architecture)\n",
    "    * [Deployment](#deployment)\n",
    "    * [Jupyter Flavors](#flavors)\n",
    "* **Notebook**: [https://aka.ms/Jupyterthon-ws-1-1](https://aka.ms/Jupyterthon-ws-1-1)\n",
    "* **License**: [Creative Commons Attribution-ShareAlike 4.0 International](https://creativecommons.org/licenses/by-sa/4.0/)"
   ]
  },
  {
   "cell_type": "markdown",
   "metadata": {
    "slideshow": {
     "slide_type": "slide"
    }
   },
   "source": [
    "# <a style=\"border: solid; padding:5pt; color:black; background-color:#90CAF9\" name=\"overview\">Jupyter Notebooks Overview</a>"
   ]
  },
  {
   "cell_type": "markdown",
   "metadata": {
    "slideshow": {
     "slide_type": "slide"
    }
   },
   "source": [
    "# <font color=dimgray>Getting up to speed..</font>\n",
    "\n",
    "![](../media/day1/timeline-2021.png)"
   ]
  },
  {
   "cell_type": "markdown",
   "metadata": {
    "slideshow": {
     "slide_type": "slide"
    }
   },
   "source": [
    "# <font color=dimgray>Getting up to speed..</font>\n",
    "\n",
    "![](../media/day1/timeline-ipython-2021.png)"
   ]
  },
  {
   "cell_type": "markdown",
   "metadata": {
    "slideshow": {
     "slide_type": "slide"
    }
   },
   "source": [
    "# <font color=dimgray>What is Interactive Computing?</font>\n",
    "\n",
    "An Interactive computation is a persistent computer program that runs with a **\"human in the loop\"** where the primary mode of steering the program is through the human iteratively writing/running blocks of code and looking at the result.\n",
    "\n",
    "Reference:https://www.youtube.com/watch?v=YKmJvHjTGAM&list=PL055Epbe6d5aP6Ru42r7hk68GTSaclYgi&index=29"
   ]
  },
  {
   "cell_type": "markdown",
   "metadata": {
    "slideshow": {
     "slide_type": "subslide"
    }
   },
   "source": [
    "# <font color=dimgray>Interactivity as a Protocol</font>\n",
    "* Read-Evaluate-Print Loop (REPL):\n",
    "  * Takes a single user’s inputs\n",
    "  * Evaluates them\n",
    "  * Returns the result to the user\n",
    "* A two-process model based on a kernel-client infrastructure\n",
    "  * Kernel: Executes code\n",
    "  * Client: Reads input and present output\n",
    " "
   ]
  },
  {
   "cell_type": "markdown",
   "metadata": {
    "slideshow": {
     "slide_type": "slide"
    }
   },
   "source": [
    "# <font color=dimgray>IPython</font> \n",
    "\n",
    "* Released on Dec 10, 2001 by Fernando Perez while he was a graduate student at the University of Colorado\n",
    "  * Release: https://mail.python.org/pipermail/python-list/2001-December/093408.html\n",
    "* IPython as we know it today grew out of the following three projects:\n",
    "  * ipython by Fernando Pérez.\n",
    "  * IPP by Janko Hauser.\n",
    "  * LazyPython by Nathan Gray.\n",
    "\n",
    "Reference: https://ipython.readthedocs.io/en/stable/about/history.html"
   ]
  },
  {
   "cell_type": "markdown",
   "metadata": {
    "slideshow": {
     "slide_type": "subslide"
    }
   },
   "source": [
    "![](../media/day1/python-ipython-notebook.png)\n",
    "Reference: https://ipython.readthedocs.io/en/stable/interactive/python-ipython-diff.html"
   ]
  },
  {
   "cell_type": "markdown",
   "metadata": {
    "slideshow": {
     "slide_type": "subslide"
    }
   },
   "source": [
    "# <font color=dimgray>Fernando Perez Inspiration</font>\n",
    "* Research with open tools for access and collaboration\n",
    "  * Validated in SciPy India 2010 - Workshop to include students from underprivileged colleges in rural India.\n",
    "* Scientific\n",
    "  * Business of science is to understand nature\n",
    "  * Science is about opening up the black boxes nature\n",
    "* Community!\n",
    "  * SciPy: Scientists collaborating and building better tools together!\n",
    "  * Less competitions and more collaboration!\n",
    "  \n",
    "reference: https://www.youtube.com/watch?v=xuNj5paMuow&list=PL055Epbe6d5aP6Ru42r7hk68GTSaclYgi"
   ]
  },
  {
   "cell_type": "markdown",
   "metadata": {
    "slideshow": {
     "slide_type": "slide"
    }
   },
   "source": [
    "# <font color=dimgray>IPython -> Jupyter Project</font>\n",
    "\n",
    "![](../media/day1/ipython-to-jupyter.png)"
   ]
  },
  {
   "cell_type": "markdown",
   "metadata": {
    "slideshow": {
     "slide_type": "subslide"
    }
   },
   "source": [
    "![](../media/day1/ipython-features.png)\n",
    "\n",
    "Reference: https://speakerdeck.com/fperez/project-jupyter?slide=5"
   ]
  },
  {
   "cell_type": "markdown",
   "metadata": {
    "slideshow": {
     "slide_type": "subslide"
    }
   },
   "source": [
    "![](../media/day1/ipython-jupyter-features.png)\n",
    "\n",
    "Reference: https://speakerdeck.com/fperez/project-jupyter?slide=5"
   ]
  },
  {
   "cell_type": "markdown",
   "metadata": {
    "slideshow": {
     "slide_type": "slide"
    }
   },
   "source": [
    "# <font color=dimgray>What are Jupyter Notebooks?</font>\n",
    "\n",
    "The Jupyter Notebook is an open-source web application that allows you to create and share documents that contain live code, equations, visualizations and narrative text. The Jupyter notebook combines two components:\n",
    "\n",
    "* **A web application**: a browser-based tool for interactive authoring of documents which combine explanatory text, mathematics, computations and their rich media output.\n",
    "* **Notebook documents**: a representation of all content visible in the web application, including inputs and outputs of the computations, explanatory text, mathematics, images, and rich media representations of objects.\n",
    "\n",
    "Uses include:\n",
    "* Data cleaning and transformation\n",
    "* Statistical modeling\n",
    "* Data visualization\n",
    "* Machine learning, and much more\n",
    "\n",
    "reference: https://jupyter.org/"
   ]
  },
  {
   "cell_type": "markdown",
   "metadata": {
    "slideshow": {
     "slide_type": "slide"
    }
   },
   "source": [
    "# <font color=dimgray>What does it look like?</font>"
   ]
  },
  {
   "cell_type": "code",
   "execution_count": 1,
   "metadata": {
    "ExecuteTime": {
     "end_time": "2021-11-30T19:01:24.923703Z",
     "start_time": "2021-11-30T19:01:24.919935Z"
    },
    "slideshow": {
     "slide_type": "subslide"
    }
   },
   "outputs": [
    {
     "name": "stdout",
     "output_type": "stream",
     "text": [
      "Hola Roberto!\n"
     ]
    }
   ],
   "source": [
    "print(\"Hola Roberto!\")"
   ]
  },
  {
   "cell_type": "code",
   "execution_count": 2,
   "metadata": {
    "ExecuteTime": {
     "end_time": "2021-11-30T19:01:24.936319Z",
     "start_time": "2021-11-30T19:01:24.926055Z"
    },
    "slideshow": {
     "slide_type": "subslide"
    }
   },
   "outputs": [
    {
     "name": "stdout",
     "output_type": "stream",
     "text": [
      "0\n",
      "1\n",
      "2\n",
      "3\n",
      "4\n"
     ]
    }
   ],
   "source": [
    "for x in range(5):\n",
    "    print(x)"
   ]
  },
  {
   "cell_type": "markdown",
   "metadata": {},
   "source": [
    "![](../media/day1/jupyter-notebooks-classic.png)"
   ]
  },
  {
   "cell_type": "markdown",
   "metadata": {
    "slideshow": {
     "slide_type": "slide"
    }
   },
   "source": [
    "# <a style=\"border: solid; padding:5pt; color:black; background-color:#90CAF9\" name=\"architecture\">Jupyter Notebook Architecture</a>"
   ]
  },
  {
   "cell_type": "markdown",
   "metadata": {
    "slideshow": {
     "slide_type": "slide"
    }
   },
   "source": [
    "# <font color=dimgray>Architecture (Interactive Protocol)</font>\n",
    "![](../media/day1/jupyter-notebooks-architecture.png)\n"
   ]
  },
  {
   "cell_type": "markdown",
   "metadata": {
    "slideshow": {
     "slide_type": "slide"
    }
   },
   "source": [
    "# <a style=\"border: solid; padding:5pt; color:black; background-color:#90CAF9\" name=\"deployment\">Jupyter Notebook Deployments</a>"
   ]
  },
  {
   "cell_type": "markdown",
   "metadata": {
    "slideshow": {
     "slide_type": "subslide"
    }
   },
   "source": [
    "# <font color=dimgray>Installing Jupyter Notebooks (Manually)</font>\n",
    "\n",
    "**Prerequisite**: Python\n",
    "\n",
    "While Jupyter runs code in many programming languages, Python is a requirement (Python 3.3 or greater, or Python 2.7) for installing the JupyterLab or the classic Jupyter Notebook.\n",
    "\n",
    "## Classic Jupyter Notebook\n",
    "\n",
    "**Using Mamba or Conda**\n",
    "\n",
    "```\n",
    "mamba install -c conda-forge notebook\n",
    "```\n",
    "\n",
    "```\n",
    "conda install -c conda-forge notebook\n",
    "```\n",
    "\n",
    "**Using PIP**\n",
    "\n",
    "```\n",
    "pip install notebook\n",
    "```\n",
    "\n",
    "Once Jupyter Notebook is installed, you can run it with the following command:\n",
    "\n",
    "```\n",
    "jupyter notebook\n",
    "\n",
    "```"
   ]
  },
  {
   "cell_type": "markdown",
   "metadata": {},
   "source": [
    "# <font color=dimgray>Installing Jupyter Notebooks (Manually)</font>\n",
    "\n",
    "**Prerequisite**: Python\n",
    "\n",
    "While Jupyter runs code in many programming languages, Python is a requirement (Python 3.3 or greater, or Python 2.7) for installing the JupyterLab or the classic Jupyter Notebook.\n",
    "\n",
    "## JupyterLab\n",
    "\n",
    "**Using Mamba or Conda**\n",
    "\n",
    "```\n",
    "mamba install -c conda-forge jupyterlab\n",
    "```\n",
    "\n",
    "```\n",
    "conda install -c conda-forge jupyterlab\n",
    "```\n",
    "\n",
    "**Using PIP**\n",
    "\n",
    "```\n",
    "pip install jupyterlab\n",
    "```\n",
    "\n",
    "Once JupyterLab is installed, you can run it with the following command:\n",
    "\n",
    "```\n",
    "jupyter-lab\n",
    "\n",
    "```"
   ]
  },
  {
   "cell_type": "code",
   "execution_count": 3,
   "metadata": {},
   "outputs": [
    {
     "data": {
      "image/jpeg": "[encoded data removed]",
      "text/html": [
       "\n",
       "        <iframe\n",
       "            width=\"1000\"\n",
       "            height=\"800\"\n",
       "            src=\"https://www.youtube.com/embed/KcoYnFVw9Xs\"\n",
       "            frameborder=\"0\"\n",
       "            allowfullscreen\n",
       "        ></iframe>\n",
       "        "
      ],
      "text/plain": [
       "<IPython.lib.display.YouTubeVideo at 0x1ab23c720d0>"
      ]
     },
     "execution_count": 3,
     "metadata": {},
     "output_type": "execute_result"
    }
   ],
   "source": [
    "from IPython.display import YouTubeVideo\n",
    "\n",
    "YouTubeVideo('KcoYnFVw9Xs', width=1000, height=800)"
   ]
  },
  {
   "cell_type": "markdown",
   "metadata": {
    "slideshow": {
     "slide_type": "subslide"
    }
   },
   "source": [
    "# <font color=dimgray>Installing Jupyter Notebooks (Docker CE)</font>\n",
    "\n",
    "**Prerequisite**: Docker CE\n",
    "\n",
    "You just have to install the community edition of Docker, so that you can install JupyterLab from Docker images containing Jupyter applications and interactive computing tools.\n",
    "You can use a docker stack image to do any of the following (and more):\n",
    "\n",
    "* Start a personal Jupyter Notebook server in a local Docker container\n",
    "* Run JupyterLab servers for a team using JupyterHub\n",
    "* Write your own project Dockerfile\n",
    "\n",
    "You can use [ready-to-run Docker images](https://github.com/jupyter/docker-stacks) maintained by the Jupyter team:\n",
    "* Jupyter Github Docker Stacks project: https://github.com/jupyter/docker-stacks\n",
    "* Jupyter Docker registry: https://hub.docker.com/u/jupyter\n",
    "* Jupyter Docker Base Image: https://hub.docker.com/r/jupyter/base-notebook/\n"
   ]
  },
  {
   "cell_type": "markdown",
   "metadata": {},
   "source": [
    "## Running the Jupyter Base Notebook\n",
    "\n",
    "```\n",
    "docker run -p 8888:8888 jupyter/minimal-notebook:3b1f4f5e6cc1\n",
    "```"
   ]
  },
  {
   "cell_type": "code",
   "execution_count": 2,
   "metadata": {
    "ExecuteTime": {
     "end_time": "2021-11-30T19:01:25.088098Z",
     "start_time": "2021-11-30T19:01:25.028968Z"
    },
    "scrolled": true,
    "slideshow": {
     "slide_type": "subslide"
    }
   },
   "outputs": [
    {
     "data": {
      "image/jpeg": "[encoded data removed]",
      "text/html": [
       "\n",
       "        <iframe\n",
       "            width=\"1000\"\n",
       "            height=\"800\"\n",
       "            src=\"https://www.youtube.com/embed/KVR1_cVlLRE\"\n",
       "            frameborder=\"0\"\n",
       "            allowfullscreen\n",
       "        ></iframe>\n",
       "        "
      ],
      "text/plain": [
       "<IPython.lib.display.YouTubeVideo at 0x1ab23c26400>"
      ]
     },
     "execution_count": 2,
     "metadata": {},
     "output_type": "execute_result"
    }
   ],
   "source": [
    "from IPython.display import YouTubeVideo\n",
    "\n",
    "YouTubeVideo('KVR1_cVlLRE', width=1000, height=800)"
   ]
  },
  {
   "cell_type": "markdown",
   "metadata": {},
   "source": [
    "## Jupyterthon - OTRF Docker Image\n",
    "\n",
    "```\n",
    "docker run -ti --rm -p 8888:8888 otrf/jupyterthon:2021\n",
    "```"
   ]
  },
  {
   "cell_type": "markdown",
   "metadata": {},
   "source": [
    "# <font color=dimgray>Jupyter Hub</font>\n",
    "JupyterHub is a set of processes that together provide a single user Jupyter Notebook server for each person in a group. Three major subsystems are started by the jupyterhub command line program:\n",
    "\n",
    "* **Hub (Python/Tornado)**: manages user accounts, authentication, and coordinates Single User Notebook Servers using a Spawner.\n",
    "* **Proxy**: the public facing part of JupyterHub that uses a dynamic proxy to route HTTP requests to the Hub and Single User Notebook Servers. configurable http proxy (node-http-proxy) is the default proxy.\n",
    "**Single-User Notebook Server (Python/Tornado)**: a dedicated, single-user, Jupyter Notebook server is started for each user on the system when the user logs in. The object that starts the single-user notebook servers is called a Spawner.\n",
    "\n",
    "Reference: https://jupyterhub.readthedocs.io/en/latest/reference/technical-overview.html\n",
    "\n",
    "![](../media/day1/jupyter-hub-subsystems.png)"
   ]
  },
  {
   "cell_type": "markdown",
   "metadata": {
    "slideshow": {
     "slide_type": "subslide"
    }
   },
   "source": [
    "# <font color=dimgray>Enter Binder Project</font>\n",
    "\n",
    "* Released in May, 2016\n",
    "* Updated 2.0 on November, 2019\n",
    "* The Binder Project is an open community that makes it possible to create shareable, interactive, reproducible environments.\n",
    "* The main technical product that the community creates is called BinderHub, and one deployment of a BinderHub exists at mybinder.org.\n",
    "* Who is it for?: \n",
    "  * Researchers, Educators, people analyzing data and people trying to communicate the data analysis to others!!"
   ]
  },
  {
   "cell_type": "markdown",
   "metadata": {
    "slideshow": {
     "slide_type": "subslide"
    }
   },
   "source": [
    "# <font color=dimgray>BinderHub</font>\n",
    "\n",
    "BinderHub connects several services together to provide on-the-fly creation and registry of Docker images. It utilizes the following tools:\n",
    "* A cloud provider such Google Cloud, Microsoft Azure, Amazon EC2, and others\n",
    "* Kubernetes to manage resources on the cloud\n",
    "* Helm to configure and control Kubernetes\n",
    "* Docker to use containers that standardize computing environments\n",
    "* A BinderHub UI that users can access to specify Git repos they want built\n",
    "* BinderHub to generate Docker images using the URL of a Git repository\n",
    "* A Docker registry (such as gcr.io) that hosts container images\n",
    "* JupyterHub to deploy temporary containers for users"
   ]
  },
  {
   "cell_type": "markdown",
   "metadata": {
    "slideshow": {
     "slide_type": "subslide"
    }
   },
   "source": [
    "# <font color=dimgray>BinderHub Flow</font>\n",
    "\n",
    "![](../media/day1/Binderhub-Architecture.png)"
   ]
  },
  {
   "cell_type": "markdown",
   "metadata": {
    "slideshow": {
     "slide_type": "subslide"
    }
   },
   "source": [
    "# <font color=dimgray>Let's Try it!</font>\n",
    "![](../media/day1/interactive-example.png)"
   ]
  },
  {
   "cell_type": "markdown",
   "metadata": {},
   "source": [
    "# <font color=dimgray>JupyterLab Desktop App</font>\n",
    "\n",
    "* Released in September 2021.\n",
    "* Cross-platform standalone application distribution of JupyterLab.\n",
    "* Desktop app which bundles a Python environment (bundled conda Python env) with popular Python libraries (Numpy, scipy, pandas, ipywidgets and matplotlib).\n",
    "* Based on Electron with a front-end of JupyterLab inside an embedded browser."
   ]
  },
  {
   "cell_type": "code",
   "execution_count": 4,
   "metadata": {},
   "outputs": [
    {
     "data": {
      "image/jpeg": "[encoded data removed]",
      "text/html": [
       "\n",
       "        <iframe\n",
       "            width=\"1000\"\n",
       "            height=\"800\"\n",
       "            src=\"https://www.youtube.com/embed/1g1c81YTONo\"\n",
       "            frameborder=\"0\"\n",
       "            allowfullscreen\n",
       "        ></iframe>\n",
       "        "
      ],
      "text/plain": [
       "<IPython.lib.display.YouTubeVideo at 0x1ab23c12c40>"
      ]
     },
     "execution_count": 4,
     "metadata": {},
     "output_type": "execute_result"
    }
   ],
   "source": [
    "from IPython.display import YouTubeVideo\n",
    "\n",
    "YouTubeVideo('1g1c81YTONo', width=1000, height=800)"
   ]
  },
  {
   "cell_type": "markdown",
   "metadata": {
    "slideshow": {
     "slide_type": "slide"
    }
   },
   "source": [
    "# <a style=\"border: solid; padding:5pt; color:black; background-color:#90CAF9\" name=\"flavors\">Jupyter Notebooks Flavors</a>"
   ]
  },
  {
   "cell_type": "markdown",
   "metadata": {},
   "source": [
    "# <font color=dimgray>Classic Jupyter Notebook</font>\n",
    "\n",
    "```\n",
    "docker run -ti --rm -p 8888:8888 otrf/jupyterthon:2021\n",
    "```\n",
    "\n",
    "![](../media/day1/jupyter-notebook-classic.png)"
   ]
  },
  {
   "cell_type": "markdown",
   "metadata": {},
   "source": [
    "# <font color=dimgray>JupyterLab</font>\n",
    "\n",
    "```\n",
    "docker run -ti --rm -e JUPYTER_ENABLE_LAB=yes -p 8888:8888 otrf/jupyterthon:2021\n",
    "```\n",
    "\n",
    "![](../media/day1/jupyterLab.png)"
   ]
  },
  {
   "cell_type": "markdown",
   "metadata": {},
   "source": [
    "# <font color=dimgray>VSCode Jupyter Notebook</font>\n",
    "\n",
    "* Visual Studio Code\n",
    "* Python Extension for Visual Studio Code\n",
    "* Python Interpreter: you can find the steps to install it here.\n",
    "\n",
    "**References**:\n",
    "* https://blog.openthreatresearch.com/first_jupyter_notebook_vscode\n",
    "* https://blog.openthreatresearch.com/installing_python_extension_vscode"
   ]
  },
  {
   "cell_type": "code",
   "execution_count": 5,
   "metadata": {},
   "outputs": [
    {
     "data": {
      "image/jpeg": "[encoded data removed]",
      "text/html": [
       "\n",
       "        <iframe\n",
       "            width=\"1000\"\n",
       "            height=\"800\"\n",
       "            src=\"https://www.youtube.com/embed/4LrBMHL69VI\"\n",
       "            frameborder=\"0\"\n",
       "            allowfullscreen\n",
       "        ></iframe>\n",
       "        "
      ],
      "text/plain": [
       "<IPython.lib.display.YouTubeVideo at 0x1ab23c704f0>"
      ]
     },
     "execution_count": 5,
     "metadata": {},
     "output_type": "execute_result"
    }
   ],
   "source": [
    "from IPython.display import YouTubeVideo\n",
    "\n",
    "YouTubeVideo('4LrBMHL69VI', width=1000, height=800)"
   ]
  },
  {
   "cell_type": "markdown",
   "metadata": {
    "slideshow": {
     "slide_type": "slide"
    }
   },
   "source": [
    "# <font color=dimgray>Resources</font>\n",
    "\n",
    "* https://the-turing-way.netlify.app/introduction/introduction.html\n",
    "* https://gist.github.com/fperez/1579699 \n",
    "* https://mail.python.org/pipermail/python-list/2001-December/093408.html \n",
    "* https://ipython.org/news.html#ipython-0-12 \n",
    "* https://speakerdeck.com/fperez/project-jupyter \n",
    "* https://blog.jupyter.org/rendering-notebooks-on-github-f7ac8736d686 \n",
    "* https://blog.jupyter.org/binder-2-0-a-tech-guide-2017-fd40515a3a84 \n",
    "* https://jupyterbook.org/intro.html\n",
    "* https://jupyterlab.readthedocs.io/en/stable/getting_started/installation.html#pip\n",
    "* https://github.com/jupyter/docker-stacks\n",
    "* http://ipython.org/news\n",
    "* https://pypi.org/project/jupyterlite/#history\n",
    "* https://blog.jupyter.org/jupyterlite-jupyter-%EF%B8%8F-webassembly-%EF%B8%8F-python-f6e2e41ab3fa\n",
    "* https://github.com/jupyterlab/jupyterlab-desktop#download\n",
    "* https://blog.jupyter.org/jupyterlab-desktop-app-now-available-b8b661b17e9a\n",
    "* https://elifesciences.org/labs/a7d53a88/toward-publishing-reproducible-computation-with-binder\n",
    "* https://tljh.jupyter.org/en/latest/"
   ]
  },
  {
   "cell_type": "markdown",
   "metadata": {
    "slideshow": {
     "slide_type": "slide"
    }
   },
   "source": [
    "# <font color=peru>Break: 5 Minutes</font>\n",
    "\n",
    "![](../media/dog-leash-break.jpg)"
   ]
  }
 ],
 "metadata": {
  "celltoolbar": "Slideshow",
  "hide_input": false,
  "kernelspec": {
   "display_name": "Python 3 (ipykernel)",
   "language": "python",
   "name": "python3"
  },
  "language_info": {
   "codemirror_mode": {
    "name": "ipython",
    "version": 3
   },
   "file_extension": ".py",
   "mimetype": "text/x-python",
   "name": "python",
   "nbconvert_exporter": "python",
   "pygments_lexer": "ipython3",
   "version": "3.9.5"
  },
  "rise": {
   "autolaunch": true,
   "enable_chalkboard": true,
   "scroll": true
  },
  "toc": {
   "base_numbering": 1,
   "nav_menu": {},
   "number_sections": false,
   "sideBar": true,
   "skip_h1_title": false,
   "title_cell": "Table of Contents",
   "title_sidebar": "Contents",
   "toc_cell": false,
   "toc_position": {
    "height": "calc(100% - 180px)",
    "left": "10px",
    "top": "150px",
    "width": "406.237px"
   },
   "toc_section_display": true,
   "toc_window_display": false
  },
  "varInspector": {
   "cols": {
    "lenName": 16,
    "lenType": 16,
    "lenVar": 40
   },
   "kernels_config": {
    "python": {
     "delete_cmd_postfix": "",
     "delete_cmd_prefix": "del ",
     "library": "var_list.py",
     "varRefreshCmd": "print(var_dic_list())"
    },
    "r": {
     "delete_cmd_postfix": ") ",
     "delete_cmd_prefix": "rm(",
     "library": "var_list.r",
     "varRefreshCmd": "cat(var_dic_list()) "
    }
   },
   "types_to_exclude": [
    "module",
    "function",
    "builtin_function_or_method",
    "instance",
    "_Feature"
   ],
   "window_display": false
  }
 },
 "nbformat": 4,
 "nbformat_minor": 2
}
