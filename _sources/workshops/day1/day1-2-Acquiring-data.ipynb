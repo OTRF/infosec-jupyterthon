{
 "cells": [
  {
   "cell_type": "markdown",
   "metadata": {},
   "source": [
    "![Banner](../media/banner1.png)\n",
    "\n",
    "---\n",
    "# Workshop 1.2: <font color=peru>Acquiring Data</font>\n",
    "\n",
    "* **Contributors**:\n",
    "    * Roberto Rodriguez (@Cyb3rWard0g)\n",
    "    * Jose Rodriguez (@Cyb3rPandah)\n",
    "    * Ian Hellen (@ianhellen, gh:@ianhelle)\n",
    "<br><br>\n",
    "* **Agenda**:\n",
    "    * [Reading data from SIEMs and Databases](#reading)\n",
    "    * [OTR Security Datasets - (aka Mordor)](#mordor)\n",
    "<br><br>\n",
    "* **Notebook**: [https://aka.ms/Jupyterthon-ws-1-2](https://aka.ms/Jupyterthon-ws-1-2)\n",
    "* **License**: [Creative Commons Attribution-ShareAlike 4.0 International](https://creativecommons.org/licenses/by-sa/4.0/)\n",
    "\n",
    "* **Q&A** - OTR Discord **#Jupyterthon #WORKSHOP DAY 1 - ACQUIRING DATA**"
   ]
  },
  {
   "cell_type": "markdown",
   "metadata": {},
   "source": [
    "---\n",
    "# <a style=\"border: solid; padding:5pt; color:black; background-color:#90CAF9\" name=\"reading\">Reading from SIEMs and Databases</a>\n",
    "\n",
    "## Elasticsearch\n",
    "\n",
    "[https://elasticsearch-py.readthedocs.io/](https://elasticsearch-py.readthedocs.io/)\n",
    "\n",
    "```\n",
    "python -m pip install elasticsearch\n",
    "```\n",
    "\n",
    "- Importing libraries:"
   ]
  },
  {
   "cell_type": "code",
   "execution_count": null,
   "metadata": {},
   "outputs": [],
   "source": [
    "# Elasticsearch connector\n",
    "from elasticsearch import Elasticsearch\n",
    "from elasticsearch_dsl import Search\n",
    "# Data manipulation\n",
    "import pandas as pd"
   ]
  },
  {
   "cell_type": "markdown",
   "metadata": {},
   "source": [
    "- Initializing an Elasticsearch client:\n",
    "\n",
    "    Initialize an Elasticsearch client using a specific Elasticsearch URL. Next, you can pass the client to the Search object that we will use to represent the search request in a little bit."
   ]
  },
  {
   "cell_type": "code",
   "execution_count": null,
   "metadata": {},
   "outputs": [],
   "source": [
    "es = Elasticsearch(['http://<elasticsearch-ip>:9200'])\n",
    "searchContext = Search(using=es, index='logs-*', doc_type='doc')"
   ]
  },
  {
   "cell_type": "markdown",
   "metadata": {},
   "source": [
    "- Setting the query search context:\n",
    "\n",
    "    In addition, we will need to use the query class to pass an Elasticsearch query_string . For example, what if I want to query event_id 1 events?."
   ]
  },
  {
   "cell_type": "code",
   "execution_count": null,
   "metadata": {},
   "outputs": [],
   "source": [
    "s = searchContext.query('query_string', query='event_id:1')"
   ]
  },
  {
   "cell_type": "markdown",
   "metadata": {},
   "source": [
    "- Running query & Exploring response:\n",
    "\n",
    "    Finally, you can run the query and get the results back as a DataFrame."
   ]
  },
  {
   "cell_type": "code",
   "execution_count": null,
   "metadata": {},
   "outputs": [],
   "source": [
    "response = s.execute()\n",
    "\n",
    "if response.success():\n",
    "    df = pd.DataFrame((d.to_dict() for d in s.scan()))\n",
    "\n",
    "df"
   ]
  },
  {
   "cell_type": "markdown",
   "metadata": {},
   "source": [
    "# <font color=hotpink>Connect to Elasticsearch</font> <font color=dimgray>(Elasticsearch DSL Libraries)</font>\n",
    "\n",
    "![](../media/day1/elasticsearch-dsl-query.png)\n",
    "\n",
    "Reference: https://medium.com/threat-hunters-forge/jupyter-notebooks-from-sigma-rules-%EF%B8%8F-to-query-elasticsearch-31a74cc59b99"
   ]
  },
  {
   "cell_type": "markdown",
   "metadata": {},
   "source": [
    "## Splunk\n",
    "\n",
    "[Huntlib - https://github.com/target/huntlib](https://github.com/target/huntlib)\n",
    "\n",
    "Also\n",
    "\n",
    "[SplunkSDK - https://github.com/splunk/splunk-sdk-python](https://github.com/splunk/splunk-sdk-python)\n",
    "\n",
    "- Importing libraries:"
   ]
  },
  {
   "cell_type": "code",
   "execution_count": null,
   "metadata": {},
   "outputs": [],
   "source": [
    "from huntlib.splunk import SplunkDF"
   ]
  },
  {
   "cell_type": "markdown",
   "metadata": {},
   "source": [
    "- Running query & Exploring response"
   ]
  },
  {
   "cell_type": "code",
   "execution_count": null,
   "metadata": {},
   "outputs": [],
   "source": [
    "df = s.search_df(\n",
    "  spl=\"search index=win_events EventCode=4688\",\n",
    "  start_time=\"-2d@d\",\n",
    "  end_time=\"@d\"\n",
    ")"
   ]
  },
  {
   "cell_type": "markdown",
   "metadata": {
    "tags": []
   },
   "source": [
    "## Sqlite\n",
    "\n",
    "- Importing libraries:"
   ]
  },
  {
   "cell_type": "code",
   "execution_count": null,
   "metadata": {},
   "outputs": [],
   "source": [
    "!pip install ipython-sql"
   ]
  },
  {
   "cell_type": "markdown",
   "metadata": {},
   "source": [
    "- Loading library"
   ]
  },
  {
   "cell_type": "code",
   "execution_count": 1,
   "metadata": {},
   "outputs": [],
   "source": [
    "%%capture\n",
    "%load_ext sql"
   ]
  },
  {
   "cell_type": "markdown",
   "metadata": {},
   "source": [
    "- Connecting to database"
   ]
  },
  {
   "cell_type": "code",
   "execution_count": 2,
   "metadata": {},
   "outputs": [],
   "source": [
    "%sql sqlite:///../data/browser2.db"
   ]
  },
  {
   "cell_type": "markdown",
   "metadata": {},
   "source": [
    "- Executing queries"
   ]
  },
  {
   "cell_type": "code",
   "execution_count": 3,
   "metadata": {},
   "outputs": [
    {
     "name": "stdout",
     "output_type": "stream",
     "text": [
      " * sqlite:///../data/browser2.db\n",
      "Done.\n"
     ]
    },
    {
     "data": {
      "text/html": [
       "<table>\n",
       "    <tr>\n",
       "        <th>name</th>\n",
       "    </tr>\n",
       "    <tr>\n",
       "        <td>android_metadata</td>\n",
       "    </tr>\n",
       "    <tr>\n",
       "        <td>bookmarks</td>\n",
       "    </tr>\n",
       "    <tr>\n",
       "        <td>sqlite_sequence</td>\n",
       "    </tr>\n",
       "    <tr>\n",
       "        <td>history</td>\n",
       "    </tr>\n",
       "    <tr>\n",
       "        <td>images</td>\n",
       "    </tr>\n",
       "    <tr>\n",
       "        <td>searches</td>\n",
       "    </tr>\n",
       "    <tr>\n",
       "        <td>settings</td>\n",
       "    </tr>\n",
       "    <tr>\n",
       "        <td>thumbnails</td>\n",
       "    </tr>\n",
       "    <tr>\n",
       "        <td>_sync_state</td>\n",
       "    </tr>\n",
       "    <tr>\n",
       "        <td>_sync_state_metadata</td>\n",
       "    </tr>\n",
       "</table>"
      ],
      "text/plain": [
       "[('android_metadata',),\n",
       " ('bookmarks',),\n",
       " ('sqlite_sequence',),\n",
       " ('history',),\n",
       " ('images',),\n",
       " ('searches',),\n",
       " ('settings',),\n",
       " ('thumbnails',),\n",
       " ('_sync_state',),\n",
       " ('_sync_state_metadata',)]"
      ]
     },
     "execution_count": 3,
     "metadata": {},
     "output_type": "execute_result"
    }
   ],
   "source": [
    "%%sql\n",
    "SELECT\n",
    "    name\n",
    "FROM\n",
    "    sqlite_master\n",
    "WHERE\n",
    "    type='table';"
   ]
  },
  {
   "cell_type": "code",
   "execution_count": 4,
   "metadata": {},
   "outputs": [
    {
     "name": "stdout",
     "output_type": "stream",
     "text": [
      " * sqlite:///../data/browser2.db\n",
      "Done.\n"
     ]
    },
    {
     "data": {
      "text/html": [
       "<table>\n",
       "    <tr>\n",
       "        <th>_id</th>\n",
       "        <th>title</th>\n",
       "        <th>url</th>\n",
       "        <th>created</th>\n",
       "        <th>date</th>\n",
       "        <th>visits</th>\n",
       "        <th>user_entered</th>\n",
       "    </tr>\n",
       "    <tr>\n",
       "        <td>1</td>\n",
       "        <td>Google</td>\n",
       "        <td>http://www.google.es/?gfe_rd=cr&amp;dcr=0&amp;ei=_OtlWu_eK5St8wespoTYBg</td>\n",
       "        <td>0</td>\n",
       "        <td>1516628986890</td>\n",
       "        <td>2</td>\n",
       "        <td>0</td>\n",
       "    </tr>\n",
       "    <tr>\n",
       "        <td>2</td>\n",
       "        <td>mobile congress - Buscar con Google</td>\n",
       "        <td>http://www.google.es/search?dcr=0&amp;source=hp&amp;ei=_OtlWqfYOIH-UPnHrqAH&amp;sjs=16383&amp;q=mobile+congress&amp;oq=mobile+congress&amp;gs_l=mobile-gws-hp.3..0l5.9699.17759..20649.......143.1677.2j13............mobile-gws-wiz-hp.....0..0i131.9Koqktw5naA%3D</td>\n",
       "        <td>0</td>\n",
       "        <td>1516629009457</td>\n",
       "        <td>1</td>\n",
       "        <td>0</td>\n",
       "    </tr>\n",
       "    <tr>\n",
       "        <td>3</td>\n",
       "        <td>Home | Mobile World Congress</td>\n",
       "        <td>https://www.mobileworldcongress.com/</td>\n",
       "        <td>0</td>\n",
       "        <td>1516629026677</td>\n",
       "        <td>3</td>\n",
       "        <td>0</td>\n",
       "    </tr>\n",
       "    <tr>\n",
       "        <td>4</td>\n",
       "        <td>Google</td>\n",
       "        <td>https://www.google.es/webhp?source=android-home&amp;gws_rd=cr&amp;dcr=0&amp;ei=LexlWsqTBMXvUOOsg6gF</td>\n",
       "        <td>0</td>\n",
       "        <td>1516629037678</td>\n",
       "        <td>2</td>\n",
       "        <td>0</td>\n",
       "    </tr>\n",
       "    <tr>\n",
       "        <td>5</td>\n",
       "        <td>apk mirror - Buscar con Google</td>\n",
       "        <td>https://www.google.es/search?source=android-home&amp;dcr=0&amp;source=hp&amp;ei=LexlWvvkIIzXUbDmn8gB&amp;sjs=16383&amp;q=apk+mirror&amp;oq=apk+mirror&amp;gs_l=mobile-gws-hp.3..0l5.4318.7753..7951.......136.1152.1j9............mobile-gws-wiz-hp.....0..0i131j0i10.GOGxmTJuhIg%3D</td>\n",
       "        <td>0</td>\n",
       "        <td>1516629047435</td>\n",
       "        <td>1</td>\n",
       "        <td>0</td>\n",
       "    </tr>\n",
       "    <tr>\n",
       "        <td>6</td>\n",
       "        <td>APKMirror - Free APK Downloads - Download Free Android APKs #APKPLZ</td>\n",
       "        <td>https://www.apkmirror.com/</td>\n",
       "        <td>0</td>\n",
       "        <td>1516629052435</td>\n",
       "        <td>2</td>\n",
       "        <td>0</td>\n",
       "    </tr>\n",
       "    <tr>\n",
       "        <td>7</td>\n",
       "        <td>Amazon.com: Online Shopping for Electronics, Apparel, Computers, Books, DVDs &amp; more</td>\n",
       "        <td>https://www.amazon.com/</td>\n",
       "        <td>0</td>\n",
       "        <td>1516629109159</td>\n",
       "        <td>2</td>\n",
       "        <td>0</td>\n",
       "    </tr>\n",
       "    <tr>\n",
       "        <td>8</td>\n",
       "        <td>http://192.168.74.128/i6ADxOqMEyyI</td>\n",
       "        <td>http://192.168.74.128/i6ADxOqMEyyI</td>\n",
       "        <td>0</td>\n",
       "        <td>1516629327266</td>\n",
       "        <td>1</td>\n",
       "        <td>0</td>\n",
       "    </tr>\n",
       "    <tr>\n",
       "        <td>9</td>\n",
       "        <td>http://192.168.74.128/i6ADxOqMEyyI/EeMVfx/</td>\n",
       "        <td>http://192.168.74.128/i6ADxOqMEyyI/EeMVfx/</td>\n",
       "        <td>0</td>\n",
       "        <td>1516629327667</td>\n",
       "        <td>1</td>\n",
       "        <td>0</td>\n",
       "    </tr>\n",
       "    <tr>\n",
       "        <td>10</td>\n",
       "        <td>apks - Google Search</td>\n",
       "        <td>http://www.google.es/search?hl=en&amp;source=android-browser-type&amp;q=apks&amp;gws_rd=cr&amp;dcr=0&amp;ei=dO1lWoSxGMjSUYrwkpgG</td>\n",
       "        <td>0</td>\n",
       "        <td>1516629364685</td>\n",
       "        <td>2</td>\n",
       "        <td>0</td>\n",
       "    </tr>\n",
       "</table>"
      ],
      "text/plain": [
       "[(1, 'Google', 'http://www.google.es/?gfe_rd=cr&dcr=0&ei=_OtlWu_eK5St8wespoTYBg', 0, 1516628986890, 2, 0),\n",
       " (2, 'mobile congress - Buscar con Google', 'http://www.google.es/search?dcr=0&source=hp&ei=_OtlWqfYOIH-UPnHrqAH&sjs=16383&q=mobile+congress&oq=mobile+congress&gs_l=mobile-gws-hp.3..0l5.9699.17759..20649.......143.1677.2j13............mobile-gws-wiz-hp.....0..0i131.9Koqktw5naA%3D', 0, 1516629009457, 1, 0),\n",
       " (3, 'Home | Mobile World Congress', 'https://www.mobileworldcongress.com/', 0, 1516629026677, 3, 0),\n",
       " (4, 'Google', 'https://www.google.es/webhp?source=android-home&gws_rd=cr&dcr=0&ei=LexlWsqTBMXvUOOsg6gF', 0, 1516629037678, 2, 0),\n",
       " (5, 'apk mirror - Buscar con Google', 'https://www.google.es/search?source=android-home&dcr=0&source=hp&ei=LexlWvvkIIzXUbDmn8gB&sjs=16383&q=apk+mirror&oq=apk+mirror&gs_l=mobile-gws-hp.3..0l5.4318.7753..7951.......136.1152.1j9............mobile-gws-wiz-hp.....0..0i131j0i10.GOGxmTJuhIg%3D', 0, 1516629047435, 1, 0),\n",
       " (6, 'APKMirror - Free APK Downloads - Download Free Android APKs #APKPLZ', 'https://www.apkmirror.com/', 0, 1516629052435, 2, 0),\n",
       " (7, 'Amazon.com: Online Shopping for Electronics, Apparel, Computers, Books, DVDs & more', 'https://www.amazon.com/', 0, 1516629109159, 2, 0),\n",
       " (8, 'http://192.168.74.128/i6ADxOqMEyyI', 'http://192.168.74.128/i6ADxOqMEyyI', 0, 1516629327266, 1, 0),\n",
       " (9, 'http://192.168.74.128/i6ADxOqMEyyI/EeMVfx/', 'http://192.168.74.128/i6ADxOqMEyyI/EeMVfx/', 0, 1516629327667, 1, 0),\n",
       " (10, 'apks - Google Search', 'http://www.google.es/search?hl=en&source=android-browser-type&q=apks&gws_rd=cr&dcr=0&ei=dO1lWoSxGMjSUYrwkpgG', 0, 1516629364685, 2, 0)]"
      ]
     },
     "execution_count": 4,
     "metadata": {},
     "output_type": "execute_result"
    }
   ],
   "source": [
    "%%sql\n",
    "SELECT * FROM history;"
   ]
  },
  {
   "cell_type": "markdown",
   "metadata": {},
   "source": [
    "- Save query results in a Pandas DataFrame"
   ]
  },
  {
   "cell_type": "code",
   "execution_count": 5,
   "metadata": {},
   "outputs": [],
   "source": [
    "df = _.DataFrame()"
   ]
  },
  {
   "cell_type": "code",
   "execution_count": 6,
   "metadata": {},
   "outputs": [
    {
     "data": {
      "text/html": [
       "<div>\n",
       "<style scoped>\n",
       "    .dataframe tbody tr th:only-of-type {\n",
       "        vertical-align: middle;\n",
       "    }\n",
       "\n",
       "    .dataframe tbody tr th {\n",
       "        vertical-align: top;\n",
       "    }\n",
       "\n",
       "    .dataframe thead th {\n",
       "        text-align: right;\n",
       "    }\n",
       "</style>\n",
       "<table border=\"1\" class=\"dataframe\">\n",
       "  <thead>\n",
       "    <tr style=\"text-align: right;\">\n",
       "      <th></th>\n",
       "      <th>_id</th>\n",
       "      <th>title</th>\n",
       "      <th>url</th>\n",
       "      <th>created</th>\n",
       "      <th>date</th>\n",
       "      <th>visits</th>\n",
       "      <th>user_entered</th>\n",
       "    </tr>\n",
       "  </thead>\n",
       "  <tbody>\n",
       "    <tr>\n",
       "      <th>0</th>\n",
       "      <td>1</td>\n",
       "      <td>Google</td>\n",
       "      <td>http://www.google.es/?gfe_rd=cr&amp;dcr=0&amp;ei=_OtlW...</td>\n",
       "      <td>0</td>\n",
       "      <td>1516628986890</td>\n",
       "      <td>2</td>\n",
       "      <td>0</td>\n",
       "    </tr>\n",
       "    <tr>\n",
       "      <th>1</th>\n",
       "      <td>2</td>\n",
       "      <td>mobile congress - Buscar con Google</td>\n",
       "      <td>http://www.google.es/search?dcr=0&amp;source=hp&amp;ei...</td>\n",
       "      <td>0</td>\n",
       "      <td>1516629009457</td>\n",
       "      <td>1</td>\n",
       "      <td>0</td>\n",
       "    </tr>\n",
       "    <tr>\n",
       "      <th>2</th>\n",
       "      <td>3</td>\n",
       "      <td>Home | Mobile World Congress</td>\n",
       "      <td>https://www.mobileworldcongress.com/</td>\n",
       "      <td>0</td>\n",
       "      <td>1516629026677</td>\n",
       "      <td>3</td>\n",
       "      <td>0</td>\n",
       "    </tr>\n",
       "    <tr>\n",
       "      <th>3</th>\n",
       "      <td>4</td>\n",
       "      <td>Google</td>\n",
       "      <td>https://www.google.es/webhp?source=android-hom...</td>\n",
       "      <td>0</td>\n",
       "      <td>1516629037678</td>\n",
       "      <td>2</td>\n",
       "      <td>0</td>\n",
       "    </tr>\n",
       "    <tr>\n",
       "      <th>4</th>\n",
       "      <td>5</td>\n",
       "      <td>apk mirror - Buscar con Google</td>\n",
       "      <td>https://www.google.es/search?source=android-ho...</td>\n",
       "      <td>0</td>\n",
       "      <td>1516629047435</td>\n",
       "      <td>1</td>\n",
       "      <td>0</td>\n",
       "    </tr>\n",
       "    <tr>\n",
       "      <th>5</th>\n",
       "      <td>6</td>\n",
       "      <td>APKMirror - Free APK Downloads - Download Free...</td>\n",
       "      <td>https://www.apkmirror.com/</td>\n",
       "      <td>0</td>\n",
       "      <td>1516629052435</td>\n",
       "      <td>2</td>\n",
       "      <td>0</td>\n",
       "    </tr>\n",
       "    <tr>\n",
       "      <th>6</th>\n",
       "      <td>7</td>\n",
       "      <td>Amazon.com: Online Shopping for Electronics, A...</td>\n",
       "      <td>https://www.amazon.com/</td>\n",
       "      <td>0</td>\n",
       "      <td>1516629109159</td>\n",
       "      <td>2</td>\n",
       "      <td>0</td>\n",
       "    </tr>\n",
       "    <tr>\n",
       "      <th>7</th>\n",
       "      <td>8</td>\n",
       "      <td>http://192.168.74.128/i6ADxOqMEyyI</td>\n",
       "      <td>http://192.168.74.128/i6ADxOqMEyyI</td>\n",
       "      <td>0</td>\n",
       "      <td>1516629327266</td>\n",
       "      <td>1</td>\n",
       "      <td>0</td>\n",
       "    </tr>\n",
       "    <tr>\n",
       "      <th>8</th>\n",
       "      <td>9</td>\n",
       "      <td>http://192.168.74.128/i6ADxOqMEyyI/EeMVfx/</td>\n",
       "      <td>http://192.168.74.128/i6ADxOqMEyyI/EeMVfx/</td>\n",
       "      <td>0</td>\n",
       "      <td>1516629327667</td>\n",
       "      <td>1</td>\n",
       "      <td>0</td>\n",
       "    </tr>\n",
       "    <tr>\n",
       "      <th>9</th>\n",
       "      <td>10</td>\n",
       "      <td>apks - Google Search</td>\n",
       "      <td>http://www.google.es/search?hl=en&amp;source=andro...</td>\n",
       "      <td>0</td>\n",
       "      <td>1516629364685</td>\n",
       "      <td>2</td>\n",
       "      <td>0</td>\n",
       "    </tr>\n",
       "  </tbody>\n",
       "</table>\n",
       "</div>"
      ],
      "text/plain": [
       "   _id                                              title  \\\n",
       "0    1                                             Google   \n",
       "1    2                mobile congress - Buscar con Google   \n",
       "2    3                       Home | Mobile World Congress   \n",
       "3    4                                             Google   \n",
       "4    5                     apk mirror - Buscar con Google   \n",
       "5    6  APKMirror - Free APK Downloads - Download Free...   \n",
       "6    7  Amazon.com: Online Shopping for Electronics, A...   \n",
       "7    8                 http://192.168.74.128/i6ADxOqMEyyI   \n",
       "8    9         http://192.168.74.128/i6ADxOqMEyyI/EeMVfx/   \n",
       "9   10                               apks - Google Search   \n",
       "\n",
       "                                                 url  created           date  \\\n",
       "0  http://www.google.es/?gfe_rd=cr&dcr=0&ei=_OtlW...        0  1516628986890   \n",
       "1  http://www.google.es/search?dcr=0&source=hp&ei...        0  1516629009457   \n",
       "2               https://www.mobileworldcongress.com/        0  1516629026677   \n",
       "3  https://www.google.es/webhp?source=android-hom...        0  1516629037678   \n",
       "4  https://www.google.es/search?source=android-ho...        0  1516629047435   \n",
       "5                         https://www.apkmirror.com/        0  1516629052435   \n",
       "6                            https://www.amazon.com/        0  1516629109159   \n",
       "7                 http://192.168.74.128/i6ADxOqMEyyI        0  1516629327266   \n",
       "8         http://192.168.74.128/i6ADxOqMEyyI/EeMVfx/        0  1516629327667   \n",
       "9  http://www.google.es/search?hl=en&source=andro...        0  1516629364685   \n",
       "\n",
       "   visits  user_entered  \n",
       "0       2             0  \n",
       "1       1             0  \n",
       "2       3             0  \n",
       "3       2             0  \n",
       "4       1             0  \n",
       "5       2             0  \n",
       "6       2             0  \n",
       "7       1             0  \n",
       "8       1             0  \n",
       "9       2             0  "
      ]
     },
     "execution_count": 6,
     "metadata": {},
     "output_type": "execute_result"
    }
   ],
   "source": [
    "df"
   ]
  },
  {
   "cell_type": "markdown",
   "metadata": {},
   "source": [
    "## Log analytics workspace\n",
    "\n",
    "**Requirements**:\n",
    "* Azure AD application\n",
    "    * Secret text (credentials)\n",
    "    * API permissions granted:\n",
    "        * Service: Log Analytics API\n",
    "        * Permission: Data.Read\n",
    "        * Type: AppRole\n",
    "* Add application with `Log Analytics Reader` role to Log Analytic Workspace Access Control list."
   ]
  },
  {
   "cell_type": "markdown",
   "metadata": {},
   "source": [
    "**Get OAUTH Access Token**\n",
    "* Application ID\n",
    "* Scope: https://api.loganalytics.io/.default\n",
    "* TenantId\n",
    "* Application secret\n",
    "\n",
    "https://securitydatasets.com/create/azureloganalyticsapi.html"
   ]
  },
  {
   "cell_type": "code",
   "execution_count": null,
   "metadata": {},
   "outputs": [],
   "source": [
    "import requests\n",
    "import time\n",
    "\n",
    "appId = \"AppId\"\n",
    "scope = \"https://api.loganalytics.io/.default\"\n",
    "tenantId = \"TenantID\"\n",
    "secret = 'ApplicationSecret'\n",
    "\n",
    "endpoint = f'https://login.microsoftonline.com/{tenantId}/oauth2/v2.0/token'\n",
    "http_headers = {'Accept': 'application/json','Content-Type': 'application/json'}\n",
    "data = {\"scope\" : scope, 'grant_type' : 'client_credentials', 'client_id' : appId, 'client_secret' : secret}\n",
    "results = requests.get(endpoint, json=data, headers=http_headers, stream=False).json()\n",
    "\n",
    "access_token = results[\"access_token\"]"
   ]
  },
  {
   "cell_type": "markdown",
   "metadata": {},
   "source": [
    "**Run Query**"
   ]
  },
  {
   "cell_type": "code",
   "execution_count": null,
   "metadata": {},
   "outputs": [],
   "source": [
    "workspaceId = 'Workspace ID'\n",
    "apiUri = f'https://api.loganalytics.io/v1/workspaces/{workspaceId}/query'\n",
    "\n",
    "query = 'query'\n",
    "\n",
    "HttpHeaders = {\"Authorization\" : f'Bearer {access_token}', 'Accept': 'application/json','Content-Type': 'application/json'}\n",
    "data = {'query' : query}\n",
    "\n",
    "query_results = requests.get(apiUri, json=data, headers=http_headers, stream=False).json()"
   ]
  },
  {
   "cell_type": "markdown",
   "metadata": {},
   "source": [
    "## M365 advanced hunting APIs\n",
    "\n",
    "**Requirements**:\n",
    "* Azure AD application\n",
    "    * Secret text (credentials)\n",
    "    * API permissions granted:\n",
    "        * Service: Microsoft Threat Protection\n",
    "        * Permission:\n",
    "            * AdvancedHunting.Read.All\n",
    "            * Incident.Read.All\n",
    "        * Type: AppRole"
   ]
  },
  {
   "cell_type": "markdown",
   "metadata": {},
   "source": [
    "**Get OAUTH Access Token**\n",
    "* Application ID\n",
    "* Scope: https://api.security.microsoft.com/.default\n",
    "* TenantId\n",
    "* Application secret\n",
    "\n",
    "https://securitydatasets.com/create/m365defenderhuntapi.html"
   ]
  },
  {
   "cell_type": "markdown",
   "metadata": {},
   "source": [
    "## MSTICPy Data Providers\n",
    "\n",
    "There's a later session devoted to MSTICPy\n",
    "\n",
    "```ipython3\n",
    "%pip install msticpy\n",
    "```\n",
    "\n",
    "MSTICPy isn't a data source - just wraps a bunch of data sources in common API.\n",
    "\n",
    "Currently supports:\n",
    "- MS Sentinel (aka Azure Sentinel, Log Analytics), MS Defender, MS Graph, Azure Resource Graph\n",
    "- Splunk\n",
    "- Sumologic\n",
    "- Local data (CSV or Pickle) - would be easy to add supported pandas formats (any requests?)\n",
    "- Experimental support for Kusto/Azure Data explorer\n",
    "\n",
    "Typical usage:\n",
    "- import QueryProvider class \n",
    "- instantiate a QueryProvider object with the required provider name.\n",
    "- run `query_provider.connect()` method - params vary (e.g. connection string)\n",
    "- pre-defined, parameterized queries appear as methods of the query_provider class\n",
    "- ad hoc queries via `.exec_query()` method\n",
    "- output returned as a pandas dataframe\n",
    "\n",
    "If you use the MSTICPy init (`init_notebook`), the QueryProvider is imported for you\n",
    "\n",
    "```python\n",
    "import msticpy\n",
    "msticpy.init_notebook(globals())\n",
    "```\n"
   ]
  },
  {
   "cell_type": "code",
   "execution_count": 17,
   "metadata": {},
   "outputs": [],
   "source": [
    "# To install\n",
    "# %pip install msticpy\n",
    "\n",
    "# Alternative import - init_notebook imports QueryProvider and a bunch of other stuff\n",
    "# import msticpy\n",
    "# msticpy.init_notebook(globals())\n",
    "\n",
    "from msticpy.data import QueryProvider\n",
    "sentinel_prov = QueryProvider(\"AzureSentinel\")\n",
    "\n",
    "local_prov = QueryProvider(\"LocalData\", query_paths=[\"../data\"], data_paths=[\"../data\"])"
   ]
  },
  {
   "cell_type": "markdown",
   "metadata": {},
   "source": [
    "#### Accessing queries as functions\n",
    "(usually need to connect before running one)"
   ]
  },
  {
   "cell_type": "code",
   "execution_count": null,
   "metadata": {},
   "outputs": [],
   "source": [
    "sentinel_prov."
   ]
  },
  {
   "cell_type": "code",
   "execution_count": 3,
   "metadata": {},
   "outputs": [
    {
     "data": {
      "application/vnd.jupyter.widget-view+json": {
       "model_id": "7f381730aa04416184a6a8e6ce1bd554",
       "version_major": 2,
       "version_minor": 0
      },
      "text/plain": [
       "VBox(children=(Text(value='', description='Filter:', style=DescriptionStyle(description_width='initial')), Sel…"
      ]
     },
     "metadata": {},
     "output_type": "display_data"
    },
    {
     "data": {
      "text/html": [
       "<hr>"
      ],
      "text/plain": [
       "<IPython.core.display.HTML object>"
      ]
     },
     "metadata": {},
     "output_type": "display_data"
    },
    {
     "data": {
      "text/html": [
       "<h3>Gets latest VMComputer record for Host</h3><div></div><p><b>Parameters</b></p><div>add_query_items: str (optional)</div><div style='margin-left: 40px'>    Additional query clauses</div><div>end: datetime (optional)</div><div style='margin-left: 40px'>    Query end time</div><div>host_name: str</div><div style='margin-left: 40px'>    The Computer name of the VM</div><div>start: datetime (optional)</div><div style='margin-left: 40px'>    Query start time</div><div style='margin-left: 40px'>    (default value is: -5)</div><div>table: str (optional)</div><div style='margin-left: 40px'>    Table name</div><div style='margin-left: 40px'>    (default value is: VMComputer)</div><br><p><b>Query</b></p><pre>{table} \n",
       "| where TimeGenerated >= datetime({start}) \n",
       "| where TimeGenerated <= datetime({end}) \n",
       "| where Computer has \"{host_name}\" \n",
       "| take 1</pre><br>\n",
       "        <p><b>Example</b></p>\n",
       "        <p>{QueryProvider}[.QueryPath].QueryName(params...)</p>\n",
       "        <pre>qry_prov.Azure.get_vmcomputer_for_host(start=start, end=end, hostname=host)</pre>\n",
       "    "
      ],
      "text/plain": [
       "<IPython.core.display.HTML object>"
      ]
     },
     "metadata": {},
     "output_type": "display_data"
    }
   ],
   "source": [
    "sentinel_prov.browse()\n"
   ]
  },
  {
   "cell_type": "code",
   "execution_count": 19,
   "metadata": {},
   "outputs": [
    {
     "data": {
      "text/html": [
       "<div>\n",
       "<style scoped>\n",
       "    .dataframe tbody tr th:only-of-type {\n",
       "        vertical-align: middle;\n",
       "    }\n",
       "\n",
       "    .dataframe tbody tr th {\n",
       "        vertical-align: top;\n",
       "    }\n",
       "\n",
       "    .dataframe thead th {\n",
       "        text-align: right;\n",
       "    }\n",
       "</style>\n",
       "<table border=\"1\" class=\"dataframe\">\n",
       "  <thead>\n",
       "    <tr style=\"text-align: right;\">\n",
       "      <th></th>\n",
       "      <th>TenantId</th>\n",
       "      <th>TimeGenerated</th>\n",
       "      <th>FlowStartTime</th>\n",
       "      <th>FlowEndTime</th>\n",
       "      <th>FlowIntervalEndTime</th>\n",
       "      <th>FlowType</th>\n",
       "      <th>ResourceGroup</th>\n",
       "      <th>VMName</th>\n",
       "      <th>VMIPAddress</th>\n",
       "      <th>PublicIPs</th>\n",
       "      <th>...</th>\n",
       "      <th>DestPort</th>\n",
       "      <th>FlowDirection</th>\n",
       "      <th>AllowedOutFlows</th>\n",
       "      <th>AllowedInFlows</th>\n",
       "      <th>DeniedInFlows</th>\n",
       "      <th>DeniedOutFlows</th>\n",
       "      <th>RemoteRegion</th>\n",
       "      <th>VMRegion</th>\n",
       "      <th>AllExtIPs</th>\n",
       "      <th>TotalAllowedFlows</th>\n",
       "    </tr>\n",
       "  </thead>\n",
       "  <tbody>\n",
       "    <tr>\n",
       "      <th>0</th>\n",
       "      <td>52b1ab41-869e-4138-9e40-2a4457f09bf0</td>\n",
       "      <td>2019-02-14 13:23:59.512</td>\n",
       "      <td>2019-02-14 12:21:58</td>\n",
       "      <td>2019-02-14 12:21:58</td>\n",
       "      <td>2019-02-14 13:00:00</td>\n",
       "      <td>AzurePublic</td>\n",
       "      <td>asihuntomsworkspacerg</td>\n",
       "      <td>msticalertswin1</td>\n",
       "      <td>10.0.3.5</td>\n",
       "      <td>[13.67.143.117]</td>\n",
       "      <td>...</td>\n",
       "      <td>443.0</td>\n",
       "      <td>O</td>\n",
       "      <td>1.0</td>\n",
       "      <td>0.0</td>\n",
       "      <td>0.0</td>\n",
       "      <td>0.0</td>\n",
       "      <td>centralus</td>\n",
       "      <td>eastus</td>\n",
       "      <td>13.67.143.117</td>\n",
       "      <td>1.0</td>\n",
       "    </tr>\n",
       "    <tr>\n",
       "      <th>1</th>\n",
       "      <td>52b1ab41-869e-4138-9e40-2a4457f09bf0</td>\n",
       "      <td>2019-02-14 13:23:59.512</td>\n",
       "      <td>2019-02-14 12:29:02</td>\n",
       "      <td>2019-02-14 12:29:02</td>\n",
       "      <td>2019-02-14 13:00:00</td>\n",
       "      <td>AzurePublic</td>\n",
       "      <td>asihuntomsworkspacerg</td>\n",
       "      <td>msticalertswin1</td>\n",
       "      <td>10.0.3.5</td>\n",
       "      <td>[40.77.232.95]</td>\n",
       "      <td>...</td>\n",
       "      <td>443.0</td>\n",
       "      <td>O</td>\n",
       "      <td>1.0</td>\n",
       "      <td>0.0</td>\n",
       "      <td>0.0</td>\n",
       "      <td>0.0</td>\n",
       "      <td>westcentralus</td>\n",
       "      <td>eastus</td>\n",
       "      <td>40.77.232.95</td>\n",
       "      <td>1.0</td>\n",
       "    </tr>\n",
       "    <tr>\n",
       "      <th>2</th>\n",
       "      <td>52b1ab41-869e-4138-9e40-2a4457f09bf0</td>\n",
       "      <td>2019-02-14 03:26:06.765</td>\n",
       "      <td>2019-02-14 02:08:46</td>\n",
       "      <td>2019-02-14 02:48:45</td>\n",
       "      <td>2019-02-14 03:00:00</td>\n",
       "      <td>AzurePublic</td>\n",
       "      <td>asihuntomsworkspacerg</td>\n",
       "      <td>msticalertswin1</td>\n",
       "      <td>10.0.3.5</td>\n",
       "      <td>[13.65.107.32, 40.124.45.19]</td>\n",
       "      <td>...</td>\n",
       "      <td>443.0</td>\n",
       "      <td>O</td>\n",
       "      <td>4.0</td>\n",
       "      <td>0.0</td>\n",
       "      <td>0.0</td>\n",
       "      <td>0.0</td>\n",
       "      <td>southcentralus</td>\n",
       "      <td>eastus</td>\n",
       "      <td>13.65.107.32</td>\n",
       "      <td>4.0</td>\n",
       "    </tr>\n",
       "    <tr>\n",
       "      <th>3</th>\n",
       "      <td>52b1ab41-869e-4138-9e40-2a4457f09bf0</td>\n",
       "      <td>2019-02-14 03:26:06.765</td>\n",
       "      <td>2019-02-14 02:08:46</td>\n",
       "      <td>2019-02-14 02:48:45</td>\n",
       "      <td>2019-02-14 03:00:00</td>\n",
       "      <td>AzurePublic</td>\n",
       "      <td>asihuntomsworkspacerg</td>\n",
       "      <td>msticalertswin1</td>\n",
       "      <td>10.0.3.5</td>\n",
       "      <td>[13.65.107.32, 40.124.45.19]</td>\n",
       "      <td>...</td>\n",
       "      <td>443.0</td>\n",
       "      <td>O</td>\n",
       "      <td>4.0</td>\n",
       "      <td>0.0</td>\n",
       "      <td>0.0</td>\n",
       "      <td>0.0</td>\n",
       "      <td>southcentralus</td>\n",
       "      <td>eastus</td>\n",
       "      <td>40.124.45.19</td>\n",
       "      <td>4.0</td>\n",
       "    </tr>\n",
       "    <tr>\n",
       "      <th>4</th>\n",
       "      <td>52b1ab41-869e-4138-9e40-2a4457f09bf0</td>\n",
       "      <td>2019-02-14 03:26:06.828</td>\n",
       "      <td>2019-02-14 02:30:56</td>\n",
       "      <td>2019-02-14 02:30:56</td>\n",
       "      <td>2019-02-14 03:00:00</td>\n",
       "      <td>AzurePublic</td>\n",
       "      <td>asihuntomsworkspacerg</td>\n",
       "      <td>msticalertswin1</td>\n",
       "      <td>10.0.3.5</td>\n",
       "      <td>[20.38.98.100]</td>\n",
       "      <td>...</td>\n",
       "      <td>443.0</td>\n",
       "      <td>O</td>\n",
       "      <td>1.0</td>\n",
       "      <td>0.0</td>\n",
       "      <td>0.0</td>\n",
       "      <td>0.0</td>\n",
       "      <td>eastus</td>\n",
       "      <td>eastus</td>\n",
       "      <td>20.38.98.100</td>\n",
       "      <td>1.0</td>\n",
       "    </tr>\n",
       "  </tbody>\n",
       "</table>\n",
       "<p>5 rows × 24 columns</p>\n",
       "</div>"
      ],
      "text/plain": [
       "                               TenantId           TimeGenerated  \\\n",
       "0  52b1ab41-869e-4138-9e40-2a4457f09bf0 2019-02-14 13:23:59.512   \n",
       "1  52b1ab41-869e-4138-9e40-2a4457f09bf0 2019-02-14 13:23:59.512   \n",
       "2  52b1ab41-869e-4138-9e40-2a4457f09bf0 2019-02-14 03:26:06.765   \n",
       "3  52b1ab41-869e-4138-9e40-2a4457f09bf0 2019-02-14 03:26:06.765   \n",
       "4  52b1ab41-869e-4138-9e40-2a4457f09bf0 2019-02-14 03:26:06.828   \n",
       "\n",
       "        FlowStartTime         FlowEndTime FlowIntervalEndTime     FlowType  \\\n",
       "0 2019-02-14 12:21:58 2019-02-14 12:21:58 2019-02-14 13:00:00  AzurePublic   \n",
       "1 2019-02-14 12:29:02 2019-02-14 12:29:02 2019-02-14 13:00:00  AzurePublic   \n",
       "2 2019-02-14 02:08:46 2019-02-14 02:48:45 2019-02-14 03:00:00  AzurePublic   \n",
       "3 2019-02-14 02:08:46 2019-02-14 02:48:45 2019-02-14 03:00:00  AzurePublic   \n",
       "4 2019-02-14 02:30:56 2019-02-14 02:30:56 2019-02-14 03:00:00  AzurePublic   \n",
       "\n",
       "           ResourceGroup           VMName VMIPAddress  \\\n",
       "0  asihuntomsworkspacerg  msticalertswin1    10.0.3.5   \n",
       "1  asihuntomsworkspacerg  msticalertswin1    10.0.3.5   \n",
       "2  asihuntomsworkspacerg  msticalertswin1    10.0.3.5   \n",
       "3  asihuntomsworkspacerg  msticalertswin1    10.0.3.5   \n",
       "4  asihuntomsworkspacerg  msticalertswin1    10.0.3.5   \n",
       "\n",
       "                      PublicIPs  ... DestPort FlowDirection AllowedOutFlows  \\\n",
       "0               [13.67.143.117]  ...    443.0             O             1.0   \n",
       "1                [40.77.232.95]  ...    443.0             O             1.0   \n",
       "2  [13.65.107.32, 40.124.45.19]  ...    443.0             O             4.0   \n",
       "3  [13.65.107.32, 40.124.45.19]  ...    443.0             O             4.0   \n",
       "4                [20.38.98.100]  ...    443.0             O             1.0   \n",
       "\n",
       "  AllowedInFlows  DeniedInFlows DeniedOutFlows    RemoteRegion  VMRegion  \\\n",
       "0            0.0            0.0            0.0       centralus    eastus   \n",
       "1            0.0            0.0            0.0   westcentralus    eastus   \n",
       "2            0.0            0.0            0.0  southcentralus    eastus   \n",
       "3            0.0            0.0            0.0  southcentralus    eastus   \n",
       "4            0.0            0.0            0.0          eastus    eastus   \n",
       "\n",
       "       AllExtIPs  TotalAllowedFlows  \n",
       "0  13.67.143.117                1.0  \n",
       "1   40.77.232.95                1.0  \n",
       "2   13.65.107.32                4.0  \n",
       "3   40.124.45.19                4.0  \n",
       "4   20.38.98.100                1.0  \n",
       "\n",
       "[5 rows x 24 columns]"
      ]
     },
     "execution_count": 19,
     "metadata": {},
     "output_type": "execute_result"
    }
   ],
   "source": [
    "local_prov.Network.list_network_flows().head()"
   ]
  },
  {
   "cell_type": "code",
   "execution_count": 42,
   "metadata": {},
   "outputs": [
    {
     "name": "stdout",
     "output_type": "stream",
     "text": [
      "Connecting... "
     ]
    },
    {
     "data": {
      "text/html": [
       "<!DOCTYPE html>\n",
       "            <html><body>\n",
       "            <div style=''>\n",
       "            <b>RRS3HK9GP</b>&nbsp;<a href='https://microsoft.com/devicelogin' style='padding: 2px 6px 2px 6px; color: #333333; background-color: #EEEEEE; border-top: 1px solid #CCCCCC; border-right: 1px solid #333333; border-bottom: 1px solid #333333; border-left: 1px solid #CCCCCC' target='verification_url'>Copy code to clipboard and authenticate</a>\n",
       "            </div>\n",
       "            </body></html>"
      ],
      "text/plain": [
       "<IPython.core.display.HTML object>"
      ]
     },
     "metadata": {},
     "output_type": "display_data"
    },
    {
     "data": {
      "text/html": [
       "<!DOCTYPE html>\n",
       "                            <html><body><script>\n",
       "\n",
       "                                // close authentication window\n",
       "                                if (kql_MagicUserCodeAuthWindow && kql_MagicUserCodeAuthWindow.opener != null && !kql_MagicUserCodeAuthWindow.closed) {\n",
       "                                    kql_MagicUserCodeAuthWindow.close()\n",
       "                                }\n",
       "                                // TODO: make sure, you clear the right cell. BTW, not sure it is a must to do any clearing\n",
       "\n",
       "                                // clear output cell\n",
       "                                Jupyter.notebook.clear_output(Jupyter.notebook.get_selected_index())\n",
       "\n",
       "                                // TODO: if in run all mode, move to last cell, otherwise move to next cell\n",
       "                                // move to next cell\n",
       "\n",
       "                            </script></body></html>"
      ],
      "text/plain": [
       "<IPython.core.display.HTML object>"
      ]
     },
     "metadata": {},
     "output_type": "display_data"
    },
    {
     "data": {
      "text/html": [
       "<!DOCTYPE html>\n",
       "            <html><body>\n",
       "            <div style=''>\n",
       "            <a href='file:///C:/Users/Ian/.kqlmagic/temp_files/1c0729c7-e432-4b03-a31d-9412842d2957/_8ecf8077-cf51-4820-aadd-14040956f35d_at_loganalytics_schema.html' style='padding: 2px 6px 2px 6px; color: #333333; background-color: #EEEEEE; border-top: 1px solid #CCCCCC; border-right: 1px solid #333333; border-bottom: 1px solid #333333; border-left: 1px solid #CCCCCC' target='_8ecf8077-cf51-4820-aadd-14040956f35d_at_loganalytics_schema'>popup schema 8ecf8077-cf51-4820-aadd-14040956f35d@loganalytics</a>\n",
       "            </div>\n",
       "            </body></html>"
      ],
      "text/plain": [
       "<IPython.core.display.HTML object>"
      ]
     },
     "metadata": {},
     "output_type": "display_data"
    },
    {
     "name": "stdout",
     "output_type": "stream",
     "text": [
      "connected\n"
     ]
    }
   ],
   "source": [
    "sentinel_prov.connect(\n",
    "    \"loganalytics://code().tenant('72f988bf-86f1-41af-91ab-2d7cd011db47').workspace('8ecf8077-cf51-4820-aadd-14040956f35d')\"\n",
    ")"
   ]
  },
  {
   "cell_type": "markdown",
   "metadata": {},
   "source": [
    "---\n",
    "# <a style=\"border: solid; padding:5pt; color:black; background-color:#90CAF9\" name=\"mordor\">OTR Security Datasets (aka Mordor)</a>\n"
   ]
  },
  {
   "cell_type": "markdown",
   "metadata": {},
   "source": [
    "## Reading OTR-SecurityDatasets from code\n",
    "\n",
    "The [Security Datasets project](https://securitydatasets.com/introduction.html) is an open-source initiatve that contributes pre-recorded datasets that describe malicious activity, from different platforms, to the infosec community to expedite data analysis and threat research.\n",
    "\n",
    "We will consider the following steps to access Security Datasets:\n",
    "\n",
    "    - Importing required Python Libraries\n",
    "    - Making a HTTP request to GitHub repository\n",
    "    - Generating ZipFile (Compressed) object from Bytes data\n",
    "    - Extracting JSON file from ZipFile object\n",
    "    - Reading JSON file (Lines = True)\n",
    "\n",
    "- Let's start by importing the required Python libraries in order to access Security Datasets' content:"
   ]
  },
  {
   "cell_type": "code",
   "execution_count": 1,
   "metadata": {},
   "outputs": [],
   "source": [
    "# Generate HTTP request\n",
    "import requests\n",
    "# Zip file object manipulation\n",
    "from zipfile import ZipFile\n",
    "# Byte data manipulations\n",
    "from io import BytesIO\n",
    "# Read JSON file\n",
    "from pandas.io import json"
   ]
  },
  {
   "cell_type": "markdown",
   "metadata": {},
   "source": [
    "- We will make a HTTP request to the [Security Datasets GitHub repo](https://github.com/OTRF/Security-Datasets) using the **[get](https://docs.python-requests.org/en/latest/user/quickstart/#make-a-request)** method, and we are storing the reponse content in the variable *zipFileRequest*.\n",
    "\n",
    "    It is important to note that we are using the **raw data link** related to the dataset. This type of links usually starts with **https://raw.githubusercontent.com/** + Project reference. "
   ]
  },
  {
   "cell_type": "code",
   "execution_count": 8,
   "metadata": {},
   "outputs": [
    {
     "data": {
      "text/plain": [
       "requests.models.Response"
      ]
     },
     "execution_count": 8,
     "metadata": {},
     "output_type": "execute_result"
    }
   ],
   "source": [
    "url = 'https://raw.githubusercontent.com/OTRF/Security-Datasets/master/datasets/atomic/windows/discovery/host/empire_shell_net_localgroup_administrators.zip'\n",
    "zipFileRequest = requests.get(url)\n",
    "type(zipFileRequest)"
   ]
  },
  {
   "cell_type": "markdown",
   "metadata": {},
   "source": [
    "- The type of data of the content of HTTP repsonse is **[Bytes](https://docs.python.org/3/library/stdtypes.html#bytes)**."
   ]
  },
  {
   "cell_type": "code",
   "execution_count": 4,
   "metadata": {},
   "outputs": [
    {
     "data": {
      "text/plain": [
       "bytes"
      ]
     },
     "execution_count": 4,
     "metadata": {},
     "output_type": "execute_result"
    }
   ],
   "source": [
    "type(zipFileRequest.content)"
   ]
  },
  {
   "cell_type": "markdown",
   "metadata": {},
   "source": [
    "- We will create a **[BytesIO](https://docs.python.org/3/library/io.html#io.BytesIO)** object to access the response content and store it in a **[ZipFile](https://docs.python.org/3/library/zipfile.html#zipfile-objects)** object. All the data manipulation is performed in memory."
   ]
  },
  {
   "cell_type": "code",
   "execution_count": 7,
   "metadata": {},
   "outputs": [
    {
     "data": {
      "text/plain": [
       "zipfile.ZipFile"
      ]
     },
     "execution_count": 7,
     "metadata": {},
     "output_type": "execute_result"
    }
   ],
   "source": [
    "zipFile = ZipFile(BytesIO(zipFileRequest.content))\n",
    "type(zipFile)"
   ]
  },
  {
   "cell_type": "markdown",
   "metadata": {},
   "source": [
    "- Any ZipFile object can contain more than one file. We can access the list of files' names using the **[namelist](https://docs.python.org/3/library/zipfile.html#zipfile.ZipFile.namelist)** method. Since the Security Datasets contains one file, we will reference the first element of the list when extracting the JSON file."
   ]
  },
  {
   "cell_type": "code",
   "execution_count": 9,
   "metadata": {},
   "outputs": [
    {
     "data": {
      "text/plain": [
       "['empire_shell_net_localgroup_administrators_2020-09-21191843.json']"
      ]
     },
     "execution_count": 9,
     "metadata": {},
     "output_type": "execute_result"
    }
   ],
   "source": [
    "zipFile.namelist()"
   ]
  },
  {
   "cell_type": "markdown",
   "metadata": {},
   "source": [
    "- We will extract the JSON file from the compressed folder using the **[extract](https://docs.python.org/3/library/zipfile.html#zipfile.ZipFile.extract)** method. After running the code below, we will download and store the file in the directory specified in the *path* parameter.\n",
    "    \n",
    "    It is important to note that this method returns the normalized path to the JSON file. We are storing the directory path in the *datasetJSONPAth* variable and use it when trying to read the file."
   ]
  },
  {
   "cell_type": "code",
   "execution_count": 10,
   "metadata": {},
   "outputs": [
    {
     "name": "stdout",
     "output_type": "stream",
     "text": [
      "../data/empire_shell_net_localgroup_administrators_2020-09-21191843.json\n"
     ]
    }
   ],
   "source": [
    "datasetJSONPath = zipFile.extract(zipFile.namelist()[0], path = '../data')\n",
    "\n",
    "print(datasetJSONPath)"
   ]
  },
  {
   "cell_type": "markdown",
   "metadata": {},
   "source": [
    "- Now that the file was downloaded and know its direcotry path, we can read the JSON file using the **[read_json](https://pandas.pydata.org/docs/reference/api/pandas.io.json.read_json.html)** method.\n",
    "\n",
    "    It is important to note that, when recording Security Dataset, each line of the JSON file represents an event. Therefore, it is important to set the parameter **lines** to *True*."
   ]
  },
  {
   "cell_type": "code",
   "execution_count": 11,
   "metadata": {},
   "outputs": [],
   "source": [
    "dataset = json.read_json(path_or_buf = datasetJSONPath, lines=True)"
   ]
  },
  {
   "cell_type": "markdown",
   "metadata": {},
   "source": [
    "- The **read_json** method returns a **DataFrame** object. We will share more details of what a dataframe is in the next section of this workshop."
   ]
  },
  {
   "cell_type": "code",
   "execution_count": 12,
   "metadata": {},
   "outputs": [
    {
     "data": {
      "text/plain": [
       "pandas.core.frame.DataFrame"
      ]
     },
     "execution_count": 12,
     "metadata": {},
     "output_type": "execute_result"
    }
   ],
   "source": [
    "type(dataset)"
   ]
  },
  {
   "cell_type": "markdown",
   "metadata": {},
   "source": [
    "- Finally, we should be able to start exploring our dataset using different functions or method such as [head](https://pandas.pydata.org/pandas-docs/stable/reference/api/pandas.DataFrame.head.html)."
   ]
  },
  {
   "cell_type": "code",
   "execution_count": 13,
   "metadata": {},
   "outputs": [
    {
     "data": {
      "text/html": [
       "<div>\n",
       "<style scoped>\n",
       "    .dataframe tbody tr th:only-of-type {\n",
       "        vertical-align: middle;\n",
       "    }\n",
       "\n",
       "    .dataframe tbody tr th {\n",
       "        vertical-align: top;\n",
       "    }\n",
       "\n",
       "    .dataframe thead th {\n",
       "        text-align: right;\n",
       "    }\n",
       "</style>\n",
       "<table border=\"1\" class=\"dataframe\">\n",
       "  <thead>\n",
       "    <tr style=\"text-align: right;\">\n",
       "      <th></th>\n",
       "      <th>Keywords</th>\n",
       "      <th>SeverityValue</th>\n",
       "      <th>TargetObject</th>\n",
       "      <th>EventTypeOrignal</th>\n",
       "      <th>EventID</th>\n",
       "      <th>ProviderGuid</th>\n",
       "      <th>ExecutionProcessID</th>\n",
       "      <th>host</th>\n",
       "      <th>Channel</th>\n",
       "      <th>UserID</th>\n",
       "      <th>...</th>\n",
       "      <th>SourceIsIpv6</th>\n",
       "      <th>DestinationPortName</th>\n",
       "      <th>DestinationHostname</th>\n",
       "      <th>Service</th>\n",
       "      <th>Details</th>\n",
       "      <th>ShareName</th>\n",
       "      <th>EnabledPrivilegeList</th>\n",
       "      <th>DisabledPrivilegeList</th>\n",
       "      <th>ShareLocalPath</th>\n",
       "      <th>RelativeTargetName</th>\n",
       "    </tr>\n",
       "  </thead>\n",
       "  <tbody>\n",
       "    <tr>\n",
       "      <th>0</th>\n",
       "      <td>-9223372036854775808</td>\n",
       "      <td>2</td>\n",
       "      <td>HKU\\S-1-5-21-4228717743-1032521047-1810997296-...</td>\n",
       "      <td>INFO</td>\n",
       "      <td>12</td>\n",
       "      <td>{5770385F-C22A-43E0-BF4C-06F5698FFBD9}</td>\n",
       "      <td>3172</td>\n",
       "      <td>wec.internal.cloudapp.net</td>\n",
       "      <td>Microsoft-Windows-Sysmon/Operational</td>\n",
       "      <td>S-1-5-18</td>\n",
       "      <td>...</td>\n",
       "      <td>NaN</td>\n",
       "      <td>NaN</td>\n",
       "      <td>NaN</td>\n",
       "      <td>NaN</td>\n",
       "      <td>NaN</td>\n",
       "      <td>NaN</td>\n",
       "      <td>NaN</td>\n",
       "      <td>NaN</td>\n",
       "      <td>NaN</td>\n",
       "      <td>NaN</td>\n",
       "    </tr>\n",
       "  </tbody>\n",
       "</table>\n",
       "<p>1 rows × 155 columns</p>\n",
       "</div>"
      ],
      "text/plain": [
       "              Keywords  SeverityValue  \\\n",
       "0 -9223372036854775808              2   \n",
       "\n",
       "                                        TargetObject EventTypeOrignal  \\\n",
       "0  HKU\\S-1-5-21-4228717743-1032521047-1810997296-...             INFO   \n",
       "\n",
       "   EventID                            ProviderGuid  ExecutionProcessID  \\\n",
       "0       12  {5770385F-C22A-43E0-BF4C-06F5698FFBD9}                3172   \n",
       "\n",
       "                        host                               Channel    UserID  \\\n",
       "0  wec.internal.cloudapp.net  Microsoft-Windows-Sysmon/Operational  S-1-5-18   \n",
       "\n",
       "   ... SourceIsIpv6  DestinationPortName DestinationHostname Service Details  \\\n",
       "0  ...          NaN                  NaN                 NaN     NaN     NaN   \n",
       "\n",
       "  ShareName EnabledPrivilegeList DisabledPrivilegeList  ShareLocalPath  \\\n",
       "0       NaN                  NaN                   NaN             NaN   \n",
       "\n",
       "  RelativeTargetName  \n",
       "0                NaN  \n",
       "\n",
       "[1 rows x 155 columns]"
      ]
     },
     "execution_count": 13,
     "metadata": {},
     "output_type": "execute_result"
    }
   ],
   "source": [
    "dataset.head(n=1)"
   ]
  },
  {
   "cell_type": "markdown",
   "metadata": {},
   "source": [
    "## Using MSTICPy to access Security Datasets\n"
   ]
  },
  {
   "cell_type": "code",
   "execution_count": 21,
   "metadata": {},
   "outputs": [],
   "source": [
    "#%pip install msticpy\n",
    "\n",
    "import pandas as pd\n",
    "from msticpy.data import QueryProvider\n",
    "from msticpy.vis import mp_pandas_plot\n",
    "\n",
    "\n",
    "qry_prov_sd = QueryProvider(\"Mordor\")"
   ]
  },
  {
   "cell_type": "code",
   "execution_count": 22,
   "metadata": {},
   "outputs": [
    {
     "name": "stdout",
     "output_type": "stream",
     "text": [
      "Retrieving Mitre data...\n",
      "Retrieving Mordor data...\n"
     ]
    },
    {
     "name": "stderr",
     "output_type": "stream",
     "text": [
      "Downloading Mordor metadata: 100%|██████████| 95/95 [00:22<00:00,  4.27 files/s]\n"
     ]
    }
   ],
   "source": [
    "qry_prov_sd.connect()"
   ]
  },
  {
   "cell_type": "code",
   "execution_count": 24,
   "metadata": {},
   "outputs": [
    {
     "data": {
      "text/plain": [
       "['atomic.aws.collection.ec2_proxy_s3_exfiltration',\n",
       " 'atomic.linux.defense_evasion.host.sh_binary_padding_dd',\n",
       " 'atomic.linux.discovery.host.sh_arp_cache',\n",
       " 'atomic.windows.collection.host.msf_record_mic',\n",
       " 'atomic.windows.credential_access.host.cmd_lsass_memory_dumpert_syscalls',\n",
       " 'atomic.windows.credential_access.host.cmd_psexec_lsa_secrets_dump',\n",
       " 'atomic.windows.credential_access.host.cmd_sam_copy_esentutl',\n",
       " 'atomic.windows.credential_access.host.covenant_dcsync_dcerpc_drsuapi_DsGetNCChanges',\n",
       " 'atomic.windows.credential_access.host.empire_dcsync_dcerpc_drsuapi_DsGetNCChanges',\n",
       " 'atomic.windows.credential_access.host.empire_mimikatz_backupkeys_dcerpc_smb_lsarpc']"
      ]
     },
     "execution_count": 24,
     "metadata": {},
     "output_type": "execute_result"
    }
   ],
   "source": [
    "qry_prov_sd.list_queries()[:10]"
   ]
  },
  {
   "cell_type": "code",
   "execution_count": 25,
   "metadata": {},
   "outputs": [
    {
     "data": {
      "text/plain": [
       "['atomic.windows.discovery.host.empire_shell_net_localgroup_administrators (Empire Net Local Administrators Group)']"
      ]
     },
     "execution_count": 25,
     "metadata": {},
     "output_type": "execute_result"
    }
   ],
   "source": [
    "qry_prov_sd.search_queries(\"empire + localgroup\")"
   ]
  },
  {
   "cell_type": "markdown",
   "metadata": {},
   "source": []
  },
  {
   "cell_type": "code",
   "execution_count": 27,
   "metadata": {},
   "outputs": [
    {
     "name": "stdout",
     "output_type": "stream",
     "text": [
      "https://raw.githubusercontent.com/OTRF/Security-Datasets/master/datasets/atomic/windows/discovery/host/empire_shell_net_localgroup_administrators.zip\n",
      "Extracting empire_shell_net_localgroup_administrators_2020-09-21191843.json\n"
     ]
    },
    {
     "data": {
      "text/html": [
       "<div>\n",
       "<style scoped>\n",
       "    .dataframe tbody tr th:only-of-type {\n",
       "        vertical-align: middle;\n",
       "    }\n",
       "\n",
       "    .dataframe tbody tr th {\n",
       "        vertical-align: top;\n",
       "    }\n",
       "\n",
       "    .dataframe thead th {\n",
       "        text-align: right;\n",
       "    }\n",
       "</style>\n",
       "<table border=\"1\" class=\"dataframe\">\n",
       "  <thead>\n",
       "    <tr style=\"text-align: right;\">\n",
       "      <th></th>\n",
       "      <th>Keywords</th>\n",
       "      <th>SeverityValue</th>\n",
       "      <th>TargetObject</th>\n",
       "      <th>EventTypeOrignal</th>\n",
       "      <th>EventID</th>\n",
       "      <th>ProviderGuid</th>\n",
       "      <th>ExecutionProcessID</th>\n",
       "      <th>host</th>\n",
       "      <th>Channel</th>\n",
       "      <th>UserID</th>\n",
       "      <th>...</th>\n",
       "      <th>SourceIsIpv6</th>\n",
       "      <th>DestinationPortName</th>\n",
       "      <th>DestinationHostname</th>\n",
       "      <th>Service</th>\n",
       "      <th>Details</th>\n",
       "      <th>ShareName</th>\n",
       "      <th>EnabledPrivilegeList</th>\n",
       "      <th>DisabledPrivilegeList</th>\n",
       "      <th>ShareLocalPath</th>\n",
       "      <th>RelativeTargetName</th>\n",
       "    </tr>\n",
       "  </thead>\n",
       "  <tbody>\n",
       "    <tr>\n",
       "      <th>0</th>\n",
       "      <td>-9223372036854775808</td>\n",
       "      <td>2</td>\n",
       "      <td>HKU\\S-1-5-21-4228717743-1032521047-1810997296-...</td>\n",
       "      <td>INFO</td>\n",
       "      <td>12</td>\n",
       "      <td>{5770385F-C22A-43E0-BF4C-06F5698FFBD9}</td>\n",
       "      <td>3172</td>\n",
       "      <td>wec.internal.cloudapp.net</td>\n",
       "      <td>Microsoft-Windows-Sysmon/Operational</td>\n",
       "      <td>S-1-5-18</td>\n",
       "      <td>...</td>\n",
       "      <td>NaN</td>\n",
       "      <td>NaN</td>\n",
       "      <td>NaN</td>\n",
       "      <td>NaN</td>\n",
       "      <td>NaN</td>\n",
       "      <td>NaN</td>\n",
       "      <td>NaN</td>\n",
       "      <td>NaN</td>\n",
       "      <td>NaN</td>\n",
       "      <td>NaN</td>\n",
       "    </tr>\n",
       "    <tr>\n",
       "      <th>1</th>\n",
       "      <td>0</td>\n",
       "      <td>2</td>\n",
       "      <td>NaN</td>\n",
       "      <td>NaN</td>\n",
       "      <td>4103</td>\n",
       "      <td>{A0C1853B-5C40-4B15-8766-3CF1C58F985A}</td>\n",
       "      <td>7456</td>\n",
       "      <td>wec.internal.cloudapp.net</td>\n",
       "      <td>Microsoft-Windows-PowerShell/Operational</td>\n",
       "      <td>S-1-5-21-4228717743-1032521047-1810997296-1104</td>\n",
       "      <td>...</td>\n",
       "      <td>NaN</td>\n",
       "      <td>NaN</td>\n",
       "      <td>NaN</td>\n",
       "      <td>NaN</td>\n",
       "      <td>NaN</td>\n",
       "      <td>NaN</td>\n",
       "      <td>NaN</td>\n",
       "      <td>NaN</td>\n",
       "      <td>NaN</td>\n",
       "      <td>NaN</td>\n",
       "    </tr>\n",
       "    <tr>\n",
       "      <th>2</th>\n",
       "      <td>0</td>\n",
       "      <td>2</td>\n",
       "      <td>NaN</td>\n",
       "      <td>NaN</td>\n",
       "      <td>4103</td>\n",
       "      <td>{A0C1853B-5C40-4B15-8766-3CF1C58F985A}</td>\n",
       "      <td>7456</td>\n",
       "      <td>wec.internal.cloudapp.net</td>\n",
       "      <td>Microsoft-Windows-PowerShell/Operational</td>\n",
       "      <td>S-1-5-21-4228717743-1032521047-1810997296-1104</td>\n",
       "      <td>...</td>\n",
       "      <td>NaN</td>\n",
       "      <td>NaN</td>\n",
       "      <td>NaN</td>\n",
       "      <td>NaN</td>\n",
       "      <td>NaN</td>\n",
       "      <td>NaN</td>\n",
       "      <td>NaN</td>\n",
       "      <td>NaN</td>\n",
       "      <td>NaN</td>\n",
       "      <td>NaN</td>\n",
       "    </tr>\n",
       "    <tr>\n",
       "      <th>3</th>\n",
       "      <td>-9214364837600034816</td>\n",
       "      <td>2</td>\n",
       "      <td>NaN</td>\n",
       "      <td>NaN</td>\n",
       "      <td>5158</td>\n",
       "      <td>{54849625-5478-4994-A5BA-3E3B0328C30D}</td>\n",
       "      <td>4</td>\n",
       "      <td>wec.internal.cloudapp.net</td>\n",
       "      <td>Security</td>\n",
       "      <td>NaN</td>\n",
       "      <td>...</td>\n",
       "      <td>NaN</td>\n",
       "      <td>NaN</td>\n",
       "      <td>NaN</td>\n",
       "      <td>NaN</td>\n",
       "      <td>NaN</td>\n",
       "      <td>NaN</td>\n",
       "      <td>NaN</td>\n",
       "      <td>NaN</td>\n",
       "      <td>NaN</td>\n",
       "      <td>NaN</td>\n",
       "    </tr>\n",
       "    <tr>\n",
       "      <th>4</th>\n",
       "      <td>-9214364837600034816</td>\n",
       "      <td>2</td>\n",
       "      <td>NaN</td>\n",
       "      <td>NaN</td>\n",
       "      <td>5156</td>\n",
       "      <td>{54849625-5478-4994-A5BA-3E3B0328C30D}</td>\n",
       "      <td>4</td>\n",
       "      <td>wec.internal.cloudapp.net</td>\n",
       "      <td>Security</td>\n",
       "      <td>NaN</td>\n",
       "      <td>...</td>\n",
       "      <td>NaN</td>\n",
       "      <td>NaN</td>\n",
       "      <td>NaN</td>\n",
       "      <td>NaN</td>\n",
       "      <td>NaN</td>\n",
       "      <td>NaN</td>\n",
       "      <td>NaN</td>\n",
       "      <td>NaN</td>\n",
       "      <td>NaN</td>\n",
       "      <td>NaN</td>\n",
       "    </tr>\n",
       "  </tbody>\n",
       "</table>\n",
       "<p>5 rows × 155 columns</p>\n",
       "</div>"
      ],
      "text/plain": [
       "              Keywords  SeverityValue  \\\n",
       "0 -9223372036854775808              2   \n",
       "1                    0              2   \n",
       "2                    0              2   \n",
       "3 -9214364837600034816              2   \n",
       "4 -9214364837600034816              2   \n",
       "\n",
       "                                        TargetObject EventTypeOrignal  \\\n",
       "0  HKU\\S-1-5-21-4228717743-1032521047-1810997296-...             INFO   \n",
       "1                                                NaN              NaN   \n",
       "2                                                NaN              NaN   \n",
       "3                                                NaN              NaN   \n",
       "4                                                NaN              NaN   \n",
       "\n",
       "   EventID                            ProviderGuid  ExecutionProcessID  \\\n",
       "0       12  {5770385F-C22A-43E0-BF4C-06F5698FFBD9}                3172   \n",
       "1     4103  {A0C1853B-5C40-4B15-8766-3CF1C58F985A}                7456   \n",
       "2     4103  {A0C1853B-5C40-4B15-8766-3CF1C58F985A}                7456   \n",
       "3     5158  {54849625-5478-4994-A5BA-3E3B0328C30D}                   4   \n",
       "4     5156  {54849625-5478-4994-A5BA-3E3B0328C30D}                   4   \n",
       "\n",
       "                        host                                   Channel  \\\n",
       "0  wec.internal.cloudapp.net      Microsoft-Windows-Sysmon/Operational   \n",
       "1  wec.internal.cloudapp.net  Microsoft-Windows-PowerShell/Operational   \n",
       "2  wec.internal.cloudapp.net  Microsoft-Windows-PowerShell/Operational   \n",
       "3  wec.internal.cloudapp.net                                  Security   \n",
       "4  wec.internal.cloudapp.net                                  Security   \n",
       "\n",
       "                                           UserID  ... SourceIsIpv6  \\\n",
       "0                                        S-1-5-18  ...          NaN   \n",
       "1  S-1-5-21-4228717743-1032521047-1810997296-1104  ...          NaN   \n",
       "2  S-1-5-21-4228717743-1032521047-1810997296-1104  ...          NaN   \n",
       "3                                             NaN  ...          NaN   \n",
       "4                                             NaN  ...          NaN   \n",
       "\n",
       "   DestinationPortName DestinationHostname Service Details ShareName  \\\n",
       "0                  NaN                 NaN     NaN     NaN       NaN   \n",
       "1                  NaN                 NaN     NaN     NaN       NaN   \n",
       "2                  NaN                 NaN     NaN     NaN       NaN   \n",
       "3                  NaN                 NaN     NaN     NaN       NaN   \n",
       "4                  NaN                 NaN     NaN     NaN       NaN   \n",
       "\n",
       "  EnabledPrivilegeList DisabledPrivilegeList  ShareLocalPath  \\\n",
       "0                  NaN                   NaN             NaN   \n",
       "1                  NaN                   NaN             NaN   \n",
       "2                  NaN                   NaN             NaN   \n",
       "3                  NaN                   NaN             NaN   \n",
       "4                  NaN                   NaN             NaN   \n",
       "\n",
       "  RelativeTargetName  \n",
       "0                NaN  \n",
       "1                NaN  \n",
       "2                NaN  \n",
       "3                NaN  \n",
       "4                NaN  \n",
       "\n",
       "[5 rows x 155 columns]"
      ]
     },
     "execution_count": 27,
     "metadata": {},
     "output_type": "execute_result"
    }
   ],
   "source": [
    "emp_df = qry_prov_sd.atomic.windows.discovery.host.empire_shell_net_localgroup_administrators()\n",
    "emp_df.head()"
   ]
  },
  {
   "cell_type": "markdown",
   "metadata": {},
   "source": [
    "Make sure that timestamps actually are timestamps, not strings"
   ]
  },
  {
   "cell_type": "code",
   "execution_count": 29,
   "metadata": {},
   "outputs": [],
   "source": [
    "emp_df[\"EventTime\"] = pd.to_datetime(emp_df[\"EventTime\"])"
   ]
  },
  {
   "cell_type": "code",
   "execution_count": 30,
   "metadata": {},
   "outputs": [
    {
     "data": {
      "text/html": [
       "\n",
       "    <div class=\"bk-root\">\n",
       "        <a href=\"https://bokeh.org\" target=\"_blank\" class=\"bk-logo bk-logo-small bk-logo-notebook\"></a>\n",
       "        <span id=\"1035\">Loading BokehJS ...</span>\n",
       "    </div>"
      ]
     },
     "metadata": {},
     "output_type": "display_data"
    },
    {
     "data": {
      "application/javascript": "\n(function(root) {\n  function now() {\n    return new Date();\n  }\n\n  const force = true;\n\n  if (typeof root._bokeh_onload_callbacks === \"undefined\" || force === true) {\n    root._bokeh_onload_callbacks = [];\n    root._bokeh_is_loading = undefined;\n  }\n\n  const JS_MIME_TYPE = 'application/javascript';\n  const HTML_MIME_TYPE = 'text/html';\n  const EXEC_MIME_TYPE = 'application/vnd.bokehjs_exec.v0+json';\n  const CLASS_NAME = 'output_bokeh rendered_html';\n\n  /**\n   * Render data to the DOM node\n   */\n  function render(props, node) {\n    const script = document.createElement(\"script\");\n    node.appendChild(script);\n  }\n\n  /**\n   * Handle when an output is cleared or removed\n   */\n  function handleClearOutput(event, handle) {\n    const cell = handle.cell;\n\n    const id = cell.output_area._bokeh_element_id;\n    const server_id = cell.output_area._bokeh_server_id;\n    // Clean up Bokeh references\n    if (id != null && id in Bokeh.index) {\n      Bokeh.index[id].model.document.clear();\n      delete Bokeh.index[id];\n    }\n\n    if (server_id !== undefined) {\n      // Clean up Bokeh references\n      const cmd_clean = \"from bokeh.io.state import curstate; print(curstate().uuid_to_server['\" + server_id + \"'].get_sessions()[0].document.roots[0]._id)\";\n      cell.notebook.kernel.execute(cmd_clean, {\n        iopub: {\n          output: function(msg) {\n            const id = msg.content.text.trim();\n            if (id in Bokeh.index) {\n              Bokeh.index[id].model.document.clear();\n              delete Bokeh.index[id];\n            }\n          }\n        }\n      });\n      // Destroy server and session\n      const cmd_destroy = \"import bokeh.io.notebook as ion; ion.destroy_server('\" + server_id + \"')\";\n      cell.notebook.kernel.execute(cmd_destroy);\n    }\n  }\n\n  /**\n   * Handle when a new output is added\n   */\n  function handleAddOutput(event, handle) {\n    const output_area = handle.output_area;\n    const output = handle.output;\n\n    // limit handleAddOutput to display_data with EXEC_MIME_TYPE content only\n    if ((output.output_type != \"display_data\") || (!Object.prototype.hasOwnProperty.call(output.data, EXEC_MIME_TYPE))) {\n      return\n    }\n\n    const toinsert = output_area.element.find(\".\" + CLASS_NAME.split(' ')[0]);\n\n    if (output.metadata[EXEC_MIME_TYPE][\"id\"] !== undefined) {\n      toinsert[toinsert.length - 1].firstChild.textContent = output.data[JS_MIME_TYPE];\n      // store reference to embed id on output_area\n      output_area._bokeh_element_id = output.metadata[EXEC_MIME_TYPE][\"id\"];\n    }\n    if (output.metadata[EXEC_MIME_TYPE][\"server_id\"] !== undefined) {\n      const bk_div = document.createElement(\"div\");\n      bk_div.innerHTML = output.data[HTML_MIME_TYPE];\n      const script_attrs = bk_div.children[0].attributes;\n      for (let i = 0; i < script_attrs.length; i++) {\n        toinsert[toinsert.length - 1].firstChild.setAttribute(script_attrs[i].name, script_attrs[i].value);\n        toinsert[toinsert.length - 1].firstChild.textContent = bk_div.children[0].textContent\n      }\n      // store reference to server id on output_area\n      output_area._bokeh_server_id = output.metadata[EXEC_MIME_TYPE][\"server_id\"];\n    }\n  }\n\n  function register_renderer(events, OutputArea) {\n\n    function append_mime(data, metadata, element) {\n      // create a DOM node to render to\n      const toinsert = this.create_output_subarea(\n        metadata,\n        CLASS_NAME,\n        EXEC_MIME_TYPE\n      );\n      this.keyboard_manager.register_events(toinsert);\n      // Render to node\n      const props = {data: data, metadata: metadata[EXEC_MIME_TYPE]};\n      render(props, toinsert[toinsert.length - 1]);\n      element.append(toinsert);\n      return toinsert\n    }\n\n    /* Handle when an output is cleared or removed */\n    events.on('clear_output.CodeCell', handleClearOutput);\n    events.on('delete.Cell', handleClearOutput);\n\n    /* Handle when a new output is added */\n    events.on('output_added.OutputArea', handleAddOutput);\n\n    /**\n     * Register the mime type and append_mime function with output_area\n     */\n    OutputArea.prototype.register_mime_type(EXEC_MIME_TYPE, append_mime, {\n      /* Is output safe? */\n      safe: true,\n      /* Index of renderer in `output_area.display_order` */\n      index: 0\n    });\n  }\n\n  // register the mime type if in Jupyter Notebook environment and previously unregistered\n  if (root.Jupyter !== undefined) {\n    const events = require('base/js/events');\n    const OutputArea = require('notebook/js/outputarea').OutputArea;\n\n    if (OutputArea.prototype.mime_types().indexOf(EXEC_MIME_TYPE) == -1) {\n      register_renderer(events, OutputArea);\n    }\n  }\n\n  \n  if (typeof (root._bokeh_timeout) === \"undefined\" || force === true) {\n    root._bokeh_timeout = Date.now() + 5000;\n    root._bokeh_failed_load = false;\n  }\n\n  const NB_LOAD_WARNING = {'data': {'text/html':\n     \"<div style='background-color: #fdd'>\\n\"+\n     \"<p>\\n\"+\n     \"BokehJS does not appear to have successfully loaded. If loading BokehJS from CDN, this \\n\"+\n     \"may be due to a slow or bad network connection. Possible fixes:\\n\"+\n     \"</p>\\n\"+\n     \"<ul>\\n\"+\n     \"<li>re-rerun `output_notebook()` to attempt to load from CDN again, or</li>\\n\"+\n     \"<li>use INLINE resources instead, as so:</li>\\n\"+\n     \"</ul>\\n\"+\n     \"<code>\\n\"+\n     \"from bokeh.resources import INLINE\\n\"+\n     \"output_notebook(resources=INLINE)\\n\"+\n     \"</code>\\n\"+\n     \"</div>\"}};\n\n  function display_loaded() {\n    const el = document.getElementById(\"1035\");\n    if (el != null) {\n      el.textContent = \"BokehJS is loading...\";\n    }\n    if (root.Bokeh !== undefined) {\n      if (el != null) {\n        el.textContent = \"BokehJS \" + root.Bokeh.version + \" successfully loaded.\";\n      }\n    } else if (Date.now() < root._bokeh_timeout) {\n      setTimeout(display_loaded, 100)\n    }\n  }\n\n\n  function run_callbacks() {\n    try {\n      root._bokeh_onload_callbacks.forEach(function(callback) {\n        if (callback != null)\n          callback();\n      });\n    } finally {\n      delete root._bokeh_onload_callbacks\n    }\n    console.debug(\"Bokeh: all callbacks have finished\");\n  }\n\n  function load_libs(css_urls, js_urls, callback) {\n    if (css_urls == null) css_urls = [];\n    if (js_urls == null) js_urls = [];\n\n    root._bokeh_onload_callbacks.push(callback);\n    if (root._bokeh_is_loading > 0) {\n      console.debug(\"Bokeh: BokehJS is being loaded, scheduling callback at\", now());\n      return null;\n    }\n    if (js_urls == null || js_urls.length === 0) {\n      run_callbacks();\n      return null;\n    }\n    console.debug(\"Bokeh: BokehJS not loaded, scheduling load and callback at\", now());\n    root._bokeh_is_loading = css_urls.length + js_urls.length;\n\n    function on_load() {\n      root._bokeh_is_loading--;\n      if (root._bokeh_is_loading === 0) {\n        console.debug(\"Bokeh: all BokehJS libraries/stylesheets loaded\");\n        run_callbacks()\n      }\n    }\n\n    function on_error(url) {\n      console.error(\"failed to load \" + url);\n    }\n\n    for (let i = 0; i < css_urls.length; i++) {\n      const url = css_urls[i];\n      const element = document.createElement(\"link\");\n      element.onload = on_load;\n      element.onerror = on_error.bind(null, url);\n      element.rel = \"stylesheet\";\n      element.type = \"text/css\";\n      element.href = url;\n      console.debug(\"Bokeh: injecting link tag for BokehJS stylesheet: \", url);\n      document.body.appendChild(element);\n    }\n\n    for (let i = 0; i < js_urls.length; i++) {\n      const url = js_urls[i];\n      const element = document.createElement('script');\n      element.onload = on_load;\n      element.onerror = on_error.bind(null, url);\n      element.async = false;\n      element.src = url;\n      console.debug(\"Bokeh: injecting script tag for BokehJS library: \", url);\n      document.head.appendChild(element);\n    }\n  };\n\n  function inject_raw_css(css) {\n    const element = document.createElement(\"style\");\n    element.appendChild(document.createTextNode(css));\n    document.body.appendChild(element);\n  }\n\n  \n  const js_urls = [\"https://cdn.bokeh.org/bokeh/release/bokeh-2.4.0.min.js\", \"https://cdn.bokeh.org/bokeh/release/bokeh-gl-2.4.0.min.js\", \"https://cdn.bokeh.org/bokeh/release/bokeh-widgets-2.4.0.min.js\", \"https://cdn.bokeh.org/bokeh/release/bokeh-tables-2.4.0.min.js\", \"https://cdn.bokeh.org/bokeh/release/bokeh-mathjax-2.4.0.min.js\"];\n  const css_urls = [];\n  \n\n  const inline_js = [\n    function(Bokeh) {\n      Bokeh.set_log_level(\"info\");\n    },\n    function(Bokeh) {\n    \n    \n    }\n  ];\n\n  function run_inline_js() {\n    \n    if (root.Bokeh !== undefined || force === true) {\n      \n    for (let i = 0; i < inline_js.length; i++) {\n      inline_js[i].call(root, root.Bokeh);\n    }\n    if (force === true) {\n        display_loaded();\n      }} else if (Date.now() < root._bokeh_timeout) {\n      setTimeout(run_inline_js, 100);\n    } else if (!root._bokeh_failed_load) {\n      console.log(\"Bokeh: BokehJS failed to load within specified timeout.\");\n      root._bokeh_failed_load = true;\n    } else if (force !== true) {\n      const cell = $(document.getElementById(\"1035\")).parents('.cell').data().cell;\n      cell.output_area.append_execute_result(NB_LOAD_WARNING)\n    }\n\n  }\n\n  if (root._bokeh_is_loading === 0) {\n    console.debug(\"Bokeh: BokehJS loaded, going straight to plotting\");\n    run_inline_js();\n  } else {\n    load_libs(css_urls, js_urls, function() {\n      console.debug(\"Bokeh: BokehJS plotting callback run at\", now());\n      run_inline_js();\n    });\n  }\n}(window));",
      "application/vnd.bokehjs_load.v0+json": ""
     },
     "metadata": {},
     "output_type": "display_data"
    },
    {
     "data": {
      "text/html": [
       "\n",
       "\n",
       "\n",
       "\n",
       "\n",
       "\n",
       "  <div class=\"bk-root\" id=\"c2851226-1b91-488f-a969-9947a23f52dd\" data-root-id=\"1530\"></div>\n"
      ]
     },
     "metadata": {},
     "output_type": "display_data"
    },
    {
     "data": {
      "application/javascript": "(function(root) {\n  function embed_document(root) {\n    \n  const docs_json = {\"284daf16-9e2b-4c0b-8fbb-b42c32feea42\":{\"defs\":[],\"roots\":{\"references\":[{\"attributes\":{\"children\":[{\"id\":\"1068\"},{\"id\":\"1100\"}]},\"id\":\"1530\",\"type\":\"Column\"},{\"attributes\":{},\"id\":\"1549\",\"type\":\"Selection\"},{\"attributes\":{\"fill_alpha\":{\"value\":0.2},\"fill_color\":{\"value\":\"#440154\"},\"hatch_alpha\":{\"value\":0.2},\"hatch_color\":{\"value\":\"#440154\"},\"line_alpha\":{\"value\":0.2},\"line_color\":{\"value\":\"#440154\"},\"marker\":{\"value\":\"diamond\"},\"size\":{\"value\":10},\"x\":{\"field\":\"EventTime\"},\"y\":{\"field\":\"y_index\"}},\"id\":\"1315\",\"type\":\"Scatter\"},{\"attributes\":{\"source\":{\"id\":\"1038\"}},\"id\":\"1331\",\"type\":\"CDSView\"},{\"attributes\":{\"data\":{\"CommandLine\":[\"\\\"C:\\\\windows\\\\system32\\\\net.exe\\\" localgroup\\nAdministrators\",\"C:\\\\windows\\\\system32\\\\net1 localgroup Administrators\"],\"EventID\":[4688,4688],\"EventTime\":{\"__ndarray__\":\"AIDXqyFLd0IAgNerIUt3Qg==\",\"dtype\":\"float64\",\"order\":\"little\",\"shape\":[2]},\"NewProcessName\":[\"C:\\\\Windows\\\\System32\\\\net.exe\",\"C:\\\\Windows\\\\System32\\\\net1.exe\"],\"index\":[171,172],\"y_index\":[21,21]},\"selected\":{\"id\":\"1583\"},\"selection_policy\":{\"id\":\"1582\"}},\"id\":\"1057\",\"type\":\"ColumnDataSource\"},{\"attributes\":{\"source\":{\"id\":\"1039\"}},\"id\":\"1338\",\"type\":\"CDSView\"},{\"attributes\":{\"fill_alpha\":{\"value\":0.1},\"fill_color\":{\"value\":\"#8DD644\"},\"hatch_alpha\":{\"value\":0.1},\"hatch_color\":{\"value\":\"#8DD644\"},\"line_alpha\":{\"value\":0.1},\"line_color\":{\"value\":\"#8DD644\"},\"x\":{\"field\":\"EventTime\"},\"y\":{\"field\":\"y_index\"}},\"id\":\"1301\",\"type\":\"Circle\"},{\"attributes\":{\"fill_alpha\":{\"value\":0.1},\"fill_color\":{\"value\":\"#46307D\"},\"hatch_alpha\":{\"value\":0.1},\"hatch_color\":{\"value\":\"#46307D\"},\"line_alpha\":{\"value\":0.1},\"line_color\":{\"value\":\"#46307D\"},\"marker\":{\"value\":\"diamond\"},\"size\":{\"value\":10},\"x\":{\"field\":\"EventTime\"},\"y\":{\"field\":\"y_index\"}},\"id\":\"1349\",\"type\":\"Scatter\"},{\"attributes\":{\"data\":{\"CommandLine\":[\"NaN\"],\"EventID\":[4799],\"EventTime\":{\"__ndarray__\":\"AIDXqyFLd0I=\",\"dtype\":\"float64\",\"order\":\"little\",\"shape\":[1]},\"NewProcessName\":[\"NaN\"],\"index\":[178],\"y_index\":[25]},\"selected\":{\"id\":\"1591\"},\"selection_policy\":{\"id\":\"1590\"}},\"id\":\"1061\",\"type\":\"ColumnDataSource\"},{\"attributes\":{\"fill_color\":{\"value\":\"#40BD72\"},\"hatch_color\":{\"value\":\"#40BD72\"},\"line_color\":{\"value\":\"#40BD72\"},\"x\":{\"field\":\"EventTime\"},\"y\":{\"field\":\"y_index\"}},\"id\":\"1270\",\"type\":\"Circle\"},{\"attributes\":{\"fill_alpha\":{\"value\":0.1},\"fill_color\":{\"value\":\"#481E70\"},\"hatch_alpha\":{\"value\":0.1},\"hatch_color\":{\"value\":\"#481E70\"},\"line_alpha\":{\"value\":0.1},\"line_color\":{\"value\":\"#481E70\"},\"marker\":{\"value\":\"diamond\"},\"size\":{\"value\":10},\"x\":{\"field\":\"EventTime\"},\"y\":{\"field\":\"y_index\"}},\"id\":\"1335\",\"type\":\"Scatter\"},{\"attributes\":{\"fill_alpha\":{\"value\":0.1},\"fill_color\":{\"value\":\"#25828E\"},\"hatch_alpha\":{\"value\":0.1},\"hatch_color\":{\"value\":\"#25828E\"},\"line_alpha\":{\"value\":0.1},\"line_color\":{\"value\":\"#25828E\"},\"x\":{\"field\":\"EventTime\"},\"y\":{\"field\":\"y_index\"}},\"id\":\"1217\",\"type\":\"Circle\"},{\"attributes\":{\"fill_color\":{\"value\":\"#6BCD59\"},\"hatch_color\":{\"value\":\"#6BCD59\"},\"line_color\":{\"value\":\"#6BCD59\"},\"x\":{\"field\":\"EventTime\"},\"y\":{\"field\":\"y_index\"}},\"id\":\"1288\",\"type\":\"Circle\"},{\"attributes\":{\"coordinates\":null,\"data_source\":{\"id\":\"1062\"},\"glyph\":{\"id\":\"1276\"},\"group\":null,\"hover_glyph\":null,\"muted_glyph\":{\"id\":\"1278\"},\"nonselection_glyph\":{\"id\":\"1277\"},\"view\":{\"id\":\"1280\"}},\"id\":\"1279\",\"type\":\"GlyphRenderer\"},{\"attributes\":{},\"id\":\"1544\",\"type\":\"UnionRenderers\"},{\"attributes\":{\"label\":{\"value\":\"11\"},\"renderers\":[{\"id\":\"1358\"}]},\"id\":\"1360\",\"type\":\"LegendItem\"},{\"attributes\":{\"fill_color\":{\"value\":\"#23898D\"},\"hatch_color\":{\"value\":\"#23898D\"},\"line_color\":{\"value\":\"#23898D\"},\"x\":{\"field\":\"EventTime\"},\"y\":{\"field\":\"y_index\"}},\"id\":\"1222\",\"type\":\"Circle\"},{\"attributes\":{\"fill_alpha\":{\"value\":0.2},\"fill_color\":{\"value\":\"#471567\"},\"hatch_alpha\":{\"value\":0.2},\"hatch_color\":{\"value\":\"#471567\"},\"line_alpha\":{\"value\":0.2},\"line_color\":{\"value\":\"#471567\"},\"marker\":{\"value\":\"diamond\"},\"size\":{\"value\":10},\"x\":{\"field\":\"EventTime\"},\"y\":{\"field\":\"y_index\"}},\"id\":\"1329\",\"type\":\"Scatter\"},{\"attributes\":{\"data\":{\"CommandLine\":[\"NaN\",\"NaN\",\"NaN\",\"NaN\",\"NaN\"],\"EventID\":[4624,4624,4624,4624,4624],\"EventTime\":{\"__ndarray__\":\"AAAcqyFLd0IAAHWxIUt3QgAAdbEhS3dCAAB1sSFLd0IAAHWxIUt3Qg==\",\"dtype\":\"float64\",\"order\":\"little\",\"shape\":[5]},\"NewProcessName\":[\"NaN\",\"NaN\",\"NaN\",\"NaN\",\"NaN\"],\"index\":[35,717,720,726,759],\"y_index\":[13,13,13,13,13]},\"selected\":{\"id\":\"1567\"},\"selection_policy\":{\"id\":\"1566\"}},\"id\":\"1049\",\"type\":\"ColumnDataSource\"},{\"attributes\":{\"source\":{\"id\":\"1066\"}},\"id\":\"1527\",\"type\":\"CDSView\"},{\"attributes\":{\"fill_alpha\":{\"value\":0.1},\"fill_color\":{\"value\":\"#23898D\"},\"hatch_alpha\":{\"value\":0.1},\"hatch_color\":{\"value\":\"#23898D\"},\"line_alpha\":{\"value\":0.1},\"line_color\":{\"value\":\"#23898D\"},\"x\":{\"field\":\"EventTime\"},\"y\":{\"field\":\"y_index\"}},\"id\":\"1223\",\"type\":\"Circle\"},{\"attributes\":{\"fill_alpha\":{\"value\":0.5},\"fill_color\":{\"value\":\"#481E70\"},\"hatch_alpha\":{\"value\":0.5},\"hatch_color\":{\"value\":\"#481E70\"},\"line_alpha\":{\"value\":0.5},\"line_color\":{\"value\":\"#481E70\"},\"marker\":{\"value\":\"diamond\"},\"size\":{\"value\":10},\"x\":{\"field\":\"EventTime\"},\"y\":{\"field\":\"y_index\"}},\"id\":\"1334\",\"type\":\"Scatter\"},{\"attributes\":{\"fill_alpha\":{\"value\":0.2},\"fill_color\":{\"value\":\"#5BC862\"},\"hatch_alpha\":{\"value\":0.2},\"hatch_color\":{\"value\":\"#5BC862\"},\"line_alpha\":{\"value\":0.2},\"line_color\":{\"value\":\"#5BC862\"},\"x\":{\"field\":\"EventTime\"},\"y\":{\"field\":\"y_index\"}},\"id\":\"1284\",\"type\":\"Circle\"},{\"attributes\":{\"fill_alpha\":{\"value\":0.1},\"fill_color\":{\"value\":\"#2D6E8E\"},\"hatch_alpha\":{\"value\":0.1},\"hatch_color\":{\"value\":\"#2D6E8E\"},\"line_alpha\":{\"value\":0.1},\"line_color\":{\"value\":\"#2D6E8E\"},\"x\":{\"field\":\"EventTime\"},\"y\":{\"field\":\"y_index\"}},\"id\":\"1199\",\"type\":\"Circle\"},{\"attributes\":{\"overlay\":{\"id\":\"1306\"},\"x_range\":{\"id\":\"1071\"},\"y_range\":null},\"id\":\"1305\",\"type\":\"RangeTool\"},{\"attributes\":{\"fill_alpha\":{\"value\":0.2},\"fill_color\":{\"value\":\"#2D6E8E\"},\"hatch_alpha\":{\"value\":0.2},\"hatch_color\":{\"value\":\"#2D6E8E\"},\"line_alpha\":{\"value\":0.2},\"line_color\":{\"value\":\"#2D6E8E\"},\"x\":{\"field\":\"EventTime\"},\"y\":{\"field\":\"y_index\"}},\"id\":\"1200\",\"type\":\"Circle\"},{\"attributes\":{\"fill_alpha\":{\"value\":0.2},\"fill_color\":{\"value\":\"#8DD644\"},\"hatch_alpha\":{\"value\":0.2},\"hatch_color\":{\"value\":\"#8DD644\"},\"line_alpha\":{\"value\":0.2},\"line_color\":{\"value\":\"#8DD644\"},\"x\":{\"field\":\"EventTime\"},\"y\":{\"field\":\"y_index\"}},\"id\":\"1302\",\"type\":\"Circle\"},{\"attributes\":{\"label\":{\"value\":\"4634\"},\"renderers\":[{\"id\":\"1421\"}]},\"id\":\"1423\",\"type\":\"LegendItem\"},{\"attributes\":{\"fill_alpha\":{\"value\":0.1},\"fill_color\":{\"value\":\"#40BD72\"},\"hatch_alpha\":{\"value\":0.1},\"hatch_color\":{\"value\":\"#40BD72\"},\"line_alpha\":{\"value\":0.1},\"line_color\":{\"value\":\"#40BD72\"},\"x\":{\"field\":\"EventTime\"},\"y\":{\"field\":\"y_index\"}},\"id\":\"1271\",\"type\":\"Circle\"},{\"attributes\":{\"coordinates\":null,\"data_source\":{\"id\":\"1038\"},\"glyph\":{\"id\":\"1327\"},\"group\":null,\"hover_glyph\":null,\"muted_glyph\":{\"id\":\"1329\"},\"nonselection_glyph\":{\"id\":\"1328\"},\"view\":{\"id\":\"1331\"}},\"id\":\"1330\",\"type\":\"GlyphRenderer\"},{\"attributes\":{\"source\":{\"id\":\"1066\"}},\"id\":\"1304\",\"type\":\"CDSView\"},{\"attributes\":{\"days\":[1,15]},\"id\":\"1622\",\"type\":\"DaysTicker\"},{\"attributes\":{\"fill_alpha\":{\"value\":0.2},\"fill_color\":{\"value\":\"#472777\"},\"hatch_alpha\":{\"value\":0.2},\"hatch_color\":{\"value\":\"#472777\"},\"line_alpha\":{\"value\":0.2},\"line_color\":{\"value\":\"#472777\"},\"marker\":{\"value\":\"diamond\"},\"size\":{\"value\":10},\"x\":{\"field\":\"EventTime\"},\"y\":{\"field\":\"y_index\"}},\"id\":\"1343\",\"type\":\"Scatter\"},{\"attributes\":{\"source\":{\"id\":\"1052\"}},\"id\":\"1220\",\"type\":\"CDSView\"},{\"attributes\":{\"days\":[1,8,15,22]},\"id\":\"1621\",\"type\":\"DaysTicker\"},{\"attributes\":{\"fill_alpha\":{\"value\":0.2},\"fill_color\":{\"value\":\"#30678D\"},\"hatch_alpha\":{\"value\":0.2},\"hatch_color\":{\"value\":\"#30678D\"},\"line_alpha\":{\"value\":0.2},\"line_color\":{\"value\":\"#30678D\"},\"marker\":{\"value\":\"diamond\"},\"size\":{\"value\":10},\"x\":{\"field\":\"EventTime\"},\"y\":{\"field\":\"y_index\"}},\"id\":\"1399\",\"type\":\"Scatter\"},{\"attributes\":{\"source\":{\"id\":\"1061\"}},\"id\":\"1274\",\"type\":\"CDSView\"},{\"attributes\":{\"mantissas\":[1,2,5],\"max_interval\":500.0,\"num_minor_ticks\":0},\"id\":\"1616\",\"type\":\"AdaptiveTicker\"},{\"attributes\":{\"source\":{\"id\":\"1053\"}},\"id\":\"1226\",\"type\":\"CDSView\"},{\"attributes\":{\"source\":{\"id\":\"1063\"}},\"id\":\"1286\",\"type\":\"CDSView\"},{\"attributes\":{},\"id\":\"1547\",\"type\":\"Selection\"},{\"attributes\":{\"fill_alpha\":{\"value\":0.2},\"fill_color\":{\"value\":\"#287B8E\"},\"hatch_alpha\":{\"value\":0.2},\"hatch_color\":{\"value\":\"#287B8E\"},\"line_alpha\":{\"value\":0.2},\"line_color\":{\"value\":\"#287B8E\"},\"x\":{\"field\":\"EventTime\"},\"y\":{\"field\":\"y_index\"}},\"id\":\"1212\",\"type\":\"Circle\"},{\"attributes\":{\"fill_alpha\":{\"value\":0.2},\"fill_color\":{\"value\":\"#4DC26B\"},\"hatch_alpha\":{\"value\":0.2},\"hatch_color\":{\"value\":\"#4DC26B\"},\"line_alpha\":{\"value\":0.2},\"line_color\":{\"value\":\"#4DC26B\"},\"x\":{\"field\":\"EventTime\"},\"y\":{\"field\":\"y_index\"}},\"id\":\"1278\",\"type\":\"Circle\"},{\"attributes\":{\"coordinates\":null,\"data_source\":{\"id\":\"1051\"},\"glyph\":{\"id\":\"1210\"},\"group\":null,\"hover_glyph\":null,\"muted_glyph\":{\"id\":\"1212\"},\"nonselection_glyph\":{\"id\":\"1211\"},\"view\":{\"id\":\"1214\"}},\"id\":\"1213\",\"type\":\"GlyphRenderer\"},{\"attributes\":{\"data\":{\"CommandLine\":[\"NaN\",\"NaN\",\"NaN\",\"NaN\",\"NaN\",\"NaN\",\"NaN\",\"NaN\",\"NaN\",\"NaN\",\"NaN\",\"NaN\",\"NaN\",\"NaN\",\"NaN\",\"NaN\",\"NaN\",\"NaN\",\"NaN\",\"NaN\",\"NaN\",\"NaN\",\"NaN\",\"NaN\",\"NaN\",\"NaN\",\"NaN\",\"NaN\",\"NaN\",\"NaN\",\"NaN\",\"NaN\",\"NaN\",\"NaN\",\"NaN\",\"NaN\",\"NaN\",\"NaN\",\"NaN\",\"NaN\",\"NaN\",\"NaN\",\"NaN\",\"NaN\",\"NaN\",\"NaN\",\"NaN\",\"NaN\",\"NaN\",\"NaN\",\"NaN\",\"NaN\",\"NaN\",\"NaN\",\"NaN\",\"NaN\",\"NaN\",\"NaN\",\"NaN\"],\"EventID\":[4103,4103,4103,4103,4103,4103,4103,4103,4103,4103,4103,4103,4103,4103,4103,4103,4103,4103,4103,4103,4103,4103,4103,4103,4103,4103,4103,4103,4103,4103,4103,4103,4103,4103,4103,4103,4103,4103,4103,4103,4103,4103,4103,4103,4103,4103,4103,4103,4103,4103,4103,4103,4103,4103,4103,4103,4103,4103,4103],\"EventTime\":{\"__ndarray__\":\"AIBmqSFLd0IAgGapIUt3QgAAn6ohS3dCAACfqiFLd0IAAJ+qIUt3QgAAn6ohS3dCAACfqiFLd0IAAJ+qIUt3QgCA16shS3dCAIDXqyFLd0IAgNerIUt3QgCA16shS3dCAIDXqyFLd0IAgNerIUt3QgCA16shS3dCAIDXqyFLd0IAgNerIUt3QgCA16shS3dCAIDXqyFLd0IAgNerIUt3QgCA16shS3dCAIDXqyFLd0IAgNerIUt3QgCA16shS3dCAIDXqyFLd0IAgNerIUt3QgCA16shS3dCAIDXqyFLd0IAgNerIUt3QgCATq0hS3dCAIBOrSFLd0IAgE6tIUt3QgCATq0hS3dCAIBOrSFLd0IAgE6tIUt3QgAAh64hS3dCAACHriFLd0IAAIeuIUt3QgAAh64hS3dCAACHriFLd0IAAIeuIUt3QgCAv68hS3dCAIC/ryFLd0IAgL+vIUt3QgCAv68hS3dCAIC/ryFLd0IAgL+vIUt3QgAA+LAhS3dCAAD4sCFLd0IAAPiwIUt3QgAA+LAhS3dCAAD4sCFLd0IAAPiwIUt3QgCAMLIhS3dCAIAwsiFLd0IAgDCyIUt3QgCAMLIhS3dCAIAwsiFLd0IAgDCyIUt3Qg==\",\"dtype\":\"float64\",\"order\":\"little\",\"shape\":[59]},\"NewProcessName\":[\"NaN\",\"NaN\",\"NaN\",\"NaN\",\"NaN\",\"NaN\",\"NaN\",\"NaN\",\"NaN\",\"NaN\",\"NaN\",\"NaN\",\"NaN\",\"NaN\",\"NaN\",\"NaN\",\"NaN\",\"NaN\",\"NaN\",\"NaN\",\"NaN\",\"NaN\",\"NaN\",\"NaN\",\"NaN\",\"NaN\",\"NaN\",\"NaN\",\"NaN\",\"NaN\",\"NaN\",\"NaN\",\"NaN\",\"NaN\",\"NaN\",\"NaN\",\"NaN\",\"NaN\",\"NaN\",\"NaN\",\"NaN\",\"NaN\",\"NaN\",\"NaN\",\"NaN\",\"NaN\",\"NaN\",\"NaN\",\"NaN\",\"NaN\",\"NaN\",\"NaN\",\"NaN\",\"NaN\",\"NaN\",\"NaN\",\"NaN\",\"NaN\",\"NaN\"],\"index\":[1,2,20,22,23,25,29,30,41,43,45,46,50,52,54,56,64,66,68,72,75,79,81,85,87,92,95,157,159,191,193,195,197,204,205,470,472,474,475,568,571,644,646,648,650,654,655,660,662,664,666,685,688,870,872,875,877,879,880],\"y_index\":[12,12,12,12,12,12,12,12,12,12,12,12,12,12,12,12,12,12,12,12,12,12,12,12,12,12,12,12,12,12,12,12,12,12,12,12,12,12,12,12,12,12,12,12,12,12,12,12,12,12,12,12,12,12,12,12,12,12,12]},\"selected\":{\"id\":\"1565\"},\"selection_policy\":{\"id\":\"1564\"}},\"id\":\"1048\",\"type\":\"ColumnDataSource\"},{\"attributes\":{\"coordinates\":null,\"data_source\":{\"id\":\"1040\"},\"glyph\":{\"id\":\"1341\"},\"group\":null,\"hover_glyph\":null,\"muted_glyph\":{\"id\":\"1343\"},\"nonselection_glyph\":{\"id\":\"1342\"},\"view\":{\"id\":\"1345\"}},\"id\":\"1344\",\"type\":\"GlyphRenderer\"},{\"attributes\":{\"fill_alpha\":{\"value\":0.1},\"fill_color\":{\"value\":\"#30678D\"},\"hatch_alpha\":{\"value\":0.1},\"hatch_color\":{\"value\":\"#30678D\"},\"line_alpha\":{\"value\":0.1},\"line_color\":{\"value\":\"#30678D\"},\"marker\":{\"value\":\"diamond\"},\"size\":{\"value\":10},\"x\":{\"field\":\"EventTime\"},\"y\":{\"field\":\"y_index\"}},\"id\":\"1398\",\"type\":\"Scatter\"},{\"attributes\":{\"days\":[1,2,3,4,5,6,7,8,9,10,11,12,13,14,15,16,17,18,19,20,21,22,23,24,25,26,27,28,29,30,31]},\"id\":\"1619\",\"type\":\"DaysTicker\"},{\"attributes\":{\"fill_color\":{\"value\":\"#25828E\"},\"hatch_color\":{\"value\":\"#25828E\"},\"line_color\":{\"value\":\"#25828E\"},\"x\":{\"field\":\"EventTime\"},\"y\":{\"field\":\"y_index\"}},\"id\":\"1216\",\"type\":\"Circle\"},{\"attributes\":{\"coordinates\":null,\"data_source\":{\"id\":\"1053\"},\"glyph\":{\"id\":\"1222\"},\"group\":null,\"hover_glyph\":null,\"muted_glyph\":{\"id\":\"1224\"},\"nonselection_glyph\":{\"id\":\"1223\"},\"view\":{\"id\":\"1226\"}},\"id\":\"1225\",\"type\":\"GlyphRenderer\"},{\"attributes\":{\"fill_alpha\":{\"value\":0.5},\"fill_color\":{\"value\":\"#46307D\"},\"hatch_alpha\":{\"value\":0.5},\"hatch_color\":{\"value\":\"#46307D\"},\"line_alpha\":{\"value\":0.5},\"line_color\":{\"value\":\"#46307D\"},\"marker\":{\"value\":\"diamond\"},\"size\":{\"value\":10},\"x\":{\"field\":\"EventTime\"},\"y\":{\"field\":\"y_index\"}},\"id\":\"1348\",\"type\":\"Scatter\"},{\"attributes\":{},\"id\":\"1548\",\"type\":\"UnionRenderers\"},{\"attributes\":{\"coordinates\":null,\"data_source\":{\"id\":\"1036\"},\"glyph\":{\"id\":\"1313\"},\"group\":null,\"hover_glyph\":null,\"muted_glyph\":{\"id\":\"1315\"},\"nonselection_glyph\":{\"id\":\"1314\"},\"view\":{\"id\":\"1317\"}},\"id\":\"1316\",\"type\":\"GlyphRenderer\"},{\"attributes\":{\"coordinates\":null,\"data_source\":{\"id\":\"1066\"},\"glyph\":{\"id\":\"1523\"},\"group\":null,\"hover_glyph\":null,\"muted_glyph\":{\"id\":\"1525\"},\"nonselection_glyph\":{\"id\":\"1524\"},\"view\":{\"id\":\"1527\"}},\"id\":\"1526\",\"type\":\"GlyphRenderer\"},{\"attributes\":{\"fill_alpha\":{\"value\":0.2},\"fill_color\":{\"value\":\"#481E70\"},\"hatch_alpha\":{\"value\":0.2},\"hatch_color\":{\"value\":\"#481E70\"},\"line_alpha\":{\"value\":0.2},\"line_color\":{\"value\":\"#481E70\"},\"marker\":{\"value\":\"diamond\"},\"size\":{\"value\":10},\"x\":{\"field\":\"EventTime\"},\"y\":{\"field\":\"y_index\"}},\"id\":\"1336\",\"type\":\"Scatter\"},{\"attributes\":{\"source\":{\"id\":\"1062\"}},\"id\":\"1280\",\"type\":\"CDSView\"},{\"attributes\":{\"fill_alpha\":{\"value\":0.2},\"fill_color\":{\"value\":\"#40BD72\"},\"hatch_alpha\":{\"value\":0.2},\"hatch_color\":{\"value\":\"#40BD72\"},\"line_alpha\":{\"value\":0.2},\"line_color\":{\"value\":\"#40BD72\"},\"x\":{\"field\":\"EventTime\"},\"y\":{\"field\":\"y_index\"}},\"id\":\"1272\",\"type\":\"Circle\"},{\"attributes\":{\"days\":[1,4,7,10,13,16,19,22,25,28]},\"id\":\"1620\",\"type\":\"DaysTicker\"},{\"attributes\":{\"click_policy\":\"hide\",\"coordinates\":null,\"group\":null,\"items\":[{\"id\":\"1528\"},{\"id\":\"1521\"},{\"id\":\"1514\"},{\"id\":\"1507\"},{\"id\":\"1500\"},{\"id\":\"1493\"},{\"id\":\"1486\"},{\"id\":\"1479\"},{\"id\":\"1472\"},{\"id\":\"1465\"},{\"id\":\"1458\"},{\"id\":\"1451\"},{\"id\":\"1444\"},{\"id\":\"1437\"},{\"id\":\"1430\"},{\"id\":\"1423\"},{\"id\":\"1416\"},{\"id\":\"1409\"},{\"id\":\"1402\"},{\"id\":\"1395\"},{\"id\":\"1388\"},{\"id\":\"1381\"},{\"id\":\"1374\"},{\"id\":\"1367\"},{\"id\":\"1360\"},{\"id\":\"1353\"},{\"id\":\"1346\"},{\"id\":\"1339\"},{\"id\":\"1332\"},{\"id\":\"1325\"},{\"id\":\"1318\"}],\"label_text_font_size\":\"8pt\",\"location\":\"center\"},\"id\":\"1529\",\"type\":\"Legend\"},{\"attributes\":{\"coordinates\":null,\"data_source\":{\"id\":\"1063\"},\"glyph\":{\"id\":\"1282\"},\"group\":null,\"hover_glyph\":null,\"muted_glyph\":{\"id\":\"1284\"},\"nonselection_glyph\":{\"id\":\"1283\"},\"view\":{\"id\":\"1286\"}},\"id\":\"1285\",\"type\":\"GlyphRenderer\"},{\"attributes\":{\"end\":1600715960600.0,\"start\":1600715917400.0},\"id\":\"1071\",\"type\":\"Range1d\"},{\"attributes\":{\"source\":{\"id\":\"1040\"}},\"id\":\"1345\",\"type\":\"CDSView\"},{\"attributes\":{\"fill_color\":{\"value\":\"#4DC26B\"},\"hatch_color\":{\"value\":\"#4DC26B\"},\"line_color\":{\"value\":\"#4DC26B\"},\"x\":{\"field\":\"EventTime\"},\"y\":{\"field\":\"y_index\"}},\"id\":\"1276\",\"type\":\"Circle\"},{\"attributes\":{},\"id\":\"1545\",\"type\":\"Selection\"},{\"attributes\":{\"fill_alpha\":{\"value\":0.2},\"fill_color\":{\"value\":\"#25828E\"},\"hatch_alpha\":{\"value\":0.2},\"hatch_color\":{\"value\":\"#25828E\"},\"line_alpha\":{\"value\":0.2},\"line_color\":{\"value\":\"#25828E\"},\"x\":{\"field\":\"EventTime\"},\"y\":{\"field\":\"y_index\"}},\"id\":\"1218\",\"type\":\"Circle\"},{\"attributes\":{\"fill_alpha\":{\"value\":0.1},\"fill_color\":{\"value\":\"#5BC862\"},\"hatch_alpha\":{\"value\":0.1},\"hatch_color\":{\"value\":\"#5BC862\"},\"line_alpha\":{\"value\":0.1},\"line_color\":{\"value\":\"#5BC862\"},\"x\":{\"field\":\"EventTime\"},\"y\":{\"field\":\"y_index\"}},\"id\":\"1283\",\"type\":\"Circle\"},{\"attributes\":{},\"id\":\"1543\",\"type\":\"Selection\"},{\"attributes\":{\"label\":{\"value\":\"10\"},\"renderers\":[{\"id\":\"1351\"}]},\"id\":\"1353\",\"type\":\"LegendItem\"},{\"attributes\":{\"data\":{\"CommandLine\":[\"NaN\",\"NaN\",\"NaN\",\"NaN\",\"NaN\",\"NaN\",\"NaN\",\"NaN\",\"NaN\",\"NaN\",\"NaN\",\"NaN\",\"NaN\",\"NaN\",\"NaN\",\"NaN\",\"NaN\",\"NaN\",\"NaN\",\"NaN\",\"NaN\",\"NaN\",\"NaN\",\"NaN\",\"NaN\",\"NaN\",\"NaN\",\"NaN\",\"NaN\",\"NaN\",\"NaN\",\"NaN\",\"NaN\",\"NaN\",\"NaN\",\"NaN\",\"NaN\",\"NaN\",\"NaN\",\"NaN\",\"NaN\",\"NaN\",\"NaN\",\"NaN\",\"NaN\",\"NaN\",\"NaN\",\"NaN\",\"NaN\",\"NaN\",\"NaN\",\"NaN\",\"NaN\",\"NaN\",\"NaN\",\"NaN\",\"NaN\",\"NaN\",\"NaN\",\"NaN\",\"NaN\",\"NaN\",\"NaN\",\"NaN\",\"NaN\",\"NaN\",\"NaN\"],\"EventID\":[800,800,800,800,800,800,800,800,800,800,800,800,800,800,800,800,800,800,800,800,800,800,800,800,800,800,800,800,800,800,800,800,800,800,800,800,800,800,800,800,800,800,800,800,800,800,800,800,800,800,800,800,800,800,800,800,800,800,800,800,800,800,800,800,800,800,800],\"EventTime\":{\"__ndarray__\":\"AACfqiFLd0IAAJ+qIUt3QgAAn6ohS3dCAACfqiFLd0IAAJ+qIUt3QgAAn6ohS3dCAACfqiFLd0IAgNerIUt3QgCA16shS3dCAIDXqyFLd0IAgNerIUt3QgCA16shS3dCAIDXqyFLd0IAgNerIUt3QgCA16shS3dCAIDXqyFLd0IAgNerIUt3QgCA16shS3dCAIDXqyFLd0IAgNerIUt3QgCA16shS3dCAIDXqyFLd0IAgNerIUt3QgCA16shS3dCAIDXqyFLd0IAgNerIUt3QgCA16shS3dCAIDXqyFLd0IAgNerIUt3QgCA16shS3dCAIDXqyFLd0IAgNerIUt3QgCATq0hS3dCAIBOrSFLd0IAgE6tIUt3QgCATq0hS3dCAIBOrSFLd0IAgE6tIUt3QgCATq0hS3dCAACHriFLd0IAAIeuIUt3QgAAh64hS3dCAACHriFLd0IAAIeuIUt3QgAAh64hS3dCAACHriFLd0IAgL+vIUt3QgCAv68hS3dCAIC/ryFLd0IAgL+vIUt3QgCAv68hS3dCAIC/ryFLd0IAgL+vIUt3QgAA+LAhS3dCAAD4sCFLd0IAAPiwIUt3QgAA+LAhS3dCAAD4sCFLd0IAAPiwIUt3QgAA+LAhS3dCAIAwsiFLd0IAgDCyIUt3QgCAMLIhS3dCAIAwsiFLd0IAgDCyIUt3QgCAMLIhS3dCAIAwsiFLd0I=\",\"dtype\":\"float64\",\"order\":\"little\",\"shape\":[67]},\"NewProcessName\":[\"NaN\",\"NaN\",\"NaN\",\"NaN\",\"NaN\",\"NaN\",\"NaN\",\"NaN\",\"NaN\",\"NaN\",\"NaN\",\"NaN\",\"NaN\",\"NaN\",\"NaN\",\"NaN\",\"NaN\",\"NaN\",\"NaN\",\"NaN\",\"NaN\",\"NaN\",\"NaN\",\"NaN\",\"NaN\",\"NaN\",\"NaN\",\"NaN\",\"NaN\",\"NaN\",\"NaN\",\"NaN\",\"NaN\",\"NaN\",\"NaN\",\"NaN\",\"NaN\",\"NaN\",\"NaN\",\"NaN\",\"NaN\",\"NaN\",\"NaN\",\"NaN\",\"NaN\",\"NaN\",\"NaN\",\"NaN\",\"NaN\",\"NaN\",\"NaN\",\"NaN\",\"NaN\",\"NaN\",\"NaN\",\"NaN\",\"NaN\",\"NaN\",\"NaN\",\"NaN\",\"NaN\",\"NaN\",\"NaN\",\"NaN\",\"NaN\",\"NaN\",\"NaN\"],\"index\":[17,18,19,21,24,26,27,38,39,40,42,44,47,48,49,51,53,55,57,58,60,62,63,67,69,71,73,76,80,83,86,88,187,188,189,190,192,194,196,466,467,468,469,471,473,476,642,643,645,647,649,651,652,658,659,661,663,665,667,668,868,869,871,873,874,876,878],\"y_index\":[11,11,11,11,11,11,11,11,11,11,11,11,11,11,11,11,11,11,11,11,11,11,11,11,11,11,11,11,11,11,11,11,11,11,11,11,11,11,11,11,11,11,11,11,11,11,11,11,11,11,11,11,11,11,11,11,11,11,11,11,11,11,11,11,11,11,11]},\"selected\":{\"id\":\"1563\"},\"selection_policy\":{\"id\":\"1562\"}},\"id\":\"1047\",\"type\":\"ColumnDataSource\"},{\"attributes\":{\"fill_alpha\":{\"value\":0.5},\"fill_color\":{\"value\":\"#472777\"},\"hatch_alpha\":{\"value\":0.5},\"hatch_color\":{\"value\":\"#472777\"},\"line_alpha\":{\"value\":0.5},\"line_color\":{\"value\":\"#472777\"},\"marker\":{\"value\":\"diamond\"},\"size\":{\"value\":10},\"x\":{\"field\":\"EventTime\"},\"y\":{\"field\":\"y_index\"}},\"id\":\"1341\",\"type\":\"Scatter\"},{\"attributes\":{\"fill_alpha\":{\"value\":0.1},\"fill_color\":{\"value\":\"#4DC26B\"},\"hatch_alpha\":{\"value\":0.1},\"hatch_color\":{\"value\":\"#4DC26B\"},\"line_alpha\":{\"value\":0.1},\"line_color\":{\"value\":\"#4DC26B\"},\"x\":{\"field\":\"EventTime\"},\"y\":{\"field\":\"y_index\"}},\"id\":\"1277\",\"type\":\"Circle\"},{\"attributes\":{\"fill_alpha\":{\"value\":0.1},\"fill_color\":{\"value\":\"#440154\"},\"hatch_alpha\":{\"value\":0.1},\"hatch_color\":{\"value\":\"#440154\"},\"line_alpha\":{\"value\":0.1},\"line_color\":{\"value\":\"#440154\"},\"marker\":{\"value\":\"diamond\"},\"size\":{\"value\":10},\"x\":{\"field\":\"EventTime\"},\"y\":{\"field\":\"y_index\"}},\"id\":\"1314\",\"type\":\"Scatter\"},{\"attributes\":{\"base\":60,\"mantissas\":[1,2,5,10,15,20,30],\"max_interval\":1800000.0,\"min_interval\":1000.0,\"num_minor_ticks\":0},\"id\":\"1617\",\"type\":\"AdaptiveTicker\"},{\"attributes\":{\"coordinates\":null,\"data_source\":{\"id\":\"1061\"},\"glyph\":{\"id\":\"1270\"},\"group\":null,\"hover_glyph\":null,\"muted_glyph\":{\"id\":\"1272\"},\"nonselection_glyph\":{\"id\":\"1271\"},\"view\":{\"id\":\"1274\"}},\"id\":\"1273\",\"type\":\"GlyphRenderer\"},{\"attributes\":{},\"id\":\"1546\",\"type\":\"UnionRenderers\"},{\"attributes\":{\"label\":{\"value\":\"12\"},\"renderers\":[{\"id\":\"1365\"}]},\"id\":\"1367\",\"type\":\"LegendItem\"},{\"attributes\":{\"fill_color\":{\"value\":\"#5BC862\"},\"hatch_color\":{\"value\":\"#5BC862\"},\"line_color\":{\"value\":\"#5BC862\"},\"x\":{\"field\":\"EventTime\"},\"y\":{\"field\":\"y_index\"}},\"id\":\"1282\",\"type\":\"Circle\"},{\"attributes\":{\"source\":{\"id\":\"1060\"}},\"id\":\"1268\",\"type\":\"CDSView\"},{\"attributes\":{\"fill_alpha\":{\"value\":0.1},\"fill_color\":{\"value\":\"#472777\"},\"hatch_alpha\":{\"value\":0.1},\"hatch_color\":{\"value\":\"#472777\"},\"line_alpha\":{\"value\":0.1},\"line_color\":{\"value\":\"#472777\"},\"marker\":{\"value\":\"diamond\"},\"size\":{\"value\":10},\"x\":{\"field\":\"EventTime\"},\"y\":{\"field\":\"y_index\"}},\"id\":\"1342\",\"type\":\"Scatter\"},{\"attributes\":{\"source\":{\"id\":\"1048\"}},\"id\":\"1401\",\"type\":\"CDSView\"},{\"attributes\":{\"base\":24,\"mantissas\":[1,2,4,6,8,12],\"max_interval\":43200000.0,\"min_interval\":3600000.0,\"num_minor_ticks\":0},\"id\":\"1618\",\"type\":\"AdaptiveTicker\"},{\"attributes\":{\"source\":{\"id\":\"1051\"}},\"id\":\"1214\",\"type\":\"CDSView\"},{\"attributes\":{\"fill_alpha\":{\"value\":0.2},\"fill_color\":{\"value\":\"#23898D\"},\"hatch_alpha\":{\"value\":0.2},\"hatch_color\":{\"value\":\"#23898D\"},\"line_alpha\":{\"value\":0.2},\"line_color\":{\"value\":\"#23898D\"},\"x\":{\"field\":\"EventTime\"},\"y\":{\"field\":\"y_index\"}},\"id\":\"1224\",\"type\":\"Circle\"},{\"attributes\":{},\"id\":\"1550\",\"type\":\"UnionRenderers\"},{\"attributes\":{\"months\":[0,2,4,6,8,10]},\"id\":\"1624\",\"type\":\"MonthsTicker\"},{\"attributes\":{\"coordinates\":null,\"data_source\":{\"id\":\"1039\"},\"glyph\":{\"id\":\"1334\"},\"group\":null,\"hover_glyph\":null,\"muted_glyph\":{\"id\":\"1336\"},\"nonselection_glyph\":{\"id\":\"1335\"},\"view\":{\"id\":\"1338\"}},\"id\":\"1337\",\"type\":\"GlyphRenderer\"},{\"attributes\":{\"coordinates\":null,\"data_source\":{\"id\":\"1066\"},\"glyph\":{\"id\":\"1300\"},\"group\":null,\"hover_glyph\":null,\"muted_glyph\":{\"id\":\"1302\"},\"nonselection_glyph\":{\"id\":\"1301\"},\"view\":{\"id\":\"1304\"}},\"id\":\"1303\",\"type\":\"GlyphRenderer\"},{\"attributes\":{\"months\":[0,1,2,3,4,5,6,7,8,9,10,11]},\"id\":\"1623\",\"type\":\"MonthsTicker\"},{\"attributes\":{},\"id\":\"1551\",\"type\":\"Selection\"},{\"attributes\":{\"coordinates\":null,\"data_source\":{\"id\":\"1052\"},\"glyph\":{\"id\":\"1216\"},\"group\":null,\"hover_glyph\":null,\"muted_glyph\":{\"id\":\"1218\"},\"nonselection_glyph\":{\"id\":\"1217\"},\"view\":{\"id\":\"1220\"}},\"id\":\"1219\",\"type\":\"GlyphRenderer\"},{\"attributes\":{\"coordinates\":null,\"data_source\":{\"id\":\"1039\"},\"glyph\":{\"id\":\"1138\"},\"group\":null,\"hover_glyph\":null,\"muted_glyph\":{\"id\":\"1140\"},\"nonselection_glyph\":{\"id\":\"1139\"},\"view\":{\"id\":\"1142\"}},\"id\":\"1141\",\"type\":\"GlyphRenderer\"},{\"attributes\":{\"fill_alpha\":{\"value\":0.5},\"fill_color\":{\"value\":\"#5BC862\"},\"hatch_alpha\":{\"value\":0.5},\"hatch_color\":{\"value\":\"#5BC862\"},\"line_alpha\":{\"value\":0.5},\"line_color\":{\"value\":\"#5BC862\"},\"marker\":{\"value\":\"diamond\"},\"size\":{\"value\":10},\"x\":{\"field\":\"EventTime\"},\"y\":{\"field\":\"y_index\"}},\"id\":\"1502\",\"type\":\"Scatter\"},{\"attributes\":{},\"id\":\"1594\",\"type\":\"UnionRenderers\"},{\"attributes\":{\"fill_alpha\":{\"value\":0.2},\"fill_color\":{\"value\":\"#460B5E\"},\"hatch_alpha\":{\"value\":0.2},\"hatch_color\":{\"value\":\"#460B5E\"},\"line_alpha\":{\"value\":0.2},\"line_color\":{\"value\":\"#460B5E\"},\"x\":{\"field\":\"EventTime\"},\"y\":{\"field\":\"y_index\"}},\"id\":\"1128\",\"type\":\"Circle\"},{\"attributes\":{\"coordinates\":null,\"data_source\":{\"id\":\"1038\"},\"glyph\":{\"id\":\"1132\"},\"group\":null,\"hover_glyph\":null,\"muted_glyph\":{\"id\":\"1134\"},\"nonselection_glyph\":{\"id\":\"1133\"},\"view\":{\"id\":\"1136\"}},\"id\":\"1135\",\"type\":\"GlyphRenderer\"},{\"attributes\":{\"fill_color\":{\"value\":\"#471567\"},\"hatch_color\":{\"value\":\"#471567\"},\"line_color\":{\"value\":\"#471567\"},\"x\":{\"field\":\"EventTime\"},\"y\":{\"field\":\"y_index\"}},\"id\":\"1132\",\"type\":\"Circle\"},{\"attributes\":{\"source\":{\"id\":\"1062\"}},\"id\":\"1499\",\"type\":\"CDSView\"},{\"attributes\":{\"fill_alpha\":{\"value\":0.1},\"fill_color\":{\"value\":\"#4DC26B\"},\"hatch_alpha\":{\"value\":0.1},\"hatch_color\":{\"value\":\"#4DC26B\"},\"line_alpha\":{\"value\":0.1},\"line_color\":{\"value\":\"#4DC26B\"},\"marker\":{\"value\":\"diamond\"},\"size\":{\"value\":10},\"x\":{\"field\":\"EventTime\"},\"y\":{\"field\":\"y_index\"}},\"id\":\"1496\",\"type\":\"Scatter\"},{\"attributes\":{\"fill_color\":{\"value\":\"#472777\"},\"hatch_color\":{\"value\":\"#472777\"},\"line_color\":{\"value\":\"#472777\"},\"x\":{\"field\":\"EventTime\"},\"y\":{\"field\":\"y_index\"}},\"id\":\"1144\",\"type\":\"Circle\"},{\"attributes\":{\"fill_alpha\":{\"value\":0.5},\"fill_color\":{\"value\":\"#440154\"},\"hatch_alpha\":{\"value\":0.5},\"hatch_color\":{\"value\":\"#440154\"},\"line_alpha\":{\"value\":0.5},\"line_color\":{\"value\":\"#440154\"},\"marker\":{\"value\":\"diamond\"},\"size\":{\"value\":10},\"x\":{\"field\":\"EventTime\"},\"y\":{\"field\":\"y_index\"}},\"id\":\"1313\",\"type\":\"Scatter\"},{\"attributes\":{\"coordinates\":null,\"data_source\":{\"id\":\"1058\"},\"glyph\":{\"id\":\"1467\"},\"group\":null,\"hover_glyph\":null,\"muted_glyph\":{\"id\":\"1469\"},\"nonselection_glyph\":{\"id\":\"1468\"},\"view\":{\"id\":\"1471\"}},\"id\":\"1470\",\"type\":\"GlyphRenderer\"},{\"attributes\":{\"source\":{\"id\":\"1037\"}},\"id\":\"1130\",\"type\":\"CDSView\"},{\"attributes\":{\"fill_alpha\":{\"value\":0.1},\"fill_color\":{\"value\":\"#5BC862\"},\"hatch_alpha\":{\"value\":0.1},\"hatch_color\":{\"value\":\"#5BC862\"},\"line_alpha\":{\"value\":0.1},\"line_color\":{\"value\":\"#5BC862\"},\"marker\":{\"value\":\"diamond\"},\"size\":{\"value\":10},\"x\":{\"field\":\"EventTime\"},\"y\":{\"field\":\"y_index\"}},\"id\":\"1503\",\"type\":\"Scatter\"},{\"attributes\":{\"fill_alpha\":{\"value\":0.1},\"fill_color\":{\"value\":\"#35B778\"},\"hatch_alpha\":{\"value\":0.1},\"hatch_color\":{\"value\":\"#35B778\"},\"line_alpha\":{\"value\":0.1},\"line_color\":{\"value\":\"#35B778\"},\"marker\":{\"value\":\"diamond\"},\"size\":{\"value\":10},\"x\":{\"field\":\"EventTime\"},\"y\":{\"field\":\"y_index\"}},\"id\":\"1482\",\"type\":\"Scatter\"},{\"attributes\":{},\"id\":\"1577\",\"type\":\"Selection\"},{\"attributes\":{\"source\":{\"id\":\"1058\"}},\"id\":\"1471\",\"type\":\"CDSView\"},{\"attributes\":{\"fill_alpha\":{\"value\":0.1},\"fill_color\":{\"value\":\"#2AB07E\"},\"hatch_alpha\":{\"value\":0.1},\"hatch_color\":{\"value\":\"#2AB07E\"},\"line_alpha\":{\"value\":0.1},\"line_color\":{\"value\":\"#2AB07E\"},\"marker\":{\"value\":\"diamond\"},\"size\":{\"value\":10},\"x\":{\"field\":\"EventTime\"},\"y\":{\"field\":\"y_index\"}},\"id\":\"1475\",\"type\":\"Scatter\"},{\"attributes\":{\"fill_alpha\":{\"value\":0.1},\"fill_color\":{\"value\":\"#440154\"},\"hatch_alpha\":{\"value\":0.1},\"hatch_color\":{\"value\":\"#440154\"},\"line_alpha\":{\"value\":0.1},\"line_color\":{\"value\":\"#440154\"},\"x\":{\"field\":\"EventTime\"},\"y\":{\"field\":\"y_index\"}},\"id\":\"1121\",\"type\":\"Circle\"},{\"attributes\":{\"fill_alpha\":{\"value\":0.1},\"fill_color\":{\"value\":\"#460B5E\"},\"hatch_alpha\":{\"value\":0.1},\"hatch_color\":{\"value\":\"#460B5E\"},\"line_alpha\":{\"value\":0.1},\"line_color\":{\"value\":\"#460B5E\"},\"x\":{\"field\":\"EventTime\"},\"y\":{\"field\":\"y_index\"}},\"id\":\"1127\",\"type\":\"Circle\"},{\"attributes\":{\"fill_alpha\":{\"value\":0.5},\"fill_color\":{\"value\":\"#35B778\"},\"hatch_alpha\":{\"value\":0.5},\"hatch_color\":{\"value\":\"#35B778\"},\"line_alpha\":{\"value\":0.5},\"line_color\":{\"value\":\"#35B778\"},\"marker\":{\"value\":\"diamond\"},\"size\":{\"value\":10},\"x\":{\"field\":\"EventTime\"},\"y\":{\"field\":\"y_index\"}},\"id\":\"1481\",\"type\":\"Scatter\"},{\"attributes\":{\"fill_alpha\":{\"value\":0.5},\"fill_color\":{\"value\":\"#4DC26B\"},\"hatch_alpha\":{\"value\":0.5},\"hatch_color\":{\"value\":\"#4DC26B\"},\"line_alpha\":{\"value\":0.5},\"line_color\":{\"value\":\"#4DC26B\"},\"marker\":{\"value\":\"diamond\"},\"size\":{\"value\":10},\"x\":{\"field\":\"EventTime\"},\"y\":{\"field\":\"y_index\"}},\"id\":\"1495\",\"type\":\"Scatter\"},{\"attributes\":{\"source\":{\"id\":\"1039\"}},\"id\":\"1142\",\"type\":\"CDSView\"},{\"attributes\":{\"fill_alpha\":{\"value\":0.2},\"fill_color\":{\"value\":\"#481E70\"},\"hatch_alpha\":{\"value\":0.2},\"hatch_color\":{\"value\":\"#481E70\"},\"line_alpha\":{\"value\":0.2},\"line_color\":{\"value\":\"#481E70\"},\"x\":{\"field\":\"EventTime\"},\"y\":{\"field\":\"y_index\"}},\"id\":\"1140\",\"type\":\"Circle\"},{\"attributes\":{\"fill_alpha\":{\"value\":0.2},\"fill_color\":{\"value\":\"#471567\"},\"hatch_alpha\":{\"value\":0.2},\"hatch_color\":{\"value\":\"#471567\"},\"line_alpha\":{\"value\":0.2},\"line_color\":{\"value\":\"#471567\"},\"x\":{\"field\":\"EventTime\"},\"y\":{\"field\":\"y_index\"}},\"id\":\"1134\",\"type\":\"Circle\"},{\"attributes\":{\"coordinates\":null,\"data_source\":{\"id\":\"1062\"},\"glyph\":{\"id\":\"1495\"},\"group\":null,\"hover_glyph\":null,\"muted_glyph\":{\"id\":\"1497\"},\"nonselection_glyph\":{\"id\":\"1496\"},\"view\":{\"id\":\"1499\"}},\"id\":\"1498\",\"type\":\"GlyphRenderer\"},{\"attributes\":{\"fill_color\":{\"value\":\"#481E70\"},\"hatch_color\":{\"value\":\"#481E70\"},\"line_color\":{\"value\":\"#481E70\"},\"x\":{\"field\":\"EventTime\"},\"y\":{\"field\":\"y_index\"}},\"id\":\"1138\",\"type\":\"Circle\"},{\"attributes\":{},\"id\":\"1596\",\"type\":\"UnionRenderers\"},{\"attributes\":{\"fill_alpha\":{\"value\":0.2},\"fill_color\":{\"value\":\"#4DC26B\"},\"hatch_alpha\":{\"value\":0.2},\"hatch_color\":{\"value\":\"#4DC26B\"},\"line_alpha\":{\"value\":0.2},\"line_color\":{\"value\":\"#4DC26B\"},\"marker\":{\"value\":\"diamond\"},\"size\":{\"value\":10},\"x\":{\"field\":\"EventTime\"},\"y\":{\"field\":\"y_index\"}},\"id\":\"1497\",\"type\":\"Scatter\"},{\"attributes\":{\"coordinates\":null,\"data_source\":{\"id\":\"1059\"},\"glyph\":{\"id\":\"1474\"},\"group\":null,\"hover_glyph\":null,\"muted_glyph\":{\"id\":\"1476\"},\"nonselection_glyph\":{\"id\":\"1475\"},\"view\":{\"id\":\"1478\"}},\"id\":\"1477\",\"type\":\"GlyphRenderer\"},{\"attributes\":{\"source\":{\"id\":\"1038\"}},\"id\":\"1136\",\"type\":\"CDSView\"},{\"attributes\":{},\"id\":\"1595\",\"type\":\"Selection\"},{\"attributes\":{\"coordinates\":null,\"data_source\":{\"id\":\"1037\"},\"glyph\":{\"id\":\"1126\"},\"group\":null,\"hover_glyph\":null,\"muted_glyph\":{\"id\":\"1128\"},\"nonselection_glyph\":{\"id\":\"1127\"},\"view\":{\"id\":\"1130\"}},\"id\":\"1129\",\"type\":\"GlyphRenderer\"},{\"attributes\":{\"fill_alpha\":{\"value\":0.5},\"fill_color\":{\"value\":\"#2AB07E\"},\"hatch_alpha\":{\"value\":0.5},\"hatch_color\":{\"value\":\"#2AB07E\"},\"line_alpha\":{\"value\":0.5},\"line_color\":{\"value\":\"#2AB07E\"},\"marker\":{\"value\":\"diamond\"},\"size\":{\"value\":10},\"x\":{\"field\":\"EventTime\"},\"y\":{\"field\":\"y_index\"}},\"id\":\"1474\",\"type\":\"Scatter\"},{\"attributes\":{\"fill_alpha\":{\"value\":0.1},\"fill_color\":{\"value\":\"#481E70\"},\"hatch_alpha\":{\"value\":0.1},\"hatch_color\":{\"value\":\"#481E70\"},\"line_alpha\":{\"value\":0.1},\"line_color\":{\"value\":\"#481E70\"},\"x\":{\"field\":\"EventTime\"},\"y\":{\"field\":\"y_index\"}},\"id\":\"1139\",\"type\":\"Circle\"},{\"attributes\":{\"fill_alpha\":{\"value\":0.1},\"fill_color\":{\"value\":\"#471567\"},\"hatch_alpha\":{\"value\":0.1},\"hatch_color\":{\"value\":\"#471567\"},\"line_alpha\":{\"value\":0.1},\"line_color\":{\"value\":\"#471567\"},\"x\":{\"field\":\"EventTime\"},\"y\":{\"field\":\"y_index\"}},\"id\":\"1133\",\"type\":\"Circle\"},{\"attributes\":{\"label\":{\"value\":\"5158\"},\"renderers\":[{\"id\":\"1519\"}]},\"id\":\"1521\",\"type\":\"LegendItem\"},{\"attributes\":{\"fill_alpha\":{\"value\":0.2},\"fill_color\":{\"value\":\"#23A982\"},\"hatch_alpha\":{\"value\":0.2},\"hatch_color\":{\"value\":\"#23A982\"},\"line_alpha\":{\"value\":0.2},\"line_color\":{\"value\":\"#23A982\"},\"marker\":{\"value\":\"diamond\"},\"size\":{\"value\":10},\"x\":{\"field\":\"EventTime\"},\"y\":{\"field\":\"y_index\"}},\"id\":\"1469\",\"type\":\"Scatter\"},{\"attributes\":{},\"id\":\"1576\",\"type\":\"UnionRenderers\"},{\"attributes\":{\"label\":{\"value\":\"5140\"},\"renderers\":[{\"id\":\"1498\"}]},\"id\":\"1500\",\"type\":\"LegendItem\"},{\"attributes\":{\"fill_color\":{\"value\":\"#287B8E\"},\"hatch_color\":{\"value\":\"#287B8E\"},\"line_color\":{\"value\":\"#287B8E\"},\"x\":{\"field\":\"EventTime\"},\"y\":{\"field\":\"y_index\"}},\"id\":\"1210\",\"type\":\"Circle\"},{\"attributes\":{\"source\":{\"id\":\"1059\"}},\"id\":\"1478\",\"type\":\"CDSView\"},{\"attributes\":{},\"id\":\"1537\",\"type\":\"AllLabels\"},{\"attributes\":{},\"id\":\"1579\",\"type\":\"Selection\"},{\"attributes\":{},\"id\":\"1539\",\"type\":\"AllLabels\"},{\"attributes\":{},\"id\":\"1578\",\"type\":\"UnionRenderers\"},{\"attributes\":{},\"id\":\"1597\",\"type\":\"Selection\"},{\"attributes\":{\"fill_alpha\":{\"value\":0.2},\"fill_color\":{\"value\":\"#2AB07E\"},\"hatch_alpha\":{\"value\":0.2},\"hatch_color\":{\"value\":\"#2AB07E\"},\"line_alpha\":{\"value\":0.2},\"line_color\":{\"value\":\"#2AB07E\"},\"marker\":{\"value\":\"diamond\"},\"size\":{\"value\":10},\"x\":{\"field\":\"EventTime\"},\"y\":{\"field\":\"y_index\"}},\"id\":\"1476\",\"type\":\"Scatter\"},{\"attributes\":{\"fill_alpha\":{\"value\":0.5},\"fill_color\":{\"value\":\"#208F8C\"},\"hatch_alpha\":{\"value\":0.5},\"hatch_color\":{\"value\":\"#208F8C\"},\"line_alpha\":{\"value\":0.5},\"line_color\":{\"value\":\"#208F8C\"},\"marker\":{\"value\":\"diamond\"},\"size\":{\"value\":10},\"x\":{\"field\":\"EventTime\"},\"y\":{\"field\":\"y_index\"}},\"id\":\"1439\",\"type\":\"Scatter\"},{\"attributes\":{\"fill_alpha\":{\"value\":0.2},\"fill_color\":{\"value\":\"#30678D\"},\"hatch_alpha\":{\"value\":0.2},\"hatch_color\":{\"value\":\"#30678D\"},\"line_alpha\":{\"value\":0.2},\"line_color\":{\"value\":\"#30678D\"},\"x\":{\"field\":\"EventTime\"},\"y\":{\"field\":\"y_index\"}},\"id\":\"1194\",\"type\":\"Circle\"},{\"attributes\":{\"coordinates\":null,\"data_source\":{\"id\":\"1059\"},\"glyph\":{\"id\":\"1258\"},\"group\":null,\"hover_glyph\":null,\"muted_glyph\":{\"id\":\"1260\"},\"nonselection_glyph\":{\"id\":\"1259\"},\"view\":{\"id\":\"1262\"}},\"id\":\"1261\",\"type\":\"GlyphRenderer\"},{\"attributes\":{\"fill_color\":{\"value\":\"#37588C\"},\"hatch_color\":{\"value\":\"#37588C\"},\"line_color\":{\"value\":\"#37588C\"},\"x\":{\"field\":\"EventTime\"},\"y\":{\"field\":\"y_index\"}},\"id\":\"1180\",\"type\":\"Circle\"},{\"attributes\":{\"axis\":{\"id\":\"1111\"},\"coordinates\":null,\"group\":null,\"ticker\":null},\"id\":\"1114\",\"type\":\"Grid\"},{\"attributes\":{\"fill_alpha\":{\"value\":0.1},\"fill_color\":{\"value\":\"#3B518A\"},\"hatch_alpha\":{\"value\":0.1},\"hatch_color\":{\"value\":\"#3B518A\"},\"line_alpha\":{\"value\":0.1},\"line_color\":{\"value\":\"#3B518A\"},\"marker\":{\"value\":\"diamond\"},\"size\":{\"value\":10},\"x\":{\"field\":\"EventTime\"},\"y\":{\"field\":\"y_index\"}},\"id\":\"1377\",\"type\":\"Scatter\"},{\"attributes\":{\"source\":{\"id\":\"1052\"}},\"id\":\"1429\",\"type\":\"CDSView\"},{\"attributes\":{\"source\":{\"id\":\"1048\"}},\"id\":\"1196\",\"type\":\"CDSView\"},{\"attributes\":{\"fill_alpha\":{\"value\":0.1},\"fill_color\":{\"value\":\"#37588C\"},\"hatch_alpha\":{\"value\":0.1},\"hatch_color\":{\"value\":\"#37588C\"},\"line_alpha\":{\"value\":0.1},\"line_color\":{\"value\":\"#37588C\"},\"marker\":{\"value\":\"diamond\"},\"size\":{\"value\":10},\"x\":{\"field\":\"EventTime\"},\"y\":{\"field\":\"y_index\"}},\"id\":\"1384\",\"type\":\"Scatter\"},{\"attributes\":{\"fill_alpha\":{\"value\":0.2},\"fill_color\":{\"value\":\"#37588C\"},\"hatch_alpha\":{\"value\":0.2},\"hatch_color\":{\"value\":\"#37588C\"},\"line_alpha\":{\"value\":0.2},\"line_color\":{\"value\":\"#37588C\"},\"x\":{\"field\":\"EventTime\"},\"y\":{\"field\":\"y_index\"}},\"id\":\"1182\",\"type\":\"Circle\"},{\"attributes\":{\"fill_alpha\":{\"value\":0.2},\"fill_color\":{\"value\":\"#345F8D\"},\"hatch_alpha\":{\"value\":0.2},\"hatch_color\":{\"value\":\"#345F8D\"},\"line_alpha\":{\"value\":0.2},\"line_color\":{\"value\":\"#345F8D\"},\"marker\":{\"value\":\"diamond\"},\"size\":{\"value\":10},\"x\":{\"field\":\"EventTime\"},\"y\":{\"field\":\"y_index\"}},\"id\":\"1392\",\"type\":\"Scatter\"},{\"attributes\":{\"source\":{\"id\":\"1044\"}},\"id\":\"1373\",\"type\":\"CDSView\"},{\"attributes\":{\"source\":{\"id\":\"1053\"}},\"id\":\"1436\",\"type\":\"CDSView\"},{\"attributes\":{\"label\":{\"value\":\"4799\"},\"renderers\":[{\"id\":\"1491\"}]},\"id\":\"1493\",\"type\":\"LegendItem\"},{\"attributes\":{\"fill_alpha\":{\"value\":0.2},\"fill_color\":{\"value\":\"#23A982\"},\"hatch_alpha\":{\"value\":0.2},\"hatch_color\":{\"value\":\"#23A982\"},\"line_alpha\":{\"value\":0.2},\"line_color\":{\"value\":\"#23A982\"},\"x\":{\"field\":\"EventTime\"},\"y\":{\"field\":\"y_index\"}},\"id\":\"1254\",\"type\":\"Circle\"},{\"attributes\":{\"coordinates\":null,\"data_source\":{\"id\":\"1047\"},\"glyph\":{\"id\":\"1390\"},\"group\":null,\"hover_glyph\":null,\"muted_glyph\":{\"id\":\"1392\"},\"nonselection_glyph\":{\"id\":\"1391\"},\"view\":{\"id\":\"1394\"}},\"id\":\"1393\",\"type\":\"GlyphRenderer\"},{\"attributes\":{\"coordinates\":null,\"data_source\":{\"id\":\"1049\"},\"glyph\":{\"id\":\"1198\"},\"group\":null,\"hover_glyph\":null,\"muted_glyph\":{\"id\":\"1200\"},\"nonselection_glyph\":{\"id\":\"1199\"},\"view\":{\"id\":\"1202\"}},\"id\":\"1201\",\"type\":\"GlyphRenderer\"},{\"attributes\":{\"data\":{\"CommandLine\":[\"NaN\",\"NaN\",\"NaN\",\"NaN\",\"NaN\",\"NaN\",\"NaN\",\"NaN\",\"NaN\",\"NaN\",\"NaN\",\"NaN\",\"NaN\",\"NaN\",\"NaN\",\"NaN\",\"NaN\",\"NaN\",\"NaN\",\"NaN\",\"NaN\",\"NaN\",\"NaN\",\"NaN\",\"NaN\",\"NaN\",\"NaN\",\"NaN\",\"NaN\",\"NaN\",\"NaN\",\"NaN\",\"NaN\",\"NaN\",\"NaN\"],\"EventID\":[7,7,7,7,7,7,7,7,7,7,7,7,7,7,7,7,7,7,7,7,7,7,7,7,7,7,7,7,7,7,7,7,7,7,7],\"EventTime\":{\"__ndarray__\":\"AIDXqyFLd0IAgNerIUt3QgCA16shS3dCAIDXqyFLd0IAgNerIUt3QgCA16shS3dCAIDXqyFLd0IAgNerIUt3QgCA16shS3dCAIDXqyFLd0IAgNerIUt3QgCA16shS3dCAIDXqyFLd0IAgNerIUt3QgCA16shS3dCAIDXqyFLd0IAgNerIUt3QgCA16shS3dCAIDXqyFLd0IAgNerIUt3QgCA16shS3dCAIDXqyFLd0IAgNerIUt3QgCA16shS3dCAIDXqyFLd0IAgNerIUt3QgCA16shS3dCAIDXqyFLd0IAgNerIUt3QgCA16shS3dCAIDXqyFLd0IAgNerIUt3QgCA16shS3dCAIDXqyFLd0IAgNerIUt3Qg==\",\"dtype\":\"float64\",\"order\":\"little\",\"shape\":[35]},\"NewProcessName\":[\"NaN\",\"NaN\",\"NaN\",\"NaN\",\"NaN\",\"NaN\",\"NaN\",\"NaN\",\"NaN\",\"NaN\",\"NaN\",\"NaN\",\"NaN\",\"NaN\",\"NaN\",\"NaN\",\"NaN\",\"NaN\",\"NaN\",\"NaN\",\"NaN\",\"NaN\",\"NaN\",\"NaN\",\"NaN\",\"NaN\",\"NaN\",\"NaN\",\"NaN\",\"NaN\",\"NaN\",\"NaN\",\"NaN\",\"NaN\",\"NaN\"],\"index\":[90,96,97,98,100,101,102,103,104,105,106,107,108,109,110,111,115,116,120,121,123,124,125,126,127,128,129,130,131,132,133,134,135,137,140],\"y_index\":[3,3,3,3,3,3,3,3,3,3,3,3,3,3,3,3,3,3,3,3,3,3,3,3,3,3,3,3,3,3,3,3,3,3,3]},\"selected\":{\"id\":\"1547\"},\"selection_policy\":{\"id\":\"1546\"}},\"id\":\"1039\",\"type\":\"ColumnDataSource\"},{\"attributes\":{},\"id\":\"1560\",\"type\":\"UnionRenderers\"},{\"attributes\":{\"overlay\":{\"id\":\"1092\"}},\"id\":\"1088\",\"type\":\"BoxZoomTool\"},{\"attributes\":{\"source\":{\"id\":\"1045\"}},\"id\":\"1380\",\"type\":\"CDSView\"},{\"attributes\":{\"source\":{\"id\":\"1059\"}},\"id\":\"1262\",\"type\":\"CDSView\"},{\"attributes\":{\"coordinates\":null,\"data_source\":{\"id\":\"1052\"},\"glyph\":{\"id\":\"1425\"},\"group\":null,\"hover_glyph\":null,\"muted_glyph\":{\"id\":\"1427\"},\"nonselection_glyph\":{\"id\":\"1426\"},\"view\":{\"id\":\"1429\"}},\"id\":\"1428\",\"type\":\"GlyphRenderer\"},{\"attributes\":{\"fill_alpha\":{\"value\":0.2},\"fill_color\":{\"value\":\"#208F8C\"},\"hatch_alpha\":{\"value\":0.2},\"hatch_color\":{\"value\":\"#208F8C\"},\"line_alpha\":{\"value\":0.2},\"line_color\":{\"value\":\"#208F8C\"},\"marker\":{\"value\":\"diamond\"},\"size\":{\"value\":10},\"x\":{\"field\":\"EventTime\"},\"y\":{\"field\":\"y_index\"}},\"id\":\"1441\",\"type\":\"Scatter\"},{\"attributes\":{\"source\":{\"id\":\"1058\"}},\"id\":\"1256\",\"type\":\"CDSView\"},{\"attributes\":{\"coordinates\":null,\"formatter\":{\"id\":\"1117\"},\"group\":null,\"major_label_policy\":{\"id\":\"1539\"},\"ticker\":{\"id\":\"1112\"}},\"id\":\"1111\",\"type\":\"DatetimeAxis\"},{\"attributes\":{\"label\":{\"value\":\"4672\"},\"renderers\":[{\"id\":\"1449\"}]},\"id\":\"1451\",\"type\":\"LegendItem\"},{\"attributes\":{\"fill_color\":{\"value\":\"#30678D\"},\"hatch_color\":{\"value\":\"#30678D\"},\"line_color\":{\"value\":\"#30678D\"},\"x\":{\"field\":\"EventTime\"},\"y\":{\"field\":\"y_index\"}},\"id\":\"1192\",\"type\":\"Circle\"},{\"attributes\":{\"fill_alpha\":{\"value\":0.2},\"fill_color\":{\"value\":\"#2AB07E\"},\"hatch_alpha\":{\"value\":0.2},\"hatch_color\":{\"value\":\"#2AB07E\"},\"line_alpha\":{\"value\":0.2},\"line_color\":{\"value\":\"#2AB07E\"},\"x\":{\"field\":\"EventTime\"},\"y\":{\"field\":\"y_index\"}},\"id\":\"1260\",\"type\":\"Circle\"},{\"attributes\":{\"coordinates\":null,\"data_source\":{\"id\":\"1044\"},\"glyph\":{\"id\":\"1369\"},\"group\":null,\"hover_glyph\":null,\"muted_glyph\":{\"id\":\"1371\"},\"nonselection_glyph\":{\"id\":\"1370\"},\"view\":{\"id\":\"1373\"}},\"id\":\"1372\",\"type\":\"GlyphRenderer\"},{\"attributes\":{\"axis_label\":\"Event Time\",\"coordinates\":null,\"formatter\":{\"id\":\"1310\"},\"group\":null,\"major_label_policy\":{\"id\":\"1537\"},\"ticker\":{\"id\":\"1080\"}},\"id\":\"1079\",\"type\":\"DatetimeAxis\"},{\"attributes\":{\"fill_alpha\":{\"value\":0.2},\"fill_color\":{\"value\":\"#35B778\"},\"hatch_alpha\":{\"value\":0.2},\"hatch_color\":{\"value\":\"#35B778\"},\"line_alpha\":{\"value\":0.2},\"line_color\":{\"value\":\"#35B778\"},\"x\":{\"field\":\"EventTime\"},\"y\":{\"field\":\"y_index\"}},\"id\":\"1266\",\"type\":\"Circle\"},{\"attributes\":{},\"id\":\"1586\",\"type\":\"UnionRenderers\"},{\"attributes\":{\"axis\":{\"id\":\"1083\"},\"coordinates\":null,\"dimension\":1,\"grid_line_color\":null,\"group\":null,\"ticker\":null},\"id\":\"1086\",\"type\":\"Grid\"},{\"attributes\":{\"fill_alpha\":{\"value\":0.1},\"fill_color\":{\"value\":\"#30678D\"},\"hatch_alpha\":{\"value\":0.1},\"hatch_color\":{\"value\":\"#30678D\"},\"line_alpha\":{\"value\":0.1},\"line_color\":{\"value\":\"#30678D\"},\"x\":{\"field\":\"EventTime\"},\"y\":{\"field\":\"y_index\"}},\"id\":\"1193\",\"type\":\"Circle\"},{\"attributes\":{\"coordinates\":null,\"data_source\":{\"id\":\"1054\"},\"glyph\":{\"id\":\"1439\"},\"group\":null,\"hover_glyph\":null,\"muted_glyph\":{\"id\":\"1441\"},\"nonselection_glyph\":{\"id\":\"1440\"},\"view\":{\"id\":\"1443\"}},\"id\":\"1442\",\"type\":\"GlyphRenderer\"},{\"attributes\":{\"bottom_units\":\"screen\",\"coordinates\":null,\"fill_alpha\":0.5,\"fill_color\":\"lightgrey\",\"group\":null,\"left_units\":\"screen\",\"level\":\"overlay\",\"line_alpha\":1.0,\"line_color\":\"black\",\"line_dash\":[4,4],\"line_width\":2,\"right_units\":\"screen\",\"syncable\":false,\"top_units\":\"screen\"},\"id\":\"1092\",\"type\":\"BoxAnnotation\"},{\"attributes\":{\"fill_alpha\":{\"value\":0.5},\"fill_color\":{\"value\":\"#3B518A\"},\"hatch_alpha\":{\"value\":0.5},\"hatch_color\":{\"value\":\"#3B518A\"},\"line_alpha\":{\"value\":0.5},\"line_color\":{\"value\":\"#3B518A\"},\"marker\":{\"value\":\"diamond\"},\"size\":{\"value\":10},\"x\":{\"field\":\"EventTime\"},\"y\":{\"field\":\"y_index\"}},\"id\":\"1376\",\"type\":\"Scatter\"},{\"attributes\":{\"source\":{\"id\":\"1046\"}},\"id\":\"1184\",\"type\":\"CDSView\"},{\"attributes\":{\"source\":{\"id\":\"1057\"}},\"id\":\"1250\",\"type\":\"CDSView\"},{\"attributes\":{\"fill_alpha\":{\"value\":0.5},\"fill_color\":{\"value\":\"#345F8D\"},\"hatch_alpha\":{\"value\":0.5},\"hatch_color\":{\"value\":\"#345F8D\"},\"line_alpha\":{\"value\":0.5},\"line_color\":{\"value\":\"#345F8D\"},\"marker\":{\"value\":\"diamond\"},\"size\":{\"value\":10},\"x\":{\"field\":\"EventTime\"},\"y\":{\"field\":\"y_index\"}},\"id\":\"1390\",\"type\":\"Scatter\"},{\"attributes\":{},\"id\":\"1089\",\"type\":\"ResetTool\"},{\"attributes\":{\"fill_alpha\":{\"value\":0.2},\"fill_color\":{\"value\":\"#1FA386\"},\"hatch_alpha\":{\"value\":0.2},\"hatch_color\":{\"value\":\"#1FA386\"},\"line_alpha\":{\"value\":0.2},\"line_color\":{\"value\":\"#1FA386\"},\"x\":{\"field\":\"EventTime\"},\"y\":{\"field\":\"y_index\"}},\"id\":\"1248\",\"type\":\"Circle\"},{\"attributes\":{\"label\":{\"value\":\"7\"},\"renderers\":[{\"id\":\"1337\"}]},\"id\":\"1339\",\"type\":\"LegendItem\"},{\"attributes\":{\"coordinates\":null,\"data_source\":{\"id\":\"1060\"},\"glyph\":{\"id\":\"1264\"},\"group\":null,\"hover_glyph\":null,\"muted_glyph\":{\"id\":\"1266\"},\"nonselection_glyph\":{\"id\":\"1265\"},\"view\":{\"id\":\"1268\"}},\"id\":\"1267\",\"type\":\"GlyphRenderer\"},{\"attributes\":{\"align\":\"right\",\"coordinates\":null,\"group\":null,\"text\":\"Drag the middle or edges of the selection box to change the range in the main chart\",\"text_font_size\":\"10px\"},\"id\":\"1116\",\"type\":\"Title\"},{\"attributes\":{},\"id\":\"1588\",\"type\":\"UnionRenderers\"},{\"attributes\":{\"dimensions\":\"width\"},\"id\":\"1087\",\"type\":\"WheelZoomTool\"},{\"attributes\":{},\"id\":\"1563\",\"type\":\"Selection\"},{\"attributes\":{\"tools\":[{\"id\":\"1067\"},{\"id\":\"1087\"},{\"id\":\"1088\"},{\"id\":\"1089\"},{\"id\":\"1090\"},{\"id\":\"1091\"}]},\"id\":\"1093\",\"type\":\"Toolbar\"},{\"attributes\":{\"coordinates\":null,\"data_source\":{\"id\":\"1048\"},\"glyph\":{\"id\":\"1192\"},\"group\":null,\"hover_glyph\":null,\"muted_glyph\":{\"id\":\"1194\"},\"nonselection_glyph\":{\"id\":\"1193\"},\"view\":{\"id\":\"1196\"}},\"id\":\"1195\",\"type\":\"GlyphRenderer\"},{\"attributes\":{\"fill_alpha\":{\"value\":0.1},\"fill_color\":{\"value\":\"#2AB07E\"},\"hatch_alpha\":{\"value\":0.1},\"hatch_color\":{\"value\":\"#2AB07E\"},\"line_alpha\":{\"value\":0.1},\"line_color\":{\"value\":\"#2AB07E\"},\"x\":{\"field\":\"EventTime\"},\"y\":{\"field\":\"y_index\"}},\"id\":\"1259\",\"type\":\"Circle\"},{\"attributes\":{\"source\":{\"id\":\"1047\"}},\"id\":\"1394\",\"type\":\"CDSView\"},{\"attributes\":{\"label\":{\"value\":\"4688\"},\"renderers\":[{\"id\":\"1463\"}]},\"id\":\"1465\",\"type\":\"LegendItem\"},{\"attributes\":{},\"id\":\"1561\",\"type\":\"Selection\"},{\"attributes\":{\"coordinates\":null,\"formatter\":{\"id\":\"1534\"},\"group\":null,\"major_label_policy\":{\"id\":\"1535\"},\"ticker\":{\"id\":\"1084\"},\"visible\":false},\"id\":\"1083\",\"type\":\"LinearAxis\"},{\"attributes\":{\"fill_alpha\":{\"value\":0.1},\"fill_color\":{\"value\":\"#208F8C\"},\"hatch_alpha\":{\"value\":0.1},\"hatch_color\":{\"value\":\"#208F8C\"},\"line_alpha\":{\"value\":0.1},\"line_color\":{\"value\":\"#208F8C\"},\"marker\":{\"value\":\"diamond\"},\"size\":{\"value\":10},\"x\":{\"field\":\"EventTime\"},\"y\":{\"field\":\"y_index\"}},\"id\":\"1440\",\"type\":\"Scatter\"},{\"attributes\":{\"fill_color\":{\"value\":\"#23A982\"},\"hatch_color\":{\"value\":\"#23A982\"},\"line_color\":{\"value\":\"#23A982\"},\"x\":{\"field\":\"EventTime\"},\"y\":{\"field\":\"y_index\"}},\"id\":\"1252\",\"type\":\"Circle\"},{\"attributes\":{\"source\":{\"id\":\"1054\"}},\"id\":\"1443\",\"type\":\"CDSView\"},{\"attributes\":{},\"id\":\"1562\",\"type\":\"UnionRenderers\"},{\"attributes\":{\"coordinates\":null,\"data_source\":{\"id\":\"1047\"},\"glyph\":{\"id\":\"1186\"},\"group\":null,\"hover_glyph\":null,\"muted_glyph\":{\"id\":\"1188\"},\"nonselection_glyph\":{\"id\":\"1187\"},\"view\":{\"id\":\"1190\"}},\"id\":\"1189\",\"type\":\"GlyphRenderer\"},{\"attributes\":{\"num_minor_ticks\":10,\"tickers\":[{\"id\":\"1603\"},{\"id\":\"1604\"},{\"id\":\"1605\"},{\"id\":\"1606\"},{\"id\":\"1607\"},{\"id\":\"1608\"},{\"id\":\"1609\"},{\"id\":\"1610\"},{\"id\":\"1611\"},{\"id\":\"1612\"},{\"id\":\"1613\"},{\"id\":\"1614\"}]},\"id\":\"1080\",\"type\":\"DatetimeTicker\"},{\"attributes\":{\"source\":{\"id\":\"1036\"}},\"id\":\"1317\",\"type\":\"CDSView\"},{\"attributes\":{\"fill_alpha\":{\"value\":0.1},\"fill_color\":{\"value\":\"#23A982\"},\"hatch_alpha\":{\"value\":0.1},\"hatch_color\":{\"value\":\"#23A982\"},\"line_alpha\":{\"value\":0.1},\"line_color\":{\"value\":\"#23A982\"},\"x\":{\"field\":\"EventTime\"},\"y\":{\"field\":\"y_index\"}},\"id\":\"1253\",\"type\":\"Circle\"},{\"attributes\":{},\"id\":\"1075\",\"type\":\"LinearScale\"},{\"attributes\":{\"label\":{\"value\":\"4624\"},\"renderers\":[{\"id\":\"1407\"}]},\"id\":\"1409\",\"type\":\"LegendItem\"},{\"attributes\":{\"fill_color\":{\"value\":\"#345F8D\"},\"hatch_color\":{\"value\":\"#345F8D\"},\"line_color\":{\"value\":\"#345F8D\"},\"x\":{\"field\":\"EventTime\"},\"y\":{\"field\":\"y_index\"}},\"id\":\"1186\",\"type\":\"Circle\"},{\"attributes\":{\"fill_alpha\":{\"value\":0.5},\"fill_color\":{\"value\":\"#1F968B\"},\"hatch_alpha\":{\"value\":0.5},\"hatch_color\":{\"value\":\"#1F968B\"},\"line_alpha\":{\"value\":0.5},\"line_color\":{\"value\":\"#1F968B\"},\"marker\":{\"value\":\"diamond\"},\"size\":{\"value\":10},\"x\":{\"field\":\"EventTime\"},\"y\":{\"field\":\"y_index\"}},\"id\":\"1446\",\"type\":\"Scatter\"},{\"attributes\":{\"coordinates\":null,\"data_source\":{\"id\":\"1057\"},\"glyph\":{\"id\":\"1246\"},\"group\":null,\"hover_glyph\":null,\"muted_glyph\":{\"id\":\"1248\"},\"nonselection_glyph\":{\"id\":\"1247\"},\"view\":{\"id\":\"1250\"}},\"id\":\"1249\",\"type\":\"GlyphRenderer\"},{\"attributes\":{\"source\":{\"id\":\"1046\"}},\"id\":\"1387\",\"type\":\"CDSView\"},{\"attributes\":{\"num_minor_ticks\":5,\"tickers\":[{\"id\":\"1616\"},{\"id\":\"1617\"},{\"id\":\"1618\"},{\"id\":\"1619\"},{\"id\":\"1620\"},{\"id\":\"1621\"},{\"id\":\"1622\"},{\"id\":\"1623\"},{\"id\":\"1624\"},{\"id\":\"1625\"},{\"id\":\"1626\"},{\"id\":\"1627\"}]},\"id\":\"1112\",\"type\":\"DatetimeTicker\"},{\"attributes\":{\"source\":{\"id\":\"1049\"}},\"id\":\"1202\",\"type\":\"CDSView\"},{\"attributes\":{\"fill_alpha\":{\"value\":0.1},\"fill_color\":{\"value\":\"#1FA386\"},\"hatch_alpha\":{\"value\":0.1},\"hatch_color\":{\"value\":\"#1FA386\"},\"line_alpha\":{\"value\":0.1},\"line_color\":{\"value\":\"#1FA386\"},\"x\":{\"field\":\"EventTime\"},\"y\":{\"field\":\"y_index\"}},\"id\":\"1247\",\"type\":\"Circle\"},{\"attributes\":{\"fill_alpha\":{\"value\":0.2},\"fill_color\":{\"value\":\"#37588C\"},\"hatch_alpha\":{\"value\":0.2},\"hatch_color\":{\"value\":\"#37588C\"},\"line_alpha\":{\"value\":0.2},\"line_color\":{\"value\":\"#37588C\"},\"marker\":{\"value\":\"diamond\"},\"size\":{\"value\":10},\"x\":{\"field\":\"EventTime\"},\"y\":{\"field\":\"y_index\"}},\"id\":\"1385\",\"type\":\"Scatter\"},{\"attributes\":{\"source\":{\"id\":\"1061\"}},\"id\":\"1492\",\"type\":\"CDSView\"},{\"attributes\":{},\"id\":\"1109\",\"type\":\"LinearScale\"},{\"attributes\":{\"fill_alpha\":{\"value\":0.1},\"fill_color\":{\"value\":\"#23898D\"},\"hatch_alpha\":{\"value\":0.1},\"hatch_color\":{\"value\":\"#23898D\"},\"line_alpha\":{\"value\":0.1},\"line_color\":{\"value\":\"#23898D\"},\"marker\":{\"value\":\"diamond\"},\"size\":{\"value\":10},\"x\":{\"field\":\"EventTime\"},\"y\":{\"field\":\"y_index\"}},\"id\":\"1433\",\"type\":\"Scatter\"},{\"attributes\":{\"fill_alpha\":{\"value\":0.1},\"fill_color\":{\"value\":\"#35B778\"},\"hatch_alpha\":{\"value\":0.1},\"hatch_color\":{\"value\":\"#35B778\"},\"line_alpha\":{\"value\":0.1},\"line_color\":{\"value\":\"#35B778\"},\"x\":{\"field\":\"EventTime\"},\"y\":{\"field\":\"y_index\"}},\"id\":\"1265\",\"type\":\"Circle\"},{\"attributes\":{\"fill_alpha\":{\"value\":0.1},\"fill_color\":{\"value\":\"#25828E\"},\"hatch_alpha\":{\"value\":0.1},\"hatch_color\":{\"value\":\"#25828E\"},\"line_alpha\":{\"value\":0.1},\"line_color\":{\"value\":\"#25828E\"},\"marker\":{\"value\":\"diamond\"},\"size\":{\"value\":10},\"x\":{\"field\":\"EventTime\"},\"y\":{\"field\":\"y_index\"}},\"id\":\"1426\",\"type\":\"Scatter\"},{\"attributes\":{},\"id\":\"1084\",\"type\":\"BasicTicker\"},{\"attributes\":{\"days\":[\"%m-%d %H:%M\"],\"hours\":[\"%H:%M:%S\"],\"milliseconds\":[\"%H:%M:%S.%3N\"],\"minutes\":[\"%H:%M:%S\"],\"seconds\":[\"%H:%M:%S\"]},\"id\":\"1310\",\"type\":\"DatetimeTickFormatter\"},{\"attributes\":{\"fill_alpha\":{\"value\":0.1},\"fill_color\":{\"value\":\"#37588C\"},\"hatch_alpha\":{\"value\":0.1},\"hatch_color\":{\"value\":\"#37588C\"},\"line_alpha\":{\"value\":0.1},\"line_color\":{\"value\":\"#37588C\"},\"x\":{\"field\":\"EventTime\"},\"y\":{\"field\":\"y_index\"}},\"id\":\"1181\",\"type\":\"Circle\"},{\"attributes\":{\"coordinates\":null,\"data_source\":{\"id\":\"1046\"},\"glyph\":{\"id\":\"1383\"},\"group\":null,\"hover_glyph\":null,\"muted_glyph\":{\"id\":\"1385\"},\"nonselection_glyph\":{\"id\":\"1384\"},\"view\":{\"id\":\"1387\"}},\"id\":\"1386\",\"type\":\"GlyphRenderer\"},{\"attributes\":{\"fill_color\":{\"value\":\"#2D6E8E\"},\"hatch_color\":{\"value\":\"#2D6E8E\"},\"line_color\":{\"value\":\"#2D6E8E\"},\"x\":{\"field\":\"EventTime\"},\"y\":{\"field\":\"y_index\"}},\"id\":\"1198\",\"type\":\"Circle\"},{\"attributes\":{\"fill_alpha\":{\"value\":0.2},\"fill_color\":{\"value\":\"#3E4989\"},\"hatch_alpha\":{\"value\":0.2},\"hatch_color\":{\"value\":\"#3E4989\"},\"line_alpha\":{\"value\":0.2},\"line_color\":{\"value\":\"#3E4989\"},\"marker\":{\"value\":\"diamond\"},\"size\":{\"value\":10},\"x\":{\"field\":\"EventTime\"},\"y\":{\"field\":\"y_index\"}},\"id\":\"1371\",\"type\":\"Scatter\"},{\"attributes\":{\"data\":{\"CommandLine\":[\"NaN\",\"NaN\"],\"EventID\":[5140,5140],\"EventTime\":{\"__ndarray__\":\"AAAKriFLd0IAAHWxIUt3Qg==\",\"dtype\":\"float64\",\"order\":\"little\",\"shape\":[2]},\"NewProcessName\":[\"NaN\",\"NaN\"],\"index\":[408,763],\"y_index\":[26,26]},\"selected\":{\"id\":\"1593\"},\"selection_policy\":{\"id\":\"1592\"}},\"id\":\"1062\",\"type\":\"ColumnDataSource\"},{\"attributes\":{\"fill_alpha\":{\"value\":0.2},\"fill_color\":{\"value\":\"#345F8D\"},\"hatch_alpha\":{\"value\":0.2},\"hatch_color\":{\"value\":\"#345F8D\"},\"line_alpha\":{\"value\":0.2},\"line_color\":{\"value\":\"#345F8D\"},\"x\":{\"field\":\"EventTime\"},\"y\":{\"field\":\"y_index\"}},\"id\":\"1188\",\"type\":\"Circle\"},{\"attributes\":{\"fill_alpha\":{\"value\":0.1},\"fill_color\":{\"value\":\"#345F8D\"},\"hatch_alpha\":{\"value\":0.1},\"hatch_color\":{\"value\":\"#345F8D\"},\"line_alpha\":{\"value\":0.1},\"line_color\":{\"value\":\"#345F8D\"},\"x\":{\"field\":\"EventTime\"},\"y\":{\"field\":\"y_index\"}},\"id\":\"1187\",\"type\":\"Circle\"},{\"attributes\":{\"fill_alpha\":{\"value\":0.2},\"fill_color\":{\"value\":\"#25828E\"},\"hatch_alpha\":{\"value\":0.2},\"hatch_color\":{\"value\":\"#25828E\"},\"line_alpha\":{\"value\":0.2},\"line_color\":{\"value\":\"#25828E\"},\"marker\":{\"value\":\"diamond\"},\"size\":{\"value\":10},\"x\":{\"field\":\"EventTime\"},\"y\":{\"field\":\"y_index\"}},\"id\":\"1427\",\"type\":\"Scatter\"},{\"attributes\":{\"source\":{\"id\":\"1047\"}},\"id\":\"1190\",\"type\":\"CDSView\"},{\"attributes\":{\"coordinates\":null,\"data_source\":{\"id\":\"1045\"},\"glyph\":{\"id\":\"1376\"},\"group\":null,\"hover_glyph\":null,\"muted_glyph\":{\"id\":\"1378\"},\"nonselection_glyph\":{\"id\":\"1377\"},\"view\":{\"id\":\"1380\"}},\"id\":\"1379\",\"type\":\"GlyphRenderer\"},{\"attributes\":{\"data\":{\"CommandLine\":[\"NaN\",\"NaN\",\"NaN\",\"NaN\",\"NaN\",\"NaN\",\"NaN\",\"NaN\",\"NaN\",\"NaN\",\"NaN\",\"NaN\",\"NaN\",\"NaN\",\"NaN\",\"NaN\",\"NaN\",\"NaN\",\"NaN\",\"NaN\",\"NaN\",\"NaN\",\"NaN\",\"NaN\",\"NaN\",\"NaN\",\"NaN\",\"NaN\",\"NaN\",\"NaN\",\"NaN\",\"NaN\",\"NaN\",\"NaN\",\"NaN\",\"NaN\",\"NaN\",\"NaN\",\"NaN\",\"NaN\",\"NaN\",\"NaN\",\"NaN\",\"NaN\",\"NaN\",\"NaN\",\"NaN\"],\"EventID\":[5858,5858,5858,5858,5858,5858,5858,5858,5858,5858,5858,5858,5858,5858,5858,5858,5858,5858,5858,5858,5858,5858,5858,5858,5858,5858,5858,5858,5858,5858,5858,5858,5858,5858,5858,5858,5858,5858,5858,5858,5858,5858,5858,5858,5858,5858,5858],\"EventTime\":{\"__ndarray__\":\"AAB1sSFLd0IAAHWxIUt3QgAAdbEhS3dCAAB1sSFLd0IAAHWxIUt3QgAAdbEhS3dCAAB1sSFLd0IAAHWxIUt3QgAAdbEhS3dCAAB1sSFLd0IAAHWxIUt3QgAAdbEhS3dCAAB1sSFLd0IAAHWxIUt3QgAAdbEhS3dCAAB1sSFLd0IAAHWxIUt3QgAAdbEhS3dCAAB1sSFLd0IAAHWxIUt3QgAAdbEhS3dCAAB1sSFLd0IAAHWxIUt3QgAAdbEhS3dCAAB1sSFLd0IAAHWxIUt3QgAAdbEhS3dCAAB1sSFLd0IAAHWxIUt3QgAAdbEhS3dCAAB1sSFLd0IAAHWxIUt3QgAAdbEhS3dCAAB1sSFLd0IAAHWxIUt3QgAAdbEhS3dCAAB1sSFLd0IAAHWxIUt3QgAAdbEhS3dCAAB1sSFLd0IAAHWxIUt3QgAAdbEhS3dCAAB1sSFLd0IAAHWxIUt3QgAAdbEhS3dCAAB1sSFLd0IAAHWxIUt3Qg==\",\"dtype\":\"float64\",\"order\":\"little\",\"shape\":[47]},\"NewProcessName\":[\"NaN\",\"NaN\",\"NaN\",\"NaN\",\"NaN\",\"NaN\",\"NaN\",\"NaN\",\"NaN\",\"NaN\",\"NaN\",\"NaN\",\"NaN\",\"NaN\",\"NaN\",\"NaN\",\"NaN\",\"NaN\",\"NaN\",\"NaN\",\"NaN\",\"NaN\",\"NaN\",\"NaN\",\"NaN\",\"NaN\",\"NaN\",\"NaN\",\"NaN\",\"NaN\",\"NaN\",\"NaN\",\"NaN\",\"NaN\",\"NaN\",\"NaN\",\"NaN\",\"NaN\",\"NaN\",\"NaN\",\"NaN\",\"NaN\",\"NaN\",\"NaN\",\"NaN\",\"NaN\",\"NaN\"],\"index\":[734,736,737,738,739,740,741,742,743,744,747,749,752,755,756,758,760,762,765,767,769,770,773,775,776,778,781,782,784,786,788,791,793,795,797,799,800,803,804,806,808,811,812,815,817,819,820],\"y_index\":[30,30,30,30,30,30,30,30,30,30,30,30,30,30,30,30,30,30,30,30,30,30,30,30,30,30,30,30,30,30,30,30,30,30,30,30,30,30,30,30,30,30,30,30,30,30,30]},\"selected\":{\"id\":\"1601\"},\"selection_policy\":{\"id\":\"1600\"}},\"id\":\"1066\",\"type\":\"ColumnDataSource\"},{\"attributes\":{},\"id\":\"1587\",\"type\":\"Selection\"},{\"attributes\":{\"fill_alpha\":{\"value\":0.2},\"fill_color\":{\"value\":\"#3B518A\"},\"hatch_alpha\":{\"value\":0.2},\"hatch_color\":{\"value\":\"#3B518A\"},\"line_alpha\":{\"value\":0.2},\"line_color\":{\"value\":\"#3B518A\"},\"marker\":{\"value\":\"diamond\"},\"size\":{\"value\":10},\"x\":{\"field\":\"EventTime\"},\"y\":{\"field\":\"y_index\"}},\"id\":\"1378\",\"type\":\"Scatter\"},{\"attributes\":{},\"id\":\"1589\",\"type\":\"Selection\"},{\"attributes\":{},\"id\":\"1541\",\"type\":\"Selection\"},{\"attributes\":{\"data\":{\"CommandLine\":[\"NaN\",\"NaN\"],\"EventID\":[3,3],\"EventTime\":{\"__ndarray__\":\"AIBUrCFLd0IAgFSsIUt3Qg==\",\"dtype\":\"float64\",\"order\":\"little\",\"shape\":[2]},\"NewProcessName\":[\"NaN\",\"NaN\"],\"index\":[185,186],\"y_index\":[1,1]},\"selected\":{\"id\":\"1543\"},\"selection_policy\":{\"id\":\"1542\"}},\"id\":\"1037\",\"type\":\"ColumnDataSource\"},{\"attributes\":{\"label\":{\"value\":\"5145\"},\"renderers\":[{\"id\":\"1505\"}]},\"id\":\"1507\",\"type\":\"LegendItem\"},{\"attributes\":{\"fill_color\":{\"value\":\"#2AB07E\"},\"hatch_color\":{\"value\":\"#2AB07E\"},\"line_color\":{\"value\":\"#2AB07E\"},\"x\":{\"field\":\"EventTime\"},\"y\":{\"field\":\"y_index\"}},\"id\":\"1258\",\"type\":\"Circle\"},{\"attributes\":{},\"id\":\"1077\",\"type\":\"LinearScale\"},{\"attributes\":{\"coordinates\":null,\"fill_alpha\":0.2,\"fill_color\":\"navy\",\"group\":null,\"level\":\"overlay\",\"line_alpha\":1.0,\"line_color\":\"black\",\"line_dash\":[2,2],\"line_width\":0.5,\"syncable\":false},\"id\":\"1306\",\"type\":\"BoxAnnotation\"},{\"attributes\":{},\"id\":\"1107\",\"type\":\"LinearScale\"},{\"attributes\":{\"fill_alpha\":{\"value\":0.2},\"fill_color\":{\"value\":\"#23898D\"},\"hatch_alpha\":{\"value\":0.2},\"hatch_color\":{\"value\":\"#23898D\"},\"line_alpha\":{\"value\":0.2},\"line_color\":{\"value\":\"#23898D\"},\"marker\":{\"value\":\"diamond\"},\"size\":{\"value\":10},\"x\":{\"field\":\"EventTime\"},\"y\":{\"field\":\"y_index\"}},\"id\":\"1434\",\"type\":\"Scatter\"},{\"attributes\":{\"label\":{\"value\":\"4103\"},\"renderers\":[{\"id\":\"1400\"}]},\"id\":\"1402\",\"type\":\"LegendItem\"},{\"attributes\":{\"fill_color\":{\"value\":\"#1FA386\"},\"hatch_color\":{\"value\":\"#1FA386\"},\"line_color\":{\"value\":\"#1FA386\"},\"x\":{\"field\":\"EventTime\"},\"y\":{\"field\":\"y_index\"}},\"id\":\"1246\",\"type\":\"Circle\"},{\"attributes\":{\"fill_alpha\":{\"value\":0.5},\"fill_color\":{\"value\":\"#37588C\"},\"hatch_alpha\":{\"value\":0.5},\"hatch_color\":{\"value\":\"#37588C\"},\"line_alpha\":{\"value\":0.5},\"line_color\":{\"value\":\"#37588C\"},\"marker\":{\"value\":\"diamond\"},\"size\":{\"value\":10},\"x\":{\"field\":\"EventTime\"},\"y\":{\"field\":\"y_index\"}},\"id\":\"1383\",\"type\":\"Scatter\"},{\"attributes\":{\"dimensions\":\"width\"},\"id\":\"1091\",\"type\":\"PanTool\"},{\"attributes\":{\"fill_color\":{\"value\":\"#35B778\"},\"hatch_color\":{\"value\":\"#35B778\"},\"line_color\":{\"value\":\"#35B778\"},\"x\":{\"field\":\"EventTime\"},\"y\":{\"field\":\"y_index\"}},\"id\":\"1264\",\"type\":\"Circle\"},{\"attributes\":{\"fill_alpha\":{\"value\":0.1},\"fill_color\":{\"value\":\"#345F8D\"},\"hatch_alpha\":{\"value\":0.1},\"hatch_color\":{\"value\":\"#345F8D\"},\"line_alpha\":{\"value\":0.1},\"line_color\":{\"value\":\"#345F8D\"},\"marker\":{\"value\":\"diamond\"},\"size\":{\"value\":10},\"x\":{\"field\":\"EventTime\"},\"y\":{\"field\":\"y_index\"}},\"id\":\"1391\",\"type\":\"Scatter\"},{\"attributes\":{\"label\":{\"value\":\"4673\"},\"renderers\":[{\"id\":\"1456\"}]},\"id\":\"1458\",\"type\":\"LegendItem\"},{\"attributes\":{\"coordinates\":null,\"data_source\":{\"id\":\"1058\"},\"glyph\":{\"id\":\"1252\"},\"group\":null,\"hover_glyph\":null,\"muted_glyph\":{\"id\":\"1254\"},\"nonselection_glyph\":{\"id\":\"1253\"},\"view\":{\"id\":\"1256\"}},\"id\":\"1255\",\"type\":\"GlyphRenderer\"},{\"attributes\":{},\"id\":\"1090\",\"type\":\"SaveTool\"},{\"attributes\":{\"fill_alpha\":{\"value\":0.5},\"fill_color\":{\"value\":\"#23898D\"},\"hatch_alpha\":{\"value\":0.5},\"hatch_color\":{\"value\":\"#23898D\"},\"line_alpha\":{\"value\":0.5},\"line_color\":{\"value\":\"#23898D\"},\"marker\":{\"value\":\"diamond\"},\"size\":{\"value\":10},\"x\":{\"field\":\"EventTime\"},\"y\":{\"field\":\"y_index\"}},\"id\":\"1432\",\"type\":\"Scatter\"},{\"attributes\":{\"coordinates\":null,\"data_source\":{\"id\":\"1053\"},\"glyph\":{\"id\":\"1432\"},\"group\":null,\"hover_glyph\":null,\"muted_glyph\":{\"id\":\"1434\"},\"nonselection_glyph\":{\"id\":\"1433\"},\"view\":{\"id\":\"1436\"}},\"id\":\"1435\",\"type\":\"GlyphRenderer\"},{\"attributes\":{\"axis\":{\"id\":\"1079\"},\"coordinates\":null,\"group\":null,\"minor_grid_line_alpha\":0.3,\"minor_grid_line_color\":\"navy\",\"ticker\":null},\"id\":\"1082\",\"type\":\"Grid\"},{\"attributes\":{\"label\":{\"value\":\"800\"},\"renderers\":[{\"id\":\"1393\"}]},\"id\":\"1395\",\"type\":\"LegendItem\"},{\"attributes\":{\"coordinates\":null,\"data_source\":{\"id\":\"1046\"},\"glyph\":{\"id\":\"1180\"},\"group\":null,\"hover_glyph\":null,\"muted_glyph\":{\"id\":\"1182\"},\"nonselection_glyph\":{\"id\":\"1181\"},\"view\":{\"id\":\"1184\"}},\"id\":\"1183\",\"type\":\"GlyphRenderer\"},{\"attributes\":{\"label\":{\"value\":\"5156\"},\"renderers\":[{\"id\":\"1512\"}]},\"id\":\"1514\",\"type\":\"LegendItem\"},{\"attributes\":{\"fill_alpha\":{\"value\":0.1},\"fill_color\":{\"value\":\"#7CD24F\"},\"hatch_alpha\":{\"value\":0.1},\"hatch_color\":{\"value\":\"#7CD24F\"},\"line_alpha\":{\"value\":0.1},\"line_color\":{\"value\":\"#7CD24F\"},\"x\":{\"field\":\"EventTime\"},\"y\":{\"field\":\"y_index\"}},\"id\":\"1295\",\"type\":\"Circle\"},{\"attributes\":{\"fill_color\":{\"value\":\"#414186\"},\"hatch_color\":{\"value\":\"#414186\"},\"line_color\":{\"value\":\"#414186\"},\"x\":{\"field\":\"EventTime\"},\"y\":{\"field\":\"y_index\"}},\"id\":\"1162\",\"type\":\"Circle\"},{\"attributes\":{\"fill_alpha\":{\"value\":0.2},\"fill_color\":{\"value\":\"#3B518A\"},\"hatch_alpha\":{\"value\":0.2},\"hatch_color\":{\"value\":\"#3B518A\"},\"line_alpha\":{\"value\":0.2},\"line_color\":{\"value\":\"#3B518A\"},\"x\":{\"field\":\"EventTime\"},\"y\":{\"field\":\"y_index\"}},\"id\":\"1176\",\"type\":\"Circle\"},{\"attributes\":{\"fill_color\":{\"value\":\"#2A758E\"},\"hatch_color\":{\"value\":\"#2A758E\"},\"line_color\":{\"value\":\"#2A758E\"},\"x\":{\"field\":\"EventTime\"},\"y\":{\"field\":\"y_index\"}},\"id\":\"1204\",\"type\":\"Circle\"},{\"attributes\":{\"fill_color\":{\"value\":\"#7CD24F\"},\"hatch_color\":{\"value\":\"#7CD24F\"},\"line_color\":{\"value\":\"#7CD24F\"},\"x\":{\"field\":\"EventTime\"},\"y\":{\"field\":\"y_index\"}},\"id\":\"1294\",\"type\":\"Circle\"},{\"attributes\":{\"fill_alpha\":{\"value\":0.2},\"fill_color\":{\"value\":\"#6BCD59\"},\"hatch_alpha\":{\"value\":0.2},\"hatch_color\":{\"value\":\"#6BCD59\"},\"line_alpha\":{\"value\":0.2},\"line_color\":{\"value\":\"#6BCD59\"},\"x\":{\"field\":\"EventTime\"},\"y\":{\"field\":\"y_index\"}},\"id\":\"1290\",\"type\":\"Circle\"},{\"attributes\":{\"fill_alpha\":{\"value\":0.1},\"fill_color\":{\"value\":\"#471567\"},\"hatch_alpha\":{\"value\":0.1},\"hatch_color\":{\"value\":\"#471567\"},\"line_alpha\":{\"value\":0.1},\"line_color\":{\"value\":\"#471567\"},\"marker\":{\"value\":\"diamond\"},\"size\":{\"value\":10},\"x\":{\"field\":\"EventTime\"},\"y\":{\"field\":\"y_index\"}},\"id\":\"1328\",\"type\":\"Scatter\"},{\"attributes\":{\"coordinates\":null,\"data_source\":{\"id\":\"1045\"},\"glyph\":{\"id\":\"1174\"},\"group\":null,\"hover_glyph\":null,\"muted_glyph\":{\"id\":\"1176\"},\"nonselection_glyph\":{\"id\":\"1175\"},\"view\":{\"id\":\"1178\"}},\"id\":\"1177\",\"type\":\"GlyphRenderer\"},{\"attributes\":{\"fill_alpha\":{\"value\":0.1},\"fill_color\":{\"value\":\"#2A758E\"},\"hatch_alpha\":{\"value\":0.1},\"hatch_color\":{\"value\":\"#2A758E\"},\"line_alpha\":{\"value\":0.1},\"line_color\":{\"value\":\"#2A758E\"},\"x\":{\"field\":\"EventTime\"},\"y\":{\"field\":\"y_index\"}},\"id\":\"1205\",\"type\":\"Circle\"},{\"attributes\":{\"below\":[{\"id\":\"1111\"},{\"id\":\"1116\"}],\"center\":[{\"id\":\"1114\"}],\"height\":155,\"renderers\":[{\"id\":\"1123\"},{\"id\":\"1129\"},{\"id\":\"1135\"},{\"id\":\"1141\"},{\"id\":\"1147\"},{\"id\":\"1153\"},{\"id\":\"1159\"},{\"id\":\"1165\"},{\"id\":\"1171\"},{\"id\":\"1177\"},{\"id\":\"1183\"},{\"id\":\"1189\"},{\"id\":\"1195\"},{\"id\":\"1201\"},{\"id\":\"1207\"},{\"id\":\"1213\"},{\"id\":\"1219\"},{\"id\":\"1225\"},{\"id\":\"1231\"},{\"id\":\"1237\"},{\"id\":\"1243\"},{\"id\":\"1249\"},{\"id\":\"1255\"},{\"id\":\"1261\"},{\"id\":\"1267\"},{\"id\":\"1273\"},{\"id\":\"1279\"},{\"id\":\"1285\"},{\"id\":\"1291\"},{\"id\":\"1297\"},{\"id\":\"1303\"}],\"title\":{\"id\":\"1101\"},\"toolbar\":{\"id\":\"1115\"},\"toolbar_location\":null,\"width\":900,\"x_range\":{\"id\":\"1103\"},\"x_scale\":{\"id\":\"1107\"},\"y_range\":{\"id\":\"1105\"},\"y_scale\":{\"id\":\"1109\"}},\"id\":\"1100\",\"subtype\":\"Figure\",\"type\":\"Plot\"},{\"attributes\":{\"coordinates\":null,\"data_source\":{\"id\":\"1037\"},\"glyph\":{\"id\":\"1320\"},\"group\":null,\"hover_glyph\":null,\"muted_glyph\":{\"id\":\"1322\"},\"nonselection_glyph\":{\"id\":\"1321\"},\"view\":{\"id\":\"1324\"}},\"id\":\"1323\",\"type\":\"GlyphRenderer\"},{\"attributes\":{\"fill_color\":{\"value\":\"#3B518A\"},\"hatch_color\":{\"value\":\"#3B518A\"},\"line_color\":{\"value\":\"#3B518A\"},\"x\":{\"field\":\"EventTime\"},\"y\":{\"field\":\"y_index\"}},\"id\":\"1174\",\"type\":\"Circle\"},{\"attributes\":{\"label\":{\"value\":\"9\"},\"renderers\":[{\"id\":\"1344\"}]},\"id\":\"1346\",\"type\":\"LegendItem\"},{\"attributes\":{\"source\":{\"id\":\"1043\"}},\"id\":\"1166\",\"type\":\"CDSView\"},{\"attributes\":{\"fill_alpha\":{\"value\":0.2},\"fill_color\":{\"value\":\"#460B5E\"},\"hatch_alpha\":{\"value\":0.2},\"hatch_color\":{\"value\":\"#460B5E\"},\"line_alpha\":{\"value\":0.2},\"line_color\":{\"value\":\"#460B5E\"},\"marker\":{\"value\":\"diamond\"},\"size\":{\"value\":10},\"x\":{\"field\":\"EventTime\"},\"y\":{\"field\":\"y_index\"}},\"id\":\"1322\",\"type\":\"Scatter\"},{\"attributes\":{\"fill_alpha\":{\"value\":0.2},\"fill_color\":{\"value\":\"#414186\"},\"hatch_alpha\":{\"value\":0.2},\"hatch_color\":{\"value\":\"#414186\"},\"line_alpha\":{\"value\":0.2},\"line_color\":{\"value\":\"#414186\"},\"x\":{\"field\":\"EventTime\"},\"y\":{\"field\":\"y_index\"}},\"id\":\"1164\",\"type\":\"Circle\"},{\"attributes\":{\"fill_color\":{\"value\":\"#8DD644\"},\"hatch_color\":{\"value\":\"#8DD644\"},\"line_color\":{\"value\":\"#8DD644\"},\"x\":{\"field\":\"EventTime\"},\"y\":{\"field\":\"y_index\"}},\"id\":\"1300\",\"type\":\"Circle\"},{\"attributes\":{\"fill_alpha\":{\"value\":0.2},\"fill_color\":{\"value\":\"#7CD24F\"},\"hatch_alpha\":{\"value\":0.2},\"hatch_color\":{\"value\":\"#7CD24F\"},\"line_alpha\":{\"value\":0.2},\"line_color\":{\"value\":\"#7CD24F\"},\"x\":{\"field\":\"EventTime\"},\"y\":{\"field\":\"y_index\"}},\"id\":\"1296\",\"type\":\"Circle\"},{\"attributes\":{\"label\":{\"value\":\"3\"},\"renderers\":[{\"id\":\"1323\"}]},\"id\":\"1325\",\"type\":\"LegendItem\"},{\"attributes\":{\"fill_alpha\":{\"value\":0.1},\"fill_color\":{\"value\":\"#3B518A\"},\"hatch_alpha\":{\"value\":0.1},\"hatch_color\":{\"value\":\"#3B518A\"},\"line_alpha\":{\"value\":0.1},\"line_color\":{\"value\":\"#3B518A\"},\"x\":{\"field\":\"EventTime\"},\"y\":{\"field\":\"y_index\"}},\"id\":\"1175\",\"type\":\"Circle\"},{\"attributes\":{\"fill_alpha\":{\"value\":0.1},\"fill_color\":{\"value\":\"#6BCD59\"},\"hatch_alpha\":{\"value\":0.1},\"hatch_color\":{\"value\":\"#6BCD59\"},\"line_alpha\":{\"value\":0.1},\"line_color\":{\"value\":\"#6BCD59\"},\"x\":{\"field\":\"EventTime\"},\"y\":{\"field\":\"y_index\"}},\"id\":\"1289\",\"type\":\"Circle\"},{\"attributes\":{\"source\":{\"id\":\"1065\"}},\"id\":\"1298\",\"type\":\"CDSView\"},{\"attributes\":{\"source\":{\"id\":\"1064\"}},\"id\":\"1292\",\"type\":\"CDSView\"},{\"attributes\":{\"fill_alpha\":{\"value\":0.1},\"fill_color\":{\"value\":\"#414186\"},\"hatch_alpha\":{\"value\":0.1},\"hatch_color\":{\"value\":\"#414186\"},\"line_alpha\":{\"value\":0.1},\"line_color\":{\"value\":\"#414186\"},\"x\":{\"field\":\"EventTime\"},\"y\":{\"field\":\"y_index\"}},\"id\":\"1163\",\"type\":\"Circle\"},{\"attributes\":{\"source\":{\"id\":\"1037\"}},\"id\":\"1324\",\"type\":\"CDSView\"},{\"attributes\":{\"fill_alpha\":{\"value\":0.1},\"fill_color\":{\"value\":\"#3E4989\"},\"hatch_alpha\":{\"value\":0.1},\"hatch_color\":{\"value\":\"#3E4989\"},\"line_alpha\":{\"value\":0.1},\"line_color\":{\"value\":\"#3E4989\"},\"x\":{\"field\":\"EventTime\"},\"y\":{\"field\":\"y_index\"}},\"id\":\"1169\",\"type\":\"Circle\"},{\"attributes\":{\"coordinates\":null,\"data_source\":{\"id\":\"1043\"},\"glyph\":{\"id\":\"1162\"},\"group\":null,\"hover_glyph\":null,\"muted_glyph\":{\"id\":\"1164\"},\"nonselection_glyph\":{\"id\":\"1163\"},\"view\":{\"id\":\"1166\"}},\"id\":\"1165\",\"type\":\"GlyphRenderer\"},{\"attributes\":{\"fill_alpha\":{\"value\":0.5},\"fill_color\":{\"value\":\"#30678D\"},\"hatch_alpha\":{\"value\":0.5},\"hatch_color\":{\"value\":\"#30678D\"},\"line_alpha\":{\"value\":0.5},\"line_color\":{\"value\":\"#30678D\"},\"marker\":{\"value\":\"diamond\"},\"size\":{\"value\":10},\"x\":{\"field\":\"EventTime\"},\"y\":{\"field\":\"y_index\"}},\"id\":\"1397\",\"type\":\"Scatter\"},{\"attributes\":{\"fill_alpha\":{\"value\":0.5},\"fill_color\":{\"value\":\"#471567\"},\"hatch_alpha\":{\"value\":0.5},\"hatch_color\":{\"value\":\"#471567\"},\"line_alpha\":{\"value\":0.5},\"line_color\":{\"value\":\"#471567\"},\"marker\":{\"value\":\"diamond\"},\"size\":{\"value\":10},\"x\":{\"field\":\"EventTime\"},\"y\":{\"field\":\"y_index\"}},\"id\":\"1327\",\"type\":\"Scatter\"},{\"attributes\":{\"data\":{\"CommandLine\":[\"NaN\",\"NaN\",\"NaN\",\"NaN\",\"NaN\",\"NaN\",\"NaN\",\"NaN\",\"NaN\",\"NaN\",\"NaN\",\"NaN\",\"NaN\",\"NaN\",\"NaN\",\"NaN\",\"NaN\",\"NaN\"],\"EventID\":[4658,4658,4658,4658,4658,4658,4658,4658,4658,4658,4658,4658,4658,4658,4658,4658,4658,4658],\"EventTime\":{\"__ndarray__\":\"AIDXqyFLd0IAgNerIUt3QgAAdbEhS3dCAAB1sSFLd0IAAHWxIUt3QgAAdbEhS3dCAAB1sSFLd0IAAHWxIUt3QgAAdbEhS3dCAAB1sSFLd0IAAHWxIUt3QgAAdbEhS3dCAAB1sSFLd0IAAHWxIUt3QgAAdbEhS3dCAAB1sSFLd0IAAHWxIUt3QgAAdbEhS3dC\",\"dtype\":\"float64\",\"order\":\"little\",\"shape\":[18]},\"NewProcessName\":[\"NaN\",\"NaN\",\"NaN\",\"NaN\",\"NaN\",\"NaN\",\"NaN\",\"NaN\",\"NaN\",\"NaN\",\"NaN\",\"NaN\",\"NaN\",\"NaN\",\"NaN\",\"NaN\",\"NaN\",\"NaN\"],\"index\":[174,177,699,702,704,707,709,712,729,732,735,748,771,777,851,854,857,860],\"y_index\":[17,17,17,17,17,17,17,17,17,17,17,17,17,17,17,17,17,17]},\"selected\":{\"id\":\"1575\"},\"selection_policy\":{\"id\":\"1574\"}},\"id\":\"1053\",\"type\":\"ColumnDataSource\"},{\"attributes\":{\"source\":{\"id\":\"1044\"}},\"id\":\"1172\",\"type\":\"CDSView\"},{\"attributes\":{\"coordinates\":null,\"data_source\":{\"id\":\"1044\"},\"glyph\":{\"id\":\"1168\"},\"group\":null,\"hover_glyph\":null,\"muted_glyph\":{\"id\":\"1170\"},\"nonselection_glyph\":{\"id\":\"1169\"},\"view\":{\"id\":\"1172\"}},\"id\":\"1171\",\"type\":\"GlyphRenderer\"},{\"attributes\":{\"fill_alpha\":{\"value\":0.1},\"fill_color\":{\"value\":\"#460B5E\"},\"hatch_alpha\":{\"value\":0.1},\"hatch_color\":{\"value\":\"#460B5E\"},\"line_alpha\":{\"value\":0.1},\"line_color\":{\"value\":\"#460B5E\"},\"marker\":{\"value\":\"diamond\"},\"size\":{\"value\":10},\"x\":{\"field\":\"EventTime\"},\"y\":{\"field\":\"y_index\"}},\"id\":\"1321\",\"type\":\"Scatter\"},{\"attributes\":{\"coordinates\":null,\"data_source\":{\"id\":\"1064\"},\"glyph\":{\"id\":\"1288\"},\"group\":null,\"hover_glyph\":null,\"muted_glyph\":{\"id\":\"1290\"},\"nonselection_glyph\":{\"id\":\"1289\"},\"view\":{\"id\":\"1292\"}},\"id\":\"1291\",\"type\":\"GlyphRenderer\"},{\"attributes\":{\"fill_color\":{\"value\":\"#3E4989\"},\"hatch_color\":{\"value\":\"#3E4989\"},\"line_color\":{\"value\":\"#3E4989\"},\"x\":{\"field\":\"EventTime\"},\"y\":{\"field\":\"y_index\"}},\"id\":\"1168\",\"type\":\"Circle\"},{\"attributes\":{\"data\":{\"CommandLine\":[\"\\\"C:\\\\windows\\\\system32\\\\net.exe\\\" localgroup\\nAdministrators\",\"C:\\\\windows\\\\system32\\\\net1 localgroup Administrators\"],\"EventID\":[1,1],\"EventTime\":{\"__ndarray__\":\"AIDXqyFLd0IAgNerIUt3Qg==\",\"dtype\":\"float64\",\"order\":\"little\",\"shape\":[2]},\"NewProcessName\":[\"NaN\",\"NaN\"],\"index\":[82,112],\"y_index\":[0,0]},\"selected\":{\"id\":\"1541\"},\"selection_policy\":{\"id\":\"1540\"}},\"id\":\"1036\",\"type\":\"ColumnDataSource\"},{\"attributes\":{\"coordinates\":null,\"data_source\":{\"id\":\"1065\"},\"glyph\":{\"id\":\"1294\"},\"group\":null,\"hover_glyph\":null,\"muted_glyph\":{\"id\":\"1296\"},\"nonselection_glyph\":{\"id\":\"1295\"},\"view\":{\"id\":\"1298\"}},\"id\":\"1297\",\"type\":\"GlyphRenderer\"},{\"attributes\":{\"fill_alpha\":{\"value\":0.2},\"fill_color\":{\"value\":\"#3E4989\"},\"hatch_alpha\":{\"value\":0.2},\"hatch_color\":{\"value\":\"#3E4989\"},\"line_alpha\":{\"value\":0.2},\"line_color\":{\"value\":\"#3E4989\"},\"x\":{\"field\":\"EventTime\"},\"y\":{\"field\":\"y_index\"}},\"id\":\"1170\",\"type\":\"Circle\"},{\"attributes\":{\"source\":{\"id\":\"1045\"}},\"id\":\"1178\",\"type\":\"CDSView\"},{\"attributes\":{\"source\":{\"id\":\"1043\"}},\"id\":\"1366\",\"type\":\"CDSView\"},{\"attributes\":{},\"id\":\"1585\",\"type\":\"Selection\"},{\"attributes\":{\"data\":{\"CommandLine\":[\"NaN\",\"NaN\",\"NaN\",\"NaN\",\"NaN\",\"NaN\",\"NaN\",\"NaN\",\"NaN\"],\"EventID\":[4663,4663,4663,4663,4663,4663,4663,4663,4663],\"EventTime\":{\"__ndarray__\":\"AIDXqyFLd0IAAHWxIUt3QgAAdbEhS3dCAAB1sSFLd0IAAHWxIUt3QgAAdbEhS3dCAAB1sSFLd0IAAHWxIUt3QgAAdbEhS3dC\",\"dtype\":\"float64\",\"order\":\"little\",\"shape\":[9]},\"NewProcessName\":[\"NaN\",\"NaN\",\"NaN\",\"NaN\",\"NaN\",\"NaN\",\"NaN\",\"NaN\",\"NaN\"],\"index\":[176,701,706,711,731,746,774,853,859],\"y_index\":[18,18,18,18,18,18,18,18,18]},\"selected\":{\"id\":\"1577\"},\"selection_policy\":{\"id\":\"1576\"}},\"id\":\"1054\",\"type\":\"ColumnDataSource\"},{\"attributes\":{\"days\":[1,8,15,22]},\"id\":\"1608\",\"type\":\"DaysTicker\"},{\"attributes\":{\"fill_alpha\":{\"value\":0.5},\"fill_color\":{\"value\":\"#443982\"},\"hatch_alpha\":{\"value\":0.5},\"hatch_color\":{\"value\":\"#443982\"},\"line_alpha\":{\"value\":0.5},\"line_color\":{\"value\":\"#443982\"},\"marker\":{\"value\":\"diamond\"},\"size\":{\"value\":10},\"x\":{\"field\":\"EventTime\"},\"y\":{\"field\":\"y_index\"}},\"id\":\"1355\",\"type\":\"Scatter\"},{\"attributes\":{},\"id\":\"1574\",\"type\":\"UnionRenderers\"},{\"attributes\":{\"data\":{\"CommandLine\":[\"NaN\",\"NaN\",\"NaN\",\"NaN\",\"NaN\",\"NaN\",\"NaN\",\"NaN\",\"NaN\",\"NaN\",\"NaN\",\"NaN\",\"NaN\",\"NaN\",\"NaN\",\"NaN\",\"NaN\",\"NaN\",\"NaN\",\"NaN\",\"NaN\",\"NaN\",\"NaN\",\"NaN\",\"NaN\",\"NaN\",\"NaN\",\"NaN\",\"NaN\",\"NaN\",\"NaN\",\"NaN\",\"NaN\",\"NaN\",\"NaN\",\"NaN\",\"NaN\",\"NaN\",\"NaN\",\"NaN\",\"NaN\",\"NaN\",\"NaN\",\"NaN\",\"NaN\",\"NaN\",\"NaN\",\"NaN\",\"NaN\",\"NaN\",\"NaN\",\"NaN\",\"NaN\",\"NaN\",\"NaN\",\"NaN\",\"NaN\",\"NaN\",\"NaN\",\"NaN\",\"NaN\",\"NaN\",\"NaN\",\"NaN\",\"NaN\",\"NaN\",\"NaN\",\"NaN\",\"NaN\",\"NaN\",\"NaN\",\"NaN\",\"NaN\",\"NaN\",\"NaN\",\"NaN\",\"NaN\",\"NaN\",\"NaN\",\"NaN\",\"NaN\",\"NaN\",\"NaN\",\"NaN\",\"NaN\",\"NaN\",\"NaN\",\"NaN\",\"NaN\",\"NaN\",\"NaN\",\"NaN\",\"NaN\",\"NaN\",\"NaN\",\"NaN\",\"NaN\",\"NaN\",\"NaN\",\"NaN\",\"NaN\",\"NaN\",\"NaN\",\"NaN\",\"NaN\",\"NaN\",\"NaN\",\"NaN\",\"NaN\",\"NaN\",\"NaN\",\"NaN\",\"NaN\",\"NaN\",\"NaN\",\"NaN\",\"NaN\",\"NaN\",\"NaN\",\"NaN\",\"NaN\",\"NaN\",\"NaN\",\"NaN\",\"NaN\",\"NaN\",\"NaN\",\"NaN\",\"NaN\",\"NaN\",\"NaN\",\"NaN\",\"NaN\",\"NaN\",\"NaN\",\"NaN\",\"NaN\",\"NaN\",\"NaN\",\"NaN\",\"NaN\",\"NaN\",\"NaN\",\"NaN\",\"NaN\",\"NaN\",\"NaN\",\"NaN\",\"NaN\",\"NaN\",\"NaN\",\"NaN\",\"NaN\",\"NaN\",\"NaN\",\"NaN\",\"NaN\",\"NaN\",\"NaN\",\"NaN\",\"NaN\",\"NaN\",\"NaN\",\"NaN\",\"NaN\",\"NaN\",\"NaN\",\"NaN\",\"NaN\",\"NaN\",\"NaN\",\"NaN\",\"NaN\",\"NaN\",\"NaN\",\"NaN\",\"NaN\",\"NaN\",\"NaN\",\"NaN\",\"NaN\",\"NaN\",\"NaN\",\"NaN\",\"NaN\",\"NaN\",\"NaN\",\"NaN\",\"NaN\",\"NaN\",\"NaN\",\"NaN\",\"NaN\",\"NaN\",\"NaN\",\"NaN\",\"NaN\",\"NaN\",\"NaN\",\"NaN\",\"NaN\",\"NaN\",\"NaN\",\"NaN\",\"NaN\",\"NaN\",\"NaN\",\"NaN\",\"NaN\",\"NaN\",\"NaN\",\"NaN\",\"NaN\",\"NaN\",\"NaN\",\"NaN\",\"NaN\",\"NaN\",\"NaN\",\"NaN\",\"NaN\",\"NaN\",\"NaN\",\"NaN\",\"NaN\",\"NaN\",\"NaN\",\"NaN\",\"NaN\",\"NaN\",\"NaN\",\"NaN\",\"NaN\",\"NaN\",\"NaN\",\"NaN\",\"NaN\",\"NaN\",\"NaN\",\"NaN\",\"NaN\",\"NaN\",\"NaN\",\"NaN\",\"NaN\",\"NaN\",\"NaN\",\"NaN\",\"NaN\",\"NaN\",\"NaN\",\"NaN\",\"NaN\",\"NaN\",\"NaN\",\"NaN\",\"NaN\",\"NaN\",\"NaN\",\"NaN\",\"NaN\",\"NaN\",\"NaN\",\"NaN\",\"NaN\",\"NaN\",\"NaN\",\"NaN\",\"NaN\",\"NaN\",\"NaN\",\"NaN\",\"NaN\",\"NaN\",\"NaN\",\"NaN\",\"NaN\",\"NaN\",\"NaN\",\"NaN\",\"NaN\",\"NaN\",\"NaN\",\"NaN\",\"NaN\",\"NaN\",\"NaN\",\"NaN\",\"NaN\",\"NaN\",\"NaN\",\"NaN\",\"NaN\",\"NaN\",\"NaN\",\"NaN\",\"NaN\",\"NaN\",\"NaN\",\"NaN\",\"NaN\",\"NaN\",\"NaN\",\"NaN\",\"NaN\",\"NaN\",\"NaN\",\"NaN\",\"NaN\",\"NaN\",\"NaN\",\"NaN\",\"NaN\",\"NaN\",\"NaN\",\"NaN\",\"NaN\",\"NaN\",\"NaN\",\"NaN\",\"NaN\",\"NaN\",\"NaN\",\"NaN\",\"NaN\",\"NaN\",\"NaN\",\"NaN\",\"NaN\",\"NaN\",\"NaN\",\"NaN\",\"NaN\",\"NaN\",\"NaN\",\"NaN\",\"NaN\",\"NaN\",\"NaN\",\"NaN\",\"NaN\",\"NaN\",\"NaN\",\"NaN\",\"NaN\",\"NaN\",\"NaN\",\"NaN\",\"NaN\",\"NaN\",\"NaN\",\"NaN\",\"NaN\",\"NaN\",\"NaN\",\"NaN\",\"NaN\",\"NaN\",\"NaN\",\"NaN\",\"NaN\",\"NaN\",\"NaN\",\"NaN\",\"NaN\",\"NaN\",\"NaN\",\"NaN\",\"NaN\",\"NaN\",\"NaN\",\"NaN\",\"NaN\",\"NaN\",\"NaN\",\"NaN\",\"NaN\",\"NaN\",\"NaN\",\"NaN\",\"NaN\",\"NaN\",\"NaN\",\"NaN\",\"NaN\",\"NaN\",\"NaN\",\"NaN\",\"NaN\",\"NaN\",\"NaN\",\"NaN\",\"NaN\",\"NaN\",\"NaN\",\"NaN\",\"NaN\",\"NaN\",\"NaN\",\"NaN\"],\"EventID\":[10,10,10,10,10,10,10,10,10,10,10,10,10,10,10,10,10,10,10,10,10,10,10,10,10,10,10,10,10,10,10,10,10,10,10,10,10,10,10,10,10,10,10,10,10,10,10,10,10,10,10,10,10,10,10,10,10,10,10,10,10,10,10,10,10,10,10,10,10,10,10,10,10,10,10,10,10,10,10,10,10,10,10,10,10,10,10,10,10,10,10,10,10,10,10,10,10,10,10,10,10,10,10,10,10,10,10,10,10,10,10,10,10,10,10,10,10,10,10,10,10,10,10,10,10,10,10,10,10,10,10,10,10,10,10,10,10,10,10,10,10,10,10,10,10,10,10,10,10,10,10,10,10,10,10,10,10,10,10,10,10,10,10,10,10,10,10,10,10,10,10,10,10,10,10,10,10,10,10,10,10,10,10,10,10,10,10,10,10,10,10,10,10,10,10,10,10,10,10,10,10,10,10,10,10,10,10,10,10,10,10,10,10,10,10,10,10,10,10,10,10,10,10,10,10,10,10,10,10,10,10,10,10,10,10,10,10,10,10,10,10,10,10,10,10,10,10,10,10,10,10,10,10,10,10,10,10,10,10,10,10,10,10,10,10,10,10,10,10,10,10,10,10,10,10,10,10,10,10,10,10,10,10,10,10,10,10,10,10,10,10,10,10,10,10,10,10,10,10,10,10,10,10,10,10,10,10,10,10,10,10,10,10,10,10,10,10,10,10,10,10,10,10,10,10,10,10,10,10,10,10,10,10,10,10,10,10,10,10,10,10,10,10,10,10,10,10,10,10,10,10,10,10,10,10,10,10,10,10,10,10,10,10,10,10,10,10,10,10,10,10,10,10,10,10,10,10,10,10,10,10,10,10,10,10,10,10,10,10,10,10,10,10,10,10,10,10,10,10,10],\"EventTime\":{\"__ndarray__\":\"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\",\"dtype\":\"float64\",\"order\":\"little\",\"shape\":[400]},\"NewProcessName\":[\"NaN\",\"NaN\",\"NaN\",\"NaN\",\"NaN\",\"NaN\",\"NaN\",\"NaN\",\"NaN\",\"NaN\",\"NaN\",\"NaN\",\"NaN\",\"NaN\",\"NaN\",\"NaN\",\"NaN\",\"NaN\",\"NaN\",\"NaN\",\"NaN\",\"NaN\",\"NaN\",\"NaN\",\"NaN\",\"NaN\",\"NaN\",\"NaN\",\"NaN\",\"NaN\",\"NaN\",\"NaN\",\"NaN\",\"NaN\",\"NaN\",\"NaN\",\"NaN\",\"NaN\",\"NaN\",\"NaN\",\"NaN\",\"NaN\",\"NaN\",\"NaN\",\"NaN\",\"NaN\",\"NaN\",\"NaN\",\"NaN\",\"NaN\",\"NaN\",\"NaN\",\"NaN\",\"NaN\",\"NaN\",\"NaN\",\"NaN\",\"NaN\",\"NaN\",\"NaN\",\"NaN\",\"NaN\",\"NaN\",\"NaN\",\"NaN\",\"NaN\",\"NaN\",\"NaN\",\"NaN\",\"NaN\",\"NaN\",\"NaN\",\"NaN\",\"NaN\",\"NaN\",\"NaN\",\"NaN\",\"NaN\",\"NaN\",\"NaN\",\"NaN\",\"NaN\",\"NaN\",\"NaN\",\"NaN\",\"NaN\",\"NaN\",\"NaN\",\"NaN\",\"NaN\",\"NaN\",\"NaN\",\"NaN\",\"NaN\",\"NaN\",\"NaN\",\"NaN\",\"NaN\",\"NaN\",\"NaN\",\"NaN\",\"NaN\",\"NaN\",\"NaN\",\"NaN\",\"NaN\",\"NaN\",\"NaN\",\"NaN\",\"NaN\",\"NaN\",\"NaN\",\"NaN\",\"NaN\",\"NaN\",\"NaN\",\"NaN\",\"NaN\",\"NaN\",\"NaN\",\"NaN\",\"NaN\",\"NaN\",\"NaN\",\"NaN\",\"NaN\",\"NaN\",\"NaN\",\"NaN\",\"NaN\",\"NaN\",\"NaN\",\"NaN\",\"NaN\",\"NaN\",\"NaN\",\"NaN\",\"NaN\",\"NaN\",\"NaN\",\"NaN\",\"NaN\",\"NaN\",\"NaN\",\"NaN\",\"NaN\",\"NaN\",\"NaN\",\"NaN\",\"NaN\",\"NaN\",\"NaN\",\"NaN\",\"NaN\",\"NaN\",\"NaN\",\"NaN\",\"NaN\",\"NaN\",\"NaN\",\"NaN\",\"NaN\",\"NaN\",\"NaN\",\"NaN\",\"NaN\",\"NaN\",\"NaN\",\"NaN\",\"NaN\",\"NaN\",\"NaN\",\"NaN\",\"NaN\",\"NaN\",\"NaN\",\"NaN\",\"NaN\",\"NaN\",\"NaN\",\"NaN\",\"NaN\",\"NaN\",\"NaN\",\"NaN\",\"NaN\",\"NaN\",\"NaN\",\"NaN\",\"NaN\",\"NaN\",\"NaN\",\"NaN\",\"NaN\",\"NaN\",\"NaN\",\"NaN\",\"NaN\",\"NaN\",\"NaN\",\"NaN\",\"NaN\",\"NaN\",\"NaN\",\"NaN\",\"NaN\",\"NaN\",\"NaN\",\"NaN\",\"NaN\",\"NaN\",\"NaN\",\"NaN\",\"NaN\",\"NaN\",\"NaN\",\"NaN\",\"NaN\",\"NaN\",\"NaN\",\"NaN\",\"NaN\",\"NaN\",\"NaN\",\"NaN\",\"NaN\",\"NaN\",\"NaN\",\"NaN\",\"NaN\",\"NaN\",\"NaN\",\"NaN\",\"NaN\",\"NaN\",\"NaN\",\"NaN\",\"NaN\",\"NaN\",\"NaN\",\"NaN\",\"NaN\",\"NaN\",\"NaN\",\"NaN\",\"NaN\",\"NaN\",\"NaN\",\"NaN\",\"NaN\",\"NaN\",\"NaN\",\"NaN\",\"NaN\",\"NaN\",\"NaN\",\"NaN\",\"NaN\",\"NaN\",\"NaN\",\"NaN\",\"NaN\",\"NaN\",\"NaN\",\"NaN\",\"NaN\",\"NaN\",\"NaN\",\"NaN\",\"NaN\",\"NaN\",\"NaN\",\"NaN\",\"NaN\",\"NaN\",\"NaN\",\"NaN\",\"NaN\",\"NaN\",\"NaN\",\"NaN\",\"NaN\",\"NaN\",\"NaN\",\"NaN\",\"NaN\",\"NaN\",\"NaN\",\"NaN\",\"NaN\",\"NaN\",\"NaN\",\"NaN\",\"NaN\",\"NaN\",\"NaN\",\"NaN\",\"NaN\",\"NaN\",\"NaN\",\"NaN\",\"NaN\",\"NaN\",\"NaN\",\"NaN\",\"NaN\",\"NaN\",\"NaN\",\"NaN\",\"NaN\",\"NaN\",\"NaN\",\"NaN\",\"NaN\",\"NaN\",\"NaN\",\"NaN\",\"NaN\",\"NaN\",\"NaN\",\"NaN\",\"NaN\",\"NaN\",\"NaN\",\"NaN\",\"NaN\",\"NaN\",\"NaN\",\"NaN\",\"NaN\",\"NaN\",\"NaN\",\"NaN\",\"NaN\",\"NaN\",\"NaN\",\"NaN\",\"NaN\",\"NaN\",\"NaN\",\"NaN\",\"NaN\",\"NaN\",\"NaN\",\"NaN\",\"NaN\",\"NaN\",\"NaN\",\"NaN\",\"NaN\",\"NaN\",\"NaN\",\"NaN\",\"NaN\",\"NaN\",\"NaN\",\"NaN\",\"NaN\",\"NaN\",\"NaN\",\"NaN\",\"NaN\",\"NaN\",\"NaN\",\"NaN\",\"NaN\",\"NaN\",\"NaN\",\"NaN\",\"NaN\",\"NaN\",\"NaN\",\"NaN\",\"NaN\",\"NaN\",\"NaN\",\"NaN\",\"NaN\",\"NaN\",\"NaN\",\"NaN\",\"NaN\",\"NaN\",\"NaN\",\"NaN\",\"NaN\",\"NaN\",\"NaN\",\"NaN\",\"NaN\",\"NaN\",\"NaN\",\"NaN\",\"NaN\",\"NaN\",\"NaN\",\"NaN\",\"NaN\",\"NaN\",\"NaN\"],\"index\":[13,14,15,16,61,65,70,74,84,89,99,113,114,122,138,158,160,161,162,165,166,167,168,169,170,198,199,200,211,212,213,214,215,216,217,219,220,222,224,225,227,228,230,232,233,234,236,238,240,241,243,244,246,249,276,278,280,282,284,286,288,290,292,294,295,296,297,298,299,300,301,302,303,304,305,306,307,308,309,310,311,312,313,314,315,316,317,318,319,320,321,322,323,324,325,326,327,328,329,330,331,332,333,334,335,336,337,338,339,340,341,342,343,344,345,346,347,348,349,350,351,352,353,354,355,356,357,358,359,360,361,362,363,364,365,366,367,368,369,370,371,372,373,374,375,376,377,378,379,380,381,382,383,384,385,386,387,388,389,390,391,392,393,394,395,396,397,398,399,400,401,402,403,404,409,410,411,412,413,414,415,416,417,418,419,420,421,422,423,424,425,426,427,428,429,430,431,432,433,434,435,436,437,438,439,440,441,442,443,444,445,446,447,448,449,450,451,452,453,454,455,456,457,458,459,460,461,462,463,464,465,477,478,479,480,481,482,483,484,485,486,487,488,489,490,491,492,493,494,495,496,497,498,499,500,501,502,503,504,505,506,507,508,509,510,511,512,513,514,515,516,517,518,519,520,521,522,523,524,525,526,527,528,529,530,531,532,533,534,535,536,537,538,539,540,541,542,543,544,545,546,547,548,549,550,551,552,553,554,555,556,557,558,559,560,561,562,563,564,565,566,569,570,572,573,574,575,576,577,578,579,580,581,582,583,584,585,586,587,588,589,590,591,592,593,594,595,596,597,598,599,600,601,602,603,604,605,606,607,608,609,610,611,612,613,614,615,616,617,618,619,620,621,622,623,624,625,626,627,628,629,630,631,632,633,634,635,636,637,638,639,640,641,687,689,690,691,692,693,864],\"y_index\":[5,5,5,5,5,5,5,5,5,5,5,5,5,5,5,5,5,5,5,5,5,5,5,5,5,5,5,5,5,5,5,5,5,5,5,5,5,5,5,5,5,5,5,5,5,5,5,5,5,5,5,5,5,5,5,5,5,5,5,5,5,5,5,5,5,5,5,5,5,5,5,5,5,5,5,5,5,5,5,5,5,5,5,5,5,5,5,5,5,5,5,5,5,5,5,5,5,5,5,5,5,5,5,5,5,5,5,5,5,5,5,5,5,5,5,5,5,5,5,5,5,5,5,5,5,5,5,5,5,5,5,5,5,5,5,5,5,5,5,5,5,5,5,5,5,5,5,5,5,5,5,5,5,5,5,5,5,5,5,5,5,5,5,5,5,5,5,5,5,5,5,5,5,5,5,5,5,5,5,5,5,5,5,5,5,5,5,5,5,5,5,5,5,5,5,5,5,5,5,5,5,5,5,5,5,5,5,5,5,5,5,5,5,5,5,5,5,5,5,5,5,5,5,5,5,5,5,5,5,5,5,5,5,5,5,5,5,5,5,5,5,5,5,5,5,5,5,5,5,5,5,5,5,5,5,5,5,5,5,5,5,5,5,5,5,5,5,5,5,5,5,5,5,5,5,5,5,5,5,5,5,5,5,5,5,5,5,5,5,5,5,5,5,5,5,5,5,5,5,5,5,5,5,5,5,5,5,5,5,5,5,5,5,5,5,5,5,5,5,5,5,5,5,5,5,5,5,5,5,5,5,5,5,5,5,5,5,5,5,5,5,5,5,5,5,5,5,5,5,5,5,5,5,5,5,5,5,5,5,5,5,5,5,5,5,5,5,5,5,5,5,5,5,5,5,5,5,5,5,5,5,5,5,5,5,5,5,5,5,5,5,5,5,5,5,5,5,5,5,5]},\"selected\":{\"id\":\"1551\"},\"selection_policy\":{\"id\":\"1550\"}},\"id\":\"1041\",\"type\":\"ColumnDataSource\"},{\"attributes\":{},\"id\":\"1575\",\"type\":\"Selection\"},{\"attributes\":{},\"id\":\"1556\",\"type\":\"UnionRenderers\"},{\"attributes\":{},\"id\":\"1573\",\"type\":\"Selection\"},{\"attributes\":{},\"id\":\"1583\",\"type\":\"Selection\"},{\"attributes\":{\"fill_alpha\":{\"value\":0.2},\"fill_color\":{\"value\":\"#46307D\"},\"hatch_alpha\":{\"value\":0.2},\"hatch_color\":{\"value\":\"#46307D\"},\"line_alpha\":{\"value\":0.2},\"line_color\":{\"value\":\"#46307D\"},\"marker\":{\"value\":\"diamond\"},\"size\":{\"value\":10},\"x\":{\"field\":\"EventTime\"},\"y\":{\"field\":\"y_index\"}},\"id\":\"1350\",\"type\":\"Scatter\"},{\"attributes\":{},\"id\":\"1582\",\"type\":\"UnionRenderers\"},{\"attributes\":{\"months\":[0,4,8]},\"id\":\"1612\",\"type\":\"MonthsTicker\"},{\"attributes\":{\"coordinates\":null,\"data_source\":{\"id\":\"1041\"},\"glyph\":{\"id\":\"1348\"},\"group\":null,\"hover_glyph\":null,\"muted_glyph\":{\"id\":\"1350\"},\"nonselection_glyph\":{\"id\":\"1349\"},\"view\":{\"id\":\"1352\"}},\"id\":\"1351\",\"type\":\"GlyphRenderer\"},{\"attributes\":{},\"id\":\"1559\",\"type\":\"Selection\"},{\"attributes\":{},\"id\":\"1571\",\"type\":\"Selection\"},{\"attributes\":{\"data\":{\"CommandLine\":[\"NaN\",\"NaN\",\"NaN\",\"NaN\",\"NaN\",\"NaN\",\"NaN\",\"NaN\",\"NaN\",\"NaN\",\"NaN\",\"NaN\",\"NaN\"],\"EventID\":[13,13,13,13,13,13,13,13,13,13,13,13,13],\"EventTime\":{\"__ndarray__\":\"AAAKriFLd0IAAAquIUt3QgAA+LAhS3dCAAD4sCFLd0IAAPiwIUt3QgAA+LAhS3dCAAD4sCFLd0IAAPiwIUt3QgAA+LAhS3dCAAD4sCFLd0IAAPiwIUt3QgAA+LAhS3dCAAB1sSFLd0I=\",\"dtype\":\"float64\",\"order\":\"little\",\"shape\":[13]},\"NewProcessName\":[\"NaN\",\"NaN\",\"NaN\",\"NaN\",\"NaN\",\"NaN\",\"NaN\",\"NaN\",\"NaN\",\"NaN\",\"NaN\",\"NaN\",\"NaN\"],\"index\":[251,254,671,672,673,675,676,677,678,679,681,682,697],\"y_index\":[8,8,8,8,8,8,8,8,8,8,8,8,8]},\"selected\":{\"id\":\"1557\"},\"selection_policy\":{\"id\":\"1556\"}},\"id\":\"1044\",\"type\":\"ColumnDataSource\"},{\"attributes\":{\"label\":{\"value\":\"13\"},\"renderers\":[{\"id\":\"1372\"}]},\"id\":\"1374\",\"type\":\"LegendItem\"},{\"attributes\":{},\"id\":\"1569\",\"type\":\"Selection\"},{\"attributes\":{\"months\":[0,1,2,3,4,5,6,7,8,9,10,11]},\"id\":\"1610\",\"type\":\"MonthsTicker\"},{\"attributes\":{\"fill_alpha\":{\"value\":0.1},\"fill_color\":{\"value\":\"#3E4989\"},\"hatch_alpha\":{\"value\":0.1},\"hatch_color\":{\"value\":\"#3E4989\"},\"line_alpha\":{\"value\":0.1},\"line_color\":{\"value\":\"#3E4989\"},\"marker\":{\"value\":\"diamond\"},\"size\":{\"value\":10},\"x\":{\"field\":\"EventTime\"},\"y\":{\"field\":\"y_index\"}},\"id\":\"1370\",\"type\":\"Scatter\"},{\"attributes\":{\"months\":[0,6]},\"id\":\"1613\",\"type\":\"MonthsTicker\"},{\"attributes\":{\"source\":{\"id\":\"1041\"}},\"id\":\"1352\",\"type\":\"CDSView\"},{\"attributes\":{\"fill_alpha\":{\"value\":0.1},\"fill_color\":{\"value\":\"#414186\"},\"hatch_alpha\":{\"value\":0.1},\"hatch_color\":{\"value\":\"#414186\"},\"line_alpha\":{\"value\":0.1},\"line_color\":{\"value\":\"#414186\"},\"marker\":{\"value\":\"diamond\"},\"size\":{\"value\":10},\"x\":{\"field\":\"EventTime\"},\"y\":{\"field\":\"y_index\"}},\"id\":\"1363\",\"type\":\"Scatter\"},{\"attributes\":{\"data\":{\"CommandLine\":[\"NaN\",\"NaN\"],\"EventID\":[4689,4689],\"EventTime\":{\"__ndarray__\":\"AIDXqyFLd0IAgNerIUt3Qg==\",\"dtype\":\"float64\",\"order\":\"little\",\"shape\":[2]},\"NewProcessName\":[\"NaN\",\"NaN\"],\"index\":[183,184],\"y_index\":[22,22]},\"selected\":{\"id\":\"1585\"},\"selection_policy\":{\"id\":\"1584\"}},\"id\":\"1058\",\"type\":\"ColumnDataSource\"},{\"attributes\":{},\"id\":\"1568\",\"type\":\"UnionRenderers\"},{\"attributes\":{\"label\":{\"value\":\"18\"},\"renderers\":[{\"id\":\"1386\"}]},\"id\":\"1388\",\"type\":\"LegendItem\"},{\"attributes\":{\"source\":{\"id\":\"1042\"}},\"id\":\"1359\",\"type\":\"CDSView\"},{\"attributes\":{\"fill_alpha\":{\"value\":0.5},\"fill_color\":{\"value\":\"#3E4989\"},\"hatch_alpha\":{\"value\":0.5},\"hatch_color\":{\"value\":\"#3E4989\"},\"line_alpha\":{\"value\":0.5},\"line_color\":{\"value\":\"#3E4989\"},\"marker\":{\"value\":\"diamond\"},\"size\":{\"value\":10},\"x\":{\"field\":\"EventTime\"},\"y\":{\"field\":\"y_index\"}},\"id\":\"1369\",\"type\":\"Scatter\"},{\"attributes\":{\"fill_alpha\":{\"value\":0.2},\"fill_color\":{\"value\":\"#443982\"},\"hatch_alpha\":{\"value\":0.2},\"hatch_color\":{\"value\":\"#443982\"},\"line_alpha\":{\"value\":0.2},\"line_color\":{\"value\":\"#443982\"},\"marker\":{\"value\":\"diamond\"},\"size\":{\"value\":10},\"x\":{\"field\":\"EventTime\"},\"y\":{\"field\":\"y_index\"}},\"id\":\"1357\",\"type\":\"Scatter\"},{\"attributes\":{},\"id\":\"1572\",\"type\":\"UnionRenderers\"},{\"attributes\":{\"days\":[1,4,7,10,13,16,19,22,25,28]},\"id\":\"1607\",\"type\":\"DaysTicker\"},{\"attributes\":{\"mantissas\":[1,2,5],\"max_interval\":500.0,\"num_minor_ticks\":0},\"id\":\"1603\",\"type\":\"AdaptiveTicker\"},{\"attributes\":{},\"id\":\"1614\",\"type\":\"YearsTicker\"},{\"attributes\":{\"fill_alpha\":{\"value\":0.1},\"fill_color\":{\"value\":\"#443982\"},\"hatch_alpha\":{\"value\":0.1},\"hatch_color\":{\"value\":\"#443982\"},\"line_alpha\":{\"value\":0.1},\"line_color\":{\"value\":\"#443982\"},\"marker\":{\"value\":\"diamond\"},\"size\":{\"value\":10},\"x\":{\"field\":\"EventTime\"},\"y\":{\"field\":\"y_index\"}},\"id\":\"1356\",\"type\":\"Scatter\"},{\"attributes\":{\"data\":{\"CommandLine\":[\"NaN\",\"NaN\",\"NaN\",\"NaN\",\"NaN\",\"NaN\",\"NaN\",\"NaN\",\"NaN\",\"NaN\",\"NaN\",\"NaN\",\"NaN\",\"NaN\",\"NaN\"],\"EventID\":[12,12,12,12,12,12,12,12,12,12,12,12,12,12,12],\"EventTime\":{\"__ndarray__\":\"AIBmqSFLd0IAACKqIUt3QgAAn6ohS3dCAIDXqyFLd0IAgNerIUt3QgCATq0hS3dCAAAKriFLd0IAAAquIUt3QgAAh64hS3dCAIC/ryFLd0IAAPiwIUt3QgAA+LAhS3dCAAD4sCFLd0IAAHWxIUt3QgCAMLIhS3dC\",\"dtype\":\"float64\",\"order\":\"little\",\"shape\":[15]},\"NewProcessName\":[\"NaN\",\"NaN\",\"NaN\",\"NaN\",\"NaN\",\"NaN\",\"NaN\",\"NaN\",\"NaN\",\"NaN\",\"NaN\",\"NaN\",\"NaN\",\"NaN\",\"NaN\"],\"index\":[0,12,28,59,164,203,248,253,567,653,674,680,683,696,881],\"y_index\":[7,7,7,7,7,7,7,7,7,7,7,7,7,7,7]},\"selected\":{\"id\":\"1555\"},\"selection_policy\":{\"id\":\"1554\"}},\"id\":\"1043\",\"type\":\"ColumnDataSource\"},{\"attributes\":{\"label\":{\"value\":\"17\"},\"renderers\":[{\"id\":\"1379\"}]},\"id\":\"1381\",\"type\":\"LegendItem\"},{\"attributes\":{},\"id\":\"1557\",\"type\":\"Selection\"},{\"attributes\":{},\"id\":\"1558\",\"type\":\"UnionRenderers\"},{\"attributes\":{},\"id\":\"1584\",\"type\":\"UnionRenderers\"},{\"attributes\":{\"label\":{\"value\":\"4627\"},\"renderers\":[{\"id\":\"1414\"}]},\"id\":\"1416\",\"type\":\"LegendItem\"},{\"attributes\":{\"months\":[0,2,4,6,8,10]},\"id\":\"1611\",\"type\":\"MonthsTicker\"},{\"attributes\":{\"days\":[1,2,3,4,5,6,7,8,9,10,11,12,13,14,15,16,17,18,19,20,21,22,23,24,25,26,27,28,29,30,31]},\"id\":\"1606\",\"type\":\"DaysTicker\"},{\"attributes\":{},\"id\":\"1570\",\"type\":\"UnionRenderers\"},{\"attributes\":{\"base\":24,\"mantissas\":[1,2,4,6,8,12],\"max_interval\":43200000.0,\"min_interval\":3600000.0,\"num_minor_ticks\":0},\"id\":\"1605\",\"type\":\"AdaptiveTicker\"},{\"attributes\":{\"fill_alpha\":{\"value\":0.2},\"fill_color\":{\"value\":\"#414186\"},\"hatch_alpha\":{\"value\":0.2},\"hatch_color\":{\"value\":\"#414186\"},\"line_alpha\":{\"value\":0.2},\"line_color\":{\"value\":\"#414186\"},\"marker\":{\"value\":\"diamond\"},\"size\":{\"value\":10},\"x\":{\"field\":\"EventTime\"},\"y\":{\"field\":\"y_index\"}},\"id\":\"1364\",\"type\":\"Scatter\"},{\"attributes\":{\"coordinates\":null,\"data_source\":{\"id\":\"1048\"},\"glyph\":{\"id\":\"1397\"},\"group\":null,\"hover_glyph\":null,\"muted_glyph\":{\"id\":\"1399\"},\"nonselection_glyph\":{\"id\":\"1398\"},\"view\":{\"id\":\"1401\"}},\"id\":\"1400\",\"type\":\"GlyphRenderer\"},{\"attributes\":{\"coordinates\":null,\"data_source\":{\"id\":\"1043\"},\"glyph\":{\"id\":\"1362\"},\"group\":null,\"hover_glyph\":null,\"muted_glyph\":{\"id\":\"1364\"},\"nonselection_glyph\":{\"id\":\"1363\"},\"view\":{\"id\":\"1366\"}},\"id\":\"1365\",\"type\":\"GlyphRenderer\"},{\"attributes\":{\"data\":{\"CommandLine\":[\"NaN\",\"NaN\",\"NaN\",\"NaN\",\"NaN\",\"NaN\",\"NaN\",\"NaN\",\"NaN\"],\"EventID\":[4690,4690,4690,4690,4690,4690,4690,4690,4690],\"EventTime\":{\"__ndarray__\":\"AIDXqyFLd0IAAHWxIUt3QgAAdbEhS3dCAAB1sSFLd0IAAHWxIUt3QgAAdbEhS3dCAAB1sSFLd0IAAHWxIUt3QgAAdbEhS3dC\",\"dtype\":\"float64\",\"order\":\"little\",\"shape\":[9]},\"NewProcessName\":[\"NaN\",\"NaN\",\"NaN\",\"NaN\",\"NaN\",\"NaN\",\"NaN\",\"NaN\",\"NaN\"],\"index\":[173,698,703,708,728,733,768,850,856],\"y_index\":[23,23,23,23,23,23,23,23,23]},\"selected\":{\"id\":\"1587\"},\"selection_policy\":{\"id\":\"1586\"}},\"id\":\"1059\",\"type\":\"ColumnDataSource\"},{\"attributes\":{\"days\":[1,15]},\"id\":\"1609\",\"type\":\"DaysTicker\"},{\"attributes\":{\"data\":{\"CommandLine\":[\"NaN\",\"NaN\",\"NaN\",\"NaN\",\"NaN\"],\"EventID\":[4672,4672,4672,4672,4672],\"EventTime\":{\"__ndarray__\":\"AAAcqyFLd0IAAHWxIUt3QgAAdbEhS3dCAAB1sSFLd0IAAHWxIUt3Qg==\",\"dtype\":\"float64\",\"order\":\"little\",\"shape\":[5]},\"NewProcessName\":[\"NaN\",\"NaN\",\"NaN\",\"NaN\",\"NaN\"],\"index\":[34,716,719,725,757],\"y_index\":[19,19,19,19,19]},\"selected\":{\"id\":\"1579\"},\"selection_policy\":{\"id\":\"1578\"}},\"id\":\"1055\",\"type\":\"ColumnDataSource\"},{\"attributes\":{\"base\":60,\"mantissas\":[1,2,5,10,15,20,30],\"max_interval\":1800000.0,\"min_interval\":1000.0,\"num_minor_ticks\":0},\"id\":\"1604\",\"type\":\"AdaptiveTicker\"},{\"attributes\":{\"coordinates\":null,\"data_source\":{\"id\":\"1042\"},\"glyph\":{\"id\":\"1355\"},\"group\":null,\"hover_glyph\":null,\"muted_glyph\":{\"id\":\"1357\"},\"nonselection_glyph\":{\"id\":\"1356\"},\"view\":{\"id\":\"1359\"}},\"id\":\"1358\",\"type\":\"GlyphRenderer\"},{\"attributes\":{\"fill_alpha\":{\"value\":0.5},\"fill_color\":{\"value\":\"#414186\"},\"hatch_alpha\":{\"value\":0.5},\"hatch_color\":{\"value\":\"#414186\"},\"line_alpha\":{\"value\":0.5},\"line_color\":{\"value\":\"#414186\"},\"marker\":{\"value\":\"diamond\"},\"size\":{\"value\":10},\"x\":{\"field\":\"EventTime\"},\"y\":{\"field\":\"y_index\"}},\"id\":\"1362\",\"type\":\"Scatter\"},{\"attributes\":{\"end\":1600715962400.0,\"start\":1600715915600.0},\"id\":\"1103\",\"type\":\"Range1d\"},{\"attributes\":{\"fill_alpha\":{\"value\":0.2},\"fill_color\":{\"value\":\"#440154\"},\"hatch_alpha\":{\"value\":0.2},\"hatch_color\":{\"value\":\"#440154\"},\"line_alpha\":{\"value\":0.2},\"line_color\":{\"value\":\"#440154\"},\"x\":{\"field\":\"EventTime\"},\"y\":{\"field\":\"y_index\"}},\"id\":\"1122\",\"type\":\"Circle\"},{\"attributes\":{\"fill_alpha\":{\"value\":0.1},\"fill_color\":{\"value\":\"#1E9C89\"},\"hatch_alpha\":{\"value\":0.1},\"hatch_color\":{\"value\":\"#1E9C89\"},\"line_alpha\":{\"value\":0.1},\"line_color\":{\"value\":\"#1E9C89\"},\"x\":{\"field\":\"EventTime\"},\"y\":{\"field\":\"y_index\"}},\"id\":\"1241\",\"type\":\"Circle\"},{\"attributes\":{\"coordinates\":null,\"data_source\":{\"id\":\"1040\"},\"glyph\":{\"id\":\"1144\"},\"group\":null,\"hover_glyph\":null,\"muted_glyph\":{\"id\":\"1146\"},\"nonselection_glyph\":{\"id\":\"1145\"},\"view\":{\"id\":\"1148\"}},\"id\":\"1147\",\"type\":\"GlyphRenderer\"},{\"attributes\":{\"data\":{\"CommandLine\":[\"NaN\",\"NaN\",\"NaN\",\"NaN\",\"NaN\",\"NaN\",\"NaN\",\"NaN\",\"NaN\"],\"EventID\":[4656,4656,4656,4656,4656,4656,4656,4656,4656],\"EventTime\":{\"__ndarray__\":\"AIDXqyFLd0IAAHWxIUt3QgAAdbEhS3dCAAB1sSFLd0IAAHWxIUt3QgAAdbEhS3dCAAB1sSFLd0IAAHWxIUt3QgAAdbEhS3dC\",\"dtype\":\"float64\",\"order\":\"little\",\"shape\":[9]},\"NewProcessName\":[\"NaN\",\"NaN\",\"NaN\",\"NaN\",\"NaN\",\"NaN\",\"NaN\",\"NaN\",\"NaN\"],\"index\":[175,700,705,710,730,745,772,852,858],\"y_index\":[16,16,16,16,16,16,16,16,16]},\"selected\":{\"id\":\"1573\"},\"selection_policy\":{\"id\":\"1572\"}},\"id\":\"1052\",\"type\":\"ColumnDataSource\"},{\"attributes\":{},\"id\":\"1593\",\"type\":\"Selection\"},{\"attributes\":{\"data\":{\"CommandLine\":[\"NaN\",\"NaN\"],\"EventID\":[18,18],\"EventTime\":{\"__ndarray__\":\"AIDXqyFLd0IAgNerIUt3Qg==\",\"dtype\":\"float64\",\"order\":\"little\",\"shape\":[2]},\"NewProcessName\":[\"NaN\",\"NaN\"],\"index\":[78,136],\"y_index\":[10,10]},\"selected\":{\"id\":\"1561\"},\"selection_policy\":{\"id\":\"1560\"}},\"id\":\"1046\",\"type\":\"ColumnDataSource\"},{\"attributes\":{\"label\":{\"value\":\"1\"},\"renderers\":[{\"id\":\"1316\"}]},\"id\":\"1318\",\"type\":\"LegendItem\"},{\"attributes\":{\"source\":{\"id\":\"1042\"}},\"id\":\"1160\",\"type\":\"CDSView\"},{\"attributes\":{\"fill_color\":{\"value\":\"#440154\"},\"hatch_color\":{\"value\":\"#440154\"},\"line_color\":{\"value\":\"#440154\"},\"x\":{\"field\":\"EventTime\"},\"y\":{\"field\":\"y_index\"}},\"id\":\"1120\",\"type\":\"Circle\"},{\"attributes\":{\"fill_alpha\":{\"value\":0.2},\"fill_color\":{\"value\":\"#472777\"},\"hatch_alpha\":{\"value\":0.2},\"hatch_color\":{\"value\":\"#472777\"},\"line_alpha\":{\"value\":0.2},\"line_color\":{\"value\":\"#472777\"},\"x\":{\"field\":\"EventTime\"},\"y\":{\"field\":\"y_index\"}},\"id\":\"1146\",\"type\":\"Circle\"},{\"attributes\":{\"fill_color\":{\"value\":\"#1F968B\"},\"hatch_color\":{\"value\":\"#1F968B\"},\"line_color\":{\"value\":\"#1F968B\"},\"x\":{\"field\":\"EventTime\"},\"y\":{\"field\":\"y_index\"}},\"id\":\"1234\",\"type\":\"Circle\"},{\"attributes\":{\"data\":{\"CommandLine\":[\"NaN\",\"NaN\",\"NaN\",\"NaN\",\"NaN\",\"NaN\",\"NaN\",\"NaN\",\"NaN\",\"NaN\",\"NaN\",\"NaN\",\"NaN\",\"NaN\",\"NaN\",\"NaN\",\"NaN\",\"NaN\",\"NaN\",\"NaN\",\"NaN\",\"NaN\",\"NaN\",\"NaN\",\"NaN\",\"NaN\",\"NaN\",\"NaN\",\"NaN\",\"NaN\",\"NaN\",\"NaN\",\"NaN\",\"NaN\"],\"EventID\":[5158,5158,5158,5158,5158,5158,5158,5158,5158,5158,5158,5158,5158,5158,5158,5158,5158,5158,5158,5158,5158,5158,5158,5158,5158,5158,5158,5158,5158,5158,5158,5158,5158,5158],\"EventTime\":{\"__ndarray__\":\"AIBmqSFLd0IAAKWpIUt3QgAApakhS3dCAAClqSFLd0IAACKqIUt3QgAAHKshS3dCAIDXqyFLd0IAgNerIUt3QgCA16shS3dCAIDXqyFLd0IAgNerIUt3QgCA16shS3dCAIDXqyFLd0IAgNerIUt3QgCA16shS3dCAIDXqyFLd0IAgNerIUt3QgCA16shS3dCAIDXqyFLd0IAgNerIUt3QgAAEK0hS3dCAIBOrSFLd0IAgE6tIUt3QgAACq4hS3dCAIA8sCFLd0IAAPiwIUt3QgAA+LAhS3dCAAD4sCFLd0IAAHWxIUt3QgAAdbEhS3dCAAB1sSFLd0IAgLOxIUt3QgCAs7EhS3dCAIAwsiFLd0I=\",\"dtype\":\"float64\",\"order\":\"little\",\"shape\":[34]},\"NewProcessName\":[\"NaN\",\"NaN\",\"NaN\",\"NaN\",\"NaN\",\"NaN\",\"NaN\",\"NaN\",\"NaN\",\"NaN\",\"NaN\",\"NaN\",\"NaN\",\"NaN\",\"NaN\",\"NaN\",\"NaN\",\"NaN\",\"NaN\",\"NaN\",\"NaN\",\"NaN\",\"NaN\",\"NaN\",\"NaN\",\"NaN\",\"NaN\",\"NaN\",\"NaN\",\"NaN\",\"NaN\",\"NaN\",\"NaN\",\"NaN\"],\"index\":[3,5,7,9,11,31,141,143,144,145,146,147,148,149,150,151,152,153,179,181,201,206,208,405,656,669,684,694,713,722,751,866,867,882],\"y_index\":[29,29,29,29,29,29,29,29,29,29,29,29,29,29,29,29,29,29,29,29,29,29,29,29,29,29,29,29,29,29,29,29,29,29]},\"selected\":{\"id\":\"1599\"},\"selection_policy\":{\"id\":\"1598\"}},\"id\":\"1065\",\"type\":\"ColumnDataSource\"},{\"attributes\":{\"data\":{\"CommandLine\":[\"NaN\"],\"EventID\":[17],\"EventTime\":{\"__ndarray__\":\"AIDXqyFLd0I=\",\"dtype\":\"float64\",\"order\":\"little\",\"shape\":[1]},\"NewProcessName\":[\"NaN\"],\"index\":[77],\"y_index\":[9]},\"selected\":{\"id\":\"1559\"},\"selection_policy\":{\"id\":\"1558\"}},\"id\":\"1045\",\"type\":\"ColumnDataSource\"},{\"attributes\":{\"fill_alpha\":{\"value\":0.2},\"fill_color\":{\"value\":\"#443982\"},\"hatch_alpha\":{\"value\":0.2},\"hatch_color\":{\"value\":\"#443982\"},\"line_alpha\":{\"value\":0.2},\"line_color\":{\"value\":\"#443982\"},\"x\":{\"field\":\"EventTime\"},\"y\":{\"field\":\"y_index\"}},\"id\":\"1158\",\"type\":\"Circle\"},{\"attributes\":{\"source\":{\"id\":\"1056\"}},\"id\":\"1244\",\"type\":\"CDSView\"},{\"attributes\":{\"fill_alpha\":{\"value\":0.5},\"fill_color\":{\"value\":\"#40BD72\"},\"hatch_alpha\":{\"value\":0.5},\"hatch_color\":{\"value\":\"#40BD72\"},\"line_alpha\":{\"value\":0.5},\"line_color\":{\"value\":\"#40BD72\"},\"marker\":{\"value\":\"diamond\"},\"size\":{\"value\":10},\"x\":{\"field\":\"EventTime\"},\"y\":{\"field\":\"y_index\"}},\"id\":\"1488\",\"type\":\"Scatter\"},{\"attributes\":{\"label\":{\"value\":\"5\"},\"renderers\":[{\"id\":\"1330\"}]},\"id\":\"1332\",\"type\":\"LegendItem\"},{\"attributes\":{\"months\":[0,4,8]},\"id\":\"1625\",\"type\":\"MonthsTicker\"},{\"attributes\":{\"coordinates\":null,\"data_source\":{\"id\":\"1041\"},\"glyph\":{\"id\":\"1150\"},\"group\":null,\"hover_glyph\":null,\"muted_glyph\":{\"id\":\"1152\"},\"nonselection_glyph\":{\"id\":\"1151\"},\"view\":{\"id\":\"1154\"}},\"id\":\"1153\",\"type\":\"GlyphRenderer\"},{\"attributes\":{\"data\":{\"CommandLine\":[\"NaN\",\"NaN\",\"NaN\",\"NaN\",\"NaN\",\"NaN\",\"NaN\",\"NaN\",\"NaN\",\"NaN\",\"NaN\",\"NaN\",\"NaN\",\"NaN\",\"NaN\",\"NaN\",\"NaN\",\"NaN\",\"NaN\",\"NaN\",\"NaN\",\"NaN\",\"NaN\",\"NaN\",\"NaN\",\"NaN\"],\"EventID\":[5156,5156,5156,5156,5156,5156,5156,5156,5156,5156,5156,5156,5156,5156,5156,5156,5156,5156,5156,5156,5156,5156,5156,5156,5156,5156],\"EventTime\":{\"__ndarray__\":\"AIBmqSFLd0IAAKWpIUt3QgAApakhS3dCAAClqSFLd0IAAByrIUt3QgAAHKshS3dCAIDXqyFLd0IAgNerIUt3QgCA16shS3dCAIDXqyFLd0IAABCtIUt3QgCATq0hS3dCAIBOrSFLd0IAAAquIUt3QgAACq4hS3dCAIA8sCFLd0IAAPiwIUt3QgAA+LAhS3dCAAD4sCFLd0IAAHWxIUt3QgAAdbEhS3dCAAB1sSFLd0IAAHWxIUt3QgAAdbEhS3dCAAB1sSFLd0IAgDCyIUt3Qg==\",\"dtype\":\"float64\",\"order\":\"little\",\"shape\":[26]},\"NewProcessName\":[\"NaN\",\"NaN\",\"NaN\",\"NaN\",\"NaN\",\"NaN\",\"NaN\",\"NaN\",\"NaN\",\"NaN\",\"NaN\",\"NaN\",\"NaN\",\"NaN\",\"NaN\",\"NaN\",\"NaN\",\"NaN\",\"NaN\",\"NaN\",\"NaN\",\"NaN\",\"NaN\",\"NaN\",\"NaN\",\"NaN\"],\"index\":[4,6,8,10,32,33,154,155,180,182,202,207,209,406,407,657,670,686,695,714,715,723,724,753,754,883],\"y_index\":[28,28,28,28,28,28,28,28,28,28,28,28,28,28,28,28,28,28,28,28,28,28,28,28,28,28]},\"selected\":{\"id\":\"1597\"},\"selection_policy\":{\"id\":\"1596\"}},\"id\":\"1064\",\"type\":\"ColumnDataSource\"},{\"attributes\":{\"fill_color\":{\"value\":\"#443982\"},\"hatch_color\":{\"value\":\"#443982\"},\"line_color\":{\"value\":\"#443982\"},\"x\":{\"field\":\"EventTime\"},\"y\":{\"field\":\"y_index\"}},\"id\":\"1156\",\"type\":\"Circle\"},{\"attributes\":{\"fill_alpha\":{\"value\":0.1},\"fill_color\":{\"value\":\"#1F968B\"},\"hatch_alpha\":{\"value\":0.1},\"hatch_color\":{\"value\":\"#1F968B\"},\"line_alpha\":{\"value\":0.1},\"line_color\":{\"value\":\"#1F968B\"},\"x\":{\"field\":\"EventTime\"},\"y\":{\"field\":\"y_index\"}},\"id\":\"1235\",\"type\":\"Circle\"},{\"attributes\":{\"coordinates\":null,\"data_source\":{\"id\":\"1054\"},\"glyph\":{\"id\":\"1228\"},\"group\":null,\"hover_glyph\":null,\"muted_glyph\":{\"id\":\"1230\"},\"nonselection_glyph\":{\"id\":\"1229\"},\"view\":{\"id\":\"1232\"}},\"id\":\"1231\",\"type\":\"GlyphRenderer\"},{\"attributes\":{},\"id\":\"1592\",\"type\":\"UnionRenderers\"},{\"attributes\":{\"coordinates\":null,\"data_source\":{\"id\":\"1055\"},\"glyph\":{\"id\":\"1234\"},\"group\":null,\"hover_glyph\":null,\"muted_glyph\":{\"id\":\"1236\"},\"nonselection_glyph\":{\"id\":\"1235\"},\"view\":{\"id\":\"1238\"}},\"id\":\"1237\",\"type\":\"GlyphRenderer\"},{\"attributes\":{\"months\":[0,6]},\"id\":\"1626\",\"type\":\"MonthsTicker\"},{\"attributes\":{\"fill_alpha\":{\"value\":0.2},\"fill_color\":{\"value\":\"#1E9C89\"},\"hatch_alpha\":{\"value\":0.2},\"hatch_color\":{\"value\":\"#1E9C89\"},\"line_alpha\":{\"value\":0.2},\"line_color\":{\"value\":\"#1E9C89\"},\"x\":{\"field\":\"EventTime\"},\"y\":{\"field\":\"y_index\"}},\"id\":\"1242\",\"type\":\"Circle\"},{\"attributes\":{\"fill_alpha\":{\"value\":0.1},\"fill_color\":{\"value\":\"#472777\"},\"hatch_alpha\":{\"value\":0.1},\"hatch_color\":{\"value\":\"#472777\"},\"line_alpha\":{\"value\":0.1},\"line_color\":{\"value\":\"#472777\"},\"x\":{\"field\":\"EventTime\"},\"y\":{\"field\":\"y_index\"}},\"id\":\"1145\",\"type\":\"Circle\"},{\"attributes\":{\"fill_alpha\":{\"value\":0.2},\"fill_color\":{\"value\":\"#1F968B\"},\"hatch_alpha\":{\"value\":0.2},\"hatch_color\":{\"value\":\"#1F968B\"},\"line_alpha\":{\"value\":0.2},\"line_color\":{\"value\":\"#1F968B\"},\"x\":{\"field\":\"EventTime\"},\"y\":{\"field\":\"y_index\"}},\"id\":\"1236\",\"type\":\"Circle\"},{\"attributes\":{\"fill_alpha\":{\"value\":0.2},\"fill_color\":{\"value\":\"#2A758E\"},\"hatch_alpha\":{\"value\":0.2},\"hatch_color\":{\"value\":\"#2A758E\"},\"line_alpha\":{\"value\":0.2},\"line_color\":{\"value\":\"#2A758E\"},\"x\":{\"field\":\"EventTime\"},\"y\":{\"field\":\"y_index\"}},\"id\":\"1206\",\"type\":\"Circle\"},{\"attributes\":{\"fill_color\":{\"value\":\"#1E9C89\"},\"hatch_color\":{\"value\":\"#1E9C89\"},\"line_color\":{\"value\":\"#1E9C89\"},\"x\":{\"field\":\"EventTime\"},\"y\":{\"field\":\"y_index\"}},\"id\":\"1240\",\"type\":\"Circle\"},{\"attributes\":{\"coordinates\":null,\"data_source\":{\"id\":\"1036\"},\"glyph\":{\"id\":\"1120\"},\"group\":null,\"hover_glyph\":null,\"muted_glyph\":{\"id\":\"1122\"},\"nonselection_glyph\":{\"id\":\"1121\"},\"view\":{\"id\":\"1124\"}},\"id\":\"1123\",\"type\":\"GlyphRenderer\"},{\"attributes\":{\"source\":{\"id\":\"1055\"}},\"id\":\"1238\",\"type\":\"CDSView\"},{\"attributes\":{\"active_multi\":{\"id\":\"1305\"},\"tools\":[{\"id\":\"1305\"}]},\"id\":\"1115\",\"type\":\"Toolbar\"},{\"attributes\":{\"fill_color\":{\"value\":\"#46307D\"},\"hatch_color\":{\"value\":\"#46307D\"},\"line_color\":{\"value\":\"#46307D\"},\"x\":{\"field\":\"EventTime\"},\"y\":{\"field\":\"y_index\"}},\"id\":\"1150\",\"type\":\"Circle\"},{\"attributes\":{\"coordinates\":null,\"data_source\":{\"id\":\"1050\"},\"glyph\":{\"id\":\"1204\"},\"group\":null,\"hover_glyph\":null,\"muted_glyph\":{\"id\":\"1206\"},\"nonselection_glyph\":{\"id\":\"1205\"},\"view\":{\"id\":\"1208\"}},\"id\":\"1207\",\"type\":\"GlyphRenderer\"},{\"attributes\":{\"data\":{\"CommandLine\":[\"NaN\",\"NaN\"],\"EventID\":[5145,5145],\"EventTime\":{\"__ndarray__\":\"AAB1sSFLd0IAAHWxIUt3Qg==\",\"dtype\":\"float64\",\"order\":\"little\",\"shape\":[2]},\"NewProcessName\":[\"NaN\",\"NaN\"],\"index\":[764,766],\"y_index\":[27,27]},\"selected\":{\"id\":\"1595\"},\"selection_policy\":{\"id\":\"1594\"}},\"id\":\"1063\",\"type\":\"ColumnDataSource\"},{\"attributes\":{\"fill_alpha\":{\"value\":0.1},\"fill_color\":{\"value\":\"#443982\"},\"hatch_alpha\":{\"value\":0.1},\"hatch_color\":{\"value\":\"#443982\"},\"line_alpha\":{\"value\":0.1},\"line_color\":{\"value\":\"#443982\"},\"x\":{\"field\":\"EventTime\"},\"y\":{\"field\":\"y_index\"}},\"id\":\"1157\",\"type\":\"Circle\"},{\"attributes\":{\"coordinates\":null,\"data_source\":{\"id\":\"1042\"},\"glyph\":{\"id\":\"1156\"},\"group\":null,\"hover_glyph\":null,\"muted_glyph\":{\"id\":\"1158\"},\"nonselection_glyph\":{\"id\":\"1157\"},\"view\":{\"id\":\"1160\"}},\"id\":\"1159\",\"type\":\"GlyphRenderer\"},{\"attributes\":{\"fill_color\":{\"value\":\"#460B5E\"},\"hatch_color\":{\"value\":\"#460B5E\"},\"line_color\":{\"value\":\"#460B5E\"},\"x\":{\"field\":\"EventTime\"},\"y\":{\"field\":\"y_index\"}},\"id\":\"1126\",\"type\":\"Circle\"},{\"attributes\":{\"fill_alpha\":{\"value\":0.5},\"fill_color\":{\"value\":\"#460B5E\"},\"hatch_alpha\":{\"value\":0.5},\"hatch_color\":{\"value\":\"#460B5E\"},\"line_alpha\":{\"value\":0.5},\"line_color\":{\"value\":\"#460B5E\"},\"marker\":{\"value\":\"diamond\"},\"size\":{\"value\":10},\"x\":{\"field\":\"EventTime\"},\"y\":{\"field\":\"y_index\"}},\"id\":\"1320\",\"type\":\"Scatter\"},{\"attributes\":{\"source\":{\"id\":\"1050\"}},\"id\":\"1208\",\"type\":\"CDSView\"},{\"attributes\":{\"source\":{\"id\":\"1041\"}},\"id\":\"1154\",\"type\":\"CDSView\"},{\"attributes\":{},\"id\":\"1591\",\"type\":\"Selection\"},{\"attributes\":{},\"id\":\"1627\",\"type\":\"YearsTicker\"},{\"attributes\":{\"fill_alpha\":{\"value\":0.2},\"fill_color\":{\"value\":\"#46307D\"},\"hatch_alpha\":{\"value\":0.2},\"hatch_color\":{\"value\":\"#46307D\"},\"line_alpha\":{\"value\":0.2},\"line_color\":{\"value\":\"#46307D\"},\"x\":{\"field\":\"EventTime\"},\"y\":{\"field\":\"y_index\"}},\"id\":\"1152\",\"type\":\"Circle\"},{\"attributes\":{\"source\":{\"id\":\"1054\"}},\"id\":\"1232\",\"type\":\"CDSView\"},{\"attributes\":{\"fill_alpha\":{\"value\":0.2},\"fill_color\":{\"value\":\"#208F8C\"},\"hatch_alpha\":{\"value\":0.2},\"hatch_color\":{\"value\":\"#208F8C\"},\"line_alpha\":{\"value\":0.2},\"line_color\":{\"value\":\"#208F8C\"},\"x\":{\"field\":\"EventTime\"},\"y\":{\"field\":\"y_index\"}},\"id\":\"1230\",\"type\":\"Circle\"},{\"attributes\":{\"data\":{\"CommandLine\":[\"NaN\",\"NaN\"],\"EventID\":[5,5],\"EventTime\":{\"__ndarray__\":\"AIDXqyFLd0IAgNerIUt3Qg==\",\"dtype\":\"float64\",\"order\":\"little\",\"shape\":[2]},\"NewProcessName\":[\"NaN\",\"NaN\"],\"index\":[139,142],\"y_index\":[2,2]},\"selected\":{\"id\":\"1545\"},\"selection_policy\":{\"id\":\"1544\"}},\"id\":\"1038\",\"type\":\"ColumnDataSource\"},{\"attributes\":{\"fill_color\":{\"value\":\"#208F8C\"},\"hatch_color\":{\"value\":\"#208F8C\"},\"line_color\":{\"value\":\"#208F8C\"},\"x\":{\"field\":\"EventTime\"},\"y\":{\"field\":\"y_index\"}},\"id\":\"1228\",\"type\":\"Circle\"},{\"attributes\":{\"data\":{\"CommandLine\":[\"NaN\",\"NaN\",\"NaN\",\"NaN\",\"NaN\"],\"EventID\":[4627,4627,4627,4627,4627],\"EventTime\":{\"__ndarray__\":\"AAAcqyFLd0IAAHWxIUt3QgAAdbEhS3dCAAB1sSFLd0IAAHWxIUt3Qg==\",\"dtype\":\"float64\",\"order\":\"little\",\"shape\":[5]},\"NewProcessName\":[\"NaN\",\"NaN\",\"NaN\",\"NaN\",\"NaN\"],\"index\":[36,718,721,727,761],\"y_index\":[14,14,14,14,14]},\"selected\":{\"id\":\"1569\"},\"selection_policy\":{\"id\":\"1568\"}},\"id\":\"1050\",\"type\":\"ColumnDataSource\"},{\"attributes\":{\"fill_alpha\":{\"value\":0.1},\"fill_color\":{\"value\":\"#287B8E\"},\"hatch_alpha\":{\"value\":0.1},\"hatch_color\":{\"value\":\"#287B8E\"},\"line_alpha\":{\"value\":0.1},\"line_color\":{\"value\":\"#287B8E\"},\"x\":{\"field\":\"EventTime\"},\"y\":{\"field\":\"y_index\"}},\"id\":\"1211\",\"type\":\"Circle\"},{\"attributes\":{},\"id\":\"1590\",\"type\":\"UnionRenderers\"},{\"attributes\":{\"source\":{\"id\":\"1036\"}},\"id\":\"1124\",\"type\":\"CDSView\"},{\"attributes\":{\"days\":[\"%m-%d %H:%M\"],\"hours\":[\"%H:%M:%S\"],\"milliseconds\":[\"%H:%M:%S.%3N\"],\"minutes\":[\"%H:%M:%S\"],\"seconds\":[\"%H:%M:%S\"]},\"id\":\"1117\",\"type\":\"DatetimeTickFormatter\"},{\"attributes\":{\"fill_alpha\":{\"value\":0.1},\"fill_color\":{\"value\":\"#46307D\"},\"hatch_alpha\":{\"value\":0.1},\"hatch_color\":{\"value\":\"#46307D\"},\"line_alpha\":{\"value\":0.1},\"line_color\":{\"value\":\"#46307D\"},\"x\":{\"field\":\"EventTime\"},\"y\":{\"field\":\"y_index\"}},\"id\":\"1151\",\"type\":\"Circle\"},{\"attributes\":{\"coordinates\":null,\"data_source\":{\"id\":\"1056\"},\"glyph\":{\"id\":\"1240\"},\"group\":null,\"hover_glyph\":null,\"muted_glyph\":{\"id\":\"1242\"},\"nonselection_glyph\":{\"id\":\"1241\"},\"view\":{\"id\":\"1244\"}},\"id\":\"1243\",\"type\":\"GlyphRenderer\"},{\"attributes\":{\"fill_alpha\":{\"value\":0.1},\"fill_color\":{\"value\":\"#208F8C\"},\"hatch_alpha\":{\"value\":0.1},\"hatch_color\":{\"value\":\"#208F8C\"},\"line_alpha\":{\"value\":0.1},\"line_color\":{\"value\":\"#208F8C\"},\"x\":{\"field\":\"EventTime\"},\"y\":{\"field\":\"y_index\"}},\"id\":\"1229\",\"type\":\"Circle\"},{\"attributes\":{\"source\":{\"id\":\"1040\"}},\"id\":\"1148\",\"type\":\"CDSView\"},{\"attributes\":{\"fill_alpha\":{\"value\":0.5},\"fill_color\":{\"value\":\"#7CD24F\"},\"hatch_alpha\":{\"value\":0.5},\"hatch_color\":{\"value\":\"#7CD24F\"},\"line_alpha\":{\"value\":0.5},\"line_color\":{\"value\":\"#7CD24F\"},\"marker\":{\"value\":\"diamond\"},\"size\":{\"value\":10},\"x\":{\"field\":\"EventTime\"},\"y\":{\"field\":\"y_index\"}},\"id\":\"1516\",\"type\":\"Scatter\"},{\"attributes\":{\"callback\":null,\"formatters\":{\"@EventTime\":\"datetime\"},\"tooltips\":[[\"EventTime\",\"@EventTime{%F %T.%3N}\"],[\"CommandLine\",\"@CommandLine\"],[\"EventID\",\"@EventID\"],[\"NewProcessName\",\"@NewProcessName\"]]},\"id\":\"1067\",\"type\":\"HoverTool\"},{\"attributes\":{\"label\":{\"value\":\"4703\"},\"renderers\":[{\"id\":\"1484\"}]},\"id\":\"1486\",\"type\":\"LegendItem\"},{\"attributes\":{\"coordinates\":null,\"data_source\":{\"id\":\"1057\"},\"glyph\":{\"id\":\"1460\"},\"group\":null,\"hover_glyph\":null,\"muted_glyph\":{\"id\":\"1462\"},\"nonselection_glyph\":{\"id\":\"1461\"},\"view\":{\"id\":\"1464\"}},\"id\":\"1463\",\"type\":\"GlyphRenderer\"},{\"attributes\":{\"data\":{\"CommandLine\":[\"NaN\",\"NaN\",\"NaN\",\"NaN\",\"NaN\",\"NaN\",\"NaN\",\"NaN\",\"NaN\",\"NaN\",\"NaN\",\"NaN\",\"NaN\",\"NaN\",\"NaN\",\"NaN\",\"NaN\",\"NaN\",\"NaN\",\"NaN\",\"NaN\",\"NaN\",\"NaN\",\"NaN\",\"NaN\",\"NaN\",\"NaN\",\"NaN\",\"NaN\",\"NaN\",\"NaN\",\"NaN\",\"NaN\",\"NaN\",\"NaN\",\"NaN\",\"NaN\",\"NaN\",\"NaN\",\"NaN\",\"NaN\",\"NaN\",\"NaN\",\"NaN\",\"NaN\",\"NaN\",\"NaN\",\"NaN\",\"NaN\",\"NaN\",\"NaN\",\"NaN\"],\"EventID\":[4703,4703,4703,4703,4703,4703,4703,4703,4703,4703,4703,4703,4703,4703,4703,4703,4703,4703,4703,4703,4703,4703,4703,4703,4703,4703,4703,4703,4703,4703,4703,4703,4703,4703,4703,4703,4703,4703,4703,4703,4703,4703,4703,4703,4703,4703,4703,4703,4703,4703,4703,4703],\"EventTime\":{\"__ndarray__\":\"AAB1sSFLd0IAAHWxIUt3QgAAdbEhS3dCAAB1sSFLd0IAAHWxIUt3QgAAdbEhS3dCAAB1sSFLd0IAAHWxIUt3QgAAdbEhS3dCAAB1sSFLd0IAAHWxIUt3QgAAdbEhS3dCAAB1sSFLd0IAAHWxIUt3QgAAdbEhS3dCAAB1sSFLd0IAAHWxIUt3QgAAdbEhS3dCAAB1sSFLd0IAAHWxIUt3QgAAdbEhS3dCAAB1sSFLd0IAAHWxIUt3QgAAdbEhS3dCAAB1sSFLd0IAAHWxIUt3QgAAdbEhS3dCAAB1sSFLd0IAAHWxIUt3QgAAdbEhS3dCAAB1sSFLd0IAAHWxIUt3QgAAdbEhS3dCAAB1sSFLd0IAAHWxIUt3QgAAdbEhS3dCAAB1sSFLd0IAAHWxIUt3QgAAdbEhS3dCAAB1sSFLd0IAAHWxIUt3QgAAdbEhS3dCAAB1sSFLd0IAAHWxIUt3QgAAdbEhS3dCAAB1sSFLd0IAAHWxIUt3QgAAdbEhS3dCAAB1sSFLd0IAAHWxIUt3QgAAdbEhS3dCAAB1sSFLd0I=\",\"dtype\":\"float64\",\"order\":\"little\",\"shape\":[52]},\"NewProcessName\":[\"NaN\",\"NaN\",\"NaN\",\"NaN\",\"NaN\",\"NaN\",\"NaN\",\"NaN\",\"NaN\",\"NaN\",\"NaN\",\"NaN\",\"NaN\",\"NaN\",\"NaN\",\"NaN\",\"NaN\",\"NaN\",\"NaN\",\"NaN\",\"NaN\",\"NaN\",\"NaN\",\"NaN\",\"NaN\",\"NaN\",\"NaN\",\"NaN\",\"NaN\",\"NaN\",\"NaN\",\"NaN\",\"NaN\",\"NaN\",\"NaN\",\"NaN\",\"NaN\",\"NaN\",\"NaN\",\"NaN\",\"NaN\",\"NaN\",\"NaN\",\"NaN\",\"NaN\",\"NaN\",\"NaN\",\"NaN\",\"NaN\",\"NaN\",\"NaN\",\"NaN\"],\"index\":[750,783,785,787,789,790,792,794,796,798,801,802,805,807,809,810,813,814,816,818,821,822,823,824,825,826,827,828,829,830,831,832,833,834,835,836,837,838,839,840,841,842,843,844,845,846,847,848,849,861,862,863],\"y_index\":[24,24,24,24,24,24,24,24,24,24,24,24,24,24,24,24,24,24,24,24,24,24,24,24,24,24,24,24,24,24,24,24,24,24,24,24,24,24,24,24,24,24,24,24,24,24,24,24,24,24,24,24]},\"selected\":{\"id\":\"1589\"},\"selection_policy\":{\"id\":\"1588\"}},\"id\":\"1060\",\"type\":\"ColumnDataSource\"},{\"attributes\":{\"fill_alpha\":{\"value\":0.2},\"fill_color\":{\"value\":\"#35B778\"},\"hatch_alpha\":{\"value\":0.2},\"hatch_color\":{\"value\":\"#35B778\"},\"line_alpha\":{\"value\":0.2},\"line_color\":{\"value\":\"#35B778\"},\"marker\":{\"value\":\"diamond\"},\"size\":{\"value\":10},\"x\":{\"field\":\"EventTime\"},\"y\":{\"field\":\"y_index\"}},\"id\":\"1483\",\"type\":\"Scatter\"},{\"attributes\":{\"fill_alpha\":{\"value\":0.2},\"fill_color\":{\"value\":\"#1F968B\"},\"hatch_alpha\":{\"value\":0.2},\"hatch_color\":{\"value\":\"#1F968B\"},\"line_alpha\":{\"value\":0.2},\"line_color\":{\"value\":\"#1F968B\"},\"marker\":{\"value\":\"diamond\"},\"size\":{\"value\":10},\"x\":{\"field\":\"EventTime\"},\"y\":{\"field\":\"y_index\"}},\"id\":\"1448\",\"type\":\"Scatter\"},{\"attributes\":{\"coordinates\":null,\"data_source\":{\"id\":\"1055\"},\"glyph\":{\"id\":\"1446\"},\"group\":null,\"hover_glyph\":null,\"muted_glyph\":{\"id\":\"1448\"},\"nonselection_glyph\":{\"id\":\"1447\"},\"view\":{\"id\":\"1450\"}},\"id\":\"1449\",\"type\":\"GlyphRenderer\"},{\"attributes\":{\"data\":{\"CommandLine\":[\"NaN\",\"NaN\",\"NaN\",\"NaN\"],\"EventID\":[11,11,11,11],\"EventTime\":{\"__ndarray__\":\"AIDXqyFLd0IAgNerIUt3QgAAja0hS3dCAICzsSFLd0I=\",\"dtype\":\"float64\",\"order\":\"little\",\"shape\":[4]},\"NewProcessName\":[\"NaN\",\"NaN\",\"NaN\",\"NaN\"],\"index\":[156,163,210,865],\"y_index\":[6,6,6,6]},\"selected\":{\"id\":\"1553\"},\"selection_policy\":{\"id\":\"1552\"}},\"id\":\"1042\",\"type\":\"ColumnDataSource\"},{\"attributes\":{\"fill_alpha\":{\"value\":0.5},\"fill_color\":{\"value\":\"#1FA386\"},\"hatch_alpha\":{\"value\":0.5},\"hatch_color\":{\"value\":\"#1FA386\"},\"line_alpha\":{\"value\":0.5},\"line_color\":{\"value\":\"#1FA386\"},\"marker\":{\"value\":\"diamond\"},\"size\":{\"value\":10},\"x\":{\"field\":\"EventTime\"},\"y\":{\"field\":\"y_index\"}},\"id\":\"1460\",\"type\":\"Scatter\"},{\"attributes\":{\"label\":{\"value\":\"4689\"},\"renderers\":[{\"id\":\"1470\"}]},\"id\":\"1472\",\"type\":\"LegendItem\"},{\"attributes\":{},\"id\":\"1540\",\"type\":\"UnionRenderers\"},{\"attributes\":{\"coordinates\":null,\"data_source\":{\"id\":\"1064\"},\"glyph\":{\"id\":\"1509\"},\"group\":null,\"hover_glyph\":null,\"muted_glyph\":{\"id\":\"1511\"},\"nonselection_glyph\":{\"id\":\"1510\"},\"view\":{\"id\":\"1513\"}},\"id\":\"1512\",\"type\":\"GlyphRenderer\"},{\"attributes\":{\"below\":[{\"id\":\"1079\"}],\"center\":[{\"id\":\"1082\"},{\"id\":\"1086\"}],\"height\":775,\"left\":[{\"id\":\"1083\"},{\"id\":\"1529\"}],\"min_border_left\":50,\"renderers\":[{\"id\":\"1316\"},{\"id\":\"1323\"},{\"id\":\"1330\"},{\"id\":\"1337\"},{\"id\":\"1344\"},{\"id\":\"1351\"},{\"id\":\"1358\"},{\"id\":\"1365\"},{\"id\":\"1372\"},{\"id\":\"1379\"},{\"id\":\"1386\"},{\"id\":\"1393\"},{\"id\":\"1400\"},{\"id\":\"1407\"},{\"id\":\"1414\"},{\"id\":\"1421\"},{\"id\":\"1428\"},{\"id\":\"1435\"},{\"id\":\"1442\"},{\"id\":\"1449\"},{\"id\":\"1456\"},{\"id\":\"1463\"},{\"id\":\"1470\"},{\"id\":\"1477\"},{\"id\":\"1484\"},{\"id\":\"1491\"},{\"id\":\"1498\"},{\"id\":\"1505\"},{\"id\":\"1512\"},{\"id\":\"1519\"},{\"id\":\"1526\"}],\"title\":{\"id\":\"1069\"},\"toolbar\":{\"id\":\"1093\"},\"width\":900,\"x_range\":{\"id\":\"1071\"},\"x_scale\":{\"id\":\"1075\"},\"y_range\":{\"id\":\"1073\"},\"y_scale\":{\"id\":\"1077\"}},\"id\":\"1068\",\"subtype\":\"Figure\",\"type\":\"Plot\"},{\"attributes\":{\"fill_alpha\":{\"value\":0.1},\"fill_color\":{\"value\":\"#1FA386\"},\"hatch_alpha\":{\"value\":0.1},\"hatch_color\":{\"value\":\"#1FA386\"},\"line_alpha\":{\"value\":0.1},\"line_color\":{\"value\":\"#1FA386\"},\"marker\":{\"value\":\"diamond\"},\"size\":{\"value\":10},\"x\":{\"field\":\"EventTime\"},\"y\":{\"field\":\"y_index\"}},\"id\":\"1461\",\"type\":\"Scatter\"},{\"attributes\":{\"source\":{\"id\":\"1065\"}},\"id\":\"1520\",\"type\":\"CDSView\"},{\"attributes\":{\"fill_alpha\":{\"value\":0.5},\"fill_color\":{\"value\":\"#6BCD59\"},\"hatch_alpha\":{\"value\":0.5},\"hatch_color\":{\"value\":\"#6BCD59\"},\"line_alpha\":{\"value\":0.5},\"line_color\":{\"value\":\"#6BCD59\"},\"marker\":{\"value\":\"diamond\"},\"size\":{\"value\":10},\"x\":{\"field\":\"EventTime\"},\"y\":{\"field\":\"y_index\"}},\"id\":\"1509\",\"type\":\"Scatter\"},{\"attributes\":{\"coordinates\":null,\"data_source\":{\"id\":\"1065\"},\"glyph\":{\"id\":\"1516\"},\"group\":null,\"hover_glyph\":null,\"muted_glyph\":{\"id\":\"1518\"},\"nonselection_glyph\":{\"id\":\"1517\"},\"view\":{\"id\":\"1520\"}},\"id\":\"1519\",\"type\":\"GlyphRenderer\"},{\"attributes\":{\"source\":{\"id\":\"1057\"}},\"id\":\"1464\",\"type\":\"CDSView\"},{\"attributes\":{\"source\":{\"id\":\"1060\"}},\"id\":\"1485\",\"type\":\"CDSView\"},{\"attributes\":{\"fill_alpha\":{\"value\":0.2},\"fill_color\":{\"value\":\"#7CD24F\"},\"hatch_alpha\":{\"value\":0.2},\"hatch_color\":{\"value\":\"#7CD24F\"},\"line_alpha\":{\"value\":0.2},\"line_color\":{\"value\":\"#7CD24F\"},\"marker\":{\"value\":\"diamond\"},\"size\":{\"value\":10},\"x\":{\"field\":\"EventTime\"},\"y\":{\"field\":\"y_index\"}},\"id\":\"1518\",\"type\":\"Scatter\"},{\"attributes\":{\"data\":{\"CommandLine\":[\"NaN\",\"NaN\",\"NaN\",\"NaN\",\"NaN\",\"NaN\"],\"EventID\":[9,9,9,9,9,9],\"EventTime\":{\"__ndarray__\":\"AIDXqyFLd0IAgNerIUt3QgCA16shS3dCAIDXqyFLd0IAgNerIUt3QgCA16shS3dC\",\"dtype\":\"float64\",\"order\":\"little\",\"shape\":[6]},\"NewProcessName\":[\"NaN\",\"NaN\",\"NaN\",\"NaN\",\"NaN\",\"NaN\"],\"index\":[91,93,94,117,118,119],\"y_index\":[4,4,4,4,4,4]},\"selected\":{\"id\":\"1549\"},\"selection_policy\":{\"id\":\"1548\"}},\"id\":\"1040\",\"type\":\"ColumnDataSource\"},{\"attributes\":{\"fill_alpha\":{\"value\":0.1},\"fill_color\":{\"value\":\"#23A982\"},\"hatch_alpha\":{\"value\":0.1},\"hatch_color\":{\"value\":\"#23A982\"},\"line_alpha\":{\"value\":0.1},\"line_color\":{\"value\":\"#23A982\"},\"marker\":{\"value\":\"diamond\"},\"size\":{\"value\":10},\"x\":{\"field\":\"EventTime\"},\"y\":{\"field\":\"y_index\"}},\"id\":\"1468\",\"type\":\"Scatter\"},{\"attributes\":{\"fill_alpha\":{\"value\":0.5},\"fill_color\":{\"value\":\"#8DD644\"},\"hatch_alpha\":{\"value\":0.5},\"hatch_color\":{\"value\":\"#8DD644\"},\"line_alpha\":{\"value\":0.5},\"line_color\":{\"value\":\"#8DD644\"},\"marker\":{\"value\":\"diamond\"},\"size\":{\"value\":10},\"x\":{\"field\":\"EventTime\"},\"y\":{\"field\":\"y_index\"}},\"id\":\"1523\",\"type\":\"Scatter\"},{\"attributes\":{\"fill_alpha\":{\"value\":0.2},\"fill_color\":{\"value\":\"#1E9C89\"},\"hatch_alpha\":{\"value\":0.2},\"hatch_color\":{\"value\":\"#1E9C89\"},\"line_alpha\":{\"value\":0.2},\"line_color\":{\"value\":\"#1E9C89\"},\"marker\":{\"value\":\"diamond\"},\"size\":{\"value\":10},\"x\":{\"field\":\"EventTime\"},\"y\":{\"field\":\"y_index\"}},\"id\":\"1455\",\"type\":\"Scatter\"},{\"attributes\":{\"fill_alpha\":{\"value\":0.1},\"fill_color\":{\"value\":\"#7CD24F\"},\"hatch_alpha\":{\"value\":0.1},\"hatch_color\":{\"value\":\"#7CD24F\"},\"line_alpha\":{\"value\":0.1},\"line_color\":{\"value\":\"#7CD24F\"},\"marker\":{\"value\":\"diamond\"},\"size\":{\"value\":10},\"x\":{\"field\":\"EventTime\"},\"y\":{\"field\":\"y_index\"}},\"id\":\"1517\",\"type\":\"Scatter\"},{\"attributes\":{},\"id\":\"1535\",\"type\":\"AllLabels\"},{\"attributes\":{\"fill_alpha\":{\"value\":0.2},\"fill_color\":{\"value\":\"#1FA386\"},\"hatch_alpha\":{\"value\":0.2},\"hatch_color\":{\"value\":\"#1FA386\"},\"line_alpha\":{\"value\":0.2},\"line_color\":{\"value\":\"#1FA386\"},\"marker\":{\"value\":\"diamond\"},\"size\":{\"value\":10},\"x\":{\"field\":\"EventTime\"},\"y\":{\"field\":\"y_index\"}},\"id\":\"1462\",\"type\":\"Scatter\"},{\"attributes\":{\"fill_alpha\":{\"value\":0.1},\"fill_color\":{\"value\":\"#8DD644\"},\"hatch_alpha\":{\"value\":0.1},\"hatch_color\":{\"value\":\"#8DD644\"},\"line_alpha\":{\"value\":0.1},\"line_color\":{\"value\":\"#8DD644\"},\"marker\":{\"value\":\"diamond\"},\"size\":{\"value\":10},\"x\":{\"field\":\"EventTime\"},\"y\":{\"field\":\"y_index\"}},\"id\":\"1524\",\"type\":\"Scatter\"},{\"attributes\":{},\"id\":\"1581\",\"type\":\"Selection\"},{\"attributes\":{\"fill_alpha\":{\"value\":0.1},\"fill_color\":{\"value\":\"#6BCD59\"},\"hatch_alpha\":{\"value\":0.1},\"hatch_color\":{\"value\":\"#6BCD59\"},\"line_alpha\":{\"value\":0.1},\"line_color\":{\"value\":\"#6BCD59\"},\"marker\":{\"value\":\"diamond\"},\"size\":{\"value\":10},\"x\":{\"field\":\"EventTime\"},\"y\":{\"field\":\"y_index\"}},\"id\":\"1510\",\"type\":\"Scatter\"},{\"attributes\":{\"coordinates\":null,\"group\":null,\"text\":\"Range Selector\"},\"id\":\"1101\",\"type\":\"Title\"},{\"attributes\":{\"label\":{\"value\":\"4690\"},\"renderers\":[{\"id\":\"1477\"}]},\"id\":\"1479\",\"type\":\"LegendItem\"},{\"attributes\":{\"fill_alpha\":{\"value\":0.2},\"fill_color\":{\"value\":\"#5BC862\"},\"hatch_alpha\":{\"value\":0.2},\"hatch_color\":{\"value\":\"#5BC862\"},\"line_alpha\":{\"value\":0.2},\"line_color\":{\"value\":\"#5BC862\"},\"marker\":{\"value\":\"diamond\"},\"size\":{\"value\":10},\"x\":{\"field\":\"EventTime\"},\"y\":{\"field\":\"y_index\"}},\"id\":\"1504\",\"type\":\"Scatter\"},{\"attributes\":{\"end\":30.032258064516128,\"start\":-0.03225806451612903},\"id\":\"1073\",\"type\":\"Range1d\"},{\"attributes\":{\"fill_alpha\":{\"value\":0.5},\"fill_color\":{\"value\":\"#23A982\"},\"hatch_alpha\":{\"value\":0.5},\"hatch_color\":{\"value\":\"#23A982\"},\"line_alpha\":{\"value\":0.5},\"line_color\":{\"value\":\"#23A982\"},\"marker\":{\"value\":\"diamond\"},\"size\":{\"value\":10},\"x\":{\"field\":\"EventTime\"},\"y\":{\"field\":\"y_index\"}},\"id\":\"1467\",\"type\":\"Scatter\"},{\"attributes\":{\"fill_alpha\":{\"value\":0.1},\"fill_color\":{\"value\":\"#1E9C89\"},\"hatch_alpha\":{\"value\":0.1},\"hatch_color\":{\"value\":\"#1E9C89\"},\"line_alpha\":{\"value\":0.1},\"line_color\":{\"value\":\"#1E9C89\"},\"marker\":{\"value\":\"diamond\"},\"size\":{\"value\":10},\"x\":{\"field\":\"EventTime\"},\"y\":{\"field\":\"y_index\"}},\"id\":\"1454\",\"type\":\"Scatter\"},{\"attributes\":{\"fill_alpha\":{\"value\":0.2},\"fill_color\":{\"value\":\"#6BCD59\"},\"hatch_alpha\":{\"value\":0.2},\"hatch_color\":{\"value\":\"#6BCD59\"},\"line_alpha\":{\"value\":0.2},\"line_color\":{\"value\":\"#6BCD59\"},\"marker\":{\"value\":\"diamond\"},\"size\":{\"value\":10},\"x\":{\"field\":\"EventTime\"},\"y\":{\"field\":\"y_index\"}},\"id\":\"1511\",\"type\":\"Scatter\"},{\"attributes\":{},\"id\":\"1105\",\"type\":\"DataRange1d\"},{\"attributes\":{\"source\":{\"id\":\"1055\"}},\"id\":\"1450\",\"type\":\"CDSView\"},{\"attributes\":{\"coordinates\":null,\"data_source\":{\"id\":\"1063\"},\"glyph\":{\"id\":\"1502\"},\"group\":null,\"hover_glyph\":null,\"muted_glyph\":{\"id\":\"1504\"},\"nonselection_glyph\":{\"id\":\"1503\"},\"view\":{\"id\":\"1506\"}},\"id\":\"1505\",\"type\":\"GlyphRenderer\"},{\"attributes\":{\"source\":{\"id\":\"1063\"}},\"id\":\"1506\",\"type\":\"CDSView\"},{\"attributes\":{\"coordinates\":null,\"group\":null,\"text\":\"Event Timeline\"},\"id\":\"1069\",\"type\":\"Title\"},{\"attributes\":{\"fill_alpha\":{\"value\":0.2},\"fill_color\":{\"value\":\"#8DD644\"},\"hatch_alpha\":{\"value\":0.2},\"hatch_color\":{\"value\":\"#8DD644\"},\"line_alpha\":{\"value\":0.2},\"line_color\":{\"value\":\"#8DD644\"},\"marker\":{\"value\":\"diamond\"},\"size\":{\"value\":10},\"x\":{\"field\":\"EventTime\"},\"y\":{\"field\":\"y_index\"}},\"id\":\"1525\",\"type\":\"Scatter\"},{\"attributes\":{\"fill_alpha\":{\"value\":0.1},\"fill_color\":{\"value\":\"#1F968B\"},\"hatch_alpha\":{\"value\":0.1},\"hatch_color\":{\"value\":\"#1F968B\"},\"line_alpha\":{\"value\":0.1},\"line_color\":{\"value\":\"#1F968B\"},\"marker\":{\"value\":\"diamond\"},\"size\":{\"value\":10},\"x\":{\"field\":\"EventTime\"},\"y\":{\"field\":\"y_index\"}},\"id\":\"1447\",\"type\":\"Scatter\"},{\"attributes\":{\"coordinates\":null,\"data_source\":{\"id\":\"1060\"},\"glyph\":{\"id\":\"1481\"},\"group\":null,\"hover_glyph\":null,\"muted_glyph\":{\"id\":\"1483\"},\"nonselection_glyph\":{\"id\":\"1482\"},\"view\":{\"id\":\"1485\"}},\"id\":\"1484\",\"type\":\"GlyphRenderer\"},{\"attributes\":{\"label\":{\"value\":\"5858\"},\"renderers\":[{\"id\":\"1526\"}]},\"id\":\"1528\",\"type\":\"LegendItem\"},{\"attributes\":{\"source\":{\"id\":\"1056\"}},\"id\":\"1457\",\"type\":\"CDSView\"},{\"attributes\":{\"coordinates\":null,\"data_source\":{\"id\":\"1056\"},\"glyph\":{\"id\":\"1453\"},\"group\":null,\"hover_glyph\":null,\"muted_glyph\":{\"id\":\"1455\"},\"nonselection_glyph\":{\"id\":\"1454\"},\"view\":{\"id\":\"1457\"}},\"id\":\"1456\",\"type\":\"GlyphRenderer\"},{\"attributes\":{\"source\":{\"id\":\"1064\"}},\"id\":\"1513\",\"type\":\"CDSView\"},{\"attributes\":{},\"id\":\"1534\",\"type\":\"BasicTickFormatter\"},{\"attributes\":{},\"id\":\"1580\",\"type\":\"UnionRenderers\"},{\"attributes\":{\"fill_alpha\":{\"value\":0.5},\"fill_color\":{\"value\":\"#1E9C89\"},\"hatch_alpha\":{\"value\":0.5},\"hatch_color\":{\"value\":\"#1E9C89\"},\"line_alpha\":{\"value\":0.5},\"line_color\":{\"value\":\"#1E9C89\"},\"marker\":{\"value\":\"diamond\"},\"size\":{\"value\":10},\"x\":{\"field\":\"EventTime\"},\"y\":{\"field\":\"y_index\"}},\"id\":\"1453\",\"type\":\"Scatter\"},{\"attributes\":{},\"id\":\"1566\",\"type\":\"UnionRenderers\"},{\"attributes\":{\"coordinates\":null,\"data_source\":{\"id\":\"1051\"},\"glyph\":{\"id\":\"1418\"},\"group\":null,\"hover_glyph\":null,\"muted_glyph\":{\"id\":\"1420\"},\"nonselection_glyph\":{\"id\":\"1419\"},\"view\":{\"id\":\"1422\"}},\"id\":\"1421\",\"type\":\"GlyphRenderer\"},{\"attributes\":{\"label\":{\"value\":\"4656\"},\"renderers\":[{\"id\":\"1428\"}]},\"id\":\"1430\",\"type\":\"LegendItem\"},{\"attributes\":{},\"id\":\"1565\",\"type\":\"Selection\"},{\"attributes\":{\"coordinates\":null,\"data_source\":{\"id\":\"1049\"},\"glyph\":{\"id\":\"1404\"},\"group\":null,\"hover_glyph\":null,\"muted_glyph\":{\"id\":\"1406\"},\"nonselection_glyph\":{\"id\":\"1405\"},\"view\":{\"id\":\"1408\"}},\"id\":\"1407\",\"type\":\"GlyphRenderer\"},{\"attributes\":{},\"id\":\"1598\",\"type\":\"UnionRenderers\"},{\"attributes\":{\"source\":{\"id\":\"1049\"}},\"id\":\"1408\",\"type\":\"CDSView\"},{\"attributes\":{},\"id\":\"1553\",\"type\":\"Selection\"},{\"attributes\":{\"fill_alpha\":{\"value\":0.5},\"fill_color\":{\"value\":\"#287B8E\"},\"hatch_alpha\":{\"value\":0.5},\"hatch_color\":{\"value\":\"#287B8E\"},\"line_alpha\":{\"value\":0.5},\"line_color\":{\"value\":\"#287B8E\"},\"marker\":{\"value\":\"diamond\"},\"size\":{\"value\":10},\"x\":{\"field\":\"EventTime\"},\"y\":{\"field\":\"y_index\"}},\"id\":\"1418\",\"type\":\"Scatter\"},{\"attributes\":{\"fill_alpha\":{\"value\":0.5},\"fill_color\":{\"value\":\"#2A758E\"},\"hatch_alpha\":{\"value\":0.5},\"hatch_color\":{\"value\":\"#2A758E\"},\"line_alpha\":{\"value\":0.5},\"line_color\":{\"value\":\"#2A758E\"},\"marker\":{\"value\":\"diamond\"},\"size\":{\"value\":10},\"x\":{\"field\":\"EventTime\"},\"y\":{\"field\":\"y_index\"}},\"id\":\"1411\",\"type\":\"Scatter\"},{\"attributes\":{\"label\":{\"value\":\"4663\"},\"renderers\":[{\"id\":\"1442\"}]},\"id\":\"1444\",\"type\":\"LegendItem\"},{\"attributes\":{\"label\":{\"value\":\"4658\"},\"renderers\":[{\"id\":\"1435\"}]},\"id\":\"1437\",\"type\":\"LegendItem\"},{\"attributes\":{},\"id\":\"1555\",\"type\":\"Selection\"},{\"attributes\":{\"fill_alpha\":{\"value\":0.1},\"fill_color\":{\"value\":\"#287B8E\"},\"hatch_alpha\":{\"value\":0.1},\"hatch_color\":{\"value\":\"#287B8E\"},\"line_alpha\":{\"value\":0.1},\"line_color\":{\"value\":\"#287B8E\"},\"marker\":{\"value\":\"diamond\"},\"size\":{\"value\":10},\"x\":{\"field\":\"EventTime\"},\"y\":{\"field\":\"y_index\"}},\"id\":\"1419\",\"type\":\"Scatter\"},{\"attributes\":{\"fill_alpha\":{\"value\":0.2},\"fill_color\":{\"value\":\"#40BD72\"},\"hatch_alpha\":{\"value\":0.2},\"hatch_color\":{\"value\":\"#40BD72\"},\"line_alpha\":{\"value\":0.2},\"line_color\":{\"value\":\"#40BD72\"},\"marker\":{\"value\":\"diamond\"},\"size\":{\"value\":10},\"x\":{\"field\":\"EventTime\"},\"y\":{\"field\":\"y_index\"}},\"id\":\"1490\",\"type\":\"Scatter\"},{\"attributes\":{\"source\":{\"id\":\"1050\"}},\"id\":\"1415\",\"type\":\"CDSView\"},{\"attributes\":{\"fill_alpha\":{\"value\":0.5},\"fill_color\":{\"value\":\"#25828E\"},\"hatch_alpha\":{\"value\":0.5},\"hatch_color\":{\"value\":\"#25828E\"},\"line_alpha\":{\"value\":0.5},\"line_color\":{\"value\":\"#25828E\"},\"marker\":{\"value\":\"diamond\"},\"size\":{\"value\":10},\"x\":{\"field\":\"EventTime\"},\"y\":{\"field\":\"y_index\"}},\"id\":\"1425\",\"type\":\"Scatter\"},{\"attributes\":{\"source\":{\"id\":\"1051\"}},\"id\":\"1422\",\"type\":\"CDSView\"},{\"attributes\":{},\"id\":\"1564\",\"type\":\"UnionRenderers\"},{\"attributes\":{\"data\":{\"CommandLine\":[\"NaN\",\"NaN\",\"NaN\",\"NaN\",\"NaN\",\"NaN\",\"NaN\",\"NaN\",\"NaN\",\"NaN\",\"NaN\",\"NaN\",\"NaN\",\"NaN\",\"NaN\",\"NaN\",\"NaN\",\"NaN\",\"NaN\",\"NaN\",\"NaN\",\"NaN\",\"NaN\",\"NaN\",\"NaN\",\"NaN\",\"NaN\",\"NaN\",\"NaN\",\"NaN\",\"NaN\",\"NaN\",\"NaN\",\"NaN\",\"NaN\",\"NaN\",\"NaN\",\"NaN\",\"NaN\",\"NaN\",\"NaN\",\"NaN\",\"NaN\",\"NaN\"],\"EventID\":[4673,4673,4673,4673,4673,4673,4673,4673,4673,4673,4673,4673,4673,4673,4673,4673,4673,4673,4673,4673,4673,4673,4673,4673,4673,4673,4673,4673,4673,4673,4673,4673,4673,4673,4673,4673,4673,4673,4673,4673,4673,4673,4673,4673],\"EventTime\":{\"__ndarray__\":\"AAAKriFLd0IAAAquIUt3QgAACq4hS3dCAAAKriFLd0IAAAquIUt3QgAACq4hS3dCAAAKriFLd0IAAAquIUt3QgAACq4hS3dCAAAKriFLd0IAAAquIUt3QgAACq4hS3dCAAAKriFLd0IAAAquIUt3QgAACq4hS3dCAAAKriFLd0IAAAquIUt3QgAACq4hS3dCAAAKriFLd0IAAAquIUt3QgAACq4hS3dCAAAKriFLd0IAAAquIUt3QgAACq4hS3dCAAAKriFLd0IAAAquIUt3QgAACq4hS3dCAAAKriFLd0IAAAquIUt3QgAACq4hS3dCAAAKriFLd0IAAAquIUt3QgAACq4hS3dCAAAKriFLd0IAAAquIUt3QgAACq4hS3dCAAAKriFLd0IAAAquIUt3QgAACq4hS3dCAAAKriFLd0IAAAquIUt3QgAACq4hS3dCAAAKriFLd0IAAAquIUt3Qg==\",\"dtype\":\"float64\",\"order\":\"little\",\"shape\":[44]},\"NewProcessName\":[\"NaN\",\"NaN\",\"NaN\",\"NaN\",\"NaN\",\"NaN\",\"NaN\",\"NaN\",\"NaN\",\"NaN\",\"NaN\",\"NaN\",\"NaN\",\"NaN\",\"NaN\",\"NaN\",\"NaN\",\"NaN\",\"NaN\",\"NaN\",\"NaN\",\"NaN\",\"NaN\",\"NaN\",\"NaN\",\"NaN\",\"NaN\",\"NaN\",\"NaN\",\"NaN\",\"NaN\",\"NaN\",\"NaN\",\"NaN\",\"NaN\",\"NaN\",\"NaN\",\"NaN\",\"NaN\",\"NaN\",\"NaN\",\"NaN\",\"NaN\",\"NaN\"],\"index\":[218,221,223,226,229,231,235,237,239,242,245,247,250,252,255,256,257,258,259,260,261,262,263,264,265,266,267,268,269,270,271,272,273,274,275,277,279,281,283,285,287,289,291,293],\"y_index\":[20,20,20,20,20,20,20,20,20,20,20,20,20,20,20,20,20,20,20,20,20,20,20,20,20,20,20,20,20,20,20,20,20,20,20,20,20,20,20,20,20,20,20,20]},\"selected\":{\"id\":\"1581\"},\"selection_policy\":{\"id\":\"1580\"}},\"id\":\"1056\",\"type\":\"ColumnDataSource\"},{\"attributes\":{},\"id\":\"1567\",\"type\":\"Selection\"},{\"attributes\":{},\"id\":\"1601\",\"type\":\"Selection\"},{\"attributes\":{},\"id\":\"1599\",\"type\":\"Selection\"},{\"attributes\":{\"fill_alpha\":{\"value\":0.1},\"fill_color\":{\"value\":\"#40BD72\"},\"hatch_alpha\":{\"value\":0.1},\"hatch_color\":{\"value\":\"#40BD72\"},\"line_alpha\":{\"value\":0.1},\"line_color\":{\"value\":\"#40BD72\"},\"marker\":{\"value\":\"diamond\"},\"size\":{\"value\":10},\"x\":{\"field\":\"EventTime\"},\"y\":{\"field\":\"y_index\"}},\"id\":\"1489\",\"type\":\"Scatter\"},{\"attributes\":{\"fill_alpha\":{\"value\":0.1},\"fill_color\":{\"value\":\"#2D6E8E\"},\"hatch_alpha\":{\"value\":0.1},\"hatch_color\":{\"value\":\"#2D6E8E\"},\"line_alpha\":{\"value\":0.1},\"line_color\":{\"value\":\"#2D6E8E\"},\"marker\":{\"value\":\"diamond\"},\"size\":{\"value\":10},\"x\":{\"field\":\"EventTime\"},\"y\":{\"field\":\"y_index\"}},\"id\":\"1405\",\"type\":\"Scatter\"},{\"attributes\":{},\"id\":\"1600\",\"type\":\"UnionRenderers\"},{\"attributes\":{},\"id\":\"1552\",\"type\":\"UnionRenderers\"},{\"attributes\":{\"fill_alpha\":{\"value\":0.5},\"fill_color\":{\"value\":\"#2D6E8E\"},\"hatch_alpha\":{\"value\":0.5},\"hatch_color\":{\"value\":\"#2D6E8E\"},\"line_alpha\":{\"value\":0.5},\"line_color\":{\"value\":\"#2D6E8E\"},\"marker\":{\"value\":\"diamond\"},\"size\":{\"value\":10},\"x\":{\"field\":\"EventTime\"},\"y\":{\"field\":\"y_index\"}},\"id\":\"1404\",\"type\":\"Scatter\"},{\"attributes\":{\"fill_alpha\":{\"value\":0.1},\"fill_color\":{\"value\":\"#2A758E\"},\"hatch_alpha\":{\"value\":0.1},\"hatch_color\":{\"value\":\"#2A758E\"},\"line_alpha\":{\"value\":0.1},\"line_color\":{\"value\":\"#2A758E\"},\"marker\":{\"value\":\"diamond\"},\"size\":{\"value\":10},\"x\":{\"field\":\"EventTime\"},\"y\":{\"field\":\"y_index\"}},\"id\":\"1412\",\"type\":\"Scatter\"},{\"attributes\":{},\"id\":\"1542\",\"type\":\"UnionRenderers\"},{\"attributes\":{\"fill_alpha\":{\"value\":0.2},\"fill_color\":{\"value\":\"#287B8E\"},\"hatch_alpha\":{\"value\":0.2},\"hatch_color\":{\"value\":\"#287B8E\"},\"line_alpha\":{\"value\":0.2},\"line_color\":{\"value\":\"#287B8E\"},\"marker\":{\"value\":\"diamond\"},\"size\":{\"value\":10},\"x\":{\"field\":\"EventTime\"},\"y\":{\"field\":\"y_index\"}},\"id\":\"1420\",\"type\":\"Scatter\"},{\"attributes\":{\"fill_alpha\":{\"value\":0.2},\"fill_color\":{\"value\":\"#2A758E\"},\"hatch_alpha\":{\"value\":0.2},\"hatch_color\":{\"value\":\"#2A758E\"},\"line_alpha\":{\"value\":0.2},\"line_color\":{\"value\":\"#2A758E\"},\"marker\":{\"value\":\"diamond\"},\"size\":{\"value\":10},\"x\":{\"field\":\"EventTime\"},\"y\":{\"field\":\"y_index\"}},\"id\":\"1413\",\"type\":\"Scatter\"},{\"attributes\":{\"coordinates\":null,\"data_source\":{\"id\":\"1050\"},\"glyph\":{\"id\":\"1411\"},\"group\":null,\"hover_glyph\":null,\"muted_glyph\":{\"id\":\"1413\"},\"nonselection_glyph\":{\"id\":\"1412\"},\"view\":{\"id\":\"1415\"}},\"id\":\"1414\",\"type\":\"GlyphRenderer\"},{\"attributes\":{},\"id\":\"1554\",\"type\":\"UnionRenderers\"},{\"attributes\":{\"data\":{\"CommandLine\":[\"NaN\",\"NaN\",\"NaN\",\"NaN\"],\"EventID\":[4634,4634,4634,4634],\"EventTime\":{\"__ndarray__\":\"AAAcqyFLd0IAAHWxIUt3QgAAdbEhS3dCAAB1sSFLd0I=\",\"dtype\":\"float64\",\"order\":\"little\",\"shape\":[4]},\"NewProcessName\":[\"NaN\",\"NaN\",\"NaN\",\"NaN\"],\"index\":[37,779,780,855],\"y_index\":[15,15,15,15]},\"selected\":{\"id\":\"1571\"},\"selection_policy\":{\"id\":\"1570\"}},\"id\":\"1051\",\"type\":\"ColumnDataSource\"},{\"attributes\":{\"coordinates\":null,\"data_source\":{\"id\":\"1061\"},\"glyph\":{\"id\":\"1488\"},\"group\":null,\"hover_glyph\":null,\"muted_glyph\":{\"id\":\"1490\"},\"nonselection_glyph\":{\"id\":\"1489\"},\"view\":{\"id\":\"1492\"}},\"id\":\"1491\",\"type\":\"GlyphRenderer\"},{\"attributes\":{\"fill_alpha\":{\"value\":0.2},\"fill_color\":{\"value\":\"#2D6E8E\"},\"hatch_alpha\":{\"value\":0.2},\"hatch_color\":{\"value\":\"#2D6E8E\"},\"line_alpha\":{\"value\":0.2},\"line_color\":{\"value\":\"#2D6E8E\"},\"marker\":{\"value\":\"diamond\"},\"size\":{\"value\":10},\"x\":{\"field\":\"EventTime\"},\"y\":{\"field\":\"y_index\"}},\"id\":\"1406\",\"type\":\"Scatter\"}],\"root_ids\":[\"1530\"]},\"title\":\"Bokeh Application\",\"version\":\"2.4.0\"}};\n  const render_items = [{\"docid\":\"284daf16-9e2b-4c0b-8fbb-b42c32feea42\",\"root_ids\":[\"1530\"],\"roots\":{\"1530\":\"c2851226-1b91-488f-a969-9947a23f52dd\"}}];\n  root.Bokeh.embed.embed_items_notebook(docs_json, render_items);\n\n  }\n  if (root.Bokeh !== undefined) {\n    embed_document(root);\n  } else {\n    let attempts = 0;\n    const timer = setInterval(function(root) {\n      if (root.Bokeh !== undefined) {\n        clearInterval(timer);\n        embed_document(root);\n      } else {\n        attempts++;\n        if (attempts > 100) {\n          clearInterval(timer);\n          console.log(\"Bokeh: ERROR: Unable to run BokehJS code because BokehJS library is missing\");\n        }\n      }\n    }, 10, root)\n  }\n})(window);",
      "application/vnd.bokehjs_exec.v0+json": ""
     },
     "metadata": {
      "application/vnd.bokehjs_exec.v0+json": {
       "id": "1530"
      }
     },
     "output_type": "display_data"
    },
    {
     "data": {
      "text/html": [
       "<div style=\"display: table;\"><div style=\"display: table-row;\"><div style=\"display: table-cell;\"><b title=\"bokeh.models.layouts.Column\">Column</b>(</div><div style=\"display: table-cell;\">id&nbsp;=&nbsp;'1530', <span id=\"2114\" style=\"cursor: pointer;\">&hellip;)</span></div></div><div class=\"2113\" style=\"display: none;\"><div style=\"display: table-cell;\"></div><div style=\"display: table-cell;\">align&nbsp;=&nbsp;'start',</div></div><div class=\"2113\" style=\"display: none;\"><div style=\"display: table-cell;\"></div><div style=\"display: table-cell;\">aspect_ratio&nbsp;=&nbsp;None,</div></div><div class=\"2113\" style=\"display: none;\"><div style=\"display: table-cell;\"></div><div style=\"display: table-cell;\">background&nbsp;=&nbsp;None,</div></div><div class=\"2113\" style=\"display: none;\"><div style=\"display: table-cell;\"></div><div style=\"display: table-cell;\">children&nbsp;=&nbsp;[Figure(id='1068', ...), Figure(id='1100', ...)],</div></div><div class=\"2113\" style=\"display: none;\"><div style=\"display: table-cell;\"></div><div style=\"display: table-cell;\">css_classes&nbsp;=&nbsp;[],</div></div><div class=\"2113\" style=\"display: none;\"><div style=\"display: table-cell;\"></div><div style=\"display: table-cell;\">disabled&nbsp;=&nbsp;False,</div></div><div class=\"2113\" style=\"display: none;\"><div style=\"display: table-cell;\"></div><div style=\"display: table-cell;\">height&nbsp;=&nbsp;None,</div></div><div class=\"2113\" style=\"display: none;\"><div style=\"display: table-cell;\"></div><div style=\"display: table-cell;\">height_policy&nbsp;=&nbsp;'auto',</div></div><div class=\"2113\" style=\"display: none;\"><div style=\"display: table-cell;\"></div><div style=\"display: table-cell;\">js_event_callbacks&nbsp;=&nbsp;{},</div></div><div class=\"2113\" style=\"display: none;\"><div style=\"display: table-cell;\"></div><div style=\"display: table-cell;\">js_property_callbacks&nbsp;=&nbsp;{},</div></div><div class=\"2113\" style=\"display: none;\"><div style=\"display: table-cell;\"></div><div style=\"display: table-cell;\">margin&nbsp;=&nbsp;(0, 0, 0, 0),</div></div><div class=\"2113\" style=\"display: none;\"><div style=\"display: table-cell;\"></div><div style=\"display: table-cell;\">max_height&nbsp;=&nbsp;None,</div></div><div class=\"2113\" style=\"display: none;\"><div style=\"display: table-cell;\"></div><div style=\"display: table-cell;\">max_width&nbsp;=&nbsp;None,</div></div><div class=\"2113\" style=\"display: none;\"><div style=\"display: table-cell;\"></div><div style=\"display: table-cell;\">min_height&nbsp;=&nbsp;None,</div></div><div class=\"2113\" style=\"display: none;\"><div style=\"display: table-cell;\"></div><div style=\"display: table-cell;\">min_width&nbsp;=&nbsp;None,</div></div><div class=\"2113\" style=\"display: none;\"><div style=\"display: table-cell;\"></div><div style=\"display: table-cell;\">name&nbsp;=&nbsp;None,</div></div><div class=\"2113\" style=\"display: none;\"><div style=\"display: table-cell;\"></div><div style=\"display: table-cell;\">rows&nbsp;=&nbsp;'auto',</div></div><div class=\"2113\" style=\"display: none;\"><div style=\"display: table-cell;\"></div><div style=\"display: table-cell;\">sizing_mode&nbsp;=&nbsp;None,</div></div><div class=\"2113\" style=\"display: none;\"><div style=\"display: table-cell;\"></div><div style=\"display: table-cell;\">spacing&nbsp;=&nbsp;0,</div></div><div class=\"2113\" style=\"display: none;\"><div style=\"display: table-cell;\"></div><div style=\"display: table-cell;\">subscribed_events&nbsp;=&nbsp;[],</div></div><div class=\"2113\" style=\"display: none;\"><div style=\"display: table-cell;\"></div><div style=\"display: table-cell;\">syncable&nbsp;=&nbsp;True,</div></div><div class=\"2113\" style=\"display: none;\"><div style=\"display: table-cell;\"></div><div style=\"display: table-cell;\">tags&nbsp;=&nbsp;[],</div></div><div class=\"2113\" style=\"display: none;\"><div style=\"display: table-cell;\"></div><div style=\"display: table-cell;\">visible&nbsp;=&nbsp;True,</div></div><div class=\"2113\" style=\"display: none;\"><div style=\"display: table-cell;\"></div><div style=\"display: table-cell;\">width&nbsp;=&nbsp;None,</div></div><div class=\"2113\" style=\"display: none;\"><div style=\"display: table-cell;\"></div><div style=\"display: table-cell;\">width_policy&nbsp;=&nbsp;'auto')</div></div></div>\n",
       "<script>\n",
       "(function() {\n",
       "  let expanded = false;\n",
       "  const ellipsis = document.getElementById(\"2114\");\n",
       "  ellipsis.addEventListener(\"click\", function() {\n",
       "    const rows = document.getElementsByClassName(\"2113\");\n",
       "    for (let i = 0; i < rows.length; i++) {\n",
       "      const el = rows[i];\n",
       "      el.style.display = expanded ? \"none\" : \"table-row\";\n",
       "    }\n",
       "    ellipsis.innerHTML = expanded ? \"&hellip;)\" : \"&lsaquo;&lsaquo;&lsaquo;\";\n",
       "    expanded = !expanded;\n",
       "  });\n",
       "})();\n",
       "</script>\n"
      ],
      "text/plain": [
       "Column(id='1530', ...)"
      ]
     },
     "execution_count": 30,
     "metadata": {},
     "output_type": "execute_result"
    }
   ],
   "source": [
    "emp_df.mp_plot.timeline(time_column=\"EventTime\", group_by=\"EventID\")"
   ]
  },
  {
   "cell_type": "markdown",
   "metadata": {},
   "source": [
    "### Security Datasets Browser\n",
    "\n",
    "- Browser properties\n",
    "- Filter by MITRE Tactic/Technique\n",
    "- Search across metadata, file names\n",
    "- Download selected datasets"
   ]
  },
  {
   "cell_type": "code",
   "execution_count": 31,
   "metadata": {},
   "outputs": [
    {
     "name": "stdout",
     "output_type": "stream",
     "text": [
      "Retrieving Mitre data...\n",
      "Retrieving Mordor data...\n"
     ]
    },
    {
     "data": {
      "application/vnd.jupyter.widget-view+json": {
       "model_id": "b85c39003c7944b09905e24601cf1f6f",
       "version_major": 2,
       "version_minor": 0
      },
      "text/plain": [
       "VBox(children=(VBox(children=(HTML(value='<h2>Mordor dataset browser</h2>'), Select(description='Data sets', l…"
      ]
     },
     "metadata": {},
     "output_type": "display_data"
    },
    {
     "data": {
      "text/html": [
       "<div>\n",
       "<style scoped>\n",
       "    .dataframe tbody tr th:only-of-type {\n",
       "        vertical-align: middle;\n",
       "    }\n",
       "\n",
       "    .dataframe tbody tr th {\n",
       "        vertical-align: top;\n",
       "    }\n",
       "\n",
       "    .dataframe thead th {\n",
       "        text-align: right;\n",
       "    }\n",
       "</style>\n",
       "<table border=\"1\" class=\"dataframe\">\n",
       "  <thead>\n",
       "    <tr style=\"text-align: right;\">\n",
       "      <th></th>\n",
       "      <th>Message</th>\n",
       "      <th>EventID</th>\n",
       "      <th>SourceName</th>\n",
       "      <th>TimeCreated</th>\n",
       "      <th>Hostname</th>\n",
       "      <th>Task</th>\n",
       "      <th>Level</th>\n",
       "      <th>Keywords</th>\n",
       "      <th>Channel</th>\n",
       "      <th>ProviderGuid</th>\n",
       "      <th>...</th>\n",
       "      <th>ParentProcessGuid</th>\n",
       "      <th>LogonGuid</th>\n",
       "      <th>LogonId</th>\n",
       "      <th>Device</th>\n",
       "      <th>StartFunction</th>\n",
       "      <th>TargetProcessGuid</th>\n",
       "      <th>StartModule</th>\n",
       "      <th>SourceProcessGuid</th>\n",
       "      <th>StartAddress</th>\n",
       "      <th>NewThreadId</th>\n",
       "    </tr>\n",
       "  </thead>\n",
       "  <tbody>\n",
       "    <tr>\n",
       "      <th>0</th>\n",
       "      <td>The audit log was cleared.\\r\\nSubject:\\r\\n\\tSe...</td>\n",
       "      <td>1102</td>\n",
       "      <td>Microsoft-Windows-Eventlog</td>\n",
       "      <td>2020-10-21T09:40:38.926Z</td>\n",
       "      <td>WORKSTATION5</td>\n",
       "      <td>104</td>\n",
       "      <td>4</td>\n",
       "      <td>0x4020000000000000</td>\n",
       "      <td>Security</td>\n",
       "      <td>{fc65ddd8-d6ef-4962-83d5-6e5cfe9ce148}</td>\n",
       "      <td>...</td>\n",
       "      <td>NaN</td>\n",
       "      <td>NaN</td>\n",
       "      <td>NaN</td>\n",
       "      <td>NaN</td>\n",
       "      <td>NaN</td>\n",
       "      <td>NaN</td>\n",
       "      <td>NaN</td>\n",
       "      <td>NaN</td>\n",
       "      <td>NaN</td>\n",
       "      <td>NaN</td>\n",
       "    </tr>\n",
       "    <tr>\n",
       "      <th>1</th>\n",
       "      <td>The Windows Filtering Platform has permitted a...</td>\n",
       "      <td>5158</td>\n",
       "      <td>Microsoft-Windows-Security-Auditing</td>\n",
       "      <td>2020-10-21T09:40:40.709Z</td>\n",
       "      <td>WORKSTATION5</td>\n",
       "      <td>12810</td>\n",
       "      <td>0</td>\n",
       "      <td>0x8020000000000000</td>\n",
       "      <td>Security</td>\n",
       "      <td>{54849625-5478-4994-a5ba-3e3b0328c30d}</td>\n",
       "      <td>...</td>\n",
       "      <td>NaN</td>\n",
       "      <td>NaN</td>\n",
       "      <td>NaN</td>\n",
       "      <td>NaN</td>\n",
       "      <td>NaN</td>\n",
       "      <td>NaN</td>\n",
       "      <td>NaN</td>\n",
       "      <td>NaN</td>\n",
       "      <td>NaN</td>\n",
       "      <td>NaN</td>\n",
       "    </tr>\n",
       "    <tr>\n",
       "      <th>2</th>\n",
       "      <td>The Windows Filtering Platform has permitted a...</td>\n",
       "      <td>5156</td>\n",
       "      <td>Microsoft-Windows-Security-Auditing</td>\n",
       "      <td>2020-10-21T09:40:40.709Z</td>\n",
       "      <td>WORKSTATION5</td>\n",
       "      <td>12810</td>\n",
       "      <td>0</td>\n",
       "      <td>0x8020000000000000</td>\n",
       "      <td>Security</td>\n",
       "      <td>{54849625-5478-4994-a5ba-3e3b0328c30d}</td>\n",
       "      <td>...</td>\n",
       "      <td>NaN</td>\n",
       "      <td>NaN</td>\n",
       "      <td>NaN</td>\n",
       "      <td>NaN</td>\n",
       "      <td>NaN</td>\n",
       "      <td>NaN</td>\n",
       "      <td>NaN</td>\n",
       "      <td>NaN</td>\n",
       "      <td>NaN</td>\n",
       "      <td>NaN</td>\n",
       "    </tr>\n",
       "    <tr>\n",
       "      <th>3</th>\n",
       "      <td>An attempt was made to duplicate a handle to a...</td>\n",
       "      <td>4690</td>\n",
       "      <td>Microsoft-Windows-Security-Auditing</td>\n",
       "      <td>2020-10-21T09:40:43.571Z</td>\n",
       "      <td>WORKSTATION5</td>\n",
       "      <td>12807</td>\n",
       "      <td>0</td>\n",
       "      <td>0x8020000000000000</td>\n",
       "      <td>Security</td>\n",
       "      <td>{54849625-5478-4994-a5ba-3e3b0328c30d}</td>\n",
       "      <td>...</td>\n",
       "      <td>NaN</td>\n",
       "      <td>NaN</td>\n",
       "      <td>NaN</td>\n",
       "      <td>NaN</td>\n",
       "      <td>NaN</td>\n",
       "      <td>NaN</td>\n",
       "      <td>NaN</td>\n",
       "      <td>NaN</td>\n",
       "      <td>NaN</td>\n",
       "      <td>NaN</td>\n",
       "    </tr>\n",
       "    <tr>\n",
       "      <th>4</th>\n",
       "      <td>The handle to an object was closed.\\r\\n\\r\\nSub...</td>\n",
       "      <td>4658</td>\n",
       "      <td>Microsoft-Windows-Security-Auditing</td>\n",
       "      <td>2020-10-21T09:40:43.571Z</td>\n",
       "      <td>WORKSTATION5</td>\n",
       "      <td>12801</td>\n",
       "      <td>0</td>\n",
       "      <td>0x8020000000000000</td>\n",
       "      <td>Security</td>\n",
       "      <td>{54849625-5478-4994-a5ba-3e3b0328c30d}</td>\n",
       "      <td>...</td>\n",
       "      <td>NaN</td>\n",
       "      <td>NaN</td>\n",
       "      <td>NaN</td>\n",
       "      <td>NaN</td>\n",
       "      <td>NaN</td>\n",
       "      <td>NaN</td>\n",
       "      <td>NaN</td>\n",
       "      <td>NaN</td>\n",
       "      <td>NaN</td>\n",
       "      <td>NaN</td>\n",
       "    </tr>\n",
       "    <tr>\n",
       "      <th>...</th>\n",
       "      <td>...</td>\n",
       "      <td>...</td>\n",
       "      <td>...</td>\n",
       "      <td>...</td>\n",
       "      <td>...</td>\n",
       "      <td>...</td>\n",
       "      <td>...</td>\n",
       "      <td>...</td>\n",
       "      <td>...</td>\n",
       "      <td>...</td>\n",
       "      <td>...</td>\n",
       "      <td>...</td>\n",
       "      <td>...</td>\n",
       "      <td>...</td>\n",
       "      <td>...</td>\n",
       "      <td>...</td>\n",
       "      <td>...</td>\n",
       "      <td>...</td>\n",
       "      <td>...</td>\n",
       "      <td>...</td>\n",
       "      <td>...</td>\n",
       "    </tr>\n",
       "    <tr>\n",
       "      <th>504</th>\n",
       "      <td>Process accessed:\\r\\nRuleName: -\\r\\nUtcTime: 2...</td>\n",
       "      <td>10</td>\n",
       "      <td>Microsoft-Windows-Sysmon</td>\n",
       "      <td>2020-10-21T09:41:04.166Z</td>\n",
       "      <td>WORKSTATION5</td>\n",
       "      <td>10</td>\n",
       "      <td>4</td>\n",
       "      <td>0x8000000000000000</td>\n",
       "      <td>Microsoft-Windows-Sysmon/Operational</td>\n",
       "      <td>{5770385f-c22a-43e0-bf4c-06f5698ffbd9}</td>\n",
       "      <td>...</td>\n",
       "      <td>NaN</td>\n",
       "      <td>NaN</td>\n",
       "      <td>NaN</td>\n",
       "      <td>NaN</td>\n",
       "      <td>NaN</td>\n",
       "      <td>NaN</td>\n",
       "      <td>NaN</td>\n",
       "      <td>NaN</td>\n",
       "      <td>NaN</td>\n",
       "      <td>NaN</td>\n",
       "    </tr>\n",
       "    <tr>\n",
       "      <th>505</th>\n",
       "      <td>Process accessed:\\r\\nRuleName: -\\r\\nUtcTime: 2...</td>\n",
       "      <td>10</td>\n",
       "      <td>Microsoft-Windows-Sysmon</td>\n",
       "      <td>2020-10-21T09:41:04.166Z</td>\n",
       "      <td>WORKSTATION5</td>\n",
       "      <td>10</td>\n",
       "      <td>4</td>\n",
       "      <td>0x8000000000000000</td>\n",
       "      <td>Microsoft-Windows-Sysmon/Operational</td>\n",
       "      <td>{5770385f-c22a-43e0-bf4c-06f5698ffbd9}</td>\n",
       "      <td>...</td>\n",
       "      <td>NaN</td>\n",
       "      <td>NaN</td>\n",
       "      <td>NaN</td>\n",
       "      <td>NaN</td>\n",
       "      <td>NaN</td>\n",
       "      <td>NaN</td>\n",
       "      <td>NaN</td>\n",
       "      <td>NaN</td>\n",
       "      <td>NaN</td>\n",
       "      <td>NaN</td>\n",
       "    </tr>\n",
       "    <tr>\n",
       "      <th>506</th>\n",
       "      <td>Process accessed:\\r\\nRuleName: -\\r\\nUtcTime: 2...</td>\n",
       "      <td>10</td>\n",
       "      <td>Microsoft-Windows-Sysmon</td>\n",
       "      <td>2020-10-21T09:41:04.166Z</td>\n",
       "      <td>WORKSTATION5</td>\n",
       "      <td>10</td>\n",
       "      <td>4</td>\n",
       "      <td>0x8000000000000000</td>\n",
       "      <td>Microsoft-Windows-Sysmon/Operational</td>\n",
       "      <td>{5770385f-c22a-43e0-bf4c-06f5698ffbd9}</td>\n",
       "      <td>...</td>\n",
       "      <td>NaN</td>\n",
       "      <td>NaN</td>\n",
       "      <td>NaN</td>\n",
       "      <td>NaN</td>\n",
       "      <td>NaN</td>\n",
       "      <td>NaN</td>\n",
       "      <td>NaN</td>\n",
       "      <td>NaN</td>\n",
       "      <td>NaN</td>\n",
       "      <td>NaN</td>\n",
       "    </tr>\n",
       "    <tr>\n",
       "      <th>507</th>\n",
       "      <td>Process accessed:\\r\\nRuleName: -\\r\\nUtcTime: 2...</td>\n",
       "      <td>10</td>\n",
       "      <td>Microsoft-Windows-Sysmon</td>\n",
       "      <td>2020-10-21T09:41:04.166Z</td>\n",
       "      <td>WORKSTATION5</td>\n",
       "      <td>10</td>\n",
       "      <td>4</td>\n",
       "      <td>0x8000000000000000</td>\n",
       "      <td>Microsoft-Windows-Sysmon/Operational</td>\n",
       "      <td>{5770385f-c22a-43e0-bf4c-06f5698ffbd9}</td>\n",
       "      <td>...</td>\n",
       "      <td>NaN</td>\n",
       "      <td>NaN</td>\n",
       "      <td>NaN</td>\n",
       "      <td>NaN</td>\n",
       "      <td>NaN</td>\n",
       "      <td>NaN</td>\n",
       "      <td>NaN</td>\n",
       "      <td>NaN</td>\n",
       "      <td>NaN</td>\n",
       "      <td>NaN</td>\n",
       "    </tr>\n",
       "    <tr>\n",
       "      <th>508</th>\n",
       "      <td>The System log file was cleared.</td>\n",
       "      <td>104</td>\n",
       "      <td>Microsoft-Windows-Eventlog</td>\n",
       "      <td>2020-10-21T09:40:38.973Z</td>\n",
       "      <td>WORKSTATION5</td>\n",
       "      <td>104</td>\n",
       "      <td>4</td>\n",
       "      <td>0x8000000000000000</td>\n",
       "      <td>System</td>\n",
       "      <td>{fc65ddd8-d6ef-4962-83d5-6e5cfe9ce148}</td>\n",
       "      <td>...</td>\n",
       "      <td>NaN</td>\n",
       "      <td>NaN</td>\n",
       "      <td>NaN</td>\n",
       "      <td>NaN</td>\n",
       "      <td>NaN</td>\n",
       "      <td>NaN</td>\n",
       "      <td>NaN</td>\n",
       "      <td>NaN</td>\n",
       "      <td>NaN</td>\n",
       "      <td>NaN</td>\n",
       "    </tr>\n",
       "  </tbody>\n",
       "</table>\n",
       "<p>509 rows × 114 columns</p>\n",
       "</div>"
      ],
      "text/plain": [
       "                                               Message  EventID  \\\n",
       "0    The audit log was cleared.\\r\\nSubject:\\r\\n\\tSe...     1102   \n",
       "1    The Windows Filtering Platform has permitted a...     5158   \n",
       "2    The Windows Filtering Platform has permitted a...     5156   \n",
       "3    An attempt was made to duplicate a handle to a...     4690   \n",
       "4    The handle to an object was closed.\\r\\n\\r\\nSub...     4658   \n",
       "..                                                 ...      ...   \n",
       "504  Process accessed:\\r\\nRuleName: -\\r\\nUtcTime: 2...       10   \n",
       "505  Process accessed:\\r\\nRuleName: -\\r\\nUtcTime: 2...       10   \n",
       "506  Process accessed:\\r\\nRuleName: -\\r\\nUtcTime: 2...       10   \n",
       "507  Process accessed:\\r\\nRuleName: -\\r\\nUtcTime: 2...       10   \n",
       "508                   The System log file was cleared.      104   \n",
       "\n",
       "                              SourceName               TimeCreated  \\\n",
       "0             Microsoft-Windows-Eventlog  2020-10-21T09:40:38.926Z   \n",
       "1    Microsoft-Windows-Security-Auditing  2020-10-21T09:40:40.709Z   \n",
       "2    Microsoft-Windows-Security-Auditing  2020-10-21T09:40:40.709Z   \n",
       "3    Microsoft-Windows-Security-Auditing  2020-10-21T09:40:43.571Z   \n",
       "4    Microsoft-Windows-Security-Auditing  2020-10-21T09:40:43.571Z   \n",
       "..                                   ...                       ...   \n",
       "504             Microsoft-Windows-Sysmon  2020-10-21T09:41:04.166Z   \n",
       "505             Microsoft-Windows-Sysmon  2020-10-21T09:41:04.166Z   \n",
       "506             Microsoft-Windows-Sysmon  2020-10-21T09:41:04.166Z   \n",
       "507             Microsoft-Windows-Sysmon  2020-10-21T09:41:04.166Z   \n",
       "508           Microsoft-Windows-Eventlog  2020-10-21T09:40:38.973Z   \n",
       "\n",
       "         Hostname   Task  Level            Keywords  \\\n",
       "0    WORKSTATION5    104      4  0x4020000000000000   \n",
       "1    WORKSTATION5  12810      0  0x8020000000000000   \n",
       "2    WORKSTATION5  12810      0  0x8020000000000000   \n",
       "3    WORKSTATION5  12807      0  0x8020000000000000   \n",
       "4    WORKSTATION5  12801      0  0x8020000000000000   \n",
       "..            ...    ...    ...                 ...   \n",
       "504  WORKSTATION5     10      4  0x8000000000000000   \n",
       "505  WORKSTATION5     10      4  0x8000000000000000   \n",
       "506  WORKSTATION5     10      4  0x8000000000000000   \n",
       "507  WORKSTATION5     10      4  0x8000000000000000   \n",
       "508  WORKSTATION5    104      4  0x8000000000000000   \n",
       "\n",
       "                                  Channel  \\\n",
       "0                                Security   \n",
       "1                                Security   \n",
       "2                                Security   \n",
       "3                                Security   \n",
       "4                                Security   \n",
       "..                                    ...   \n",
       "504  Microsoft-Windows-Sysmon/Operational   \n",
       "505  Microsoft-Windows-Sysmon/Operational   \n",
       "506  Microsoft-Windows-Sysmon/Operational   \n",
       "507  Microsoft-Windows-Sysmon/Operational   \n",
       "508                                System   \n",
       "\n",
       "                               ProviderGuid  ... ParentProcessGuid  LogonGuid  \\\n",
       "0    {fc65ddd8-d6ef-4962-83d5-6e5cfe9ce148}  ...               NaN        NaN   \n",
       "1    {54849625-5478-4994-a5ba-3e3b0328c30d}  ...               NaN        NaN   \n",
       "2    {54849625-5478-4994-a5ba-3e3b0328c30d}  ...               NaN        NaN   \n",
       "3    {54849625-5478-4994-a5ba-3e3b0328c30d}  ...               NaN        NaN   \n",
       "4    {54849625-5478-4994-a5ba-3e3b0328c30d}  ...               NaN        NaN   \n",
       "..                                      ...  ...               ...        ...   \n",
       "504  {5770385f-c22a-43e0-bf4c-06f5698ffbd9}  ...               NaN        NaN   \n",
       "505  {5770385f-c22a-43e0-bf4c-06f5698ffbd9}  ...               NaN        NaN   \n",
       "506  {5770385f-c22a-43e0-bf4c-06f5698ffbd9}  ...               NaN        NaN   \n",
       "507  {5770385f-c22a-43e0-bf4c-06f5698ffbd9}  ...               NaN        NaN   \n",
       "508  {fc65ddd8-d6ef-4962-83d5-6e5cfe9ce148}  ...               NaN        NaN   \n",
       "\n",
       "    LogonId Device StartFunction TargetProcessGuid  StartModule  \\\n",
       "0       NaN    NaN           NaN               NaN          NaN   \n",
       "1       NaN    NaN           NaN               NaN          NaN   \n",
       "2       NaN    NaN           NaN               NaN          NaN   \n",
       "3       NaN    NaN           NaN               NaN          NaN   \n",
       "4       NaN    NaN           NaN               NaN          NaN   \n",
       "..      ...    ...           ...               ...          ...   \n",
       "504     NaN    NaN           NaN               NaN          NaN   \n",
       "505     NaN    NaN           NaN               NaN          NaN   \n",
       "506     NaN    NaN           NaN               NaN          NaN   \n",
       "507     NaN    NaN           NaN               NaN          NaN   \n",
       "508     NaN    NaN           NaN               NaN          NaN   \n",
       "\n",
       "     SourceProcessGuid StartAddress NewThreadId  \n",
       "0                  NaN          NaN         NaN  \n",
       "1                  NaN          NaN         NaN  \n",
       "2                  NaN          NaN         NaN  \n",
       "3                  NaN          NaN         NaN  \n",
       "4                  NaN          NaN         NaN  \n",
       "..                 ...          ...         ...  \n",
       "504                NaN          NaN         NaN  \n",
       "505                NaN          NaN         NaN  \n",
       "506                NaN          NaN         NaN  \n",
       "507                NaN          NaN         NaN  \n",
       "508                NaN          NaN         NaN  \n",
       "\n",
       "[509 rows x 114 columns]"
      ]
     },
     "metadata": {},
     "output_type": "display_data"
    }
   ],
   "source": [
    "from msticpy.data.browsers.mordor_browser import MordorBrowser\n",
    "m_browser = MordorBrowser()"
   ]
  },
  {
   "cell_type": "markdown",
   "metadata": {},
   "source": [
    "### Downloaded data available in `browser.current_dataset`"
   ]
  },
  {
   "cell_type": "code",
   "execution_count": 32,
   "metadata": {},
   "outputs": [
    {
     "data": {
      "text/html": [
       "<div>\n",
       "<style scoped>\n",
       "    .dataframe tbody tr th:only-of-type {\n",
       "        vertical-align: middle;\n",
       "    }\n",
       "\n",
       "    .dataframe tbody tr th {\n",
       "        vertical-align: top;\n",
       "    }\n",
       "\n",
       "    .dataframe thead th {\n",
       "        text-align: right;\n",
       "    }\n",
       "</style>\n",
       "<table border=\"1\" class=\"dataframe\">\n",
       "  <thead>\n",
       "    <tr style=\"text-align: right;\">\n",
       "      <th></th>\n",
       "      <th>Message</th>\n",
       "      <th>EventID</th>\n",
       "      <th>SourceName</th>\n",
       "      <th>TimeCreated</th>\n",
       "      <th>Hostname</th>\n",
       "      <th>Task</th>\n",
       "      <th>Level</th>\n",
       "      <th>Keywords</th>\n",
       "      <th>Channel</th>\n",
       "      <th>ProviderGuid</th>\n",
       "      <th>...</th>\n",
       "      <th>ParentProcessGuid</th>\n",
       "      <th>LogonGuid</th>\n",
       "      <th>LogonId</th>\n",
       "      <th>Device</th>\n",
       "      <th>StartFunction</th>\n",
       "      <th>TargetProcessGuid</th>\n",
       "      <th>StartModule</th>\n",
       "      <th>SourceProcessGuid</th>\n",
       "      <th>StartAddress</th>\n",
       "      <th>NewThreadId</th>\n",
       "    </tr>\n",
       "  </thead>\n",
       "  <tbody>\n",
       "    <tr>\n",
       "      <th>0</th>\n",
       "      <td>The audit log was cleared.\\r\\nSubject:\\r\\n\\tSe...</td>\n",
       "      <td>1102</td>\n",
       "      <td>Microsoft-Windows-Eventlog</td>\n",
       "      <td>2020-10-21T09:40:38.926Z</td>\n",
       "      <td>WORKSTATION5</td>\n",
       "      <td>104</td>\n",
       "      <td>4</td>\n",
       "      <td>0x4020000000000000</td>\n",
       "      <td>Security</td>\n",
       "      <td>{fc65ddd8-d6ef-4962-83d5-6e5cfe9ce148}</td>\n",
       "      <td>...</td>\n",
       "      <td>NaN</td>\n",
       "      <td>NaN</td>\n",
       "      <td>NaN</td>\n",
       "      <td>NaN</td>\n",
       "      <td>NaN</td>\n",
       "      <td>NaN</td>\n",
       "      <td>NaN</td>\n",
       "      <td>NaN</td>\n",
       "      <td>NaN</td>\n",
       "      <td>NaN</td>\n",
       "    </tr>\n",
       "    <tr>\n",
       "      <th>1</th>\n",
       "      <td>The Windows Filtering Platform has permitted a...</td>\n",
       "      <td>5158</td>\n",
       "      <td>Microsoft-Windows-Security-Auditing</td>\n",
       "      <td>2020-10-21T09:40:40.709Z</td>\n",
       "      <td>WORKSTATION5</td>\n",
       "      <td>12810</td>\n",
       "      <td>0</td>\n",
       "      <td>0x8020000000000000</td>\n",
       "      <td>Security</td>\n",
       "      <td>{54849625-5478-4994-a5ba-3e3b0328c30d}</td>\n",
       "      <td>...</td>\n",
       "      <td>NaN</td>\n",
       "      <td>NaN</td>\n",
       "      <td>NaN</td>\n",
       "      <td>NaN</td>\n",
       "      <td>NaN</td>\n",
       "      <td>NaN</td>\n",
       "      <td>NaN</td>\n",
       "      <td>NaN</td>\n",
       "      <td>NaN</td>\n",
       "      <td>NaN</td>\n",
       "    </tr>\n",
       "    <tr>\n",
       "      <th>2</th>\n",
       "      <td>The Windows Filtering Platform has permitted a...</td>\n",
       "      <td>5156</td>\n",
       "      <td>Microsoft-Windows-Security-Auditing</td>\n",
       "      <td>2020-10-21T09:40:40.709Z</td>\n",
       "      <td>WORKSTATION5</td>\n",
       "      <td>12810</td>\n",
       "      <td>0</td>\n",
       "      <td>0x8020000000000000</td>\n",
       "      <td>Security</td>\n",
       "      <td>{54849625-5478-4994-a5ba-3e3b0328c30d}</td>\n",
       "      <td>...</td>\n",
       "      <td>NaN</td>\n",
       "      <td>NaN</td>\n",
       "      <td>NaN</td>\n",
       "      <td>NaN</td>\n",
       "      <td>NaN</td>\n",
       "      <td>NaN</td>\n",
       "      <td>NaN</td>\n",
       "      <td>NaN</td>\n",
       "      <td>NaN</td>\n",
       "      <td>NaN</td>\n",
       "    </tr>\n",
       "  </tbody>\n",
       "</table>\n",
       "<p>3 rows × 114 columns</p>\n",
       "</div>"
      ],
      "text/plain": [
       "                                             Message  EventID  \\\n",
       "0  The audit log was cleared.\\r\\nSubject:\\r\\n\\tSe...     1102   \n",
       "1  The Windows Filtering Platform has permitted a...     5158   \n",
       "2  The Windows Filtering Platform has permitted a...     5156   \n",
       "\n",
       "                            SourceName               TimeCreated  \\\n",
       "0           Microsoft-Windows-Eventlog  2020-10-21T09:40:38.926Z   \n",
       "1  Microsoft-Windows-Security-Auditing  2020-10-21T09:40:40.709Z   \n",
       "2  Microsoft-Windows-Security-Auditing  2020-10-21T09:40:40.709Z   \n",
       "\n",
       "       Hostname   Task  Level            Keywords   Channel  \\\n",
       "0  WORKSTATION5    104      4  0x4020000000000000  Security   \n",
       "1  WORKSTATION5  12810      0  0x8020000000000000  Security   \n",
       "2  WORKSTATION5  12810      0  0x8020000000000000  Security   \n",
       "\n",
       "                             ProviderGuid  ... ParentProcessGuid  LogonGuid  \\\n",
       "0  {fc65ddd8-d6ef-4962-83d5-6e5cfe9ce148}  ...               NaN        NaN   \n",
       "1  {54849625-5478-4994-a5ba-3e3b0328c30d}  ...               NaN        NaN   \n",
       "2  {54849625-5478-4994-a5ba-3e3b0328c30d}  ...               NaN        NaN   \n",
       "\n",
       "  LogonId Device StartFunction TargetProcessGuid  StartModule  \\\n",
       "0     NaN    NaN           NaN               NaN          NaN   \n",
       "1     NaN    NaN           NaN               NaN          NaN   \n",
       "2     NaN    NaN           NaN               NaN          NaN   \n",
       "\n",
       "   SourceProcessGuid StartAddress NewThreadId  \n",
       "0                NaN          NaN         NaN  \n",
       "1                NaN          NaN         NaN  \n",
       "2                NaN          NaN         NaN  \n",
       "\n",
       "[3 rows x 114 columns]"
      ]
     },
     "execution_count": 32,
     "metadata": {},
     "output_type": "execute_result"
    }
   ],
   "source": [
    "m_browser.current_dataset.head(3)"
   ]
  },
  {
   "cell_type": "markdown",
   "metadata": {},
   "source": [
    "### Cached datasets available in `browser.datasets`"
   ]
  },
  {
   "cell_type": "code",
   "execution_count": 33,
   "metadata": {},
   "outputs": [
    {
     "data": {
      "text/plain": [
       "{'https://raw.githubusercontent.com/OTRF/Security-Datasets/master/datasets/atomic/windows/defense_evasion/host/psh_mavinject_dll_notepad.zip':                                                Message  EventID  \\\n",
       " 0    The audit log was cleared.\\r\\nSubject:\\r\\n\\tSe...     1102   \n",
       " 1    The Windows Filtering Platform has permitted a...     5158   \n",
       " 2    The Windows Filtering Platform has permitted a...     5156   \n",
       " 3    An attempt was made to duplicate a handle to a...     4690   \n",
       " 4    The handle to an object was closed.\\r\\n\\r\\nSub...     4658   \n",
       " ..                                                 ...      ...   \n",
       " 504  Process accessed:\\r\\nRuleName: -\\r\\nUtcTime: 2...       10   \n",
       " 505  Process accessed:\\r\\nRuleName: -\\r\\nUtcTime: 2...       10   \n",
       " 506  Process accessed:\\r\\nRuleName: -\\r\\nUtcTime: 2...       10   \n",
       " 507  Process accessed:\\r\\nRuleName: -\\r\\nUtcTime: 2...       10   \n",
       " 508                   The System log file was cleared.      104   \n",
       " \n",
       "                               SourceName               TimeCreated  \\\n",
       " 0             Microsoft-Windows-Eventlog  2020-10-21T09:40:38.926Z   \n",
       " 1    Microsoft-Windows-Security-Auditing  2020-10-21T09:40:40.709Z   \n",
       " 2    Microsoft-Windows-Security-Auditing  2020-10-21T09:40:40.709Z   \n",
       " 3    Microsoft-Windows-Security-Auditing  2020-10-21T09:40:43.571Z   \n",
       " 4    Microsoft-Windows-Security-Auditing  2020-10-21T09:40:43.571Z   \n",
       " ..                                   ...                       ...   \n",
       " 504             Microsoft-Windows-Sysmon  2020-10-21T09:41:04.166Z   \n",
       " 505             Microsoft-Windows-Sysmon  2020-10-21T09:41:04.166Z   \n",
       " 506             Microsoft-Windows-Sysmon  2020-10-21T09:41:04.166Z   \n",
       " 507             Microsoft-Windows-Sysmon  2020-10-21T09:41:04.166Z   \n",
       " 508           Microsoft-Windows-Eventlog  2020-10-21T09:40:38.973Z   \n",
       " \n",
       "          Hostname   Task  Level            Keywords  \\\n",
       " 0    WORKSTATION5    104      4  0x4020000000000000   \n",
       " 1    WORKSTATION5  12810      0  0x8020000000000000   \n",
       " 2    WORKSTATION5  12810      0  0x8020000000000000   \n",
       " 3    WORKSTATION5  12807      0  0x8020000000000000   \n",
       " 4    WORKSTATION5  12801      0  0x8020000000000000   \n",
       " ..            ...    ...    ...                 ...   \n",
       " 504  WORKSTATION5     10      4  0x8000000000000000   \n",
       " 505  WORKSTATION5     10      4  0x8000000000000000   \n",
       " 506  WORKSTATION5     10      4  0x8000000000000000   \n",
       " 507  WORKSTATION5     10      4  0x8000000000000000   \n",
       " 508  WORKSTATION5    104      4  0x8000000000000000   \n",
       " \n",
       "                                   Channel  \\\n",
       " 0                                Security   \n",
       " 1                                Security   \n",
       " 2                                Security   \n",
       " 3                                Security   \n",
       " 4                                Security   \n",
       " ..                                    ...   \n",
       " 504  Microsoft-Windows-Sysmon/Operational   \n",
       " 505  Microsoft-Windows-Sysmon/Operational   \n",
       " 506  Microsoft-Windows-Sysmon/Operational   \n",
       " 507  Microsoft-Windows-Sysmon/Operational   \n",
       " 508                                System   \n",
       " \n",
       "                                ProviderGuid  ... ParentProcessGuid  LogonGuid  \\\n",
       " 0    {fc65ddd8-d6ef-4962-83d5-6e5cfe9ce148}  ...               NaN        NaN   \n",
       " 1    {54849625-5478-4994-a5ba-3e3b0328c30d}  ...               NaN        NaN   \n",
       " 2    {54849625-5478-4994-a5ba-3e3b0328c30d}  ...               NaN        NaN   \n",
       " 3    {54849625-5478-4994-a5ba-3e3b0328c30d}  ...               NaN        NaN   \n",
       " 4    {54849625-5478-4994-a5ba-3e3b0328c30d}  ...               NaN        NaN   \n",
       " ..                                      ...  ...               ...        ...   \n",
       " 504  {5770385f-c22a-43e0-bf4c-06f5698ffbd9}  ...               NaN        NaN   \n",
       " 505  {5770385f-c22a-43e0-bf4c-06f5698ffbd9}  ...               NaN        NaN   \n",
       " 506  {5770385f-c22a-43e0-bf4c-06f5698ffbd9}  ...               NaN        NaN   \n",
       " 507  {5770385f-c22a-43e0-bf4c-06f5698ffbd9}  ...               NaN        NaN   \n",
       " 508  {fc65ddd8-d6ef-4962-83d5-6e5cfe9ce148}  ...               NaN        NaN   \n",
       " \n",
       "     LogonId Device StartFunction TargetProcessGuid  StartModule  \\\n",
       " 0       NaN    NaN           NaN               NaN          NaN   \n",
       " 1       NaN    NaN           NaN               NaN          NaN   \n",
       " 2       NaN    NaN           NaN               NaN          NaN   \n",
       " 3       NaN    NaN           NaN               NaN          NaN   \n",
       " 4       NaN    NaN           NaN               NaN          NaN   \n",
       " ..      ...    ...           ...               ...          ...   \n",
       " 504     NaN    NaN           NaN               NaN          NaN   \n",
       " 505     NaN    NaN           NaN               NaN          NaN   \n",
       " 506     NaN    NaN           NaN               NaN          NaN   \n",
       " 507     NaN    NaN           NaN               NaN          NaN   \n",
       " 508     NaN    NaN           NaN               NaN          NaN   \n",
       " \n",
       "      SourceProcessGuid StartAddress NewThreadId  \n",
       " 0                  NaN          NaN         NaN  \n",
       " 1                  NaN          NaN         NaN  \n",
       " 2                  NaN          NaN         NaN  \n",
       " 3                  NaN          NaN         NaN  \n",
       " 4                  NaN          NaN         NaN  \n",
       " ..                 ...          ...         ...  \n",
       " 504                NaN          NaN         NaN  \n",
       " 505                NaN          NaN         NaN  \n",
       " 506                NaN          NaN         NaN  \n",
       " 507                NaN          NaN         NaN  \n",
       " 508                NaN          NaN         NaN  \n",
       " \n",
       " [509 rows x 114 columns]}"
      ]
     },
     "execution_count": 33,
     "metadata": {},
     "output_type": "execute_result"
    }
   ],
   "source": [
    "m_browser.datasets"
   ]
  },
  {
   "cell_type": "markdown",
   "metadata": {},
   "source": [
    "---\n",
    "# End of Session\n",
    "# <font color=peru>Break: 5 Minutes</font>\n",
    "\n",
    "![](../media/dog-leash-break.jpg)"
   ]
  }
 ],
 "metadata": {
  "interpreter": {
   "hash": "1f3badd15024c32157114ba2220d2563bd5c52546c58b5347587a8ed5081412b"
  },
  "kernelspec": {
   "display_name": "Python 3",
   "language": "python",
   "name": "python3"
  },
  "language_info": {
   "codemirror_mode": {
    "name": "ipython",
    "version": 3
   },
   "file_extension": ".py",
   "mimetype": "text/x-python",
   "name": "python",
   "nbconvert_exporter": "python",
   "pygments_lexer": "ipython3",
   "version": "3.9.5"
  }
 },
 "nbformat": 4,
 "nbformat_minor": 4
}
