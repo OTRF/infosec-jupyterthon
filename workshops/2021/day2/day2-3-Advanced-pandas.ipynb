{
 "cells": [
  {
   "cell_type": "markdown",
   "metadata": {},
   "source": [
    "## InfoSec Jupyterthon 2021 - Day 2\n",
    "\n",
    "---\n",
    "# 3. Advanced Pandas\n",
    "\n",
    "- Joins and merges [Ian, Ashwin]\n",
    "- Using styles [Ian, Pete] \n",
    "- Reshaping/preprocessing data [Ashwin, Luis Francisco, Ian] \n",
    "- Time manipulation [Ashwin]\n",
    "- Other useful operations  [Luis Francisco] \n"
   ]
  },
  {
   "cell_type": "markdown",
   "metadata": {},
   "source": [
    "---\n",
    "\n",
    "# Joins and merges [Ian, Ashwin] \n",
    "\n",
    "**Pandas UserGuide :** [Merge, join, concatenate and compare](https://pandas.pydata.org/pandas-docs/stable/user_guide/merging.html)\n"
   ]
  },
  {
   "cell_type": "markdown",
   "metadata": {},
   "source": [
    " ### Load some data and normalize it into:\n",
    " - Processes\n",
    " - ParentProcesses\n",
    " - Users"
   ]
  },
  {
   "cell_type": "code",
   "execution_count": 58,
   "metadata": {
    "ExecuteTime": {
     "end_time": "2021-11-29T16:56:44.269255Z",
     "start_time": "2021-11-29T16:56:43.972401Z"
    }
   },
   "outputs": [
    {
     "name": "stdout",
     "output_type": "stream",
     "text": [
      "original 117\n",
      "procs 117\n",
      "parents 3\n",
      "users 2\n"
     ]
    },
    {
     "data": {
      "text/html": [
       "<div>\n",
       "<style scoped>\n",
       "    .dataframe tbody tr th:only-of-type {\n",
       "        vertical-align: middle;\n",
       "    }\n",
       "\n",
       "    .dataframe tbody tr th {\n",
       "        vertical-align: top;\n",
       "    }\n",
       "\n",
       "    .dataframe thead th {\n",
       "        text-align: right;\n",
       "    }\n",
       "</style>\n",
       "<table border=\"1\" class=\"dataframe\">\n",
       "  <thead>\n",
       "    <tr style=\"text-align: right;\">\n",
       "      <th></th>\n",
       "      <th>NewProcessId</th>\n",
       "      <th>NewProcessName</th>\n",
       "      <th>CommandLine</th>\n",
       "      <th>ParentProcessId</th>\n",
       "      <th>TimeCreatedUtc</th>\n",
       "      <th>SubjectUserSid</th>\n",
       "    </tr>\n",
       "  </thead>\n",
       "  <tbody>\n",
       "    <tr>\n",
       "      <th>0</th>\n",
       "      <td>0x1580</td>\n",
       "      <td>C:\\Diagnostics\\UserTmp\\ftp.exe</td>\n",
       "      <td>.\\ftp  -s:C:\\RECYCLER\\xxppyy.exe</td>\n",
       "      <td>0xbc8</td>\n",
       "      <td>2019-01-15 05:15:15.677</td>\n",
       "      <td>S-1-5-21-996632719-2361334927-4038480536-500</td>\n",
       "    </tr>\n",
       "    <tr>\n",
       "      <th>1</th>\n",
       "      <td>0x16fc</td>\n",
       "      <td>C:\\Diagnostics\\UserTmp\\reg.exe</td>\n",
       "      <td>.\\reg  not /domain:everything that /sid:shines...</td>\n",
       "      <td>0xbc8</td>\n",
       "      <td>2019-01-15 05:15:16.167</td>\n",
       "      <td>S-1-5-21-996632719-2361334927-4038480536-500</td>\n",
       "    </tr>\n",
       "    <tr>\n",
       "      <th>2</th>\n",
       "      <td>0x1700</td>\n",
       "      <td>C:\\Diagnostics\\UserTmp\\cmd.exe</td>\n",
       "      <td>cmd  /c \"systeminfo &amp;&amp; systeminfo\"</td>\n",
       "      <td>0xbc8</td>\n",
       "      <td>2019-01-15 05:15:16.277</td>\n",
       "      <td>S-1-5-21-996632719-2361334927-4038480536-500</td>\n",
       "    </tr>\n",
       "  </tbody>\n",
       "</table>\n",
       "</div>"
      ],
      "text/plain": [
       "  NewProcessId                  NewProcessName  \\\n",
       "0       0x1580  C:\\Diagnostics\\UserTmp\\ftp.exe   \n",
       "1       0x16fc  C:\\Diagnostics\\UserTmp\\reg.exe   \n",
       "2       0x1700  C:\\Diagnostics\\UserTmp\\cmd.exe   \n",
       "\n",
       "                                         CommandLine ParentProcessId  \\\n",
       "0                   .\\ftp  -s:C:\\RECYCLER\\xxppyy.exe           0xbc8   \n",
       "1  .\\reg  not /domain:everything that /sid:shines...           0xbc8   \n",
       "2                 cmd  /c \"systeminfo && systeminfo\"           0xbc8   \n",
       "\n",
       "           TimeCreatedUtc                                SubjectUserSid  \n",
       "0 2019-01-15 05:15:15.677  S-1-5-21-996632719-2361334927-4038480536-500  \n",
       "1 2019-01-15 05:15:16.167  S-1-5-21-996632719-2361334927-4038480536-500  \n",
       "2 2019-01-15 05:15:16.277  S-1-5-21-996632719-2361334927-4038480536-500  "
      ]
     },
     "metadata": {},
     "output_type": "display_data"
    },
    {
     "data": {
      "text/html": [
       "<div>\n",
       "<style scoped>\n",
       "    .dataframe tbody tr th:only-of-type {\n",
       "        vertical-align: middle;\n",
       "    }\n",
       "\n",
       "    .dataframe tbody tr th {\n",
       "        vertical-align: top;\n",
       "    }\n",
       "\n",
       "    .dataframe thead th {\n",
       "        text-align: right;\n",
       "    }\n",
       "</style>\n",
       "<table border=\"1\" class=\"dataframe\">\n",
       "  <thead>\n",
       "    <tr style=\"text-align: right;\">\n",
       "      <th></th>\n",
       "      <th>ProcessId</th>\n",
       "      <th>ParentProcessName</th>\n",
       "    </tr>\n",
       "  </thead>\n",
       "  <tbody>\n",
       "    <tr>\n",
       "      <th>0</th>\n",
       "      <td>0xbc8</td>\n",
       "      <td>C:\\Windows\\System32\\cmd.exe</td>\n",
       "    </tr>\n",
       "    <tr>\n",
       "      <th>115</th>\n",
       "      <td>0x440</td>\n",
       "      <td>C:\\Windows\\System32\\svchost.exe</td>\n",
       "    </tr>\n",
       "    <tr>\n",
       "      <th>116</th>\n",
       "      <td>0x1580</td>\n",
       "      <td>C:\\Diagnostics\\UserTmp\\powershell.exe</td>\n",
       "    </tr>\n",
       "  </tbody>\n",
       "</table>\n",
       "</div>"
      ],
      "text/plain": [
       "    ProcessId                      ParentProcessName\n",
       "0       0xbc8            C:\\Windows\\System32\\cmd.exe\n",
       "115     0x440        C:\\Windows\\System32\\svchost.exe\n",
       "116    0x1580  C:\\Diagnostics\\UserTmp\\powershell.exe"
      ]
     },
     "metadata": {},
     "output_type": "display_data"
    },
    {
     "data": {
      "text/html": [
       "<div>\n",
       "<style scoped>\n",
       "    .dataframe tbody tr th:only-of-type {\n",
       "        vertical-align: middle;\n",
       "    }\n",
       "\n",
       "    .dataframe tbody tr th {\n",
       "        vertical-align: top;\n",
       "    }\n",
       "\n",
       "    .dataframe thead th {\n",
       "        text-align: right;\n",
       "    }\n",
       "</style>\n",
       "<table border=\"1\" class=\"dataframe\">\n",
       "  <thead>\n",
       "    <tr style=\"text-align: right;\">\n",
       "      <th></th>\n",
       "      <th>SubjectUserSid</th>\n",
       "      <th>SubjectUserName</th>\n",
       "      <th>SubjectDomainName</th>\n",
       "    </tr>\n",
       "  </thead>\n",
       "  <tbody>\n",
       "    <tr>\n",
       "      <th>0</th>\n",
       "      <td>S-1-5-21-996632719-2361334927-4038480536-500</td>\n",
       "      <td>MSTICAdmin</td>\n",
       "      <td>MSTICAlertsWin1</td>\n",
       "    </tr>\n",
       "    <tr>\n",
       "      <th>115</th>\n",
       "      <td>S-1-5-18</td>\n",
       "      <td>MSTICAlertsWin1$</td>\n",
       "      <td>WORKGROUP</td>\n",
       "    </tr>\n",
       "  </tbody>\n",
       "</table>\n",
       "</div>"
      ],
      "text/plain": [
       "                                   SubjectUserSid   SubjectUserName  \\\n",
       "0    S-1-5-21-996632719-2361334927-4038480536-500        MSTICAdmin   \n",
       "115                                      S-1-5-18  MSTICAlertsWin1$   \n",
       "\n",
       "    SubjectDomainName  \n",
       "0     MSTICAlertsWin1  \n",
       "115         WORKGROUP  "
      ]
     },
     "metadata": {},
     "output_type": "display_data"
    }
   ],
   "source": [
    "import pandas as pd\n",
    "\n",
    "procs_df = pd.read_csv(\n",
    "    \"../data/process_tree.csv\",\n",
    "    parse_dates=[\"TimeCreatedUtc\", \"TimeGenerated\"],\n",
    "    index_col=0\n",
    ")\n",
    "parents = procs_df[[\"ProcessId\", \"ParentProcessName\"]].drop_duplicates()\n",
    "procs = (\n",
    "    procs_df[[\"NewProcessId\", \"NewProcessName\", \"CommandLine\", \"ProcessId\", \"TimeCreatedUtc\", \"SubjectUserSid\"]]\n",
    "    .drop_duplicates()\n",
    "    .rename(columns={\"ProcessId\": \"ParentProcessId\"})\n",
    ")\n",
    "users = procs_df[['SubjectUserSid', 'SubjectUserName', 'SubjectDomainName']].drop_duplicates()\n",
    "\n",
    "print(\"original\", len(procs_df))\n",
    "print(\"procs\", len(procs))\n",
    "print(\"parents\", len(parents))\n",
    "print(\"users\", len(users))\n",
    "display(procs.head(3))\n",
    "display(parents)\n",
    "display(users)"
   ]
  },
  {
   "cell_type": "markdown",
   "metadata": {},
   "source": [
    "## Joining on Index using pd.concat\n",
    "\n",
    "<p style=\"font-family:consolas; font-size:15pt; color:green\">\n",
    "pd.concat([df1, df2...])\n",
    "</p>\n",
    "\n",
    "We saw using pd.concat to append rows in part 1"
   ]
  },
  {
   "cell_type": "code",
   "execution_count": 2,
   "metadata": {
    "ExecuteTime": {
     "end_time": "2021-11-29T16:56:45.380847Z",
     "start_time": "2021-11-29T16:56:45.338334Z"
    }
   },
   "outputs": [
    {
     "data": {
      "text/html": [
       "<div>\n",
       "<style scoped>\n",
       "    .dataframe tbody tr th:only-of-type {\n",
       "        vertical-align: middle;\n",
       "    }\n",
       "\n",
       "    .dataframe tbody tr th {\n",
       "        vertical-align: top;\n",
       "    }\n",
       "\n",
       "    .dataframe thead th {\n",
       "        text-align: right;\n",
       "    }\n",
       "</style>\n",
       "<table border=\"1\" class=\"dataframe\">\n",
       "  <thead>\n",
       "    <tr style=\"text-align: right;\">\n",
       "      <th></th>\n",
       "      <th>SubjectLogonId_dec</th>\n",
       "    </tr>\n",
       "  </thead>\n",
       "  <tbody>\n",
       "    <tr>\n",
       "      <th>0</th>\n",
       "      <td>16428071</td>\n",
       "    </tr>\n",
       "    <tr>\n",
       "      <th>1</th>\n",
       "      <td>16428071</td>\n",
       "    </tr>\n",
       "    <tr>\n",
       "      <th>2</th>\n",
       "      <td>16428071</td>\n",
       "    </tr>\n",
       "    <tr>\n",
       "      <th>3</th>\n",
       "      <td>16428071</td>\n",
       "    </tr>\n",
       "    <tr>\n",
       "      <th>4</th>\n",
       "      <td>16428071</td>\n",
       "    </tr>\n",
       "  </tbody>\n",
       "</table>\n",
       "</div>"
      ],
      "text/plain": [
       "   SubjectLogonId_dec\n",
       "0            16428071\n",
       "1            16428071\n",
       "2            16428071\n",
       "3            16428071\n",
       "4            16428071"
      ]
     },
     "execution_count": 2,
     "metadata": {},
     "output_type": "execute_result"
    }
   ],
   "source": [
    "# Do some processing on the original DF\n",
    "dec_logon_id = (\n",
    "    pd.DataFrame(procs_df.SubjectLogonId.apply(lambda x: int(x, base=16)))\n",
    "    .rename(columns={\"SubjectLogonId\": \"SubjectLogonId_dec\"})\n",
    ")\n",
    "\n",
    "dec_logon_id.head(5)"
   ]
  },
  {
   "cell_type": "markdown",
   "metadata": {},
   "source": [
    "#### pd.concat with `axis=\"columns\"` or `axis=1` joins column-wise (horizontally)"
   ]
  },
  {
   "cell_type": "code",
   "execution_count": 3,
   "metadata": {
    "ExecuteTime": {
     "end_time": "2021-11-29T16:56:46.566520Z",
     "start_time": "2021-11-29T16:56:46.516902Z"
    }
   },
   "outputs": [
    {
     "data": {
      "text/html": [
       "<div>\n",
       "<style scoped>\n",
       "    .dataframe tbody tr th:only-of-type {\n",
       "        vertical-align: middle;\n",
       "    }\n",
       "\n",
       "    .dataframe tbody tr th {\n",
       "        vertical-align: top;\n",
       "    }\n",
       "\n",
       "    .dataframe thead th {\n",
       "        text-align: right;\n",
       "    }\n",
       "</style>\n",
       "<table border=\"1\" class=\"dataframe\">\n",
       "  <thead>\n",
       "    <tr style=\"text-align: right;\">\n",
       "      <th></th>\n",
       "      <th>SubjectUserSid</th>\n",
       "      <th>SubjectUserName</th>\n",
       "      <th>SubjectDomainName</th>\n",
       "      <th>SubjectLogonId</th>\n",
       "      <th>NewProcessId</th>\n",
       "      <th>NewProcessName</th>\n",
       "      <th>ProcessId</th>\n",
       "      <th>ParentProcessName</th>\n",
       "      <th>SubjectLogonId_dec</th>\n",
       "    </tr>\n",
       "  </thead>\n",
       "  <tbody>\n",
       "    <tr>\n",
       "      <th>0</th>\n",
       "      <td>S-1-5-21-996632719-2361334927-4038480536-500</td>\n",
       "      <td>MSTICAdmin</td>\n",
       "      <td>MSTICAlertsWin1</td>\n",
       "      <td>0xfaac27</td>\n",
       "      <td>0x1580</td>\n",
       "      <td>C:\\Diagnostics\\UserTmp\\ftp.exe</td>\n",
       "      <td>0xbc8</td>\n",
       "      <td>C:\\Windows\\System32\\cmd.exe</td>\n",
       "      <td>16428071</td>\n",
       "    </tr>\n",
       "    <tr>\n",
       "      <th>1</th>\n",
       "      <td>S-1-5-21-996632719-2361334927-4038480536-500</td>\n",
       "      <td>MSTICAdmin</td>\n",
       "      <td>MSTICAlertsWin1</td>\n",
       "      <td>0xfaac27</td>\n",
       "      <td>0x16fc</td>\n",
       "      <td>C:\\Diagnostics\\UserTmp\\reg.exe</td>\n",
       "      <td>0xbc8</td>\n",
       "      <td>C:\\Windows\\System32\\cmd.exe</td>\n",
       "      <td>16428071</td>\n",
       "    </tr>\n",
       "    <tr>\n",
       "      <th>2</th>\n",
       "      <td>S-1-5-21-996632719-2361334927-4038480536-500</td>\n",
       "      <td>MSTICAdmin</td>\n",
       "      <td>MSTICAlertsWin1</td>\n",
       "      <td>0xfaac27</td>\n",
       "      <td>0x1700</td>\n",
       "      <td>C:\\Diagnostics\\UserTmp\\cmd.exe</td>\n",
       "      <td>0xbc8</td>\n",
       "      <td>C:\\Windows\\System32\\cmd.exe</td>\n",
       "      <td>16428071</td>\n",
       "    </tr>\n",
       "    <tr>\n",
       "      <th>3</th>\n",
       "      <td>S-1-5-21-996632719-2361334927-4038480536-500</td>\n",
       "      <td>MSTICAdmin</td>\n",
       "      <td>MSTICAlertsWin1</td>\n",
       "      <td>0xfaac27</td>\n",
       "      <td>0x1728</td>\n",
       "      <td>C:\\Diagnostics\\UserTmp\\rundll32.exe</td>\n",
       "      <td>0xbc8</td>\n",
       "      <td>C:\\Windows\\System32\\cmd.exe</td>\n",
       "      <td>16428071</td>\n",
       "    </tr>\n",
       "    <tr>\n",
       "      <th>4</th>\n",
       "      <td>S-1-5-21-996632719-2361334927-4038480536-500</td>\n",
       "      <td>MSTICAdmin</td>\n",
       "      <td>MSTICAlertsWin1</td>\n",
       "      <td>0xfaac27</td>\n",
       "      <td>0x175c</td>\n",
       "      <td>C:\\Diagnostics\\UserTmp\\rundll32.exe</td>\n",
       "      <td>0xbc8</td>\n",
       "      <td>C:\\Windows\\System32\\cmd.exe</td>\n",
       "      <td>16428071</td>\n",
       "    </tr>\n",
       "  </tbody>\n",
       "</table>\n",
       "</div>"
      ],
      "text/plain": [
       "                                 SubjectUserSid SubjectUserName  \\\n",
       "0  S-1-5-21-996632719-2361334927-4038480536-500      MSTICAdmin   \n",
       "1  S-1-5-21-996632719-2361334927-4038480536-500      MSTICAdmin   \n",
       "2  S-1-5-21-996632719-2361334927-4038480536-500      MSTICAdmin   \n",
       "3  S-1-5-21-996632719-2361334927-4038480536-500      MSTICAdmin   \n",
       "4  S-1-5-21-996632719-2361334927-4038480536-500      MSTICAdmin   \n",
       "\n",
       "  SubjectDomainName SubjectLogonId NewProcessId  \\\n",
       "0   MSTICAlertsWin1       0xfaac27       0x1580   \n",
       "1   MSTICAlertsWin1       0xfaac27       0x16fc   \n",
       "2   MSTICAlertsWin1       0xfaac27       0x1700   \n",
       "3   MSTICAlertsWin1       0xfaac27       0x1728   \n",
       "4   MSTICAlertsWin1       0xfaac27       0x175c   \n",
       "\n",
       "                        NewProcessName ProcessId            ParentProcessName  \\\n",
       "0       C:\\Diagnostics\\UserTmp\\ftp.exe     0xbc8  C:\\Windows\\System32\\cmd.exe   \n",
       "1       C:\\Diagnostics\\UserTmp\\reg.exe     0xbc8  C:\\Windows\\System32\\cmd.exe   \n",
       "2       C:\\Diagnostics\\UserTmp\\cmd.exe     0xbc8  C:\\Windows\\System32\\cmd.exe   \n",
       "3  C:\\Diagnostics\\UserTmp\\rundll32.exe     0xbc8  C:\\Windows\\System32\\cmd.exe   \n",
       "4  C:\\Diagnostics\\UserTmp\\rundll32.exe     0xbc8  C:\\Windows\\System32\\cmd.exe   \n",
       "\n",
       "   SubjectLogonId_dec  \n",
       "0            16428071  \n",
       "1            16428071  \n",
       "2            16428071  \n",
       "3            16428071  \n",
       "4            16428071  "
      ]
     },
     "execution_count": 3,
     "metadata": {},
     "output_type": "execute_result"
    }
   ],
   "source": [
    "(\n",
    "    pd.concat([procs_df, dec_logon_id], axis=\"columns\")\n",
    "    .head()\n",
    "    .filter(regex=\".*Process.*|Sub.*\")\n",
    ")"
   ]
  },
  {
   "cell_type": "markdown",
   "metadata": {},
   "source": [
    "## Key-based Joins\n",
    "\n",
    "<p style=\"font-family:consolas; font-size:15pt; color:green\">\n",
    "df1.merge(df2, ...)<br>\n",
    "df1.join(df2, ...)\n",
    "</p>\n",
    "\n",
    "\n",
    "Source tables"
   ]
  },
  {
   "cell_type": "code",
   "execution_count": 4,
   "metadata": {
    "ExecuteTime": {
     "end_time": "2021-11-29T16:56:47.814523Z",
     "start_time": "2021-11-29T16:56:47.770687Z"
    }
   },
   "outputs": [
    {
     "data": {
      "text/html": [
       "<div>\n",
       "<style scoped>\n",
       "    .dataframe tbody tr th:only-of-type {\n",
       "        vertical-align: middle;\n",
       "    }\n",
       "\n",
       "    .dataframe tbody tr th {\n",
       "        vertical-align: top;\n",
       "    }\n",
       "\n",
       "    .dataframe thead th {\n",
       "        text-align: right;\n",
       "    }\n",
       "</style>\n",
       "<table border=\"1\" class=\"dataframe\">\n",
       "  <thead>\n",
       "    <tr style=\"text-align: right;\">\n",
       "      <th></th>\n",
       "      <th>NewProcessId</th>\n",
       "      <th>NewProcessName</th>\n",
       "      <th>CommandLine</th>\n",
       "      <th>ParentProcessId</th>\n",
       "      <th>TimeCreatedUtc</th>\n",
       "      <th>SubjectUserSid</th>\n",
       "    </tr>\n",
       "  </thead>\n",
       "  <tbody>\n",
       "    <tr>\n",
       "      <th>0</th>\n",
       "      <td>0x1580</td>\n",
       "      <td>C:\\Diagnostics\\UserTmp\\ftp.exe</td>\n",
       "      <td>.\\ftp  -s:C:\\RECYCLER\\xxppyy.exe</td>\n",
       "      <td>0xbc8</td>\n",
       "      <td>2019-01-15 05:15:15.677</td>\n",
       "      <td>S-1-5-21-996632719-2361334927-4038480536-500</td>\n",
       "    </tr>\n",
       "    <tr>\n",
       "      <th>1</th>\n",
       "      <td>0x16fc</td>\n",
       "      <td>C:\\Diagnostics\\UserTmp\\reg.exe</td>\n",
       "      <td>.\\reg  not /domain:everything that /sid:shines...</td>\n",
       "      <td>0xbc8</td>\n",
       "      <td>2019-01-15 05:15:16.167</td>\n",
       "      <td>S-1-5-21-996632719-2361334927-4038480536-500</td>\n",
       "    </tr>\n",
       "    <tr>\n",
       "      <th>2</th>\n",
       "      <td>0x1700</td>\n",
       "      <td>C:\\Diagnostics\\UserTmp\\cmd.exe</td>\n",
       "      <td>cmd  /c \"systeminfo &amp;&amp; systeminfo\"</td>\n",
       "      <td>0xbc8</td>\n",
       "      <td>2019-01-15 05:15:16.277</td>\n",
       "      <td>S-1-5-21-996632719-2361334927-4038480536-500</td>\n",
       "    </tr>\n",
       "    <tr>\n",
       "      <th>3</th>\n",
       "      <td>0x1728</td>\n",
       "      <td>C:\\Diagnostics\\UserTmp\\rundll32.exe</td>\n",
       "      <td>.\\rundll32  /C 12345.exe</td>\n",
       "      <td>0xbc8</td>\n",
       "      <td>2019-01-15 05:15:16.340</td>\n",
       "      <td>S-1-5-21-996632719-2361334927-4038480536-500</td>\n",
       "    </tr>\n",
       "    <tr>\n",
       "      <th>4</th>\n",
       "      <td>0x175c</td>\n",
       "      <td>C:\\Diagnostics\\UserTmp\\rundll32.exe</td>\n",
       "      <td>.\\rundll32  /C c:\\users\\MSTICAdmin\\12345.exe</td>\n",
       "      <td>0xbc8</td>\n",
       "      <td>2019-01-15 05:15:16.400</td>\n",
       "      <td>S-1-5-21-996632719-2361334927-4038480536-500</td>\n",
       "    </tr>\n",
       "  </tbody>\n",
       "</table>\n",
       "</div>"
      ],
      "text/plain": [
       "  NewProcessId                       NewProcessName  \\\n",
       "0       0x1580       C:\\Diagnostics\\UserTmp\\ftp.exe   \n",
       "1       0x16fc       C:\\Diagnostics\\UserTmp\\reg.exe   \n",
       "2       0x1700       C:\\Diagnostics\\UserTmp\\cmd.exe   \n",
       "3       0x1728  C:\\Diagnostics\\UserTmp\\rundll32.exe   \n",
       "4       0x175c  C:\\Diagnostics\\UserTmp\\rundll32.exe   \n",
       "\n",
       "                                         CommandLine ParentProcessId  \\\n",
       "0                   .\\ftp  -s:C:\\RECYCLER\\xxppyy.exe           0xbc8   \n",
       "1  .\\reg  not /domain:everything that /sid:shines...           0xbc8   \n",
       "2                 cmd  /c \"systeminfo && systeminfo\"           0xbc8   \n",
       "3                           .\\rundll32  /C 12345.exe           0xbc8   \n",
       "4       .\\rundll32  /C c:\\users\\MSTICAdmin\\12345.exe           0xbc8   \n",
       "\n",
       "           TimeCreatedUtc                                SubjectUserSid  \n",
       "0 2019-01-15 05:15:15.677  S-1-5-21-996632719-2361334927-4038480536-500  \n",
       "1 2019-01-15 05:15:16.167  S-1-5-21-996632719-2361334927-4038480536-500  \n",
       "2 2019-01-15 05:15:16.277  S-1-5-21-996632719-2361334927-4038480536-500  \n",
       "3 2019-01-15 05:15:16.340  S-1-5-21-996632719-2361334927-4038480536-500  \n",
       "4 2019-01-15 05:15:16.400  S-1-5-21-996632719-2361334927-4038480536-500  "
      ]
     },
     "metadata": {},
     "output_type": "display_data"
    },
    {
     "data": {
      "text/html": [
       "<div>\n",
       "<style scoped>\n",
       "    .dataframe tbody tr th:only-of-type {\n",
       "        vertical-align: middle;\n",
       "    }\n",
       "\n",
       "    .dataframe tbody tr th {\n",
       "        vertical-align: top;\n",
       "    }\n",
       "\n",
       "    .dataframe thead th {\n",
       "        text-align: right;\n",
       "    }\n",
       "</style>\n",
       "<table border=\"1\" class=\"dataframe\">\n",
       "  <thead>\n",
       "    <tr style=\"text-align: right;\">\n",
       "      <th></th>\n",
       "      <th>SubjectUserSid</th>\n",
       "      <th>SubjectUserName</th>\n",
       "      <th>SubjectDomainName</th>\n",
       "    </tr>\n",
       "  </thead>\n",
       "  <tbody>\n",
       "    <tr>\n",
       "      <th>0</th>\n",
       "      <td>S-1-5-21-996632719-2361334927-4038480536-500</td>\n",
       "      <td>MSTICAdmin</td>\n",
       "      <td>MSTICAlertsWin1</td>\n",
       "    </tr>\n",
       "    <tr>\n",
       "      <th>115</th>\n",
       "      <td>S-1-5-18</td>\n",
       "      <td>MSTICAlertsWin1$</td>\n",
       "      <td>WORKGROUP</td>\n",
       "    </tr>\n",
       "  </tbody>\n",
       "</table>\n",
       "</div>"
      ],
      "text/plain": [
       "                                   SubjectUserSid   SubjectUserName  \\\n",
       "0    S-1-5-21-996632719-2361334927-4038480536-500        MSTICAdmin   \n",
       "115                                      S-1-5-18  MSTICAlertsWin1$   \n",
       "\n",
       "    SubjectDomainName  \n",
       "0     MSTICAlertsWin1  \n",
       "115         WORKGROUP  "
      ]
     },
     "metadata": {},
     "output_type": "display_data"
    }
   ],
   "source": [
    "display(procs.head())\n",
    "display(users)\n"
   ]
  },
  {
   "cell_type": "markdown",
   "metadata": {},
   "source": [
    "### Simple merge on common key"
   ]
  },
  {
   "cell_type": "code",
   "execution_count": 5,
   "metadata": {
    "ExecuteTime": {
     "end_time": "2021-11-29T16:56:48.928329Z",
     "start_time": "2021-11-29T16:56:48.886277Z"
    }
   },
   "outputs": [
    {
     "data": {
      "text/html": [
       "<div>\n",
       "<style scoped>\n",
       "    .dataframe tbody tr th:only-of-type {\n",
       "        vertical-align: middle;\n",
       "    }\n",
       "\n",
       "    .dataframe tbody tr th {\n",
       "        vertical-align: top;\n",
       "    }\n",
       "\n",
       "    .dataframe thead th {\n",
       "        text-align: right;\n",
       "    }\n",
       "</style>\n",
       "<table border=\"1\" class=\"dataframe\">\n",
       "  <thead>\n",
       "    <tr style=\"text-align: right;\">\n",
       "      <th></th>\n",
       "      <th>NewProcessId</th>\n",
       "      <th>NewProcessName</th>\n",
       "      <th>CommandLine</th>\n",
       "      <th>ParentProcessId</th>\n",
       "      <th>TimeCreatedUtc</th>\n",
       "      <th>SubjectUserSid</th>\n",
       "      <th>SubjectUserName</th>\n",
       "      <th>SubjectDomainName</th>\n",
       "    </tr>\n",
       "  </thead>\n",
       "  <tbody>\n",
       "    <tr>\n",
       "      <th>0</th>\n",
       "      <td>0x1580</td>\n",
       "      <td>C:\\Diagnostics\\UserTmp\\ftp.exe</td>\n",
       "      <td>.\\ftp  -s:C:\\RECYCLER\\xxppyy.exe</td>\n",
       "      <td>0xbc8</td>\n",
       "      <td>2019-01-15 05:15:15.677</td>\n",
       "      <td>S-1-5-21-996632719-2361334927-4038480536-500</td>\n",
       "      <td>MSTICAdmin</td>\n",
       "      <td>MSTICAlertsWin1</td>\n",
       "    </tr>\n",
       "    <tr>\n",
       "      <th>1</th>\n",
       "      <td>0x16fc</td>\n",
       "      <td>C:\\Diagnostics\\UserTmp\\reg.exe</td>\n",
       "      <td>.\\reg  not /domain:everything that /sid:shines...</td>\n",
       "      <td>0xbc8</td>\n",
       "      <td>2019-01-15 05:15:16.167</td>\n",
       "      <td>S-1-5-21-996632719-2361334927-4038480536-500</td>\n",
       "      <td>MSTICAdmin</td>\n",
       "      <td>MSTICAlertsWin1</td>\n",
       "    </tr>\n",
       "    <tr>\n",
       "      <th>2</th>\n",
       "      <td>0x1700</td>\n",
       "      <td>C:\\Diagnostics\\UserTmp\\cmd.exe</td>\n",
       "      <td>cmd  /c \"systeminfo &amp;&amp; systeminfo\"</td>\n",
       "      <td>0xbc8</td>\n",
       "      <td>2019-01-15 05:15:16.277</td>\n",
       "      <td>S-1-5-21-996632719-2361334927-4038480536-500</td>\n",
       "      <td>MSTICAdmin</td>\n",
       "      <td>MSTICAlertsWin1</td>\n",
       "    </tr>\n",
       "    <tr>\n",
       "      <th>3</th>\n",
       "      <td>0x1728</td>\n",
       "      <td>C:\\Diagnostics\\UserTmp\\rundll32.exe</td>\n",
       "      <td>.\\rundll32  /C 12345.exe</td>\n",
       "      <td>0xbc8</td>\n",
       "      <td>2019-01-15 05:15:16.340</td>\n",
       "      <td>S-1-5-21-996632719-2361334927-4038480536-500</td>\n",
       "      <td>MSTICAdmin</td>\n",
       "      <td>MSTICAlertsWin1</td>\n",
       "    </tr>\n",
       "    <tr>\n",
       "      <th>4</th>\n",
       "      <td>0x175c</td>\n",
       "      <td>C:\\Diagnostics\\UserTmp\\rundll32.exe</td>\n",
       "      <td>.\\rundll32  /C c:\\users\\MSTICAdmin\\12345.exe</td>\n",
       "      <td>0xbc8</td>\n",
       "      <td>2019-01-15 05:15:16.400</td>\n",
       "      <td>S-1-5-21-996632719-2361334927-4038480536-500</td>\n",
       "      <td>MSTICAdmin</td>\n",
       "      <td>MSTICAlertsWin1</td>\n",
       "    </tr>\n",
       "    <tr>\n",
       "      <th>...</th>\n",
       "      <td>...</td>\n",
       "      <td>...</td>\n",
       "      <td>...</td>\n",
       "      <td>...</td>\n",
       "      <td>...</td>\n",
       "      <td>...</td>\n",
       "      <td>...</td>\n",
       "      <td>...</td>\n",
       "    </tr>\n",
       "    <tr>\n",
       "      <th>112</th>\n",
       "      <td>0x1434</td>\n",
       "      <td>C:\\Diagnostics\\UserTmp\\rundll32.exe</td>\n",
       "      <td>.\\rundll32.exe  /C c:\\windows\\fonts\\conhost.exe</td>\n",
       "      <td>0xbc8</td>\n",
       "      <td>2019-01-15 05:15:14.613</td>\n",
       "      <td>S-1-5-21-996632719-2361334927-4038480536-500</td>\n",
       "      <td>MSTICAdmin</td>\n",
       "      <td>MSTICAlertsWin1</td>\n",
       "    </tr>\n",
       "    <tr>\n",
       "      <th>113</th>\n",
       "      <td>0x123c</td>\n",
       "      <td>C:\\Diagnostics\\UserTmp\\regsvr32.exe</td>\n",
       "      <td>.\\regsvr32  /u /s c:\\windows\\fonts\\csrss.exe</td>\n",
       "      <td>0xbc8</td>\n",
       "      <td>2019-01-15 05:15:14.693</td>\n",
       "      <td>S-1-5-21-996632719-2361334927-4038480536-500</td>\n",
       "      <td>MSTICAdmin</td>\n",
       "      <td>MSTICAlertsWin1</td>\n",
       "    </tr>\n",
       "    <tr>\n",
       "      <th>114</th>\n",
       "      <td>0x240</td>\n",
       "      <td>C:\\Windows\\System32\\tasklist.exe</td>\n",
       "      <td>tasklist</td>\n",
       "      <td>0xbc8</td>\n",
       "      <td>2019-01-15 05:15:14.770</td>\n",
       "      <td>S-1-5-21-996632719-2361334927-4038480536-500</td>\n",
       "      <td>MSTICAdmin</td>\n",
       "      <td>MSTICAlertsWin1</td>\n",
       "    </tr>\n",
       "    <tr>\n",
       "      <th>115</th>\n",
       "      <td>0x15a0</td>\n",
       "      <td>C:\\Windows\\System32\\win32calc.exe</td>\n",
       "      <td>\"C:\\Windows\\System32\\win32calc.exe\"</td>\n",
       "      <td>0x1580</td>\n",
       "      <td>2019-01-15 05:15:13.053</td>\n",
       "      <td>S-1-5-21-996632719-2361334927-4038480536-500</td>\n",
       "      <td>MSTICAdmin</td>\n",
       "      <td>MSTICAlertsWin1</td>\n",
       "    </tr>\n",
       "    <tr>\n",
       "      <th>116</th>\n",
       "      <td>0xbc8</td>\n",
       "      <td>C:\\Windows\\System32\\cmd.exe</td>\n",
       "      <td>cmd.exe /c c:\\Diagnostics\\WindowsSimulateDetec...</td>\n",
       "      <td>0x440</td>\n",
       "      <td>2019-01-15 05:15:03.047</td>\n",
       "      <td>S-1-5-18</td>\n",
       "      <td>MSTICAlertsWin1$</td>\n",
       "      <td>WORKGROUP</td>\n",
       "    </tr>\n",
       "  </tbody>\n",
       "</table>\n",
       "<p>117 rows × 8 columns</p>\n",
       "</div>"
      ],
      "text/plain": [
       "    NewProcessId                       NewProcessName  \\\n",
       "0         0x1580       C:\\Diagnostics\\UserTmp\\ftp.exe   \n",
       "1         0x16fc       C:\\Diagnostics\\UserTmp\\reg.exe   \n",
       "2         0x1700       C:\\Diagnostics\\UserTmp\\cmd.exe   \n",
       "3         0x1728  C:\\Diagnostics\\UserTmp\\rundll32.exe   \n",
       "4         0x175c  C:\\Diagnostics\\UserTmp\\rundll32.exe   \n",
       "..           ...                                  ...   \n",
       "112       0x1434  C:\\Diagnostics\\UserTmp\\rundll32.exe   \n",
       "113       0x123c  C:\\Diagnostics\\UserTmp\\regsvr32.exe   \n",
       "114        0x240     C:\\Windows\\System32\\tasklist.exe   \n",
       "115       0x15a0    C:\\Windows\\System32\\win32calc.exe   \n",
       "116        0xbc8          C:\\Windows\\System32\\cmd.exe   \n",
       "\n",
       "                                           CommandLine ParentProcessId  \\\n",
       "0                     .\\ftp  -s:C:\\RECYCLER\\xxppyy.exe           0xbc8   \n",
       "1    .\\reg  not /domain:everything that /sid:shines...           0xbc8   \n",
       "2                   cmd  /c \"systeminfo && systeminfo\"           0xbc8   \n",
       "3                             .\\rundll32  /C 12345.exe           0xbc8   \n",
       "4         .\\rundll32  /C c:\\users\\MSTICAdmin\\12345.exe           0xbc8   \n",
       "..                                                 ...             ...   \n",
       "112    .\\rundll32.exe  /C c:\\windows\\fonts\\conhost.exe           0xbc8   \n",
       "113       .\\regsvr32  /u /s c:\\windows\\fonts\\csrss.exe           0xbc8   \n",
       "114                                           tasklist           0xbc8   \n",
       "115               \"C:\\Windows\\System32\\win32calc.exe\"           0x1580   \n",
       "116  cmd.exe /c c:\\Diagnostics\\WindowsSimulateDetec...           0x440   \n",
       "\n",
       "             TimeCreatedUtc                                SubjectUserSid  \\\n",
       "0   2019-01-15 05:15:15.677  S-1-5-21-996632719-2361334927-4038480536-500   \n",
       "1   2019-01-15 05:15:16.167  S-1-5-21-996632719-2361334927-4038480536-500   \n",
       "2   2019-01-15 05:15:16.277  S-1-5-21-996632719-2361334927-4038480536-500   \n",
       "3   2019-01-15 05:15:16.340  S-1-5-21-996632719-2361334927-4038480536-500   \n",
       "4   2019-01-15 05:15:16.400  S-1-5-21-996632719-2361334927-4038480536-500   \n",
       "..                      ...                                           ...   \n",
       "112 2019-01-15 05:15:14.613  S-1-5-21-996632719-2361334927-4038480536-500   \n",
       "113 2019-01-15 05:15:14.693  S-1-5-21-996632719-2361334927-4038480536-500   \n",
       "114 2019-01-15 05:15:14.770  S-1-5-21-996632719-2361334927-4038480536-500   \n",
       "115 2019-01-15 05:15:13.053  S-1-5-21-996632719-2361334927-4038480536-500   \n",
       "116 2019-01-15 05:15:03.047                                      S-1-5-18   \n",
       "\n",
       "      SubjectUserName SubjectDomainName  \n",
       "0          MSTICAdmin   MSTICAlertsWin1  \n",
       "1          MSTICAdmin   MSTICAlertsWin1  \n",
       "2          MSTICAdmin   MSTICAlertsWin1  \n",
       "3          MSTICAdmin   MSTICAlertsWin1  \n",
       "4          MSTICAdmin   MSTICAlertsWin1  \n",
       "..                ...               ...  \n",
       "112        MSTICAdmin   MSTICAlertsWin1  \n",
       "113        MSTICAdmin   MSTICAlertsWin1  \n",
       "114        MSTICAdmin   MSTICAlertsWin1  \n",
       "115        MSTICAdmin   MSTICAlertsWin1  \n",
       "116  MSTICAlertsWin1$         WORKGROUP  \n",
       "\n",
       "[117 rows x 8 columns]"
      ]
     },
     "execution_count": 5,
     "metadata": {},
     "output_type": "execute_result"
    }
   ],
   "source": [
    "procs.merge(users, on=\"SubjectUserSid\")"
   ]
  },
  {
   "cell_type": "markdown",
   "metadata": {},
   "source": [
    "### Left joins (also right and outer)"
   ]
  },
  {
   "cell_type": "code",
   "execution_count": 6,
   "metadata": {
    "ExecuteTime": {
     "end_time": "2021-11-29T16:56:50.490622Z",
     "start_time": "2021-11-29T16:56:50.460080Z"
    }
   },
   "outputs": [
    {
     "data": {
      "text/html": [
       "<div>\n",
       "<style scoped>\n",
       "    .dataframe tbody tr th:only-of-type {\n",
       "        vertical-align: middle;\n",
       "    }\n",
       "\n",
       "    .dataframe tbody tr th {\n",
       "        vertical-align: top;\n",
       "    }\n",
       "\n",
       "    .dataframe thead th {\n",
       "        text-align: right;\n",
       "    }\n",
       "</style>\n",
       "<table border=\"1\" class=\"dataframe\">\n",
       "  <thead>\n",
       "    <tr style=\"text-align: right;\">\n",
       "      <th></th>\n",
       "      <th>NewProcessId</th>\n",
       "      <th>NewProcessName</th>\n",
       "      <th>CommandLine</th>\n",
       "      <th>ParentProcessId</th>\n",
       "      <th>TimeCreatedUtc</th>\n",
       "      <th>SubjectUserSid</th>\n",
       "      <th>SubjectUserName</th>\n",
       "      <th>SubjectDomainName</th>\n",
       "    </tr>\n",
       "  </thead>\n",
       "  <tbody>\n",
       "    <tr>\n",
       "      <th>0</th>\n",
       "      <td>0xbc8</td>\n",
       "      <td>C:\\Windows\\System32\\cmd.exe</td>\n",
       "      <td>cmd.exe /c c:\\Diagnostics\\WindowsSimulateDetec...</td>\n",
       "      <td>0x440</td>\n",
       "      <td>2019-01-15 05:15:03.047</td>\n",
       "      <td>S-1-5-18</td>\n",
       "      <td>MSTICAlertsWin1$</td>\n",
       "      <td>WORKGROUP</td>\n",
       "    </tr>\n",
       "  </tbody>\n",
       "</table>\n",
       "</div>"
      ],
      "text/plain": [
       "  NewProcessId               NewProcessName  \\\n",
       "0        0xbc8  C:\\Windows\\System32\\cmd.exe   \n",
       "\n",
       "                                         CommandLine ParentProcessId  \\\n",
       "0  cmd.exe /c c:\\Diagnostics\\WindowsSimulateDetec...           0x440   \n",
       "\n",
       "           TimeCreatedUtc SubjectUserSid   SubjectUserName SubjectDomainName  \n",
       "0 2019-01-15 05:15:03.047       S-1-5-18  MSTICAlertsWin1$         WORKGROUP  "
      ]
     },
     "execution_count": 6,
     "metadata": {},
     "output_type": "execute_result"
    }
   ],
   "source": [
    "procs.merge(users[1:], on=\"SubjectUserSid\")"
   ]
  },
  {
   "cell_type": "code",
   "execution_count": 7,
   "metadata": {
    "ExecuteTime": {
     "end_time": "2021-11-29T16:56:51.087997Z",
     "start_time": "2021-11-29T16:56:51.043723Z"
    }
   },
   "outputs": [
    {
     "data": {
      "text/html": [
       "<div>\n",
       "<style scoped>\n",
       "    .dataframe tbody tr th:only-of-type {\n",
       "        vertical-align: middle;\n",
       "    }\n",
       "\n",
       "    .dataframe tbody tr th {\n",
       "        vertical-align: top;\n",
       "    }\n",
       "\n",
       "    .dataframe thead th {\n",
       "        text-align: right;\n",
       "    }\n",
       "</style>\n",
       "<table border=\"1\" class=\"dataframe\">\n",
       "  <thead>\n",
       "    <tr style=\"text-align: right;\">\n",
       "      <th></th>\n",
       "      <th>NewProcessId</th>\n",
       "      <th>NewProcessName</th>\n",
       "      <th>CommandLine</th>\n",
       "      <th>ParentProcessId</th>\n",
       "      <th>TimeCreatedUtc</th>\n",
       "      <th>SubjectUserSid</th>\n",
       "      <th>SubjectUserName</th>\n",
       "      <th>SubjectDomainName</th>\n",
       "    </tr>\n",
       "  </thead>\n",
       "  <tbody>\n",
       "    <tr>\n",
       "      <th>0</th>\n",
       "      <td>0x1580</td>\n",
       "      <td>C:\\Diagnostics\\UserTmp\\ftp.exe</td>\n",
       "      <td>.\\ftp  -s:C:\\RECYCLER\\xxppyy.exe</td>\n",
       "      <td>0xbc8</td>\n",
       "      <td>2019-01-15 05:15:15.677</td>\n",
       "      <td>S-1-5-21-996632719-2361334927-4038480536-500</td>\n",
       "      <td>NaN</td>\n",
       "      <td>NaN</td>\n",
       "    </tr>\n",
       "    <tr>\n",
       "      <th>1</th>\n",
       "      <td>0x16fc</td>\n",
       "      <td>C:\\Diagnostics\\UserTmp\\reg.exe</td>\n",
       "      <td>.\\reg  not /domain:everything that /sid:shines...</td>\n",
       "      <td>0xbc8</td>\n",
       "      <td>2019-01-15 05:15:16.167</td>\n",
       "      <td>S-1-5-21-996632719-2361334927-4038480536-500</td>\n",
       "      <td>NaN</td>\n",
       "      <td>NaN</td>\n",
       "    </tr>\n",
       "    <tr>\n",
       "      <th>2</th>\n",
       "      <td>0x1700</td>\n",
       "      <td>C:\\Diagnostics\\UserTmp\\cmd.exe</td>\n",
       "      <td>cmd  /c \"systeminfo &amp;&amp; systeminfo\"</td>\n",
       "      <td>0xbc8</td>\n",
       "      <td>2019-01-15 05:15:16.277</td>\n",
       "      <td>S-1-5-21-996632719-2361334927-4038480536-500</td>\n",
       "      <td>NaN</td>\n",
       "      <td>NaN</td>\n",
       "    </tr>\n",
       "    <tr>\n",
       "      <th>3</th>\n",
       "      <td>0x1728</td>\n",
       "      <td>C:\\Diagnostics\\UserTmp\\rundll32.exe</td>\n",
       "      <td>.\\rundll32  /C 12345.exe</td>\n",
       "      <td>0xbc8</td>\n",
       "      <td>2019-01-15 05:15:16.340</td>\n",
       "      <td>S-1-5-21-996632719-2361334927-4038480536-500</td>\n",
       "      <td>NaN</td>\n",
       "      <td>NaN</td>\n",
       "    </tr>\n",
       "    <tr>\n",
       "      <th>4</th>\n",
       "      <td>0x175c</td>\n",
       "      <td>C:\\Diagnostics\\UserTmp\\rundll32.exe</td>\n",
       "      <td>.\\rundll32  /C c:\\users\\MSTICAdmin\\12345.exe</td>\n",
       "      <td>0xbc8</td>\n",
       "      <td>2019-01-15 05:15:16.400</td>\n",
       "      <td>S-1-5-21-996632719-2361334927-4038480536-500</td>\n",
       "      <td>NaN</td>\n",
       "      <td>NaN</td>\n",
       "    </tr>\n",
       "    <tr>\n",
       "      <th>...</th>\n",
       "      <td>...</td>\n",
       "      <td>...</td>\n",
       "      <td>...</td>\n",
       "      <td>...</td>\n",
       "      <td>...</td>\n",
       "      <td>...</td>\n",
       "      <td>...</td>\n",
       "      <td>...</td>\n",
       "    </tr>\n",
       "    <tr>\n",
       "      <th>112</th>\n",
       "      <td>0x1434</td>\n",
       "      <td>C:\\Diagnostics\\UserTmp\\rundll32.exe</td>\n",
       "      <td>.\\rundll32.exe  /C c:\\windows\\fonts\\conhost.exe</td>\n",
       "      <td>0xbc8</td>\n",
       "      <td>2019-01-15 05:15:14.613</td>\n",
       "      <td>S-1-5-21-996632719-2361334927-4038480536-500</td>\n",
       "      <td>NaN</td>\n",
       "      <td>NaN</td>\n",
       "    </tr>\n",
       "    <tr>\n",
       "      <th>113</th>\n",
       "      <td>0x123c</td>\n",
       "      <td>C:\\Diagnostics\\UserTmp\\regsvr32.exe</td>\n",
       "      <td>.\\regsvr32  /u /s c:\\windows\\fonts\\csrss.exe</td>\n",
       "      <td>0xbc8</td>\n",
       "      <td>2019-01-15 05:15:14.693</td>\n",
       "      <td>S-1-5-21-996632719-2361334927-4038480536-500</td>\n",
       "      <td>NaN</td>\n",
       "      <td>NaN</td>\n",
       "    </tr>\n",
       "    <tr>\n",
       "      <th>114</th>\n",
       "      <td>0x240</td>\n",
       "      <td>C:\\Windows\\System32\\tasklist.exe</td>\n",
       "      <td>tasklist</td>\n",
       "      <td>0xbc8</td>\n",
       "      <td>2019-01-15 05:15:14.770</td>\n",
       "      <td>S-1-5-21-996632719-2361334927-4038480536-500</td>\n",
       "      <td>NaN</td>\n",
       "      <td>NaN</td>\n",
       "    </tr>\n",
       "    <tr>\n",
       "      <th>115</th>\n",
       "      <td>0xbc8</td>\n",
       "      <td>C:\\Windows\\System32\\cmd.exe</td>\n",
       "      <td>cmd.exe /c c:\\Diagnostics\\WindowsSimulateDetec...</td>\n",
       "      <td>0x440</td>\n",
       "      <td>2019-01-15 05:15:03.047</td>\n",
       "      <td>S-1-5-18</td>\n",
       "      <td>MSTICAlertsWin1$</td>\n",
       "      <td>WORKGROUP</td>\n",
       "    </tr>\n",
       "    <tr>\n",
       "      <th>116</th>\n",
       "      <td>0x15a0</td>\n",
       "      <td>C:\\Windows\\System32\\win32calc.exe</td>\n",
       "      <td>\"C:\\Windows\\System32\\win32calc.exe\"</td>\n",
       "      <td>0x1580</td>\n",
       "      <td>2019-01-15 05:15:13.053</td>\n",
       "      <td>S-1-5-21-996632719-2361334927-4038480536-500</td>\n",
       "      <td>NaN</td>\n",
       "      <td>NaN</td>\n",
       "    </tr>\n",
       "  </tbody>\n",
       "</table>\n",
       "<p>117 rows × 8 columns</p>\n",
       "</div>"
      ],
      "text/plain": [
       "    NewProcessId                       NewProcessName  \\\n",
       "0         0x1580       C:\\Diagnostics\\UserTmp\\ftp.exe   \n",
       "1         0x16fc       C:\\Diagnostics\\UserTmp\\reg.exe   \n",
       "2         0x1700       C:\\Diagnostics\\UserTmp\\cmd.exe   \n",
       "3         0x1728  C:\\Diagnostics\\UserTmp\\rundll32.exe   \n",
       "4         0x175c  C:\\Diagnostics\\UserTmp\\rundll32.exe   \n",
       "..           ...                                  ...   \n",
       "112       0x1434  C:\\Diagnostics\\UserTmp\\rundll32.exe   \n",
       "113       0x123c  C:\\Diagnostics\\UserTmp\\regsvr32.exe   \n",
       "114        0x240     C:\\Windows\\System32\\tasklist.exe   \n",
       "115        0xbc8          C:\\Windows\\System32\\cmd.exe   \n",
       "116       0x15a0    C:\\Windows\\System32\\win32calc.exe   \n",
       "\n",
       "                                           CommandLine ParentProcessId  \\\n",
       "0                     .\\ftp  -s:C:\\RECYCLER\\xxppyy.exe           0xbc8   \n",
       "1    .\\reg  not /domain:everything that /sid:shines...           0xbc8   \n",
       "2                   cmd  /c \"systeminfo && systeminfo\"           0xbc8   \n",
       "3                             .\\rundll32  /C 12345.exe           0xbc8   \n",
       "4         .\\rundll32  /C c:\\users\\MSTICAdmin\\12345.exe           0xbc8   \n",
       "..                                                 ...             ...   \n",
       "112    .\\rundll32.exe  /C c:\\windows\\fonts\\conhost.exe           0xbc8   \n",
       "113       .\\regsvr32  /u /s c:\\windows\\fonts\\csrss.exe           0xbc8   \n",
       "114                                           tasklist           0xbc8   \n",
       "115  cmd.exe /c c:\\Diagnostics\\WindowsSimulateDetec...           0x440   \n",
       "116               \"C:\\Windows\\System32\\win32calc.exe\"           0x1580   \n",
       "\n",
       "             TimeCreatedUtc                                SubjectUserSid  \\\n",
       "0   2019-01-15 05:15:15.677  S-1-5-21-996632719-2361334927-4038480536-500   \n",
       "1   2019-01-15 05:15:16.167  S-1-5-21-996632719-2361334927-4038480536-500   \n",
       "2   2019-01-15 05:15:16.277  S-1-5-21-996632719-2361334927-4038480536-500   \n",
       "3   2019-01-15 05:15:16.340  S-1-5-21-996632719-2361334927-4038480536-500   \n",
       "4   2019-01-15 05:15:16.400  S-1-5-21-996632719-2361334927-4038480536-500   \n",
       "..                      ...                                           ...   \n",
       "112 2019-01-15 05:15:14.613  S-1-5-21-996632719-2361334927-4038480536-500   \n",
       "113 2019-01-15 05:15:14.693  S-1-5-21-996632719-2361334927-4038480536-500   \n",
       "114 2019-01-15 05:15:14.770  S-1-5-21-996632719-2361334927-4038480536-500   \n",
       "115 2019-01-15 05:15:03.047                                      S-1-5-18   \n",
       "116 2019-01-15 05:15:13.053  S-1-5-21-996632719-2361334927-4038480536-500   \n",
       "\n",
       "      SubjectUserName SubjectDomainName  \n",
       "0                 NaN               NaN  \n",
       "1                 NaN               NaN  \n",
       "2                 NaN               NaN  \n",
       "3                 NaN               NaN  \n",
       "4                 NaN               NaN  \n",
       "..                ...               ...  \n",
       "112               NaN               NaN  \n",
       "113               NaN               NaN  \n",
       "114               NaN               NaN  \n",
       "115  MSTICAlertsWin1$         WORKGROUP  \n",
       "116               NaN               NaN  \n",
       "\n",
       "[117 rows x 8 columns]"
      ]
     },
     "execution_count": 7,
     "metadata": {},
     "output_type": "execute_result"
    }
   ],
   "source": [
    "procs.merge(users[1:], on=\"SubjectUserSid\", how=\"left\")"
   ]
  },
  {
   "cell_type": "markdown",
   "metadata": {},
   "source": [
    "### Joins where no common key"
   ]
  },
  {
   "cell_type": "code",
   "execution_count": 8,
   "metadata": {
    "ExecuteTime": {
     "end_time": "2021-11-29T16:57:03.202101Z",
     "start_time": "2021-11-29T16:57:03.179540Z"
    }
   },
   "outputs": [
    {
     "data": {
      "text/html": [
       "<div>\n",
       "<style scoped>\n",
       "    .dataframe tbody tr th:only-of-type {\n",
       "        vertical-align: middle;\n",
       "    }\n",
       "\n",
       "    .dataframe tbody tr th {\n",
       "        vertical-align: top;\n",
       "    }\n",
       "\n",
       "    .dataframe thead th {\n",
       "        text-align: right;\n",
       "    }\n",
       "</style>\n",
       "<table border=\"1\" class=\"dataframe\">\n",
       "  <thead>\n",
       "    <tr style=\"text-align: right;\">\n",
       "      <th></th>\n",
       "      <th>NewProcessId</th>\n",
       "      <th>NewProcessName</th>\n",
       "      <th>ParentProcessId</th>\n",
       "      <th>ProcessId</th>\n",
       "      <th>ParentProcessName</th>\n",
       "    </tr>\n",
       "  </thead>\n",
       "  <tbody>\n",
       "    <tr>\n",
       "      <th>0</th>\n",
       "      <td>0x1580</td>\n",
       "      <td>C:\\Diagnostics\\UserTmp\\ftp.exe</td>\n",
       "      <td>0xbc8</td>\n",
       "      <td>0xbc8</td>\n",
       "      <td>C:\\Windows\\System32\\cmd.exe</td>\n",
       "    </tr>\n",
       "    <tr>\n",
       "      <th>1</th>\n",
       "      <td>0x16fc</td>\n",
       "      <td>C:\\Diagnostics\\UserTmp\\reg.exe</td>\n",
       "      <td>0xbc8</td>\n",
       "      <td>0xbc8</td>\n",
       "      <td>C:\\Windows\\System32\\cmd.exe</td>\n",
       "    </tr>\n",
       "    <tr>\n",
       "      <th>2</th>\n",
       "      <td>0x1700</td>\n",
       "      <td>C:\\Diagnostics\\UserTmp\\cmd.exe</td>\n",
       "      <td>0xbc8</td>\n",
       "      <td>0xbc8</td>\n",
       "      <td>C:\\Windows\\System32\\cmd.exe</td>\n",
       "    </tr>\n",
       "    <tr>\n",
       "      <th>3</th>\n",
       "      <td>0x1728</td>\n",
       "      <td>C:\\Diagnostics\\UserTmp\\rundll32.exe</td>\n",
       "      <td>0xbc8</td>\n",
       "      <td>0xbc8</td>\n",
       "      <td>C:\\Windows\\System32\\cmd.exe</td>\n",
       "    </tr>\n",
       "    <tr>\n",
       "      <th>4</th>\n",
       "      <td>0x175c</td>\n",
       "      <td>C:\\Diagnostics\\UserTmp\\rundll32.exe</td>\n",
       "      <td>0xbc8</td>\n",
       "      <td>0xbc8</td>\n",
       "      <td>C:\\Windows\\System32\\cmd.exe</td>\n",
       "    </tr>\n",
       "  </tbody>\n",
       "</table>\n",
       "</div>"
      ],
      "text/plain": [
       "  NewProcessId                       NewProcessName ParentProcessId ProcessId  \\\n",
       "0       0x1580       C:\\Diagnostics\\UserTmp\\ftp.exe           0xbc8     0xbc8   \n",
       "1       0x16fc       C:\\Diagnostics\\UserTmp\\reg.exe           0xbc8     0xbc8   \n",
       "2       0x1700       C:\\Diagnostics\\UserTmp\\cmd.exe           0xbc8     0xbc8   \n",
       "3       0x1728  C:\\Diagnostics\\UserTmp\\rundll32.exe           0xbc8     0xbc8   \n",
       "4       0x175c  C:\\Diagnostics\\UserTmp\\rundll32.exe           0xbc8     0xbc8   \n",
       "\n",
       "             ParentProcessName  \n",
       "0  C:\\Windows\\System32\\cmd.exe  \n",
       "1  C:\\Windows\\System32\\cmd.exe  \n",
       "2  C:\\Windows\\System32\\cmd.exe  \n",
       "3  C:\\Windows\\System32\\cmd.exe  \n",
       "4  C:\\Windows\\System32\\cmd.exe  "
      ]
     },
     "execution_count": 8,
     "metadata": {},
     "output_type": "execute_result"
    }
   ],
   "source": [
    "(\n",
    "    procs.merge(parents, left_on=\"ParentProcessId\", right_on=\"ProcessId\")\n",
    "    .head()\n",
    "    .filter(regex=\".*Process.*\")\n",
    ")"
   ]
  },
  {
   "cell_type": "markdown",
   "metadata": {},
   "source": [
    "---\n",
    "\n",
    "# Using Styles [Ian] \n",
    "\n",
    "- Max/min values \n",
    "- Value coloring \n",
    "- Inline bars \n",
    "\n",
    "<p style=\"font-family:consolas; font-size:15pt; color:green\">\n",
    "df.style(...)\n",
    "</p>"
   ]
  },
  {
   "cell_type": "code",
   "execution_count": 9,
   "metadata": {
    "ExecuteTime": {
     "end_time": "2021-11-29T16:57:05.125828Z",
     "start_time": "2021-11-29T16:57:05.063273Z"
    }
   },
   "outputs": [
    {
     "data": {
      "text/html": [
       "<div>\n",
       "<style scoped>\n",
       "    .dataframe tbody tr th:only-of-type {\n",
       "        vertical-align: middle;\n",
       "    }\n",
       "\n",
       "    .dataframe tbody tr th {\n",
       "        vertical-align: top;\n",
       "    }\n",
       "\n",
       "    .dataframe thead th {\n",
       "        text-align: right;\n",
       "    }\n",
       "</style>\n",
       "<table border=\"1\" class=\"dataframe\">\n",
       "  <thead>\n",
       "    <tr style=\"text-align: right;\">\n",
       "      <th></th>\n",
       "      <th>FlowsSum</th>\n",
       "      <th>FlowsVar</th>\n",
       "      <th>FlowsStdDev</th>\n",
       "      <th>L7Prots</th>\n",
       "    </tr>\n",
       "    <tr>\n",
       "      <th>RemoteRegion</th>\n",
       "      <th></th>\n",
       "      <th></th>\n",
       "      <th></th>\n",
       "      <th></th>\n",
       "    </tr>\n",
       "  </thead>\n",
       "  <tbody>\n",
       "    <tr>\n",
       "      <th></th>\n",
       "      <td>814.0</td>\n",
       "      <td>57.267027</td>\n",
       "      <td>7.567498</td>\n",
       "      <td>6</td>\n",
       "    </tr>\n",
       "    <tr>\n",
       "      <th>canadacentral</th>\n",
       "      <td>5103.0</td>\n",
       "      <td>29.811223</td>\n",
       "      <td>5.459965</td>\n",
       "      <td>1</td>\n",
       "    </tr>\n",
       "    <tr>\n",
       "      <th>centralus</th>\n",
       "      <td>236.0</td>\n",
       "      <td>4.675897</td>\n",
       "      <td>2.162382</td>\n",
       "      <td>1</td>\n",
       "    </tr>\n",
       "    <tr>\n",
       "      <th>eastus</th>\n",
       "      <td>602.0</td>\n",
       "      <td>1.646154</td>\n",
       "      <td>1.283025</td>\n",
       "      <td>3</td>\n",
       "    </tr>\n",
       "    <tr>\n",
       "      <th>eastus2</th>\n",
       "      <td>1502.0</td>\n",
       "      <td>4.830914</td>\n",
       "      <td>2.197934</td>\n",
       "      <td>1</td>\n",
       "    </tr>\n",
       "    <tr>\n",
       "      <th>northeurope</th>\n",
       "      <td>82.0</td>\n",
       "      <td>0.492438</td>\n",
       "      <td>0.701739</td>\n",
       "      <td>1</td>\n",
       "    </tr>\n",
       "    <tr>\n",
       "      <th>southcentralus</th>\n",
       "      <td>817.0</td>\n",
       "      <td>8.882186</td>\n",
       "      <td>2.980300</td>\n",
       "      <td>1</td>\n",
       "    </tr>\n",
       "    <tr>\n",
       "      <th>westcentralus</th>\n",
       "      <td>59.0</td>\n",
       "      <td>0.017241</td>\n",
       "      <td>0.131306</td>\n",
       "      <td>1</td>\n",
       "    </tr>\n",
       "    <tr>\n",
       "      <th>westus</th>\n",
       "      <td>38.0</td>\n",
       "      <td>0.782609</td>\n",
       "      <td>0.884652</td>\n",
       "      <td>1</td>\n",
       "    </tr>\n",
       "    <tr>\n",
       "      <th>westus2</th>\n",
       "      <td>7.0</td>\n",
       "      <td>0.300000</td>\n",
       "      <td>0.547723</td>\n",
       "      <td>1</td>\n",
       "    </tr>\n",
       "  </tbody>\n",
       "</table>\n",
       "</div>"
      ],
      "text/plain": [
       "                FlowsSum   FlowsVar  FlowsStdDev  L7Prots\n",
       "RemoteRegion                                             \n",
       "                   814.0  57.267027     7.567498        6\n",
       "canadacentral     5103.0  29.811223     5.459965        1\n",
       "centralus          236.0   4.675897     2.162382        1\n",
       "eastus             602.0   1.646154     1.283025        3\n",
       "eastus2           1502.0   4.830914     2.197934        1\n",
       "northeurope         82.0   0.492438     0.701739        1\n",
       "southcentralus     817.0   8.882186     2.980300        1\n",
       "westcentralus       59.0   0.017241     0.131306        1\n",
       "westus              38.0   0.782609     0.884652        1\n",
       "westus2              7.0   0.300000     0.547723        1"
      ]
     },
     "execution_count": 9,
     "metadata": {},
     "output_type": "execute_result"
    }
   ],
   "source": [
    "net_df = pd.read_pickle(\"../data/az_net_comms_df.pkl\")\n",
    "\n",
    "# Generate a summary\n",
    "summary_df = (\n",
    "    net_df[[\"RemoteRegion\", \"TotalAllowedFlows\", \"L7Protocol\"]]\n",
    "    .groupby(\"RemoteRegion\")\n",
    "    .agg(\n",
    "        FlowsSum = pd.NamedAgg(\"TotalAllowedFlows\", \"sum\"),\n",
    "        FlowsVar = pd.NamedAgg(\"TotalAllowedFlows\", \"var\"),\n",
    "        FlowsStdDev = pd.NamedAgg(\"TotalAllowedFlows\", \"std\"),\n",
    "        L7Prots = pd.NamedAgg(\"L7Protocol\", \"nunique\"),\n",
    "    )\n",
    ")\n",
    "summary_df"
   ]
  },
  {
   "cell_type": "markdown",
   "metadata": {},
   "source": [
    "### highlight_max/highlight_mix\n",
    "\n",
    "<p style=\"font-family:consolas; font-size:15pt; color:green\">\n",
    "df.style.highlight_max(...)\n",
    "</p>"
   ]
  },
  {
   "cell_type": "code",
   "execution_count": 10,
   "metadata": {
    "ExecuteTime": {
     "end_time": "2021-11-29T16:57:06.657172Z",
     "start_time": "2021-11-29T16:57:05.656786Z"
    }
   },
   "outputs": [
    {
     "data": {
      "text/html": [
       "<style  type=\"text/css\" >\n",
       "#T_97838_row0_col1,#T_97838_row0_col2,#T_97838_row0_col3,#T_97838_row1_col0{\n",
       "            background-color:  blue;\n",
       "        }#T_97838_row1_col3,#T_97838_row2_col3,#T_97838_row4_col3,#T_97838_row5_col3,#T_97838_row6_col3,#T_97838_row7_col1,#T_97838_row7_col2,#T_97838_row7_col3,#T_97838_row8_col3,#T_97838_row9_col0,#T_97838_row9_col3{\n",
       "            background-color:  green;\n",
       "        }</style><table id=\"T_97838_\" ><thead>    <tr>        <th class=\"blank level0\" ></th>        <th class=\"col_heading level0 col0\" >FlowsSum</th>        <th class=\"col_heading level0 col1\" >FlowsVar</th>        <th class=\"col_heading level0 col2\" >FlowsStdDev</th>        <th class=\"col_heading level0 col3\" >L7Prots</th>    </tr>    <tr>        <th class=\"index_name level0\" >RemoteRegion</th>        <th class=\"blank\" ></th>        <th class=\"blank\" ></th>        <th class=\"blank\" ></th>        <th class=\"blank\" ></th>    </tr></thead><tbody>\n",
       "                <tr>\n",
       "                        <th id=\"T_97838_level0_row0\" class=\"row_heading level0 row0\" ></th>\n",
       "                        <td id=\"T_97838_row0_col0\" class=\"data row0 col0\" >814.000000</td>\n",
       "                        <td id=\"T_97838_row0_col1\" class=\"data row0 col1\" >57.267027</td>\n",
       "                        <td id=\"T_97838_row0_col2\" class=\"data row0 col2\" >7.567498</td>\n",
       "                        <td id=\"T_97838_row0_col3\" class=\"data row0 col3\" >6</td>\n",
       "            </tr>\n",
       "            <tr>\n",
       "                        <th id=\"T_97838_level0_row1\" class=\"row_heading level0 row1\" >canadacentral</th>\n",
       "                        <td id=\"T_97838_row1_col0\" class=\"data row1 col0\" >5103.000000</td>\n",
       "                        <td id=\"T_97838_row1_col1\" class=\"data row1 col1\" >29.811223</td>\n",
       "                        <td id=\"T_97838_row1_col2\" class=\"data row1 col2\" >5.459965</td>\n",
       "                        <td id=\"T_97838_row1_col3\" class=\"data row1 col3\" >1</td>\n",
       "            </tr>\n",
       "            <tr>\n",
       "                        <th id=\"T_97838_level0_row2\" class=\"row_heading level0 row2\" >centralus</th>\n",
       "                        <td id=\"T_97838_row2_col0\" class=\"data row2 col0\" >236.000000</td>\n",
       "                        <td id=\"T_97838_row2_col1\" class=\"data row2 col1\" >4.675897</td>\n",
       "                        <td id=\"T_97838_row2_col2\" class=\"data row2 col2\" >2.162382</td>\n",
       "                        <td id=\"T_97838_row2_col3\" class=\"data row2 col3\" >1</td>\n",
       "            </tr>\n",
       "            <tr>\n",
       "                        <th id=\"T_97838_level0_row3\" class=\"row_heading level0 row3\" >eastus</th>\n",
       "                        <td id=\"T_97838_row3_col0\" class=\"data row3 col0\" >602.000000</td>\n",
       "                        <td id=\"T_97838_row3_col1\" class=\"data row3 col1\" >1.646154</td>\n",
       "                        <td id=\"T_97838_row3_col2\" class=\"data row3 col2\" >1.283025</td>\n",
       "                        <td id=\"T_97838_row3_col3\" class=\"data row3 col3\" >3</td>\n",
       "            </tr>\n",
       "            <tr>\n",
       "                        <th id=\"T_97838_level0_row4\" class=\"row_heading level0 row4\" >eastus2</th>\n",
       "                        <td id=\"T_97838_row4_col0\" class=\"data row4 col0\" >1502.000000</td>\n",
       "                        <td id=\"T_97838_row4_col1\" class=\"data row4 col1\" >4.830914</td>\n",
       "                        <td id=\"T_97838_row4_col2\" class=\"data row4 col2\" >2.197934</td>\n",
       "                        <td id=\"T_97838_row4_col3\" class=\"data row4 col3\" >1</td>\n",
       "            </tr>\n",
       "            <tr>\n",
       "                        <th id=\"T_97838_level0_row5\" class=\"row_heading level0 row5\" >northeurope</th>\n",
       "                        <td id=\"T_97838_row5_col0\" class=\"data row5 col0\" >82.000000</td>\n",
       "                        <td id=\"T_97838_row5_col1\" class=\"data row5 col1\" >0.492438</td>\n",
       "                        <td id=\"T_97838_row5_col2\" class=\"data row5 col2\" >0.701739</td>\n",
       "                        <td id=\"T_97838_row5_col3\" class=\"data row5 col3\" >1</td>\n",
       "            </tr>\n",
       "            <tr>\n",
       "                        <th id=\"T_97838_level0_row6\" class=\"row_heading level0 row6\" >southcentralus</th>\n",
       "                        <td id=\"T_97838_row6_col0\" class=\"data row6 col0\" >817.000000</td>\n",
       "                        <td id=\"T_97838_row6_col1\" class=\"data row6 col1\" >8.882186</td>\n",
       "                        <td id=\"T_97838_row6_col2\" class=\"data row6 col2\" >2.980300</td>\n",
       "                        <td id=\"T_97838_row6_col3\" class=\"data row6 col3\" >1</td>\n",
       "            </tr>\n",
       "            <tr>\n",
       "                        <th id=\"T_97838_level0_row7\" class=\"row_heading level0 row7\" >westcentralus</th>\n",
       "                        <td id=\"T_97838_row7_col0\" class=\"data row7 col0\" >59.000000</td>\n",
       "                        <td id=\"T_97838_row7_col1\" class=\"data row7 col1\" >0.017241</td>\n",
       "                        <td id=\"T_97838_row7_col2\" class=\"data row7 col2\" >0.131306</td>\n",
       "                        <td id=\"T_97838_row7_col3\" class=\"data row7 col3\" >1</td>\n",
       "            </tr>\n",
       "            <tr>\n",
       "                        <th id=\"T_97838_level0_row8\" class=\"row_heading level0 row8\" >westus</th>\n",
       "                        <td id=\"T_97838_row8_col0\" class=\"data row8 col0\" >38.000000</td>\n",
       "                        <td id=\"T_97838_row8_col1\" class=\"data row8 col1\" >0.782609</td>\n",
       "                        <td id=\"T_97838_row8_col2\" class=\"data row8 col2\" >0.884652</td>\n",
       "                        <td id=\"T_97838_row8_col3\" class=\"data row8 col3\" >1</td>\n",
       "            </tr>\n",
       "            <tr>\n",
       "                        <th id=\"T_97838_level0_row9\" class=\"row_heading level0 row9\" >westus2</th>\n",
       "                        <td id=\"T_97838_row9_col0\" class=\"data row9 col0\" >7.000000</td>\n",
       "                        <td id=\"T_97838_row9_col1\" class=\"data row9 col1\" >0.300000</td>\n",
       "                        <td id=\"T_97838_row9_col2\" class=\"data row9 col2\" >0.547723</td>\n",
       "                        <td id=\"T_97838_row9_col3\" class=\"data row9 col3\" >1</td>\n",
       "            </tr>\n",
       "    </tbody></table>"
      ],
      "text/plain": [
       "<pandas.io.formats.style.Styler at 0x276d70c6548>"
      ]
     },
     "execution_count": 10,
     "metadata": {},
     "output_type": "execute_result"
    }
   ],
   "source": [
    "df_style = summary_df.style.highlight_max(color=\"blue\").highlight_min(color=\"green\")\n",
    "df_style"
   ]
  },
  {
   "cell_type": "markdown",
   "metadata": {},
   "source": [
    "### Color gradients\n",
    "\n",
    "<p style=\"font-family:consolas; font-size:15pt; color:green\">\n",
    "df.style.background_gradient(...)\n",
    "</p>"
   ]
  },
  {
   "cell_type": "code",
   "execution_count": 11,
   "metadata": {
    "ExecuteTime": {
     "end_time": "2021-11-29T16:57:07.227310Z",
     "start_time": "2021-11-29T16:57:06.827914Z"
    }
   },
   "outputs": [
    {
     "data": {
      "text/html": [
       "<style  type=\"text/css\" >\n",
       "#T_c417c_row0_col0,#T_c417c_row6_col0{\n",
       "            background-color:  #cbcbf5;\n",
       "            color:  #000000;\n",
       "        }#T_c417c_row0_col1,#T_c417c_row0_col2,#T_c417c_row0_col3,#T_c417c_row1_col0{\n",
       "            background-color:  #0000ff;\n",
       "            color:  #f1f1f1;\n",
       "        }#T_c417c_row1_col1{\n",
       "            background-color:  #7373f9;\n",
       "            color:  #000000;\n",
       "        }#T_c417c_row1_col2{\n",
       "            background-color:  #4444fc;\n",
       "            color:  #f1f1f1;\n",
       "        }#T_c417c_row1_col3,#T_c417c_row2_col3,#T_c417c_row4_col3,#T_c417c_row5_col3,#T_c417c_row6_col3,#T_c417c_row7_col1,#T_c417c_row7_col2,#T_c417c_row7_col3,#T_c417c_row8_col3,#T_c417c_row9_col0,#T_c417c_row9_col3{\n",
       "            background-color:  #f0f0f3;\n",
       "            color:  #000000;\n",
       "        }#T_c417c_row2_col0{\n",
       "            background-color:  #e6e6f3;\n",
       "            color:  #000000;\n",
       "        }#T_c417c_row2_col1{\n",
       "            background-color:  #dedef4;\n",
       "            color:  #000000;\n",
       "        }#T_c417c_row2_col2{\n",
       "            background-color:  #afaff6;\n",
       "            color:  #000000;\n",
       "        }#T_c417c_row3_col0{\n",
       "            background-color:  #d5d5f4;\n",
       "            color:  #000000;\n",
       "        }#T_c417c_row3_col1{\n",
       "            background-color:  #eaeaf3;\n",
       "            color:  #000000;\n",
       "        }#T_c417c_row3_col2,#T_c417c_row6_col1{\n",
       "            background-color:  #ccccf5;\n",
       "            color:  #000000;\n",
       "        }#T_c417c_row3_col3{\n",
       "            background-color:  #9090f8;\n",
       "            color:  #000000;\n",
       "        }#T_c417c_row4_col0{\n",
       "            background-color:  #aaaaf6;\n",
       "            color:  #000000;\n",
       "        }#T_c417c_row4_col1{\n",
       "            background-color:  #ddddf4;\n",
       "            color:  #000000;\n",
       "        }#T_c417c_row4_col2{\n",
       "            background-color:  #adadf6;\n",
       "            color:  #000000;\n",
       "        }#T_c417c_row5_col0,#T_c417c_row8_col1{\n",
       "            background-color:  #eeeef3;\n",
       "            color:  #000000;\n",
       "        }#T_c417c_row5_col1,#T_c417c_row7_col0,#T_c417c_row8_col0,#T_c417c_row9_col1{\n",
       "            background-color:  #efeff3;\n",
       "            color:  #000000;\n",
       "        }#T_c417c_row5_col2{\n",
       "            background-color:  #dedff4;\n",
       "            color:  #000000;\n",
       "        }#T_c417c_row6_col2{\n",
       "            background-color:  #9494f7;\n",
       "            color:  #000000;\n",
       "        }#T_c417c_row8_col2{\n",
       "            background-color:  #d9d9f4;\n",
       "            color:  #000000;\n",
       "        }#T_c417c_row9_col2{\n",
       "            background-color:  #e3e3f3;\n",
       "            color:  #000000;\n",
       "        }</style><table id=\"T_c417c_\" ><thead>    <tr>        <th class=\"blank level0\" ></th>        <th class=\"col_heading level0 col0\" >FlowsSum</th>        <th class=\"col_heading level0 col1\" >FlowsVar</th>        <th class=\"col_heading level0 col2\" >FlowsStdDev</th>        <th class=\"col_heading level0 col3\" >L7Prots</th>    </tr>    <tr>        <th class=\"index_name level0\" >RemoteRegion</th>        <th class=\"blank\" ></th>        <th class=\"blank\" ></th>        <th class=\"blank\" ></th>        <th class=\"blank\" ></th>    </tr></thead><tbody>\n",
       "                <tr>\n",
       "                        <th id=\"T_c417c_level0_row0\" class=\"row_heading level0 row0\" ></th>\n",
       "                        <td id=\"T_c417c_row0_col0\" class=\"data row0 col0\" >814.00</td>\n",
       "                        <td id=\"T_c417c_row0_col1\" class=\"data row0 col1\" >57.27</td>\n",
       "                        <td id=\"T_c417c_row0_col2\" class=\"data row0 col2\" >7.57</td>\n",
       "                        <td id=\"T_c417c_row0_col3\" class=\"data row0 col3\" >6.00</td>\n",
       "            </tr>\n",
       "            <tr>\n",
       "                        <th id=\"T_c417c_level0_row1\" class=\"row_heading level0 row1\" >canadacentral</th>\n",
       "                        <td id=\"T_c417c_row1_col0\" class=\"data row1 col0\" >5103.00</td>\n",
       "                        <td id=\"T_c417c_row1_col1\" class=\"data row1 col1\" >29.81</td>\n",
       "                        <td id=\"T_c417c_row1_col2\" class=\"data row1 col2\" >5.46</td>\n",
       "                        <td id=\"T_c417c_row1_col3\" class=\"data row1 col3\" >1.00</td>\n",
       "            </tr>\n",
       "            <tr>\n",
       "                        <th id=\"T_c417c_level0_row2\" class=\"row_heading level0 row2\" >centralus</th>\n",
       "                        <td id=\"T_c417c_row2_col0\" class=\"data row2 col0\" >236.00</td>\n",
       "                        <td id=\"T_c417c_row2_col1\" class=\"data row2 col1\" >4.68</td>\n",
       "                        <td id=\"T_c417c_row2_col2\" class=\"data row2 col2\" >2.16</td>\n",
       "                        <td id=\"T_c417c_row2_col3\" class=\"data row2 col3\" >1.00</td>\n",
       "            </tr>\n",
       "            <tr>\n",
       "                        <th id=\"T_c417c_level0_row3\" class=\"row_heading level0 row3\" >eastus</th>\n",
       "                        <td id=\"T_c417c_row3_col0\" class=\"data row3 col0\" >602.00</td>\n",
       "                        <td id=\"T_c417c_row3_col1\" class=\"data row3 col1\" >1.65</td>\n",
       "                        <td id=\"T_c417c_row3_col2\" class=\"data row3 col2\" >1.28</td>\n",
       "                        <td id=\"T_c417c_row3_col3\" class=\"data row3 col3\" >3.00</td>\n",
       "            </tr>\n",
       "            <tr>\n",
       "                        <th id=\"T_c417c_level0_row4\" class=\"row_heading level0 row4\" >eastus2</th>\n",
       "                        <td id=\"T_c417c_row4_col0\" class=\"data row4 col0\" >1502.00</td>\n",
       "                        <td id=\"T_c417c_row4_col1\" class=\"data row4 col1\" >4.83</td>\n",
       "                        <td id=\"T_c417c_row4_col2\" class=\"data row4 col2\" >2.20</td>\n",
       "                        <td id=\"T_c417c_row4_col3\" class=\"data row4 col3\" >1.00</td>\n",
       "            </tr>\n",
       "            <tr>\n",
       "                        <th id=\"T_c417c_level0_row5\" class=\"row_heading level0 row5\" >northeurope</th>\n",
       "                        <td id=\"T_c417c_row5_col0\" class=\"data row5 col0\" >82.00</td>\n",
       "                        <td id=\"T_c417c_row5_col1\" class=\"data row5 col1\" >0.49</td>\n",
       "                        <td id=\"T_c417c_row5_col2\" class=\"data row5 col2\" >0.70</td>\n",
       "                        <td id=\"T_c417c_row5_col3\" class=\"data row5 col3\" >1.00</td>\n",
       "            </tr>\n",
       "            <tr>\n",
       "                        <th id=\"T_c417c_level0_row6\" class=\"row_heading level0 row6\" >southcentralus</th>\n",
       "                        <td id=\"T_c417c_row6_col0\" class=\"data row6 col0\" >817.00</td>\n",
       "                        <td id=\"T_c417c_row6_col1\" class=\"data row6 col1\" >8.88</td>\n",
       "                        <td id=\"T_c417c_row6_col2\" class=\"data row6 col2\" >2.98</td>\n",
       "                        <td id=\"T_c417c_row6_col3\" class=\"data row6 col3\" >1.00</td>\n",
       "            </tr>\n",
       "            <tr>\n",
       "                        <th id=\"T_c417c_level0_row7\" class=\"row_heading level0 row7\" >westcentralus</th>\n",
       "                        <td id=\"T_c417c_row7_col0\" class=\"data row7 col0\" >59.00</td>\n",
       "                        <td id=\"T_c417c_row7_col1\" class=\"data row7 col1\" >0.02</td>\n",
       "                        <td id=\"T_c417c_row7_col2\" class=\"data row7 col2\" >0.13</td>\n",
       "                        <td id=\"T_c417c_row7_col3\" class=\"data row7 col3\" >1.00</td>\n",
       "            </tr>\n",
       "            <tr>\n",
       "                        <th id=\"T_c417c_level0_row8\" class=\"row_heading level0 row8\" >westus</th>\n",
       "                        <td id=\"T_c417c_row8_col0\" class=\"data row8 col0\" >38.00</td>\n",
       "                        <td id=\"T_c417c_row8_col1\" class=\"data row8 col1\" >0.78</td>\n",
       "                        <td id=\"T_c417c_row8_col2\" class=\"data row8 col2\" >0.88</td>\n",
       "                        <td id=\"T_c417c_row8_col3\" class=\"data row8 col3\" >1.00</td>\n",
       "            </tr>\n",
       "            <tr>\n",
       "                        <th id=\"T_c417c_level0_row9\" class=\"row_heading level0 row9\" >westus2</th>\n",
       "                        <td id=\"T_c417c_row9_col0\" class=\"data row9 col0\" >7.00</td>\n",
       "                        <td id=\"T_c417c_row9_col1\" class=\"data row9 col1\" >0.30</td>\n",
       "                        <td id=\"T_c417c_row9_col2\" class=\"data row9 col2\" >0.55</td>\n",
       "                        <td id=\"T_c417c_row9_col3\" class=\"data row9 col3\" >1.00</td>\n",
       "            </tr>\n",
       "    </tbody></table>"
      ],
      "text/plain": [
       "<pandas.io.formats.style.Styler at 0x276d7f7f908>"
      ]
     },
     "execution_count": 11,
     "metadata": {},
     "output_type": "execute_result"
    }
   ],
   "source": [
    "import seaborn as sns\n",
    "cm = sns.light_palette(\"blue\", as_cmap=True)\n",
    "\n",
    "summary_df.style.background_gradient(cmap=cm).format(\"{:.2f}\")"
   ]
  },
  {
   "cell_type": "markdown",
   "metadata": {},
   "source": [
    "### Inline bars\n",
    "\n",
    "<p style=\"font-family:consolas; font-size:15pt; color:green\">\n",
    "df.style.bar(...)\n",
    "</p>\n"
   ]
  },
  {
   "cell_type": "code",
   "execution_count": 12,
   "metadata": {
    "ExecuteTime": {
     "end_time": "2021-11-29T16:57:07.430565Z",
     "start_time": "2021-11-29T16:57:07.410341Z"
    }
   },
   "outputs": [
    {
     "data": {
      "text/html": [
       "<style  type=\"text/css\" >\n",
       "#T_203e0_row0_col0{\n",
       "            width:  10em;\n",
       "             height:  80%;\n",
       "            background:  linear-gradient(90deg,blue 15.8%, transparent 15.8%);\n",
       "        }#T_203e0_row0_col1,#T_203e0_row0_col2,#T_203e0_row0_col3,#T_203e0_row1_col0{\n",
       "            width:  10em;\n",
       "             height:  80%;\n",
       "            background:  linear-gradient(90deg,blue 100.0%, transparent 100.0%);\n",
       "        }#T_203e0_row1_col1{\n",
       "            width:  10em;\n",
       "             height:  80%;\n",
       "            background:  linear-gradient(90deg,blue 52.0%, transparent 52.0%);\n",
       "        }#T_203e0_row1_col2{\n",
       "            width:  10em;\n",
       "             height:  80%;\n",
       "            background:  linear-gradient(90deg,blue 71.7%, transparent 71.7%);\n",
       "        }#T_203e0_row1_col3,#T_203e0_row2_col3,#T_203e0_row4_col3,#T_203e0_row5_col3,#T_203e0_row6_col3,#T_203e0_row7_col1,#T_203e0_row7_col2,#T_203e0_row7_col3,#T_203e0_row8_col3,#T_203e0_row9_col0,#T_203e0_row9_col3{\n",
       "            width:  10em;\n",
       "             height:  80%;\n",
       "        }#T_203e0_row2_col0{\n",
       "            width:  10em;\n",
       "             height:  80%;\n",
       "            background:  linear-gradient(90deg,blue 4.5%, transparent 4.5%);\n",
       "        }#T_203e0_row2_col1{\n",
       "            width:  10em;\n",
       "             height:  80%;\n",
       "            background:  linear-gradient(90deg,blue 8.1%, transparent 8.1%);\n",
       "        }#T_203e0_row2_col2{\n",
       "            width:  10em;\n",
       "             height:  80%;\n",
       "            background:  linear-gradient(90deg,blue 27.3%, transparent 27.3%);\n",
       "        }#T_203e0_row3_col0{\n",
       "            width:  10em;\n",
       "             height:  80%;\n",
       "            background:  linear-gradient(90deg,blue 11.7%, transparent 11.7%);\n",
       "        }#T_203e0_row3_col1{\n",
       "            width:  10em;\n",
       "             height:  80%;\n",
       "            background:  linear-gradient(90deg,blue 2.8%, transparent 2.8%);\n",
       "        }#T_203e0_row3_col2,#T_203e0_row6_col1{\n",
       "            width:  10em;\n",
       "             height:  80%;\n",
       "            background:  linear-gradient(90deg,blue 15.5%, transparent 15.5%);\n",
       "        }#T_203e0_row3_col3{\n",
       "            width:  10em;\n",
       "             height:  80%;\n",
       "            background:  linear-gradient(90deg,blue 40.0%, transparent 40.0%);\n",
       "        }#T_203e0_row4_col0{\n",
       "            width:  10em;\n",
       "             height:  80%;\n",
       "            background:  linear-gradient(90deg,blue 29.3%, transparent 29.3%);\n",
       "        }#T_203e0_row4_col1{\n",
       "            width:  10em;\n",
       "             height:  80%;\n",
       "            background:  linear-gradient(90deg,blue 8.4%, transparent 8.4%);\n",
       "        }#T_203e0_row4_col2{\n",
       "            width:  10em;\n",
       "             height:  80%;\n",
       "            background:  linear-gradient(90deg,blue 27.8%, transparent 27.8%);\n",
       "        }#T_203e0_row5_col0{\n",
       "            width:  10em;\n",
       "             height:  80%;\n",
       "            background:  linear-gradient(90deg,blue 1.5%, transparent 1.5%);\n",
       "        }#T_203e0_row5_col1{\n",
       "            width:  10em;\n",
       "             height:  80%;\n",
       "            background:  linear-gradient(90deg,blue 0.8%, transparent 0.8%);\n",
       "        }#T_203e0_row5_col2{\n",
       "            width:  10em;\n",
       "             height:  80%;\n",
       "            background:  linear-gradient(90deg,blue 7.7%, transparent 7.7%);\n",
       "        }#T_203e0_row6_col0{\n",
       "            width:  10em;\n",
       "             height:  80%;\n",
       "            background:  linear-gradient(90deg,blue 15.9%, transparent 15.9%);\n",
       "        }#T_203e0_row6_col2{\n",
       "            width:  10em;\n",
       "             height:  80%;\n",
       "            background:  linear-gradient(90deg,blue 38.3%, transparent 38.3%);\n",
       "        }#T_203e0_row7_col0{\n",
       "            width:  10em;\n",
       "             height:  80%;\n",
       "            background:  linear-gradient(90deg,blue 1.0%, transparent 1.0%);\n",
       "        }#T_203e0_row8_col0{\n",
       "            width:  10em;\n",
       "             height:  80%;\n",
       "            background:  linear-gradient(90deg,blue 0.6%, transparent 0.6%);\n",
       "        }#T_203e0_row8_col1{\n",
       "            width:  10em;\n",
       "             height:  80%;\n",
       "            background:  linear-gradient(90deg,blue 1.3%, transparent 1.3%);\n",
       "        }#T_203e0_row8_col2{\n",
       "            width:  10em;\n",
       "             height:  80%;\n",
       "            background:  linear-gradient(90deg,blue 10.1%, transparent 10.1%);\n",
       "        }#T_203e0_row9_col1{\n",
       "            width:  10em;\n",
       "             height:  80%;\n",
       "            background:  linear-gradient(90deg,blue 0.5%, transparent 0.5%);\n",
       "        }#T_203e0_row9_col2{\n",
       "            width:  10em;\n",
       "             height:  80%;\n",
       "            background:  linear-gradient(90deg,blue 5.6%, transparent 5.6%);\n",
       "        }</style><table id=\"T_203e0_\" ><thead>    <tr>        <th class=\"blank level0\" ></th>        <th class=\"col_heading level0 col0\" >FlowsSum</th>        <th class=\"col_heading level0 col1\" >FlowsVar</th>        <th class=\"col_heading level0 col2\" >FlowsStdDev</th>        <th class=\"col_heading level0 col3\" >L7Prots</th>    </tr>    <tr>        <th class=\"index_name level0\" >RemoteRegion</th>        <th class=\"blank\" ></th>        <th class=\"blank\" ></th>        <th class=\"blank\" ></th>        <th class=\"blank\" ></th>    </tr></thead><tbody>\n",
       "                <tr>\n",
       "                        <th id=\"T_203e0_level0_row0\" class=\"row_heading level0 row0\" ></th>\n",
       "                        <td id=\"T_203e0_row0_col0\" class=\"data row0 col0\" >814.00</td>\n",
       "                        <td id=\"T_203e0_row0_col1\" class=\"data row0 col1\" >57.27</td>\n",
       "                        <td id=\"T_203e0_row0_col2\" class=\"data row0 col2\" >7.57</td>\n",
       "                        <td id=\"T_203e0_row0_col3\" class=\"data row0 col3\" >6.00</td>\n",
       "            </tr>\n",
       "            <tr>\n",
       "                        <th id=\"T_203e0_level0_row1\" class=\"row_heading level0 row1\" >canadacentral</th>\n",
       "                        <td id=\"T_203e0_row1_col0\" class=\"data row1 col0\" >5103.00</td>\n",
       "                        <td id=\"T_203e0_row1_col1\" class=\"data row1 col1\" >29.81</td>\n",
       "                        <td id=\"T_203e0_row1_col2\" class=\"data row1 col2\" >5.46</td>\n",
       "                        <td id=\"T_203e0_row1_col3\" class=\"data row1 col3\" >1.00</td>\n",
       "            </tr>\n",
       "            <tr>\n",
       "                        <th id=\"T_203e0_level0_row2\" class=\"row_heading level0 row2\" >centralus</th>\n",
       "                        <td id=\"T_203e0_row2_col0\" class=\"data row2 col0\" >236.00</td>\n",
       "                        <td id=\"T_203e0_row2_col1\" class=\"data row2 col1\" >4.68</td>\n",
       "                        <td id=\"T_203e0_row2_col2\" class=\"data row2 col2\" >2.16</td>\n",
       "                        <td id=\"T_203e0_row2_col3\" class=\"data row2 col3\" >1.00</td>\n",
       "            </tr>\n",
       "            <tr>\n",
       "                        <th id=\"T_203e0_level0_row3\" class=\"row_heading level0 row3\" >eastus</th>\n",
       "                        <td id=\"T_203e0_row3_col0\" class=\"data row3 col0\" >602.00</td>\n",
       "                        <td id=\"T_203e0_row3_col1\" class=\"data row3 col1\" >1.65</td>\n",
       "                        <td id=\"T_203e0_row3_col2\" class=\"data row3 col2\" >1.28</td>\n",
       "                        <td id=\"T_203e0_row3_col3\" class=\"data row3 col3\" >3.00</td>\n",
       "            </tr>\n",
       "            <tr>\n",
       "                        <th id=\"T_203e0_level0_row4\" class=\"row_heading level0 row4\" >eastus2</th>\n",
       "                        <td id=\"T_203e0_row4_col0\" class=\"data row4 col0\" >1502.00</td>\n",
       "                        <td id=\"T_203e0_row4_col1\" class=\"data row4 col1\" >4.83</td>\n",
       "                        <td id=\"T_203e0_row4_col2\" class=\"data row4 col2\" >2.20</td>\n",
       "                        <td id=\"T_203e0_row4_col3\" class=\"data row4 col3\" >1.00</td>\n",
       "            </tr>\n",
       "            <tr>\n",
       "                        <th id=\"T_203e0_level0_row5\" class=\"row_heading level0 row5\" >northeurope</th>\n",
       "                        <td id=\"T_203e0_row5_col0\" class=\"data row5 col0\" >82.00</td>\n",
       "                        <td id=\"T_203e0_row5_col1\" class=\"data row5 col1\" >0.49</td>\n",
       "                        <td id=\"T_203e0_row5_col2\" class=\"data row5 col2\" >0.70</td>\n",
       "                        <td id=\"T_203e0_row5_col3\" class=\"data row5 col3\" >1.00</td>\n",
       "            </tr>\n",
       "            <tr>\n",
       "                        <th id=\"T_203e0_level0_row6\" class=\"row_heading level0 row6\" >southcentralus</th>\n",
       "                        <td id=\"T_203e0_row6_col0\" class=\"data row6 col0\" >817.00</td>\n",
       "                        <td id=\"T_203e0_row6_col1\" class=\"data row6 col1\" >8.88</td>\n",
       "                        <td id=\"T_203e0_row6_col2\" class=\"data row6 col2\" >2.98</td>\n",
       "                        <td id=\"T_203e0_row6_col3\" class=\"data row6 col3\" >1.00</td>\n",
       "            </tr>\n",
       "            <tr>\n",
       "                        <th id=\"T_203e0_level0_row7\" class=\"row_heading level0 row7\" >westcentralus</th>\n",
       "                        <td id=\"T_203e0_row7_col0\" class=\"data row7 col0\" >59.00</td>\n",
       "                        <td id=\"T_203e0_row7_col1\" class=\"data row7 col1\" >0.02</td>\n",
       "                        <td id=\"T_203e0_row7_col2\" class=\"data row7 col2\" >0.13</td>\n",
       "                        <td id=\"T_203e0_row7_col3\" class=\"data row7 col3\" >1.00</td>\n",
       "            </tr>\n",
       "            <tr>\n",
       "                        <th id=\"T_203e0_level0_row8\" class=\"row_heading level0 row8\" >westus</th>\n",
       "                        <td id=\"T_203e0_row8_col0\" class=\"data row8 col0\" >38.00</td>\n",
       "                        <td id=\"T_203e0_row8_col1\" class=\"data row8 col1\" >0.78</td>\n",
       "                        <td id=\"T_203e0_row8_col2\" class=\"data row8 col2\" >0.88</td>\n",
       "                        <td id=\"T_203e0_row8_col3\" class=\"data row8 col3\" >1.00</td>\n",
       "            </tr>\n",
       "            <tr>\n",
       "                        <th id=\"T_203e0_level0_row9\" class=\"row_heading level0 row9\" >westus2</th>\n",
       "                        <td id=\"T_203e0_row9_col0\" class=\"data row9 col0\" >7.00</td>\n",
       "                        <td id=\"T_203e0_row9_col1\" class=\"data row9 col1\" >0.30</td>\n",
       "                        <td id=\"T_203e0_row9_col2\" class=\"data row9 col2\" >0.55</td>\n",
       "                        <td id=\"T_203e0_row9_col3\" class=\"data row9 col3\" >1.00</td>\n",
       "            </tr>\n",
       "    </tbody></table>"
      ],
      "text/plain": [
       "<pandas.io.formats.style.Styler at 0x27688115148>"
      ]
     },
     "execution_count": 12,
     "metadata": {},
     "output_type": "execute_result"
    }
   ],
   "source": [
    "summary_df.style.bar(color=\"blue\").format(\"{:.2f}\")"
   ]
  },
  {
   "cell_type": "markdown",
   "metadata": {},
   "source": [
    "### Custom properties\n",
    "\n",
    "<p style=\"font-family:consolas; font-size:15pt; color:green\">\n",
    "df.style.set_properties(...)\n",
    "</p>\n",
    "\n",
    "If you are really into CSS, you can do (almost) anything"
   ]
  },
  {
   "cell_type": "code",
   "execution_count": 59,
   "metadata": {
    "ExecuteTime": {
     "end_time": "2021-11-29T16:57:07.871292Z",
     "start_time": "2021-11-29T16:57:07.617135Z"
    }
   },
   "outputs": [
    {
     "data": {
      "text/html": [
       "<style  type=\"text/css\" >\n",
       "#T_e98c8_row0_col0,#T_e98c8_row0_col1,#T_e98c8_row0_col2,#T_e98c8_row0_col3,#T_e98c8_row1_col0,#T_e98c8_row1_col1,#T_e98c8_row1_col2,#T_e98c8_row1_col3,#T_e98c8_row2_col0,#T_e98c8_row2_col1,#T_e98c8_row2_col2,#T_e98c8_row2_col3,#T_e98c8_row3_col0,#T_e98c8_row3_col1,#T_e98c8_row3_col2,#T_e98c8_row3_col3,#T_e98c8_row4_col0,#T_e98c8_row4_col1,#T_e98c8_row4_col2,#T_e98c8_row4_col3,#T_e98c8_row5_col0,#T_e98c8_row5_col1,#T_e98c8_row5_col2,#T_e98c8_row5_col3,#T_e98c8_row6_col0,#T_e98c8_row6_col1,#T_e98c8_row6_col2,#T_e98c8_row6_col3,#T_e98c8_row7_col0,#T_e98c8_row7_col1,#T_e98c8_row7_col2,#T_e98c8_row7_col3,#T_e98c8_row8_col0,#T_e98c8_row8_col1,#T_e98c8_row8_col2,#T_e98c8_row8_col3,#T_e98c8_row9_col0,#T_e98c8_row9_col1,#T_e98c8_row9_col2,#T_e98c8_row9_col3{\n",
       "            background-color:  black;\n",
       "            color:  lawngreen;\n",
       "            font-family:  consolas;\n",
       "        }</style><table id=\"T_e98c8_\" ><thead>    <tr>        <th class=\"blank level0\" ></th>        <th class=\"col_heading level0 col0\" >FlowsSum</th>        <th class=\"col_heading level0 col1\" >FlowsVar</th>        <th class=\"col_heading level0 col2\" >FlowsStdDev</th>        <th class=\"col_heading level0 col3\" >L7Prots</th>    </tr>    <tr>        <th class=\"index_name level0\" >RemoteRegion</th>        <th class=\"blank\" ></th>        <th class=\"blank\" ></th>        <th class=\"blank\" ></th>        <th class=\"blank\" ></th>    </tr></thead><tbody>\n",
       "                <tr>\n",
       "                        <th id=\"T_e98c8_level0_row0\" class=\"row_heading level0 row0\" ></th>\n",
       "                        <td id=\"T_e98c8_row0_col0\" class=\"data row0 col0\" >814.00</td>\n",
       "                        <td id=\"T_e98c8_row0_col1\" class=\"data row0 col1\" >57.27</td>\n",
       "                        <td id=\"T_e98c8_row0_col2\" class=\"data row0 col2\" >7.57</td>\n",
       "                        <td id=\"T_e98c8_row0_col3\" class=\"data row0 col3\" >6.00</td>\n",
       "            </tr>\n",
       "            <tr>\n",
       "                        <th id=\"T_e98c8_level0_row1\" class=\"row_heading level0 row1\" >canadacentral</th>\n",
       "                        <td id=\"T_e98c8_row1_col0\" class=\"data row1 col0\" >5103.00</td>\n",
       "                        <td id=\"T_e98c8_row1_col1\" class=\"data row1 col1\" >29.81</td>\n",
       "                        <td id=\"T_e98c8_row1_col2\" class=\"data row1 col2\" >5.46</td>\n",
       "                        <td id=\"T_e98c8_row1_col3\" class=\"data row1 col3\" >1.00</td>\n",
       "            </tr>\n",
       "            <tr>\n",
       "                        <th id=\"T_e98c8_level0_row2\" class=\"row_heading level0 row2\" >centralus</th>\n",
       "                        <td id=\"T_e98c8_row2_col0\" class=\"data row2 col0\" >236.00</td>\n",
       "                        <td id=\"T_e98c8_row2_col1\" class=\"data row2 col1\" >4.68</td>\n",
       "                        <td id=\"T_e98c8_row2_col2\" class=\"data row2 col2\" >2.16</td>\n",
       "                        <td id=\"T_e98c8_row2_col3\" class=\"data row2 col3\" >1.00</td>\n",
       "            </tr>\n",
       "            <tr>\n",
       "                        <th id=\"T_e98c8_level0_row3\" class=\"row_heading level0 row3\" >eastus</th>\n",
       "                        <td id=\"T_e98c8_row3_col0\" class=\"data row3 col0\" >602.00</td>\n",
       "                        <td id=\"T_e98c8_row3_col1\" class=\"data row3 col1\" >1.65</td>\n",
       "                        <td id=\"T_e98c8_row3_col2\" class=\"data row3 col2\" >1.28</td>\n",
       "                        <td id=\"T_e98c8_row3_col3\" class=\"data row3 col3\" >3.00</td>\n",
       "            </tr>\n",
       "            <tr>\n",
       "                        <th id=\"T_e98c8_level0_row4\" class=\"row_heading level0 row4\" >eastus2</th>\n",
       "                        <td id=\"T_e98c8_row4_col0\" class=\"data row4 col0\" >1502.00</td>\n",
       "                        <td id=\"T_e98c8_row4_col1\" class=\"data row4 col1\" >4.83</td>\n",
       "                        <td id=\"T_e98c8_row4_col2\" class=\"data row4 col2\" >2.20</td>\n",
       "                        <td id=\"T_e98c8_row4_col3\" class=\"data row4 col3\" >1.00</td>\n",
       "            </tr>\n",
       "            <tr>\n",
       "                        <th id=\"T_e98c8_level0_row5\" class=\"row_heading level0 row5\" >northeurope</th>\n",
       "                        <td id=\"T_e98c8_row5_col0\" class=\"data row5 col0\" >82.00</td>\n",
       "                        <td id=\"T_e98c8_row5_col1\" class=\"data row5 col1\" >0.49</td>\n",
       "                        <td id=\"T_e98c8_row5_col2\" class=\"data row5 col2\" >0.70</td>\n",
       "                        <td id=\"T_e98c8_row5_col3\" class=\"data row5 col3\" >1.00</td>\n",
       "            </tr>\n",
       "            <tr>\n",
       "                        <th id=\"T_e98c8_level0_row6\" class=\"row_heading level0 row6\" >southcentralus</th>\n",
       "                        <td id=\"T_e98c8_row6_col0\" class=\"data row6 col0\" >817.00</td>\n",
       "                        <td id=\"T_e98c8_row6_col1\" class=\"data row6 col1\" >8.88</td>\n",
       "                        <td id=\"T_e98c8_row6_col2\" class=\"data row6 col2\" >2.98</td>\n",
       "                        <td id=\"T_e98c8_row6_col3\" class=\"data row6 col3\" >1.00</td>\n",
       "            </tr>\n",
       "            <tr>\n",
       "                        <th id=\"T_e98c8_level0_row7\" class=\"row_heading level0 row7\" >westcentralus</th>\n",
       "                        <td id=\"T_e98c8_row7_col0\" class=\"data row7 col0\" >59.00</td>\n",
       "                        <td id=\"T_e98c8_row7_col1\" class=\"data row7 col1\" >0.02</td>\n",
       "                        <td id=\"T_e98c8_row7_col2\" class=\"data row7 col2\" >0.13</td>\n",
       "                        <td id=\"T_e98c8_row7_col3\" class=\"data row7 col3\" >1.00</td>\n",
       "            </tr>\n",
       "            <tr>\n",
       "                        <th id=\"T_e98c8_level0_row8\" class=\"row_heading level0 row8\" >westus</th>\n",
       "                        <td id=\"T_e98c8_row8_col0\" class=\"data row8 col0\" >38.00</td>\n",
       "                        <td id=\"T_e98c8_row8_col1\" class=\"data row8 col1\" >0.78</td>\n",
       "                        <td id=\"T_e98c8_row8_col2\" class=\"data row8 col2\" >0.88</td>\n",
       "                        <td id=\"T_e98c8_row8_col3\" class=\"data row8 col3\" >1.00</td>\n",
       "            </tr>\n",
       "            <tr>\n",
       "                        <th id=\"T_e98c8_level0_row9\" class=\"row_heading level0 row9\" >westus2</th>\n",
       "                        <td id=\"T_e98c8_row9_col0\" class=\"data row9 col0\" >7.00</td>\n",
       "                        <td id=\"T_e98c8_row9_col1\" class=\"data row9 col1\" >0.30</td>\n",
       "                        <td id=\"T_e98c8_row9_col2\" class=\"data row9 col2\" >0.55</td>\n",
       "                        <td id=\"T_e98c8_row9_col3\" class=\"data row9 col3\" >1.00</td>\n",
       "            </tr>\n",
       "    </tbody></table>"
      ],
      "text/plain": [
       "<pandas.io.formats.style.Styler at 0x2768849fc48>"
      ]
     },
     "execution_count": 59,
     "metadata": {},
     "output_type": "execute_result"
    }
   ],
   "source": [
    "summary_df.style.set_properties(**{\n",
    "    'background-color': 'black',\n",
    "    'color': 'lawngreen',\n",
    "    'font-family': 'consolas',\n",
    "}).format(\"{:.2f}\")\n"
   ]
  },
  {
   "cell_type": "markdown",
   "metadata": {},
   "source": [
    "---\n",
    "\n",
    "# Reshaping/preprocessing data? [Ashwin, Luis Francisco, Ian] \n",
    "\n",
    "- Dealing with nulls/NAs \n",
    "- Type conversion \n",
    "- Renaming columns\n",
    "- Pandas operations: melt, explode, transpose, indexing/stack/unstack \n",
    "- Dealing with complex Python objects - explode \n",
    "- Tidy data - melt \n"
   ]
  },
  {
   "cell_type": "markdown",
   "metadata": {},
   "source": [
    "## Dealing with nulls/NAs\n",
    "\n",
    "[Working with missing data](https://pandas.pydata.org/pandas-docs/stable/user_guide/missing_data.html#missing-data)\n",
    "\n",
    "pandas primarily uses `NaN` to represent missing data which is of `floattype`. \n",
    "IEEE 754 floating point representation of Not a Number (NaN).\n",
    "\n",
    "Tip: Often you will see TypeError exceptions about not being able to \n",
    "perform an expected operation on a float (when you were expecting the type\n",
    "to be a string or other object type). This is very likely due NaNs in your data.\n",
    "\n",
    "Also NaT - is the equivalent of NaN for DateTime data.\n",
    " \n",
    "Sometimes python also raises `None` for missing data. `NoneType` object. "
   ]
  },
  {
   "cell_type": "code",
   "execution_count": 14,
   "metadata": {
    "ExecuteTime": {
     "end_time": "2021-11-29T16:57:10.316650Z",
     "start_time": "2021-11-29T16:57:10.308913Z"
    }
   },
   "outputs": [
    {
     "data": {
      "text/plain": [
       "1360"
      ]
     },
     "execution_count": 14,
     "metadata": {},
     "output_type": "execute_result"
    }
   ],
   "source": [
    "import pandas as pd\n",
    "net_df = pd.read_pickle(\"../data/az_net_comms_df.pkl\")\n",
    "len(net_df)"
   ]
  },
  {
   "cell_type": "code",
   "execution_count": 15,
   "metadata": {
    "ExecuteTime": {
     "end_time": "2021-11-29T16:57:13.652979Z",
     "start_time": "2021-11-29T16:57:13.624651Z"
    }
   },
   "outputs": [
    {
     "name": "stdout",
     "output_type": "stream",
     "text": [
      "Null elements in DataFrame: 24 \n",
      "Rows with null elements: 8\n"
     ]
    }
   ],
   "source": [
    "print(f\"Null elements in DataFrame: {net_df.isnull().values.sum()} \\n\\\n",
    "Rows with null elements: {net_df.shape[0] - net_df.dropna().shape[0]}\")"
   ]
  },
  {
   "cell_type": "markdown",
   "metadata": {},
   "source": [
    "### Which columns have NAs?\n",
    "\n",
    "<p style=\"font-family:consolas; font-size:15pt; color:green\">\n",
    "df.isna()<br>\n",
    "series.isna()\n",
    "</p>"
   ]
  },
  {
   "cell_type": "code",
   "execution_count": 16,
   "metadata": {
    "ExecuteTime": {
     "end_time": "2021-11-29T16:57:14.126373Z",
     "start_time": "2021-11-29T16:57:14.098944Z"
    }
   },
   "outputs": [
    {
     "data": {
      "text/plain": [
       "TimeGenerated          False\n",
       "FlowStartTime          False\n",
       "FlowEndTime            False\n",
       "FlowIntervalEndTime    False\n",
       "FlowType               False\n",
       "ResourceGroup           True\n",
       "VMName                  True\n",
       "VMIPAddress            False\n",
       "PublicIPs               True\n",
       "SrcIP                  False\n",
       "DestIP                 False\n",
       "L4Protocol             False\n",
       "L7Protocol             False\n",
       "DestPort               False\n",
       "FlowDirection          False\n",
       "AllowedOutFlows        False\n",
       "AllowedInFlows         False\n",
       "DeniedInFlows          False\n",
       "DeniedOutFlows         False\n",
       "RemoteRegion           False\n",
       "VMRegion               False\n",
       "AllExtIPs              False\n",
       "TotalAllowedFlows      False\n",
       "dtype: bool"
      ]
     },
     "execution_count": 16,
     "metadata": {},
     "output_type": "execute_result"
    }
   ],
   "source": [
    "net_df.isna().any()"
   ]
  },
  {
   "cell_type": "code",
   "execution_count": 17,
   "metadata": {
    "ExecuteTime": {
     "end_time": "2021-11-29T16:57:14.719395Z",
     "start_time": "2021-11-29T16:57:14.710600Z"
    }
   },
   "outputs": [
    {
     "data": {
      "text/plain": [
       "asihuntomsworkspacerg    1352\n",
       "Name: ResourceGroup, dtype: int64"
      ]
     },
     "execution_count": 17,
     "metadata": {},
     "output_type": "execute_result"
    }
   ],
   "source": [
    "net_df.ResourceGroup.value_counts()"
   ]
  },
  {
   "cell_type": "markdown",
   "metadata": {},
   "source": [
    "### Filtering to see which columns have NaNs\n",
    "\n",
    "You can use `.isna()` on the whole DataFrame or a single column."
   ]
  },
  {
   "cell_type": "code",
   "execution_count": 18,
   "metadata": {
    "ExecuteTime": {
     "end_time": "2021-11-29T16:57:15.475287Z",
     "start_time": "2021-11-29T16:57:15.431680Z"
    }
   },
   "outputs": [
    {
     "data": {
      "text/html": [
       "<div>\n",
       "<style scoped>\n",
       "    .dataframe tbody tr th:only-of-type {\n",
       "        vertical-align: middle;\n",
       "    }\n",
       "\n",
       "    .dataframe tbody tr th {\n",
       "        vertical-align: top;\n",
       "    }\n",
       "\n",
       "    .dataframe thead th {\n",
       "        text-align: right;\n",
       "    }\n",
       "</style>\n",
       "<table border=\"1\" class=\"dataframe\">\n",
       "  <thead>\n",
       "    <tr style=\"text-align: right;\">\n",
       "      <th></th>\n",
       "      <th>TimeGenerated</th>\n",
       "      <th>FlowStartTime</th>\n",
       "      <th>FlowEndTime</th>\n",
       "      <th>FlowIntervalEndTime</th>\n",
       "      <th>FlowType</th>\n",
       "      <th>ResourceGroup</th>\n",
       "      <th>VMName</th>\n",
       "      <th>VMIPAddress</th>\n",
       "      <th>PublicIPs</th>\n",
       "      <th>SrcIP</th>\n",
       "      <th>...</th>\n",
       "      <th>DestPort</th>\n",
       "      <th>FlowDirection</th>\n",
       "      <th>AllowedOutFlows</th>\n",
       "      <th>AllowedInFlows</th>\n",
       "      <th>DeniedInFlows</th>\n",
       "      <th>DeniedOutFlows</th>\n",
       "      <th>RemoteRegion</th>\n",
       "      <th>VMRegion</th>\n",
       "      <th>AllExtIPs</th>\n",
       "      <th>TotalAllowedFlows</th>\n",
       "    </tr>\n",
       "  </thead>\n",
       "  <tbody>\n",
       "    <tr>\n",
       "      <th>326</th>\n",
       "      <td>2019-02-13 01:23:47.634</td>\n",
       "      <td>2019-02-13 00:55:10</td>\n",
       "      <td>2019-02-13 00:57:33</td>\n",
       "      <td>2019-02-13 01:00:00</td>\n",
       "      <td>IntraVNet</td>\n",
       "      <td>None</td>\n",
       "      <td>None</td>\n",
       "      <td></td>\n",
       "      <td>None</td>\n",
       "      <td>10.0.3.4</td>\n",
       "      <td>...</td>\n",
       "      <td>445.0</td>\n",
       "      <td>O</td>\n",
       "      <td>3.0</td>\n",
       "      <td>0.0</td>\n",
       "      <td>0.0</td>\n",
       "      <td>0.0</td>\n",
       "      <td></td>\n",
       "      <td>eastus</td>\n",
       "      <td>10.0.3.5</td>\n",
       "      <td>3.0</td>\n",
       "    </tr>\n",
       "    <tr>\n",
       "      <th>327</th>\n",
       "      <td>2019-02-13 01:23:47.634</td>\n",
       "      <td>2019-02-13 00:55:10</td>\n",
       "      <td>2019-02-13 00:57:33</td>\n",
       "      <td>2019-02-13 01:00:00</td>\n",
       "      <td>IntraVNet</td>\n",
       "      <td>None</td>\n",
       "      <td>None</td>\n",
       "      <td></td>\n",
       "      <td>None</td>\n",
       "      <td>10.0.3.4</td>\n",
       "      <td>...</td>\n",
       "      <td>445.0</td>\n",
       "      <td>I</td>\n",
       "      <td>0.0</td>\n",
       "      <td>3.0</td>\n",
       "      <td>0.0</td>\n",
       "      <td>0.0</td>\n",
       "      <td></td>\n",
       "      <td>eastus</td>\n",
       "      <td>10.0.3.4</td>\n",
       "      <td>3.0</td>\n",
       "    </tr>\n",
       "    <tr>\n",
       "      <th>336</th>\n",
       "      <td>2019-02-12 22:23:05.399</td>\n",
       "      <td>2019-02-12 21:55:43</td>\n",
       "      <td>2019-02-12 21:55:43</td>\n",
       "      <td>2019-02-12 22:00:00</td>\n",
       "      <td>IntraVNet</td>\n",
       "      <td>None</td>\n",
       "      <td>None</td>\n",
       "      <td></td>\n",
       "      <td>None</td>\n",
       "      <td>10.0.3.5</td>\n",
       "      <td>...</td>\n",
       "      <td>22.0</td>\n",
       "      <td>O</td>\n",
       "      <td>1.0</td>\n",
       "      <td>0.0</td>\n",
       "      <td>0.0</td>\n",
       "      <td>0.0</td>\n",
       "      <td></td>\n",
       "      <td>eastus</td>\n",
       "      <td>10.0.3.4</td>\n",
       "      <td>1.0</td>\n",
       "    </tr>\n",
       "    <tr>\n",
       "      <th>345</th>\n",
       "      <td>2019-02-12 22:23:05.384</td>\n",
       "      <td>2019-02-12 21:54:04</td>\n",
       "      <td>2019-02-12 21:55:36</td>\n",
       "      <td>2019-02-12 22:00:00</td>\n",
       "      <td>IntraVNet</td>\n",
       "      <td>None</td>\n",
       "      <td>None</td>\n",
       "      <td></td>\n",
       "      <td>None</td>\n",
       "      <td>10.0.3.5</td>\n",
       "      <td>...</td>\n",
       "      <td>22.0</td>\n",
       "      <td>O</td>\n",
       "      <td>6.0</td>\n",
       "      <td>0.0</td>\n",
       "      <td>0.0</td>\n",
       "      <td>0.0</td>\n",
       "      <td></td>\n",
       "      <td>eastus</td>\n",
       "      <td>104.211.30.1</td>\n",
       "      <td>6.0</td>\n",
       "    </tr>\n",
       "    <tr>\n",
       "      <th>357</th>\n",
       "      <td>2019-02-12 23:23:59.515</td>\n",
       "      <td>2019-02-12 22:22:35</td>\n",
       "      <td>2019-02-12 22:55:37</td>\n",
       "      <td>2019-02-12 23:00:00</td>\n",
       "      <td>IntraVNet</td>\n",
       "      <td>None</td>\n",
       "      <td>None</td>\n",
       "      <td></td>\n",
       "      <td>None</td>\n",
       "      <td>10.0.3.5</td>\n",
       "      <td>...</td>\n",
       "      <td>22.0</td>\n",
       "      <td>O</td>\n",
       "      <td>12.0</td>\n",
       "      <td>0.0</td>\n",
       "      <td>0.0</td>\n",
       "      <td>0.0</td>\n",
       "      <td></td>\n",
       "      <td>eastus</td>\n",
       "      <td>104.211.30.1</td>\n",
       "      <td>12.0</td>\n",
       "    </tr>\n",
       "    <tr>\n",
       "      <th>413</th>\n",
       "      <td>2019-02-12 18:23:51.853</td>\n",
       "      <td>2019-02-12 17:26:19</td>\n",
       "      <td>2019-02-12 17:44:09</td>\n",
       "      <td>2019-02-12 18:00:00</td>\n",
       "      <td>IntraVNet</td>\n",
       "      <td>None</td>\n",
       "      <td>None</td>\n",
       "      <td></td>\n",
       "      <td>None</td>\n",
       "      <td>10.0.3.4</td>\n",
       "      <td>...</td>\n",
       "      <td>445.0</td>\n",
       "      <td>O</td>\n",
       "      <td>6.0</td>\n",
       "      <td>0.0</td>\n",
       "      <td>0.0</td>\n",
       "      <td>0.0</td>\n",
       "      <td></td>\n",
       "      <td>eastus</td>\n",
       "      <td>10.0.3.5</td>\n",
       "      <td>6.0</td>\n",
       "    </tr>\n",
       "    <tr>\n",
       "      <th>414</th>\n",
       "      <td>2019-02-12 18:23:51.853</td>\n",
       "      <td>2019-02-12 17:26:19</td>\n",
       "      <td>2019-02-12 17:44:09</td>\n",
       "      <td>2019-02-12 18:00:00</td>\n",
       "      <td>IntraVNet</td>\n",
       "      <td>None</td>\n",
       "      <td>None</td>\n",
       "      <td></td>\n",
       "      <td>None</td>\n",
       "      <td>10.0.3.4</td>\n",
       "      <td>...</td>\n",
       "      <td>445.0</td>\n",
       "      <td>I</td>\n",
       "      <td>0.0</td>\n",
       "      <td>6.0</td>\n",
       "      <td>0.0</td>\n",
       "      <td>0.0</td>\n",
       "      <td></td>\n",
       "      <td>eastus</td>\n",
       "      <td>10.0.3.4</td>\n",
       "      <td>6.0</td>\n",
       "    </tr>\n",
       "    <tr>\n",
       "      <th>466</th>\n",
       "      <td>2019-02-12 22:23:17.236</td>\n",
       "      <td>2019-02-12 21:55:43</td>\n",
       "      <td>2019-02-12 21:55:43</td>\n",
       "      <td>2019-02-12 22:00:00</td>\n",
       "      <td>IntraVNet</td>\n",
       "      <td>None</td>\n",
       "      <td>None</td>\n",
       "      <td></td>\n",
       "      <td>None</td>\n",
       "      <td>10.0.3.5</td>\n",
       "      <td>...</td>\n",
       "      <td>22.0</td>\n",
       "      <td>I</td>\n",
       "      <td>0.0</td>\n",
       "      <td>1.0</td>\n",
       "      <td>0.0</td>\n",
       "      <td>0.0</td>\n",
       "      <td></td>\n",
       "      <td>eastus</td>\n",
       "      <td>10.0.3.5</td>\n",
       "      <td>1.0</td>\n",
       "    </tr>\n",
       "  </tbody>\n",
       "</table>\n",
       "<p>8 rows × 23 columns</p>\n",
       "</div>"
      ],
      "text/plain": [
       "              TimeGenerated       FlowStartTime         FlowEndTime  \\\n",
       "326 2019-02-13 01:23:47.634 2019-02-13 00:55:10 2019-02-13 00:57:33   \n",
       "327 2019-02-13 01:23:47.634 2019-02-13 00:55:10 2019-02-13 00:57:33   \n",
       "336 2019-02-12 22:23:05.399 2019-02-12 21:55:43 2019-02-12 21:55:43   \n",
       "345 2019-02-12 22:23:05.384 2019-02-12 21:54:04 2019-02-12 21:55:36   \n",
       "357 2019-02-12 23:23:59.515 2019-02-12 22:22:35 2019-02-12 22:55:37   \n",
       "413 2019-02-12 18:23:51.853 2019-02-12 17:26:19 2019-02-12 17:44:09   \n",
       "414 2019-02-12 18:23:51.853 2019-02-12 17:26:19 2019-02-12 17:44:09   \n",
       "466 2019-02-12 22:23:17.236 2019-02-12 21:55:43 2019-02-12 21:55:43   \n",
       "\n",
       "    FlowIntervalEndTime   FlowType ResourceGroup VMName VMIPAddress PublicIPs  \\\n",
       "326 2019-02-13 01:00:00  IntraVNet          None   None                  None   \n",
       "327 2019-02-13 01:00:00  IntraVNet          None   None                  None   \n",
       "336 2019-02-12 22:00:00  IntraVNet          None   None                  None   \n",
       "345 2019-02-12 22:00:00  IntraVNet          None   None                  None   \n",
       "357 2019-02-12 23:00:00  IntraVNet          None   None                  None   \n",
       "413 2019-02-12 18:00:00  IntraVNet          None   None                  None   \n",
       "414 2019-02-12 18:00:00  IntraVNet          None   None                  None   \n",
       "466 2019-02-12 22:00:00  IntraVNet          None   None                  None   \n",
       "\n",
       "        SrcIP  ... DestPort FlowDirection AllowedOutFlows  AllowedInFlows  \\\n",
       "326  10.0.3.4  ...    445.0             O             3.0             0.0   \n",
       "327  10.0.3.4  ...    445.0             I             0.0             3.0   \n",
       "336  10.0.3.5  ...     22.0             O             1.0             0.0   \n",
       "345  10.0.3.5  ...     22.0             O             6.0             0.0   \n",
       "357  10.0.3.5  ...     22.0             O            12.0             0.0   \n",
       "413  10.0.3.4  ...    445.0             O             6.0             0.0   \n",
       "414  10.0.3.4  ...    445.0             I             0.0             6.0   \n",
       "466  10.0.3.5  ...     22.0             I             0.0             1.0   \n",
       "\n",
       "    DeniedInFlows  DeniedOutFlows  RemoteRegion  VMRegion     AllExtIPs  \\\n",
       "326           0.0             0.0                  eastus      10.0.3.5   \n",
       "327           0.0             0.0                  eastus      10.0.3.4   \n",
       "336           0.0             0.0                  eastus      10.0.3.4   \n",
       "345           0.0             0.0                  eastus  104.211.30.1   \n",
       "357           0.0             0.0                  eastus  104.211.30.1   \n",
       "413           0.0             0.0                  eastus      10.0.3.5   \n",
       "414           0.0             0.0                  eastus      10.0.3.4   \n",
       "466           0.0             0.0                  eastus      10.0.3.5   \n",
       "\n",
       "    TotalAllowedFlows  \n",
       "326               3.0  \n",
       "327               3.0  \n",
       "336               1.0  \n",
       "345               6.0  \n",
       "357              12.0  \n",
       "413               6.0  \n",
       "414               6.0  \n",
       "466               1.0  \n",
       "\n",
       "[8 rows x 23 columns]"
      ]
     },
     "execution_count": 18,
     "metadata": {},
     "output_type": "execute_result"
    }
   ],
   "source": [
    "net_df[net_df[\"PublicIPs\"].isna()]"
   ]
  },
  {
   "cell_type": "markdown",
   "metadata": {},
   "source": [
    "### Removing NaNs with `.dropna`\n",
    "\n",
    "<p style=\"font-family:consolas; font-size:15pt; color:red\">\n",
    "df.dropna()        # removes all rows with ANY NaNs<br>\n",
    "df.dropna(axis=1)     # removes all columns with ANY NaNs\n",
    "</p>\n",
    "<p style=\"font-family:consolas; font-size:15pt; color:green\">\n",
    "df.dropna(how=\"all\")  # removes all rows that are ALL NaNs<br>\n",
    "df.dropna(axis=1, how=\"all\") # removes all cols that are ALL NaNs<br>\n",
    "</p>\n",
    "\n",
    "`dropna()` also supports `inplace=True`. Don't do it!!!\n"
   ]
  },
  {
   "cell_type": "code",
   "execution_count": 19,
   "metadata": {
    "ExecuteTime": {
     "end_time": "2021-11-29T16:57:16.014992Z",
     "start_time": "2021-11-29T16:57:15.988549Z"
    }
   },
   "outputs": [
    {
     "data": {
      "text/plain": [
       "1352"
      ]
     },
     "execution_count": 19,
     "metadata": {},
     "output_type": "execute_result"
    }
   ],
   "source": [
    "len(net_df.dropna())"
   ]
  },
  {
   "cell_type": "markdown",
   "metadata": {},
   "source": [
    "### Replacing NaNs with values\n",
    "\n",
    "<p style=\"font-family:consolas; font-size:15pt; color:green\">\n",
    "df.fillna(<i>replacement</i>)           # replace NaNs with 'replacement'<br><br>\n",
    "df[column] = df[column].fillna(<i>replacement</i>)  # replace NaNs in a single column\n",
    "</p>\n"
   ]
  },
  {
   "cell_type": "code",
   "execution_count": 20,
   "metadata": {
    "ExecuteTime": {
     "end_time": "2021-11-29T16:57:17.067541Z",
     "start_time": "2021-11-29T16:57:17.022938Z"
    }
   },
   "outputs": [],
   "source": [
    "net_df2 = net_df.fillna(value=\"N/A\")"
   ]
  },
  {
   "cell_type": "code",
   "execution_count": 21,
   "metadata": {
    "ExecuteTime": {
     "end_time": "2021-11-29T16:57:17.505737Z",
     "start_time": "2021-11-29T16:57:17.489845Z"
    }
   },
   "outputs": [
    {
     "data": {
      "text/plain": [
       "asihuntomsworkspacerg    1352\n",
       "N/A                         8\n",
       "Name: ResourceGroup, dtype: int64"
      ]
     },
     "execution_count": 21,
     "metadata": {},
     "output_type": "execute_result"
    }
   ],
   "source": [
    "net_df2.ResourceGroup.value_counts()"
   ]
  },
  {
   "cell_type": "markdown",
   "metadata": {},
   "source": [
    "## Type Conversion"
   ]
  },
  {
   "cell_type": "code",
   "execution_count": 22,
   "metadata": {
    "ExecuteTime": {
     "end_time": "2021-11-29T16:57:21.279553Z",
     "start_time": "2021-11-29T16:57:21.272725Z"
    }
   },
   "outputs": [
    {
     "data": {
      "text/plain": [
       "TimeGenerated          datetime64[ns]\n",
       "FlowStartTime          datetime64[ns]\n",
       "FlowEndTime            datetime64[ns]\n",
       "FlowIntervalEndTime    datetime64[ns]\n",
       "FlowType                       object\n",
       "ResourceGroup                  object\n",
       "VMName                         object\n",
       "VMIPAddress                    object\n",
       "PublicIPs                      object\n",
       "SrcIP                          object\n",
       "DestIP                         object\n",
       "L4Protocol                     object\n",
       "L7Protocol                     object\n",
       "DestPort                      float64\n",
       "FlowDirection                  object\n",
       "AllowedOutFlows               float64\n",
       "AllowedInFlows                float64\n",
       "DeniedInFlows                 float64\n",
       "DeniedOutFlows                float64\n",
       "RemoteRegion                   object\n",
       "VMRegion                       object\n",
       "AllExtIPs                      object\n",
       "TotalAllowedFlows             float64\n",
       "dtype: object"
      ]
     },
     "execution_count": 22,
     "metadata": {},
     "output_type": "execute_result"
    }
   ],
   "source": [
    "net_df.dtypes"
   ]
  },
  {
   "cell_type": "markdown",
   "metadata": {},
   "source": [
    "<p style=\"font-family:consolas; font-size:15pt; color:green\">\n",
    "series.column.astype(<i>target</i>)  # convert type<br>\n",
    "</p>\n",
    "\n",
    "Target can be a numpy type, a pandas dtype or a friendly string:\n",
    "- \"object\"\n",
    "- \"datetime\"\n",
    "- \"number\"\n",
    "\n",
    "<p style=\"font-family:consolas; font-size:15pt; color:green\">\n",
    "df.column.astype(<i>target|{col1: type1, col2, type2...}</i>)  # convert multiple cols<br>\n",
    "</p>\n"
   ]
  },
  {
   "cell_type": "code",
   "execution_count": 23,
   "metadata": {
    "ExecuteTime": {
     "end_time": "2021-11-29T16:57:22.249568Z",
     "start_time": "2021-11-29T16:57:22.234649Z"
    }
   },
   "outputs": [],
   "source": [
    "net_df.TotalAllowedFlows = net_df.TotalAllowedFlows.astype('str')"
   ]
  },
  {
   "cell_type": "code",
   "execution_count": 24,
   "metadata": {
    "ExecuteTime": {
     "end_time": "2021-11-29T16:57:22.909576Z",
     "start_time": "2021-11-29T16:57:22.899133Z"
    }
   },
   "outputs": [
    {
     "data": {
      "text/plain": [
       "dtype('O')"
      ]
     },
     "execution_count": 24,
     "metadata": {},
     "output_type": "execute_result"
    }
   ],
   "source": [
    "net_df.TotalAllowedFlows.dtypes"
   ]
  },
  {
   "cell_type": "markdown",
   "metadata": {},
   "source": [
    "### Convert using explicit pandas function\n",
    "\n",
    "Gives you more control over specific conversions (esp for DateTime)"
   ]
  },
  {
   "cell_type": "code",
   "execution_count": 25,
   "metadata": {
    "ExecuteTime": {
     "end_time": "2021-11-29T16:57:46.097851Z",
     "start_time": "2021-11-29T16:57:46.091318Z"
    }
   },
   "outputs": [],
   "source": [
    "net_df.TotalAllowedFlows = pd.to_numeric(net_df.TotalAllowedFlows)\n",
    "#pd.to_datetime\n",
    "#pd.to_timedelta"
   ]
  },
  {
   "cell_type": "code",
   "execution_count": 26,
   "metadata": {
    "ExecuteTime": {
     "end_time": "2021-11-29T16:57:46.890283Z",
     "start_time": "2021-11-29T16:57:46.877279Z"
    }
   },
   "outputs": [
    {
     "data": {
      "text/plain": [
       "dtype('float64')"
      ]
     },
     "execution_count": 26,
     "metadata": {},
     "output_type": "execute_result"
    }
   ],
   "source": [
    "net_df.TotalAllowedFlows.dtypes"
   ]
  },
  {
   "cell_type": "markdown",
   "metadata": {},
   "source": [
    "## Renaming columns"
   ]
  },
  {
   "cell_type": "code",
   "execution_count": 27,
   "metadata": {
    "ExecuteTime": {
     "end_time": "2021-11-29T16:57:49.831462Z",
     "start_time": "2021-11-29T16:57:49.820173Z"
    }
   },
   "outputs": [
    {
     "data": {
      "text/plain": [
       "Index(['TimeGenerated', 'FlowStartTime', 'FlowEndTime', 'FlowIntervalEndTime',\n",
       "       'FlowType', 'ResourceGroup', 'VMName', 'VMIPAddress', 'PublicIPs',\n",
       "       'SrcIP', 'DestIP', 'L4Protocol', 'L7Protocol', 'DestPort',\n",
       "       'FlowDirection', 'AllowedOutFlows', 'AllowedInFlows', 'DeniedInFlows',\n",
       "       'DeniedOutFlows', 'RemoteRegion', 'VMRegion', 'AllExtIPs',\n",
       "       'TotalAllowedFlows'],\n",
       "      dtype='object')"
      ]
     },
     "execution_count": 27,
     "metadata": {},
     "output_type": "execute_result"
    }
   ],
   "source": [
    "net_df.columns"
   ]
  },
  {
   "cell_type": "markdown",
   "metadata": {},
   "source": [
    "<p style=\"font-family:consolas; font-size:15pt; color:green\">\n",
    "df.rename(columns={col1: col1_new, col2: ....})  # rename<br>\n",
    "</p>\n"
   ]
  },
  {
   "cell_type": "code",
   "execution_count": 28,
   "metadata": {
    "ExecuteTime": {
     "end_time": "2021-11-29T16:57:50.653581Z",
     "start_time": "2021-11-29T16:57:50.640127Z"
    }
   },
   "outputs": [
    {
     "data": {
      "text/plain": [
       "Index(['TimeGenerated', 'FlowStartDateTime', 'FlowEndDateTime',\n",
       "       'FlowIntervalEndTime', 'FlowType', 'ResourceGroup', 'VMName',\n",
       "       'VMIPAddress', 'PublicIPs', 'SrcIP', 'DestIP', 'L4Protocol',\n",
       "       'L7Protocol', 'DestPort', 'FlowDirection', 'AllowedOutFlows',\n",
       "       'AllowedInFlows', 'DeniedInFlows', 'DeniedOutFlows', 'RemoteRegion',\n",
       "       'VMRegion', 'AllExtIPs', 'TotalAllowedFlows'],\n",
       "      dtype='object')"
      ]
     },
     "execution_count": 28,
     "metadata": {},
     "output_type": "execute_result"
    }
   ],
   "source": [
    "net_df.rename(columns={\"FlowStartTime\": \"FlowStartDateTime\", \"FlowEndTime\": \"FlowEndDateTime\"}).columns"
   ]
  },
  {
   "cell_type": "markdown",
   "metadata": {},
   "source": [
    "\n",
    "<p style=\"font-family:consolas; font-size:15pt; color:green\">\n",
    "df.rename(<i>func</i>, axis='columns')\n",
    "</p>"
   ]
  },
  {
   "cell_type": "code",
   "execution_count": 29,
   "metadata": {
    "ExecuteTime": {
     "end_time": "2021-11-29T16:57:52.191594Z",
     "start_time": "2021-11-29T16:57:52.172578Z"
    }
   },
   "outputs": [
    {
     "data": {
      "text/plain": [
       "Index(['timegenerated', 'flowstarttime', 'flowendtime', 'flowintervalendtime',\n",
       "       'flowtype', 'resourcegroup', 'vmname', 'vmipaddress', 'publicips',\n",
       "       'srcip', 'destip', 'l4protocol', 'l7protocol', 'destport',\n",
       "       'flowdirection', 'allowedoutflows', 'allowedinflows', 'deniedinflows',\n",
       "       'deniedoutflows', 'remoteregion', 'vmregion', 'allextips',\n",
       "       'totalallowedflows'],\n",
       "      dtype='object')"
      ]
     },
     "execution_count": 29,
     "metadata": {},
     "output_type": "execute_result"
    }
   ],
   "source": [
    "net_df.rename(str.lower, axis='columns').columns"
   ]
  },
  {
   "cell_type": "code",
   "execution_count": 30,
   "metadata": {
    "ExecuteTime": {
     "end_time": "2021-11-29T16:57:56.345464Z",
     "start_time": "2021-11-29T16:57:56.330796Z"
    }
   },
   "outputs": [
    {
     "data": {
      "text/plain": [
       "Index(['TimeGenerated', 'FlowStartTime', 'FlowEndTime', 'FlowIntervalEndTime',\n",
       "       'FlowType', 'ResourceGroup', 'VMName', 'VMIPAddress', 'PublicIPs',\n",
       "       'SrcIP', 'DestIP', 'L4Protocol', 'L7Protocol', 'DestPort',\n",
       "       'FlowDirection', 'AllowedOutFlows', 'AllowedInFlows', 'DeniedInFlows',\n",
       "       'DeniedOutFlows', 'RemoteRegion', 'VMRegion', 'AllExtIPs',\n",
       "       'TotalAllowedFlows'],\n",
       "      dtype='object')"
      ]
     },
     "execution_count": 30,
     "metadata": {},
     "output_type": "execute_result"
    }
   ],
   "source": [
    "net_df.columns"
   ]
  },
  {
   "cell_type": "markdown",
   "metadata": {},
   "source": [
    "### Statically rename using assignment"
   ]
  },
  {
   "cell_type": "code",
   "execution_count": 31,
   "metadata": {
    "ExecuteTime": {
     "end_time": "2021-11-29T16:59:00.745520Z",
     "start_time": "2021-11-29T16:59:00.731493Z"
    }
   },
   "outputs": [],
   "source": [
    "net_df.columns = [\n",
    "    \"timegenerated\",\n",
    "    \"flowstarttime\",\n",
    "    \"flowendtime\",\n",
    "    \"flowintervalendtime\",\n",
    "    \"flowtype\",\n",
    "    \"resourcegroup\",\n",
    "    \"vmname\",\n",
    "    \"vmipaddress\",\n",
    "    \"publicips\",\n",
    "    \"srcip\",\n",
    "    \"destip\",\n",
    "    \"l4protocol\",\n",
    "    \"l7protocol\",\n",
    "    \"destport\",\n",
    "    \"flowdirection\",\n",
    "    \"allowedoutflows\",\n",
    "    \"allowedinflows\",\n",
    "    \"deniedinflows\",\n",
    "    \"deniedoutflows\",\n",
    "    \"remoteregion\",\n",
    "    \"vmregion\",\n",
    "    \"allextips\",\n",
    "    \"totalallowedflows\",\n",
    "]"
   ]
  },
  {
   "cell_type": "markdown",
   "metadata": {},
   "source": [
    "## Pandas operations: melt, explode, transpose, indexing/stack/unstack"
   ]
  },
  {
   "cell_type": "markdown",
   "metadata": {},
   "source": [
    "### Dealing with complex Python objects - explode"
   ]
  },
  {
   "cell_type": "code",
   "execution_count": 32,
   "metadata": {
    "ExecuteTime": {
     "end_time": "2021-11-29T16:59:04.263586Z",
     "start_time": "2021-11-29T16:59:04.235426Z"
    }
   },
   "outputs": [
    {
     "data": {
      "text/plain": [
       "0                               [13.67.143.117]\n",
       "1                                [40.77.232.95]\n",
       "2                  [13.65.107.32, 40.124.45.19]\n",
       "3                  [13.65.107.32, 40.124.45.19]\n",
       "4                                [20.38.98.100]\n",
       "5                               [13.67.143.117]\n",
       "6                [13.71.172.128, 13.71.172.130]\n",
       "7                [13.71.172.128, 13.71.172.130]\n",
       "8    [65.55.44.109, 40.77.228.69, 65.55.44.108]\n",
       "9    [65.55.44.109, 40.77.228.69, 65.55.44.108]\n",
       "Name: PublicIPs, dtype: object"
      ]
     },
     "execution_count": 32,
     "metadata": {},
     "output_type": "execute_result"
    }
   ],
   "source": [
    "net_df = pd.read_pickle(\"../data/az_net_comms_df.pkl\")\n",
    "net_df.PublicIPs.head(10)"
   ]
  },
  {
   "cell_type": "code",
   "execution_count": 33,
   "metadata": {
    "ExecuteTime": {
     "end_time": "2021-11-29T16:59:05.918978Z",
     "start_time": "2021-11-29T16:59:05.905221Z"
    }
   },
   "outputs": [
    {
     "data": {
      "text/plain": [
       "1352"
      ]
     },
     "execution_count": 33,
     "metadata": {},
     "output_type": "execute_result"
    }
   ],
   "source": [
    "net_df.PublicIPs.count()"
   ]
  },
  {
   "cell_type": "code",
   "execution_count": 34,
   "metadata": {
    "ExecuteTime": {
     "end_time": "2021-11-29T16:59:07.499080Z",
     "start_time": "2021-11-29T16:59:07.475692Z"
    }
   },
   "outputs": [],
   "source": [
    "net_df_ext = net_df.explode(\"PublicIPs\")"
   ]
  },
  {
   "cell_type": "code",
   "execution_count": 35,
   "metadata": {
    "ExecuteTime": {
     "end_time": "2021-11-29T16:59:08.179437Z",
     "start_time": "2021-11-29T16:59:08.166135Z"
    }
   },
   "outputs": [
    {
     "data": {
      "text/plain": [
       "0    13.67.143.117\n",
       "1     40.77.232.95\n",
       "2     13.65.107.32\n",
       "2     40.124.45.19\n",
       "3     13.65.107.32\n",
       "3     40.124.45.19\n",
       "4     20.38.98.100\n",
       "5    13.67.143.117\n",
       "6    13.71.172.128\n",
       "6    13.71.172.130\n",
       "Name: PublicIPs, dtype: object"
      ]
     },
     "execution_count": 35,
     "metadata": {},
     "output_type": "execute_result"
    }
   ],
   "source": [
    "net_df_ext.PublicIPs.head(10)"
   ]
  },
  {
   "cell_type": "code",
   "execution_count": 36,
   "metadata": {
    "ExecuteTime": {
     "end_time": "2021-11-29T16:59:09.054072Z",
     "start_time": "2021-11-29T16:59:09.041999Z"
    }
   },
   "outputs": [
    {
     "data": {
      "text/plain": [
       "123"
      ]
     },
     "execution_count": 36,
     "metadata": {},
     "output_type": "execute_result"
    }
   ],
   "source": [
    "len(net_df_ext.PublicIPs.unique())"
   ]
  },
  {
   "cell_type": "markdown",
   "metadata": {},
   "source": [
    "### Tidy data - melt\n",
    "Pandas.melt() unpivots a DataFrame from wide format to long format.  \n",
    "melt() function is useful to message a DataFrame into a format where one or more columns are identifier variables, while all other columns, considered measured variables, are unpivoted to the row axis, leaving just two non-identifier columns, variable and value. "
   ]
  },
  {
   "cell_type": "code",
   "execution_count": 37,
   "metadata": {
    "ExecuteTime": {
     "end_time": "2021-11-29T16:59:10.842088Z",
     "start_time": "2021-11-29T16:59:10.831120Z"
    }
   },
   "outputs": [],
   "source": [
    "net_df_min = net_df[[\"FlowType\", \"AllExtIPs\", \"TotalAllowedFlows\"]]"
   ]
  },
  {
   "cell_type": "code",
   "execution_count": 38,
   "metadata": {
    "ExecuteTime": {
     "end_time": "2021-11-29T16:59:11.476008Z",
     "start_time": "2021-11-29T16:59:11.456710Z"
    }
   },
   "outputs": [
    {
     "data": {
      "text/html": [
       "<div>\n",
       "<style scoped>\n",
       "    .dataframe tbody tr th:only-of-type {\n",
       "        vertical-align: middle;\n",
       "    }\n",
       "\n",
       "    .dataframe tbody tr th {\n",
       "        vertical-align: top;\n",
       "    }\n",
       "\n",
       "    .dataframe thead th {\n",
       "        text-align: right;\n",
       "    }\n",
       "</style>\n",
       "<table border=\"1\" class=\"dataframe\">\n",
       "  <thead>\n",
       "    <tr style=\"text-align: right;\">\n",
       "      <th></th>\n",
       "      <th>AllExtIPs</th>\n",
       "      <th>variable</th>\n",
       "      <th>value</th>\n",
       "    </tr>\n",
       "  </thead>\n",
       "  <tbody>\n",
       "    <tr>\n",
       "      <th>0</th>\n",
       "      <td>13.67.143.117</td>\n",
       "      <td>FlowType</td>\n",
       "      <td>AzurePublic</td>\n",
       "    </tr>\n",
       "    <tr>\n",
       "      <th>1</th>\n",
       "      <td>40.77.232.95</td>\n",
       "      <td>FlowType</td>\n",
       "      <td>AzurePublic</td>\n",
       "    </tr>\n",
       "    <tr>\n",
       "      <th>2</th>\n",
       "      <td>13.65.107.32</td>\n",
       "      <td>FlowType</td>\n",
       "      <td>AzurePublic</td>\n",
       "    </tr>\n",
       "    <tr>\n",
       "      <th>3</th>\n",
       "      <td>40.124.45.19</td>\n",
       "      <td>FlowType</td>\n",
       "      <td>AzurePublic</td>\n",
       "    </tr>\n",
       "    <tr>\n",
       "      <th>4</th>\n",
       "      <td>20.38.98.100</td>\n",
       "      <td>FlowType</td>\n",
       "      <td>AzurePublic</td>\n",
       "    </tr>\n",
       "    <tr>\n",
       "      <th>...</th>\n",
       "      <td>...</td>\n",
       "      <td>...</td>\n",
       "      <td>...</td>\n",
       "    </tr>\n",
       "    <tr>\n",
       "      <th>2715</th>\n",
       "      <td>13.71.172.130</td>\n",
       "      <td>TotalAllowedFlows</td>\n",
       "      <td>23.0</td>\n",
       "    </tr>\n",
       "    <tr>\n",
       "      <th>2716</th>\n",
       "      <td>40.77.232.95</td>\n",
       "      <td>TotalAllowedFlows</td>\n",
       "      <td>1.0</td>\n",
       "    </tr>\n",
       "    <tr>\n",
       "      <th>2717</th>\n",
       "      <td>52.168.138.145</td>\n",
       "      <td>TotalAllowedFlows</td>\n",
       "      <td>4.0</td>\n",
       "    </tr>\n",
       "    <tr>\n",
       "      <th>2718</th>\n",
       "      <td>23.215.98.90</td>\n",
       "      <td>TotalAllowedFlows</td>\n",
       "      <td>2.0</td>\n",
       "    </tr>\n",
       "    <tr>\n",
       "      <th>2719</th>\n",
       "      <td>72.21.81.240</td>\n",
       "      <td>TotalAllowedFlows</td>\n",
       "      <td>2.0</td>\n",
       "    </tr>\n",
       "  </tbody>\n",
       "</table>\n",
       "<p>2720 rows × 3 columns</p>\n",
       "</div>"
      ],
      "text/plain": [
       "           AllExtIPs           variable        value\n",
       "0      13.67.143.117           FlowType  AzurePublic\n",
       "1       40.77.232.95           FlowType  AzurePublic\n",
       "2       13.65.107.32           FlowType  AzurePublic\n",
       "3       40.124.45.19           FlowType  AzurePublic\n",
       "4       20.38.98.100           FlowType  AzurePublic\n",
       "...              ...                ...          ...\n",
       "2715   13.71.172.130  TotalAllowedFlows         23.0\n",
       "2716    40.77.232.95  TotalAllowedFlows          1.0\n",
       "2717  52.168.138.145  TotalAllowedFlows          4.0\n",
       "2718    23.215.98.90  TotalAllowedFlows          2.0\n",
       "2719    72.21.81.240  TotalAllowedFlows          2.0\n",
       "\n",
       "[2720 rows x 3 columns]"
      ]
     },
     "execution_count": 38,
     "metadata": {},
     "output_type": "execute_result"
    }
   ],
   "source": [
    "pd.melt(net_df_min, \n",
    "         id_vars=['AllExtIPs'])"
   ]
  },
  {
   "cell_type": "markdown",
   "metadata": {},
   "source": [
    "### Traspose"
   ]
  },
  {
   "cell_type": "code",
   "execution_count": 39,
   "metadata": {
    "ExecuteTime": {
     "end_time": "2021-11-29T16:59:13.573096Z",
     "start_time": "2021-11-29T16:59:13.555565Z"
    }
   },
   "outputs": [
    {
     "data": {
      "text/html": [
       "<div>\n",
       "<style scoped>\n",
       "    .dataframe tbody tr th:only-of-type {\n",
       "        vertical-align: middle;\n",
       "    }\n",
       "\n",
       "    .dataframe tbody tr th {\n",
       "        vertical-align: top;\n",
       "    }\n",
       "\n",
       "    .dataframe thead th {\n",
       "        text-align: right;\n",
       "    }\n",
       "</style>\n",
       "<table border=\"1\" class=\"dataframe\">\n",
       "  <thead>\n",
       "    <tr style=\"text-align: right;\">\n",
       "      <th></th>\n",
       "      <th>0</th>\n",
       "      <th>1</th>\n",
       "      <th>2</th>\n",
       "      <th>3</th>\n",
       "      <th>4</th>\n",
       "    </tr>\n",
       "  </thead>\n",
       "  <tbody>\n",
       "    <tr>\n",
       "      <th>FlowType</th>\n",
       "      <td>AzurePublic</td>\n",
       "      <td>AzurePublic</td>\n",
       "      <td>AzurePublic</td>\n",
       "      <td>AzurePublic</td>\n",
       "      <td>AzurePublic</td>\n",
       "    </tr>\n",
       "    <tr>\n",
       "      <th>AllExtIPs</th>\n",
       "      <td>13.67.143.117</td>\n",
       "      <td>40.77.232.95</td>\n",
       "      <td>13.65.107.32</td>\n",
       "      <td>40.124.45.19</td>\n",
       "      <td>20.38.98.100</td>\n",
       "    </tr>\n",
       "    <tr>\n",
       "      <th>TotalAllowedFlows</th>\n",
       "      <td>1.0</td>\n",
       "      <td>1.0</td>\n",
       "      <td>4.0</td>\n",
       "      <td>4.0</td>\n",
       "      <td>1.0</td>\n",
       "    </tr>\n",
       "  </tbody>\n",
       "</table>\n",
       "</div>"
      ],
      "text/plain": [
       "                               0             1             2             3  \\\n",
       "FlowType             AzurePublic   AzurePublic   AzurePublic   AzurePublic   \n",
       "AllExtIPs          13.67.143.117  40.77.232.95  13.65.107.32  40.124.45.19   \n",
       "TotalAllowedFlows            1.0           1.0           4.0           4.0   \n",
       "\n",
       "                              4  \n",
       "FlowType            AzurePublic  \n",
       "AllExtIPs          20.38.98.100  \n",
       "TotalAllowedFlows           1.0  "
      ]
     },
     "execution_count": 39,
     "metadata": {},
     "output_type": "execute_result"
    }
   ],
   "source": [
    "net_df_min.head().T"
   ]
  },
  {
   "cell_type": "markdown",
   "metadata": {},
   "source": [
    "### Indexing, Stack and Unstack"
   ]
  },
  {
   "cell_type": "code",
   "execution_count": 40,
   "metadata": {
    "ExecuteTime": {
     "end_time": "2021-11-29T16:59:15.460085Z",
     "start_time": "2021-11-29T16:59:15.446382Z"
    }
   },
   "outputs": [],
   "source": [
    "net_df = pd.read_pickle(\"../data/az_net_comms_df.pkl\")"
   ]
  },
  {
   "cell_type": "code",
   "execution_count": 41,
   "metadata": {
    "ExecuteTime": {
     "end_time": "2021-11-29T16:59:16.331231Z",
     "start_time": "2021-11-29T16:59:16.303347Z"
    }
   },
   "outputs": [],
   "source": [
    "net_df_agg = net_df.groupby(\"AllExtIPs\").agg({\"TotalAllowedFlows\":['mean', 'min', 'max'],\n",
    "                                              \"AllowedOutFlows\":['mean', 'min', 'max'],\n",
    "                                              \"AllowedInFlows\":['mean', 'min', 'max']})"
   ]
  },
  {
   "cell_type": "code",
   "execution_count": 42,
   "metadata": {
    "ExecuteTime": {
     "end_time": "2021-11-29T16:59:16.964883Z",
     "start_time": "2021-11-29T16:59:16.927450Z"
    }
   },
   "outputs": [
    {
     "data": {
      "text/html": [
       "<div>\n",
       "<style scoped>\n",
       "    .dataframe tbody tr th:only-of-type {\n",
       "        vertical-align: middle;\n",
       "    }\n",
       "\n",
       "    .dataframe tbody tr th {\n",
       "        vertical-align: top;\n",
       "    }\n",
       "\n",
       "    .dataframe thead tr th {\n",
       "        text-align: left;\n",
       "    }\n",
       "\n",
       "    .dataframe thead tr:last-of-type th {\n",
       "        text-align: right;\n",
       "    }\n",
       "</style>\n",
       "<table border=\"1\" class=\"dataframe\">\n",
       "  <thead>\n",
       "    <tr>\n",
       "      <th></th>\n",
       "      <th colspan=\"3\" halign=\"left\">TotalAllowedFlows</th>\n",
       "      <th colspan=\"3\" halign=\"left\">AllowedOutFlows</th>\n",
       "      <th colspan=\"3\" halign=\"left\">AllowedInFlows</th>\n",
       "    </tr>\n",
       "    <tr>\n",
       "      <th></th>\n",
       "      <th>mean</th>\n",
       "      <th>min</th>\n",
       "      <th>max</th>\n",
       "      <th>mean</th>\n",
       "      <th>min</th>\n",
       "      <th>max</th>\n",
       "      <th>mean</th>\n",
       "      <th>min</th>\n",
       "      <th>max</th>\n",
       "    </tr>\n",
       "    <tr>\n",
       "      <th>AllExtIPs</th>\n",
       "      <th></th>\n",
       "      <th></th>\n",
       "      <th></th>\n",
       "      <th></th>\n",
       "      <th></th>\n",
       "      <th></th>\n",
       "      <th></th>\n",
       "      <th></th>\n",
       "      <th></th>\n",
       "    </tr>\n",
       "  </thead>\n",
       "  <tbody>\n",
       "    <tr>\n",
       "      <th>10.0.3.4</th>\n",
       "      <td>3.333333</td>\n",
       "      <td>1.0</td>\n",
       "      <td>6.0</td>\n",
       "      <td>0.333333</td>\n",
       "      <td>0.0</td>\n",
       "      <td>1.0</td>\n",
       "      <td>3.000000</td>\n",
       "      <td>0.0</td>\n",
       "      <td>6.0</td>\n",
       "    </tr>\n",
       "    <tr>\n",
       "      <th>10.0.3.5</th>\n",
       "      <td>3.333333</td>\n",
       "      <td>1.0</td>\n",
       "      <td>6.0</td>\n",
       "      <td>3.000000</td>\n",
       "      <td>0.0</td>\n",
       "      <td>6.0</td>\n",
       "      <td>0.333333</td>\n",
       "      <td>0.0</td>\n",
       "      <td>1.0</td>\n",
       "    </tr>\n",
       "    <tr>\n",
       "      <th>104.211.30.1</th>\n",
       "      <td>9.000000</td>\n",
       "      <td>6.0</td>\n",
       "      <td>12.0</td>\n",
       "      <td>9.000000</td>\n",
       "      <td>6.0</td>\n",
       "      <td>12.0</td>\n",
       "      <td>0.000000</td>\n",
       "      <td>0.0</td>\n",
       "      <td>0.0</td>\n",
       "    </tr>\n",
       "    <tr>\n",
       "      <th>104.40.17.153</th>\n",
       "      <td>1.750000</td>\n",
       "      <td>1.0</td>\n",
       "      <td>2.0</td>\n",
       "      <td>1.750000</td>\n",
       "      <td>1.0</td>\n",
       "      <td>2.0</td>\n",
       "      <td>0.000000</td>\n",
       "      <td>0.0</td>\n",
       "      <td>0.0</td>\n",
       "    </tr>\n",
       "    <tr>\n",
       "      <th>104.43.212.12</th>\n",
       "      <td>2.166667</td>\n",
       "      <td>1.0</td>\n",
       "      <td>4.0</td>\n",
       "      <td>2.166667</td>\n",
       "      <td>1.0</td>\n",
       "      <td>4.0</td>\n",
       "      <td>0.000000</td>\n",
       "      <td>0.0</td>\n",
       "      <td>0.0</td>\n",
       "    </tr>\n",
       "  </tbody>\n",
       "</table>\n",
       "</div>"
      ],
      "text/plain": [
       "              TotalAllowedFlows            AllowedOutFlows             \\\n",
       "                           mean  min   max            mean  min   max   \n",
       "AllExtIPs                                                               \n",
       "10.0.3.4               3.333333  1.0   6.0        0.333333  0.0   1.0   \n",
       "10.0.3.5               3.333333  1.0   6.0        3.000000  0.0   6.0   \n",
       "104.211.30.1           9.000000  6.0  12.0        9.000000  6.0  12.0   \n",
       "104.40.17.153          1.750000  1.0   2.0        1.750000  1.0   2.0   \n",
       "104.43.212.12          2.166667  1.0   4.0        2.166667  1.0   4.0   \n",
       "\n",
       "              AllowedInFlows            \n",
       "                        mean  min  max  \n",
       "AllExtIPs                               \n",
       "10.0.3.4            3.000000  0.0  6.0  \n",
       "10.0.3.5            0.333333  0.0  1.0  \n",
       "104.211.30.1        0.000000  0.0  0.0  \n",
       "104.40.17.153       0.000000  0.0  0.0  \n",
       "104.43.212.12       0.000000  0.0  0.0  "
      ]
     },
     "execution_count": 42,
     "metadata": {},
     "output_type": "execute_result"
    }
   ],
   "source": [
    "net_df_agg.head()"
   ]
  },
  {
   "cell_type": "code",
   "execution_count": 43,
   "metadata": {
    "ExecuteTime": {
     "end_time": "2021-11-29T16:59:18.906756Z",
     "start_time": "2021-11-29T16:59:18.886349Z"
    }
   },
   "outputs": [
    {
     "data": {
      "text/plain": [
       "AllExtIPs\n",
       "10.0.3.4          3.333333\n",
       "10.0.3.5          3.333333\n",
       "104.211.30.1      9.000000\n",
       "104.40.17.153     1.750000\n",
       "104.43.212.12     2.166667\n",
       "                   ...    \n",
       "90.130.70.73      1.000000\n",
       "99.84.104.63      7.000000\n",
       "99.84.106.178    10.000000\n",
       "99.84.106.27     10.000000\n",
       "99.84.106.92     10.000000\n",
       "Name: mean, Length: 125, dtype: float64"
      ]
     },
     "execution_count": 43,
     "metadata": {},
     "output_type": "execute_result"
    }
   ],
   "source": [
    "net_df_agg[\"TotalAllowedFlows\"][\"mean\"]"
   ]
  },
  {
   "cell_type": "code",
   "execution_count": 44,
   "metadata": {
    "ExecuteTime": {
     "end_time": "2021-11-29T16:59:19.702322Z",
     "start_time": "2021-11-29T16:59:19.658756Z"
    }
   },
   "outputs": [
    {
     "data": {
      "text/html": [
       "<div>\n",
       "<style scoped>\n",
       "    .dataframe tbody tr th:only-of-type {\n",
       "        vertical-align: middle;\n",
       "    }\n",
       "\n",
       "    .dataframe tbody tr th {\n",
       "        vertical-align: top;\n",
       "    }\n",
       "\n",
       "    .dataframe thead tr th {\n",
       "        text-align: left;\n",
       "    }\n",
       "\n",
       "    .dataframe thead tr:last-of-type th {\n",
       "        text-align: right;\n",
       "    }\n",
       "</style>\n",
       "<table border=\"1\" class=\"dataframe\">\n",
       "  <thead>\n",
       "    <tr>\n",
       "      <th></th>\n",
       "      <th>TotalAllowedFlows</th>\n",
       "      <th>AllowedOutFlows</th>\n",
       "      <th>AllowedInFlows</th>\n",
       "    </tr>\n",
       "    <tr>\n",
       "      <th></th>\n",
       "      <th>mean</th>\n",
       "      <th>mean</th>\n",
       "      <th>mean</th>\n",
       "    </tr>\n",
       "    <tr>\n",
       "      <th>AllExtIPs</th>\n",
       "      <th></th>\n",
       "      <th></th>\n",
       "      <th></th>\n",
       "    </tr>\n",
       "  </thead>\n",
       "  <tbody>\n",
       "    <tr>\n",
       "      <th>10.0.3.4</th>\n",
       "      <td>3.333333</td>\n",
       "      <td>0.333333</td>\n",
       "      <td>3.000000</td>\n",
       "    </tr>\n",
       "    <tr>\n",
       "      <th>10.0.3.5</th>\n",
       "      <td>3.333333</td>\n",
       "      <td>3.000000</td>\n",
       "      <td>0.333333</td>\n",
       "    </tr>\n",
       "    <tr>\n",
       "      <th>104.211.30.1</th>\n",
       "      <td>9.000000</td>\n",
       "      <td>9.000000</td>\n",
       "      <td>0.000000</td>\n",
       "    </tr>\n",
       "    <tr>\n",
       "      <th>104.40.17.153</th>\n",
       "      <td>1.750000</td>\n",
       "      <td>1.750000</td>\n",
       "      <td>0.000000</td>\n",
       "    </tr>\n",
       "    <tr>\n",
       "      <th>104.43.212.12</th>\n",
       "      <td>2.166667</td>\n",
       "      <td>2.166667</td>\n",
       "      <td>0.000000</td>\n",
       "    </tr>\n",
       "    <tr>\n",
       "      <th>...</th>\n",
       "      <td>...</td>\n",
       "      <td>...</td>\n",
       "      <td>...</td>\n",
       "    </tr>\n",
       "    <tr>\n",
       "      <th>90.130.70.73</th>\n",
       "      <td>1.000000</td>\n",
       "      <td>1.000000</td>\n",
       "      <td>0.000000</td>\n",
       "    </tr>\n",
       "    <tr>\n",
       "      <th>99.84.104.63</th>\n",
       "      <td>7.000000</td>\n",
       "      <td>7.000000</td>\n",
       "      <td>0.000000</td>\n",
       "    </tr>\n",
       "    <tr>\n",
       "      <th>99.84.106.178</th>\n",
       "      <td>10.000000</td>\n",
       "      <td>10.000000</td>\n",
       "      <td>0.000000</td>\n",
       "    </tr>\n",
       "    <tr>\n",
       "      <th>99.84.106.27</th>\n",
       "      <td>10.000000</td>\n",
       "      <td>10.000000</td>\n",
       "      <td>0.000000</td>\n",
       "    </tr>\n",
       "    <tr>\n",
       "      <th>99.84.106.92</th>\n",
       "      <td>10.000000</td>\n",
       "      <td>10.000000</td>\n",
       "      <td>0.000000</td>\n",
       "    </tr>\n",
       "  </tbody>\n",
       "</table>\n",
       "<p>125 rows × 3 columns</p>\n",
       "</div>"
      ],
      "text/plain": [
       "              TotalAllowedFlows AllowedOutFlows AllowedInFlows\n",
       "                           mean            mean           mean\n",
       "AllExtIPs                                                     \n",
       "10.0.3.4               3.333333        0.333333       3.000000\n",
       "10.0.3.5               3.333333        3.000000       0.333333\n",
       "104.211.30.1           9.000000        9.000000       0.000000\n",
       "104.40.17.153          1.750000        1.750000       0.000000\n",
       "104.43.212.12          2.166667        2.166667       0.000000\n",
       "...                         ...             ...            ...\n",
       "90.130.70.73           1.000000        1.000000       0.000000\n",
       "99.84.104.63           7.000000        7.000000       0.000000\n",
       "99.84.106.178         10.000000       10.000000       0.000000\n",
       "99.84.106.27          10.000000       10.000000       0.000000\n",
       "99.84.106.92          10.000000       10.000000       0.000000\n",
       "\n",
       "[125 rows x 3 columns]"
      ]
     },
     "execution_count": 44,
     "metadata": {},
     "output_type": "execute_result"
    }
   ],
   "source": [
    "idx = pd.IndexSlice\n",
    "net_df_agg.loc[:,idx[:,'mean']]"
   ]
  },
  {
   "cell_type": "code",
   "execution_count": 45,
   "metadata": {
    "ExecuteTime": {
     "end_time": "2021-11-29T16:59:21.223362Z",
     "start_time": "2021-11-29T16:59:21.200773Z"
    }
   },
   "outputs": [],
   "source": [
    "net_df_agg_stacked = net_df_agg.stack()"
   ]
  },
  {
   "cell_type": "code",
   "execution_count": 46,
   "metadata": {
    "ExecuteTime": {
     "end_time": "2021-11-29T16:59:21.803040Z",
     "start_time": "2021-11-29T16:59:21.779226Z"
    }
   },
   "outputs": [
    {
     "data": {
      "text/html": [
       "<div>\n",
       "<style scoped>\n",
       "    .dataframe tbody tr th:only-of-type {\n",
       "        vertical-align: middle;\n",
       "    }\n",
       "\n",
       "    .dataframe tbody tr th {\n",
       "        vertical-align: top;\n",
       "    }\n",
       "\n",
       "    .dataframe thead th {\n",
       "        text-align: right;\n",
       "    }\n",
       "</style>\n",
       "<table border=\"1\" class=\"dataframe\">\n",
       "  <thead>\n",
       "    <tr style=\"text-align: right;\">\n",
       "      <th></th>\n",
       "      <th></th>\n",
       "      <th>TotalAllowedFlows</th>\n",
       "      <th>AllowedOutFlows</th>\n",
       "      <th>AllowedInFlows</th>\n",
       "    </tr>\n",
       "    <tr>\n",
       "      <th>AllExtIPs</th>\n",
       "      <th></th>\n",
       "      <th></th>\n",
       "      <th></th>\n",
       "      <th></th>\n",
       "    </tr>\n",
       "  </thead>\n",
       "  <tbody>\n",
       "    <tr>\n",
       "      <th rowspan=\"3\" valign=\"top\">10.0.3.4</th>\n",
       "      <th>mean</th>\n",
       "      <td>3.333333</td>\n",
       "      <td>0.333333</td>\n",
       "      <td>3.000000</td>\n",
       "    </tr>\n",
       "    <tr>\n",
       "      <th>min</th>\n",
       "      <td>1.000000</td>\n",
       "      <td>0.000000</td>\n",
       "      <td>0.000000</td>\n",
       "    </tr>\n",
       "    <tr>\n",
       "      <th>max</th>\n",
       "      <td>6.000000</td>\n",
       "      <td>1.000000</td>\n",
       "      <td>6.000000</td>\n",
       "    </tr>\n",
       "    <tr>\n",
       "      <th rowspan=\"2\" valign=\"top\">10.0.3.5</th>\n",
       "      <th>mean</th>\n",
       "      <td>3.333333</td>\n",
       "      <td>3.000000</td>\n",
       "      <td>0.333333</td>\n",
       "    </tr>\n",
       "    <tr>\n",
       "      <th>min</th>\n",
       "      <td>1.000000</td>\n",
       "      <td>0.000000</td>\n",
       "      <td>0.000000</td>\n",
       "    </tr>\n",
       "  </tbody>\n",
       "</table>\n",
       "</div>"
      ],
      "text/plain": [
       "                TotalAllowedFlows  AllowedOutFlows  AllowedInFlows\n",
       "AllExtIPs                                                         \n",
       "10.0.3.4  mean           3.333333         0.333333        3.000000\n",
       "          min            1.000000         0.000000        0.000000\n",
       "          max            6.000000         1.000000        6.000000\n",
       "10.0.3.5  mean           3.333333         3.000000        0.333333\n",
       "          min            1.000000         0.000000        0.000000"
      ]
     },
     "execution_count": 46,
     "metadata": {},
     "output_type": "execute_result"
    }
   ],
   "source": [
    "net_df_agg_stacked.head()"
   ]
  },
  {
   "cell_type": "code",
   "execution_count": 47,
   "metadata": {
    "ExecuteTime": {
     "end_time": "2021-11-29T16:59:23.170816Z",
     "start_time": "2021-11-29T16:59:23.158347Z"
    }
   },
   "outputs": [
    {
     "data": {
      "text/plain": [
       "3.3333333333333335"
      ]
     },
     "execution_count": 47,
     "metadata": {},
     "output_type": "execute_result"
    }
   ],
   "source": [
    "net_df_agg_stacked.loc[(\"10.0.3.4\",\"mean\"),\"TotalAllowedFlows\"]"
   ]
  },
  {
   "cell_type": "code",
   "execution_count": 48,
   "metadata": {
    "ExecuteTime": {
     "end_time": "2021-11-29T16:59:24.037883Z",
     "start_time": "2021-11-29T16:59:23.986355Z"
    }
   },
   "outputs": [
    {
     "data": {
      "text/html": [
       "<div>\n",
       "<style scoped>\n",
       "    .dataframe tbody tr th:only-of-type {\n",
       "        vertical-align: middle;\n",
       "    }\n",
       "\n",
       "    .dataframe tbody tr th {\n",
       "        vertical-align: top;\n",
       "    }\n",
       "\n",
       "    .dataframe thead tr th {\n",
       "        text-align: left;\n",
       "    }\n",
       "\n",
       "    .dataframe thead tr:last-of-type th {\n",
       "        text-align: right;\n",
       "    }\n",
       "</style>\n",
       "<table border=\"1\" class=\"dataframe\">\n",
       "  <thead>\n",
       "    <tr>\n",
       "      <th></th>\n",
       "      <th colspan=\"3\" halign=\"left\">TotalAllowedFlows</th>\n",
       "      <th colspan=\"3\" halign=\"left\">AllowedOutFlows</th>\n",
       "      <th colspan=\"3\" halign=\"left\">AllowedInFlows</th>\n",
       "    </tr>\n",
       "    <tr>\n",
       "      <th></th>\n",
       "      <th>mean</th>\n",
       "      <th>min</th>\n",
       "      <th>max</th>\n",
       "      <th>mean</th>\n",
       "      <th>min</th>\n",
       "      <th>max</th>\n",
       "      <th>mean</th>\n",
       "      <th>min</th>\n",
       "      <th>max</th>\n",
       "    </tr>\n",
       "    <tr>\n",
       "      <th>AllExtIPs</th>\n",
       "      <th></th>\n",
       "      <th></th>\n",
       "      <th></th>\n",
       "      <th></th>\n",
       "      <th></th>\n",
       "      <th></th>\n",
       "      <th></th>\n",
       "      <th></th>\n",
       "      <th></th>\n",
       "    </tr>\n",
       "  </thead>\n",
       "  <tbody>\n",
       "    <tr>\n",
       "      <th>10.0.3.4</th>\n",
       "      <td>3.333333</td>\n",
       "      <td>1.0</td>\n",
       "      <td>6.0</td>\n",
       "      <td>0.333333</td>\n",
       "      <td>0.0</td>\n",
       "      <td>1.0</td>\n",
       "      <td>3.000000</td>\n",
       "      <td>0.0</td>\n",
       "      <td>6.0</td>\n",
       "    </tr>\n",
       "    <tr>\n",
       "      <th>10.0.3.5</th>\n",
       "      <td>3.333333</td>\n",
       "      <td>1.0</td>\n",
       "      <td>6.0</td>\n",
       "      <td>3.000000</td>\n",
       "      <td>0.0</td>\n",
       "      <td>6.0</td>\n",
       "      <td>0.333333</td>\n",
       "      <td>0.0</td>\n",
       "      <td>1.0</td>\n",
       "    </tr>\n",
       "    <tr>\n",
       "      <th>104.211.30.1</th>\n",
       "      <td>9.000000</td>\n",
       "      <td>6.0</td>\n",
       "      <td>12.0</td>\n",
       "      <td>9.000000</td>\n",
       "      <td>6.0</td>\n",
       "      <td>12.0</td>\n",
       "      <td>0.000000</td>\n",
       "      <td>0.0</td>\n",
       "      <td>0.0</td>\n",
       "    </tr>\n",
       "    <tr>\n",
       "      <th>104.40.17.153</th>\n",
       "      <td>1.750000</td>\n",
       "      <td>1.0</td>\n",
       "      <td>2.0</td>\n",
       "      <td>1.750000</td>\n",
       "      <td>1.0</td>\n",
       "      <td>2.0</td>\n",
       "      <td>0.000000</td>\n",
       "      <td>0.0</td>\n",
       "      <td>0.0</td>\n",
       "    </tr>\n",
       "    <tr>\n",
       "      <th>104.43.212.12</th>\n",
       "      <td>2.166667</td>\n",
       "      <td>1.0</td>\n",
       "      <td>4.0</td>\n",
       "      <td>2.166667</td>\n",
       "      <td>1.0</td>\n",
       "      <td>4.0</td>\n",
       "      <td>0.000000</td>\n",
       "      <td>0.0</td>\n",
       "      <td>0.0</td>\n",
       "    </tr>\n",
       "  </tbody>\n",
       "</table>\n",
       "</div>"
      ],
      "text/plain": [
       "              TotalAllowedFlows            AllowedOutFlows             \\\n",
       "                           mean  min   max            mean  min   max   \n",
       "AllExtIPs                                                               \n",
       "10.0.3.4               3.333333  1.0   6.0        0.333333  0.0   1.0   \n",
       "10.0.3.5               3.333333  1.0   6.0        3.000000  0.0   6.0   \n",
       "104.211.30.1           9.000000  6.0  12.0        9.000000  6.0  12.0   \n",
       "104.40.17.153          1.750000  1.0   2.0        1.750000  1.0   2.0   \n",
       "104.43.212.12          2.166667  1.0   4.0        2.166667  1.0   4.0   \n",
       "\n",
       "              AllowedInFlows            \n",
       "                        mean  min  max  \n",
       "AllExtIPs                               \n",
       "10.0.3.4            3.000000  0.0  6.0  \n",
       "10.0.3.5            0.333333  0.0  1.0  \n",
       "104.211.30.1        0.000000  0.0  0.0  \n",
       "104.40.17.153       0.000000  0.0  0.0  \n",
       "104.43.212.12       0.000000  0.0  0.0  "
      ]
     },
     "execution_count": 48,
     "metadata": {},
     "output_type": "execute_result"
    }
   ],
   "source": [
    "net_df_agg_stacked.unstack().head()"
   ]
  },
  {
   "cell_type": "markdown",
   "metadata": {
    "jp-MarkdownHeadingCollapsed": true,
    "tags": []
   },
   "source": [
    "---\n",
    "# Pivoting/pivot tables [Ashwin]\n",
    "\n",
    "### [Reshaping and Pivot Tables](https://pandas.pydata.org/pandas-docs/stable/user_guide/reshaping.html)"
   ]
  },
  {
   "cell_type": "code",
   "execution_count": 49,
   "metadata": {
    "ExecuteTime": {
     "end_time": "2021-11-29T16:59:26.497275Z",
     "start_time": "2021-11-29T16:59:26.429533Z"
    }
   },
   "outputs": [
    {
     "data": {
      "text/html": [
       "<div>\n",
       "<style scoped>\n",
       "    .dataframe tbody tr th:only-of-type {\n",
       "        vertical-align: middle;\n",
       "    }\n",
       "\n",
       "    .dataframe tbody tr th {\n",
       "        vertical-align: top;\n",
       "    }\n",
       "\n",
       "    .dataframe thead th {\n",
       "        text-align: right;\n",
       "    }\n",
       "</style>\n",
       "<table border=\"1\" class=\"dataframe\">\n",
       "  <thead>\n",
       "    <tr style=\"text-align: right;\">\n",
       "      <th></th>\n",
       "      <th>TimeGenerated</th>\n",
       "      <th>FlowStartTime</th>\n",
       "      <th>FlowEndTime</th>\n",
       "      <th>FlowIntervalEndTime</th>\n",
       "      <th>FlowType</th>\n",
       "      <th>ResourceGroup</th>\n",
       "      <th>VMName</th>\n",
       "      <th>VMIPAddress</th>\n",
       "      <th>PublicIPs</th>\n",
       "      <th>SrcIP</th>\n",
       "      <th>...</th>\n",
       "      <th>DestPort</th>\n",
       "      <th>FlowDirection</th>\n",
       "      <th>AllowedOutFlows</th>\n",
       "      <th>AllowedInFlows</th>\n",
       "      <th>DeniedInFlows</th>\n",
       "      <th>DeniedOutFlows</th>\n",
       "      <th>RemoteRegion</th>\n",
       "      <th>VMRegion</th>\n",
       "      <th>AllExtIPs</th>\n",
       "      <th>TotalAllowedFlows</th>\n",
       "    </tr>\n",
       "  </thead>\n",
       "  <tbody>\n",
       "    <tr>\n",
       "      <th>0</th>\n",
       "      <td>2019-02-14 13:23:59.512</td>\n",
       "      <td>2019-02-14 12:21:58</td>\n",
       "      <td>2019-02-14 12:21:58</td>\n",
       "      <td>2019-02-14 13:00:00</td>\n",
       "      <td>AzurePublic</td>\n",
       "      <td>asihuntomsworkspacerg</td>\n",
       "      <td>msticalertswin1</td>\n",
       "      <td>10.0.3.5</td>\n",
       "      <td>[13.67.143.117]</td>\n",
       "      <td></td>\n",
       "      <td>...</td>\n",
       "      <td>443.0</td>\n",
       "      <td>O</td>\n",
       "      <td>1.0</td>\n",
       "      <td>0.0</td>\n",
       "      <td>0.0</td>\n",
       "      <td>0.0</td>\n",
       "      <td>centralus</td>\n",
       "      <td>eastus</td>\n",
       "      <td>13.67.143.117</td>\n",
       "      <td>1.0</td>\n",
       "    </tr>\n",
       "    <tr>\n",
       "      <th>1</th>\n",
       "      <td>2019-02-14 13:23:59.512</td>\n",
       "      <td>2019-02-14 12:29:02</td>\n",
       "      <td>2019-02-14 12:29:02</td>\n",
       "      <td>2019-02-14 13:00:00</td>\n",
       "      <td>AzurePublic</td>\n",
       "      <td>asihuntomsworkspacerg</td>\n",
       "      <td>msticalertswin1</td>\n",
       "      <td>10.0.3.5</td>\n",
       "      <td>[40.77.232.95]</td>\n",
       "      <td></td>\n",
       "      <td>...</td>\n",
       "      <td>443.0</td>\n",
       "      <td>O</td>\n",
       "      <td>1.0</td>\n",
       "      <td>0.0</td>\n",
       "      <td>0.0</td>\n",
       "      <td>0.0</td>\n",
       "      <td>westcentralus</td>\n",
       "      <td>eastus</td>\n",
       "      <td>40.77.232.95</td>\n",
       "      <td>1.0</td>\n",
       "    </tr>\n",
       "    <tr>\n",
       "      <th>2</th>\n",
       "      <td>2019-02-14 03:26:06.765</td>\n",
       "      <td>2019-02-14 02:08:46</td>\n",
       "      <td>2019-02-14 02:48:45</td>\n",
       "      <td>2019-02-14 03:00:00</td>\n",
       "      <td>AzurePublic</td>\n",
       "      <td>asihuntomsworkspacerg</td>\n",
       "      <td>msticalertswin1</td>\n",
       "      <td>10.0.3.5</td>\n",
       "      <td>[13.65.107.32, 40.124.45.19]</td>\n",
       "      <td></td>\n",
       "      <td>...</td>\n",
       "      <td>443.0</td>\n",
       "      <td>O</td>\n",
       "      <td>4.0</td>\n",
       "      <td>0.0</td>\n",
       "      <td>0.0</td>\n",
       "      <td>0.0</td>\n",
       "      <td>southcentralus</td>\n",
       "      <td>eastus</td>\n",
       "      <td>13.65.107.32</td>\n",
       "      <td>4.0</td>\n",
       "    </tr>\n",
       "    <tr>\n",
       "      <th>3</th>\n",
       "      <td>2019-02-14 03:26:06.765</td>\n",
       "      <td>2019-02-14 02:08:46</td>\n",
       "      <td>2019-02-14 02:48:45</td>\n",
       "      <td>2019-02-14 03:00:00</td>\n",
       "      <td>AzurePublic</td>\n",
       "      <td>asihuntomsworkspacerg</td>\n",
       "      <td>msticalertswin1</td>\n",
       "      <td>10.0.3.5</td>\n",
       "      <td>[13.65.107.32, 40.124.45.19]</td>\n",
       "      <td></td>\n",
       "      <td>...</td>\n",
       "      <td>443.0</td>\n",
       "      <td>O</td>\n",
       "      <td>4.0</td>\n",
       "      <td>0.0</td>\n",
       "      <td>0.0</td>\n",
       "      <td>0.0</td>\n",
       "      <td>southcentralus</td>\n",
       "      <td>eastus</td>\n",
       "      <td>40.124.45.19</td>\n",
       "      <td>4.0</td>\n",
       "    </tr>\n",
       "    <tr>\n",
       "      <th>4</th>\n",
       "      <td>2019-02-14 03:26:06.828</td>\n",
       "      <td>2019-02-14 02:30:56</td>\n",
       "      <td>2019-02-14 02:30:56</td>\n",
       "      <td>2019-02-14 03:00:00</td>\n",
       "      <td>AzurePublic</td>\n",
       "      <td>asihuntomsworkspacerg</td>\n",
       "      <td>msticalertswin1</td>\n",
       "      <td>10.0.3.5</td>\n",
       "      <td>[20.38.98.100]</td>\n",
       "      <td></td>\n",
       "      <td>...</td>\n",
       "      <td>443.0</td>\n",
       "      <td>O</td>\n",
       "      <td>1.0</td>\n",
       "      <td>0.0</td>\n",
       "      <td>0.0</td>\n",
       "      <td>0.0</td>\n",
       "      <td>eastus</td>\n",
       "      <td>eastus</td>\n",
       "      <td>20.38.98.100</td>\n",
       "      <td>1.0</td>\n",
       "    </tr>\n",
       "  </tbody>\n",
       "</table>\n",
       "<p>5 rows × 23 columns</p>\n",
       "</div>"
      ],
      "text/plain": [
       "            TimeGenerated       FlowStartTime         FlowEndTime  \\\n",
       "0 2019-02-14 13:23:59.512 2019-02-14 12:21:58 2019-02-14 12:21:58   \n",
       "1 2019-02-14 13:23:59.512 2019-02-14 12:29:02 2019-02-14 12:29:02   \n",
       "2 2019-02-14 03:26:06.765 2019-02-14 02:08:46 2019-02-14 02:48:45   \n",
       "3 2019-02-14 03:26:06.765 2019-02-14 02:08:46 2019-02-14 02:48:45   \n",
       "4 2019-02-14 03:26:06.828 2019-02-14 02:30:56 2019-02-14 02:30:56   \n",
       "\n",
       "  FlowIntervalEndTime     FlowType          ResourceGroup           VMName  \\\n",
       "0 2019-02-14 13:00:00  AzurePublic  asihuntomsworkspacerg  msticalertswin1   \n",
       "1 2019-02-14 13:00:00  AzurePublic  asihuntomsworkspacerg  msticalertswin1   \n",
       "2 2019-02-14 03:00:00  AzurePublic  asihuntomsworkspacerg  msticalertswin1   \n",
       "3 2019-02-14 03:00:00  AzurePublic  asihuntomsworkspacerg  msticalertswin1   \n",
       "4 2019-02-14 03:00:00  AzurePublic  asihuntomsworkspacerg  msticalertswin1   \n",
       "\n",
       "  VMIPAddress                     PublicIPs SrcIP  ... DestPort FlowDirection  \\\n",
       "0    10.0.3.5               [13.67.143.117]        ...    443.0             O   \n",
       "1    10.0.3.5                [40.77.232.95]        ...    443.0             O   \n",
       "2    10.0.3.5  [13.65.107.32, 40.124.45.19]        ...    443.0             O   \n",
       "3    10.0.3.5  [13.65.107.32, 40.124.45.19]        ...    443.0             O   \n",
       "4    10.0.3.5                [20.38.98.100]        ...    443.0             O   \n",
       "\n",
       "  AllowedOutFlows  AllowedInFlows DeniedInFlows  DeniedOutFlows  \\\n",
       "0             1.0             0.0           0.0             0.0   \n",
       "1             1.0             0.0           0.0             0.0   \n",
       "2             4.0             0.0           0.0             0.0   \n",
       "3             4.0             0.0           0.0             0.0   \n",
       "4             1.0             0.0           0.0             0.0   \n",
       "\n",
       "     RemoteRegion  VMRegion      AllExtIPs TotalAllowedFlows  \n",
       "0       centralus    eastus  13.67.143.117               1.0  \n",
       "1   westcentralus    eastus   40.77.232.95               1.0  \n",
       "2  southcentralus    eastus   13.65.107.32               4.0  \n",
       "3  southcentralus    eastus   40.124.45.19               4.0  \n",
       "4          eastus    eastus   20.38.98.100               1.0  \n",
       "\n",
       "[5 rows x 23 columns]"
      ]
     },
     "execution_count": 49,
     "metadata": {},
     "output_type": "execute_result"
    }
   ],
   "source": [
    "net_df = pd.read_pickle(\"../data/az_net_comms_df.pkl\")\n",
    "net_df.head()"
   ]
  },
  {
   "cell_type": "code",
   "execution_count": 50,
   "metadata": {
    "ExecuteTime": {
     "end_time": "2021-11-29T16:59:27.624201Z",
     "start_time": "2021-11-29T16:59:27.611499Z"
    }
   },
   "outputs": [
    {
     "data": {
      "text/html": [
       "<div>\n",
       "<style scoped>\n",
       "    .dataframe tbody tr th:only-of-type {\n",
       "        vertical-align: middle;\n",
       "    }\n",
       "\n",
       "    .dataframe tbody tr th {\n",
       "        vertical-align: top;\n",
       "    }\n",
       "\n",
       "    .dataframe thead th {\n",
       "        text-align: right;\n",
       "    }\n",
       "</style>\n",
       "<table border=\"1\" class=\"dataframe\">\n",
       "  <thead>\n",
       "    <tr style=\"text-align: right;\">\n",
       "      <th></th>\n",
       "      <th>FlowIntervalEndTime</th>\n",
       "      <th>FlowType</th>\n",
       "      <th>AllExtIPs</th>\n",
       "    </tr>\n",
       "  </thead>\n",
       "  <tbody>\n",
       "    <tr>\n",
       "      <th>0</th>\n",
       "      <td>2019-02-07 13:00:00</td>\n",
       "      <td>AzurePublic</td>\n",
       "      <td>3</td>\n",
       "    </tr>\n",
       "    <tr>\n",
       "      <th>1</th>\n",
       "      <td>2019-02-07 14:00:00</td>\n",
       "      <td>AzurePublic</td>\n",
       "      <td>8</td>\n",
       "    </tr>\n",
       "    <tr>\n",
       "      <th>2</th>\n",
       "      <td>2019-02-07 14:00:00</td>\n",
       "      <td>ExternalPublic</td>\n",
       "      <td>1</td>\n",
       "    </tr>\n",
       "    <tr>\n",
       "      <th>3</th>\n",
       "      <td>2019-02-07 15:00:00</td>\n",
       "      <td>AzurePublic</td>\n",
       "      <td>5</td>\n",
       "    </tr>\n",
       "    <tr>\n",
       "      <th>4</th>\n",
       "      <td>2019-02-07 15:00:00</td>\n",
       "      <td>ExternalPublic</td>\n",
       "      <td>3</td>\n",
       "    </tr>\n",
       "  </tbody>\n",
       "</table>\n",
       "</div>"
      ],
      "text/plain": [
       "  FlowIntervalEndTime        FlowType  AllExtIPs\n",
       "0 2019-02-07 13:00:00     AzurePublic          3\n",
       "1 2019-02-07 14:00:00     AzurePublic          8\n",
       "2 2019-02-07 14:00:00  ExternalPublic          1\n",
       "3 2019-02-07 15:00:00     AzurePublic          5\n",
       "4 2019-02-07 15:00:00  ExternalPublic          3"
      ]
     },
     "execution_count": 50,
     "metadata": {},
     "output_type": "execute_result"
    }
   ],
   "source": [
    "# Prepare groupby dataset to perform pivot. Does expect column with unique values\n",
    "net_df_grouped = net_df.groupby(['FlowIntervalEndTime','FlowType'])['AllExtIPs'].count().reset_index()\n",
    "net_df_grouped.head()"
   ]
  },
  {
   "cell_type": "code",
   "execution_count": 51,
   "metadata": {
    "ExecuteTime": {
     "end_time": "2021-11-29T16:59:28.924283Z",
     "start_time": "2021-11-29T16:59:28.879893Z"
    }
   },
   "outputs": [
    {
     "data": {
      "text/html": [
       "<div>\n",
       "<style scoped>\n",
       "    .dataframe tbody tr th:only-of-type {\n",
       "        vertical-align: middle;\n",
       "    }\n",
       "\n",
       "    .dataframe tbody tr th {\n",
       "        vertical-align: top;\n",
       "    }\n",
       "\n",
       "    .dataframe thead th {\n",
       "        text-align: right;\n",
       "    }\n",
       "</style>\n",
       "<table border=\"1\" class=\"dataframe\">\n",
       "  <thead>\n",
       "    <tr style=\"text-align: right;\">\n",
       "      <th>FlowType</th>\n",
       "      <th>AzurePublic</th>\n",
       "      <th>ExternalPublic</th>\n",
       "      <th>IntraVNet</th>\n",
       "    </tr>\n",
       "    <tr>\n",
       "      <th>FlowIntervalEndTime</th>\n",
       "      <th></th>\n",
       "      <th></th>\n",
       "      <th></th>\n",
       "    </tr>\n",
       "  </thead>\n",
       "  <tbody>\n",
       "    <tr>\n",
       "      <th>2019-02-07 13:00:00</th>\n",
       "      <td>3.0</td>\n",
       "      <td>NaN</td>\n",
       "      <td>NaN</td>\n",
       "    </tr>\n",
       "    <tr>\n",
       "      <th>2019-02-07 14:00:00</th>\n",
       "      <td>8.0</td>\n",
       "      <td>1.0</td>\n",
       "      <td>NaN</td>\n",
       "    </tr>\n",
       "    <tr>\n",
       "      <th>2019-02-07 15:00:00</th>\n",
       "      <td>5.0</td>\n",
       "      <td>3.0</td>\n",
       "      <td>NaN</td>\n",
       "    </tr>\n",
       "    <tr>\n",
       "      <th>2019-02-07 16:00:00</th>\n",
       "      <td>7.0</td>\n",
       "      <td>1.0</td>\n",
       "      <td>NaN</td>\n",
       "    </tr>\n",
       "    <tr>\n",
       "      <th>2019-02-07 17:00:00</th>\n",
       "      <td>8.0</td>\n",
       "      <td>NaN</td>\n",
       "      <td>NaN</td>\n",
       "    </tr>\n",
       "    <tr>\n",
       "      <th>...</th>\n",
       "      <td>...</td>\n",
       "      <td>...</td>\n",
       "      <td>...</td>\n",
       "    </tr>\n",
       "    <tr>\n",
       "      <th>2019-02-14 09:00:00</th>\n",
       "      <td>8.0</td>\n",
       "      <td>1.0</td>\n",
       "      <td>NaN</td>\n",
       "    </tr>\n",
       "    <tr>\n",
       "      <th>2019-02-14 10:00:00</th>\n",
       "      <td>8.0</td>\n",
       "      <td>NaN</td>\n",
       "      <td>NaN</td>\n",
       "    </tr>\n",
       "    <tr>\n",
       "      <th>2019-02-14 11:00:00</th>\n",
       "      <td>7.0</td>\n",
       "      <td>2.0</td>\n",
       "      <td>NaN</td>\n",
       "    </tr>\n",
       "    <tr>\n",
       "      <th>2019-02-14 12:00:00</th>\n",
       "      <td>9.0</td>\n",
       "      <td>NaN</td>\n",
       "      <td>NaN</td>\n",
       "    </tr>\n",
       "    <tr>\n",
       "      <th>2019-02-14 13:00:00</th>\n",
       "      <td>2.0</td>\n",
       "      <td>NaN</td>\n",
       "      <td>NaN</td>\n",
       "    </tr>\n",
       "  </tbody>\n",
       "</table>\n",
       "<p>141 rows × 3 columns</p>\n",
       "</div>"
      ],
      "text/plain": [
       "FlowType             AzurePublic  ExternalPublic  IntraVNet\n",
       "FlowIntervalEndTime                                        \n",
       "2019-02-07 13:00:00          3.0             NaN        NaN\n",
       "2019-02-07 14:00:00          8.0             1.0        NaN\n",
       "2019-02-07 15:00:00          5.0             3.0        NaN\n",
       "2019-02-07 16:00:00          7.0             1.0        NaN\n",
       "2019-02-07 17:00:00          8.0             NaN        NaN\n",
       "...                          ...             ...        ...\n",
       "2019-02-14 09:00:00          8.0             1.0        NaN\n",
       "2019-02-14 10:00:00          8.0             NaN        NaN\n",
       "2019-02-14 11:00:00          7.0             2.0        NaN\n",
       "2019-02-14 12:00:00          9.0             NaN        NaN\n",
       "2019-02-14 13:00:00          2.0             NaN        NaN\n",
       "\n",
       "[141 rows x 3 columns]"
      ]
     },
     "execution_count": 51,
     "metadata": {},
     "output_type": "execute_result"
    }
   ],
   "source": [
    "net_df_grouped.pivot(index=\"FlowIntervalEndTime\", columns=\"FlowType\", values=\"AllExtIPs\")"
   ]
  },
  {
   "cell_type": "markdown",
   "metadata": {},
   "source": [
    "---\n",
    "# Time manipulation [Ashwin] \n",
    "\n",
    "- Timezone conversions\n",
    "- Resample - Grouping by time "
   ]
  },
  {
   "cell_type": "code",
   "execution_count": 52,
   "metadata": {
    "ExecuteTime": {
     "end_time": "2021-11-29T16:59:31.451152Z",
     "start_time": "2021-11-29T16:59:31.388909Z"
    }
   },
   "outputs": [
    {
     "data": {
      "text/html": [
       "<div>\n",
       "<style scoped>\n",
       "    .dataframe tbody tr th:only-of-type {\n",
       "        vertical-align: middle;\n",
       "    }\n",
       "\n",
       "    .dataframe tbody tr th {\n",
       "        vertical-align: top;\n",
       "    }\n",
       "\n",
       "    .dataframe thead th {\n",
       "        text-align: right;\n",
       "    }\n",
       "</style>\n",
       "<table border=\"1\" class=\"dataframe\">\n",
       "  <thead>\n",
       "    <tr style=\"text-align: right;\">\n",
       "      <th></th>\n",
       "      <th>TimeGenerated</th>\n",
       "      <th>FlowStartTime</th>\n",
       "      <th>FlowEndTime</th>\n",
       "      <th>FlowIntervalEndTime</th>\n",
       "      <th>FlowType</th>\n",
       "      <th>ResourceGroup</th>\n",
       "      <th>VMName</th>\n",
       "      <th>VMIPAddress</th>\n",
       "      <th>PublicIPs</th>\n",
       "      <th>SrcIP</th>\n",
       "      <th>...</th>\n",
       "      <th>DestPort</th>\n",
       "      <th>FlowDirection</th>\n",
       "      <th>AllowedOutFlows</th>\n",
       "      <th>AllowedInFlows</th>\n",
       "      <th>DeniedInFlows</th>\n",
       "      <th>DeniedOutFlows</th>\n",
       "      <th>RemoteRegion</th>\n",
       "      <th>VMRegion</th>\n",
       "      <th>AllExtIPs</th>\n",
       "      <th>TotalAllowedFlows</th>\n",
       "    </tr>\n",
       "  </thead>\n",
       "  <tbody>\n",
       "    <tr>\n",
       "      <th>0</th>\n",
       "      <td>2019-02-14 13:23:59.512</td>\n",
       "      <td>2019-02-14 12:21:58</td>\n",
       "      <td>2019-02-14 12:21:58</td>\n",
       "      <td>2019-02-14 13:00:00</td>\n",
       "      <td>AzurePublic</td>\n",
       "      <td>asihuntomsworkspacerg</td>\n",
       "      <td>msticalertswin1</td>\n",
       "      <td>10.0.3.5</td>\n",
       "      <td>[13.67.143.117]</td>\n",
       "      <td></td>\n",
       "      <td>...</td>\n",
       "      <td>443.0</td>\n",
       "      <td>O</td>\n",
       "      <td>1.0</td>\n",
       "      <td>0.0</td>\n",
       "      <td>0.0</td>\n",
       "      <td>0.0</td>\n",
       "      <td>centralus</td>\n",
       "      <td>eastus</td>\n",
       "      <td>13.67.143.117</td>\n",
       "      <td>1.0</td>\n",
       "    </tr>\n",
       "    <tr>\n",
       "      <th>1</th>\n",
       "      <td>2019-02-14 13:23:59.512</td>\n",
       "      <td>2019-02-14 12:29:02</td>\n",
       "      <td>2019-02-14 12:29:02</td>\n",
       "      <td>2019-02-14 13:00:00</td>\n",
       "      <td>AzurePublic</td>\n",
       "      <td>asihuntomsworkspacerg</td>\n",
       "      <td>msticalertswin1</td>\n",
       "      <td>10.0.3.5</td>\n",
       "      <td>[40.77.232.95]</td>\n",
       "      <td></td>\n",
       "      <td>...</td>\n",
       "      <td>443.0</td>\n",
       "      <td>O</td>\n",
       "      <td>1.0</td>\n",
       "      <td>0.0</td>\n",
       "      <td>0.0</td>\n",
       "      <td>0.0</td>\n",
       "      <td>westcentralus</td>\n",
       "      <td>eastus</td>\n",
       "      <td>40.77.232.95</td>\n",
       "      <td>1.0</td>\n",
       "    </tr>\n",
       "    <tr>\n",
       "      <th>2</th>\n",
       "      <td>2019-02-14 03:26:06.765</td>\n",
       "      <td>2019-02-14 02:08:46</td>\n",
       "      <td>2019-02-14 02:48:45</td>\n",
       "      <td>2019-02-14 03:00:00</td>\n",
       "      <td>AzurePublic</td>\n",
       "      <td>asihuntomsworkspacerg</td>\n",
       "      <td>msticalertswin1</td>\n",
       "      <td>10.0.3.5</td>\n",
       "      <td>[13.65.107.32, 40.124.45.19]</td>\n",
       "      <td></td>\n",
       "      <td>...</td>\n",
       "      <td>443.0</td>\n",
       "      <td>O</td>\n",
       "      <td>4.0</td>\n",
       "      <td>0.0</td>\n",
       "      <td>0.0</td>\n",
       "      <td>0.0</td>\n",
       "      <td>southcentralus</td>\n",
       "      <td>eastus</td>\n",
       "      <td>13.65.107.32</td>\n",
       "      <td>4.0</td>\n",
       "    </tr>\n",
       "    <tr>\n",
       "      <th>3</th>\n",
       "      <td>2019-02-14 03:26:06.765</td>\n",
       "      <td>2019-02-14 02:08:46</td>\n",
       "      <td>2019-02-14 02:48:45</td>\n",
       "      <td>2019-02-14 03:00:00</td>\n",
       "      <td>AzurePublic</td>\n",
       "      <td>asihuntomsworkspacerg</td>\n",
       "      <td>msticalertswin1</td>\n",
       "      <td>10.0.3.5</td>\n",
       "      <td>[13.65.107.32, 40.124.45.19]</td>\n",
       "      <td></td>\n",
       "      <td>...</td>\n",
       "      <td>443.0</td>\n",
       "      <td>O</td>\n",
       "      <td>4.0</td>\n",
       "      <td>0.0</td>\n",
       "      <td>0.0</td>\n",
       "      <td>0.0</td>\n",
       "      <td>southcentralus</td>\n",
       "      <td>eastus</td>\n",
       "      <td>40.124.45.19</td>\n",
       "      <td>4.0</td>\n",
       "    </tr>\n",
       "    <tr>\n",
       "      <th>4</th>\n",
       "      <td>2019-02-14 03:26:06.828</td>\n",
       "      <td>2019-02-14 02:30:56</td>\n",
       "      <td>2019-02-14 02:30:56</td>\n",
       "      <td>2019-02-14 03:00:00</td>\n",
       "      <td>AzurePublic</td>\n",
       "      <td>asihuntomsworkspacerg</td>\n",
       "      <td>msticalertswin1</td>\n",
       "      <td>10.0.3.5</td>\n",
       "      <td>[20.38.98.100]</td>\n",
       "      <td></td>\n",
       "      <td>...</td>\n",
       "      <td>443.0</td>\n",
       "      <td>O</td>\n",
       "      <td>1.0</td>\n",
       "      <td>0.0</td>\n",
       "      <td>0.0</td>\n",
       "      <td>0.0</td>\n",
       "      <td>eastus</td>\n",
       "      <td>eastus</td>\n",
       "      <td>20.38.98.100</td>\n",
       "      <td>1.0</td>\n",
       "    </tr>\n",
       "  </tbody>\n",
       "</table>\n",
       "<p>5 rows × 23 columns</p>\n",
       "</div>"
      ],
      "text/plain": [
       "            TimeGenerated       FlowStartTime         FlowEndTime  \\\n",
       "0 2019-02-14 13:23:59.512 2019-02-14 12:21:58 2019-02-14 12:21:58   \n",
       "1 2019-02-14 13:23:59.512 2019-02-14 12:29:02 2019-02-14 12:29:02   \n",
       "2 2019-02-14 03:26:06.765 2019-02-14 02:08:46 2019-02-14 02:48:45   \n",
       "3 2019-02-14 03:26:06.765 2019-02-14 02:08:46 2019-02-14 02:48:45   \n",
       "4 2019-02-14 03:26:06.828 2019-02-14 02:30:56 2019-02-14 02:30:56   \n",
       "\n",
       "  FlowIntervalEndTime     FlowType          ResourceGroup           VMName  \\\n",
       "0 2019-02-14 13:00:00  AzurePublic  asihuntomsworkspacerg  msticalertswin1   \n",
       "1 2019-02-14 13:00:00  AzurePublic  asihuntomsworkspacerg  msticalertswin1   \n",
       "2 2019-02-14 03:00:00  AzurePublic  asihuntomsworkspacerg  msticalertswin1   \n",
       "3 2019-02-14 03:00:00  AzurePublic  asihuntomsworkspacerg  msticalertswin1   \n",
       "4 2019-02-14 03:00:00  AzurePublic  asihuntomsworkspacerg  msticalertswin1   \n",
       "\n",
       "  VMIPAddress                     PublicIPs SrcIP  ... DestPort FlowDirection  \\\n",
       "0    10.0.3.5               [13.67.143.117]        ...    443.0             O   \n",
       "1    10.0.3.5                [40.77.232.95]        ...    443.0             O   \n",
       "2    10.0.3.5  [13.65.107.32, 40.124.45.19]        ...    443.0             O   \n",
       "3    10.0.3.5  [13.65.107.32, 40.124.45.19]        ...    443.0             O   \n",
       "4    10.0.3.5                [20.38.98.100]        ...    443.0             O   \n",
       "\n",
       "  AllowedOutFlows  AllowedInFlows DeniedInFlows  DeniedOutFlows  \\\n",
       "0             1.0             0.0           0.0             0.0   \n",
       "1             1.0             0.0           0.0             0.0   \n",
       "2             4.0             0.0           0.0             0.0   \n",
       "3             4.0             0.0           0.0             0.0   \n",
       "4             1.0             0.0           0.0             0.0   \n",
       "\n",
       "     RemoteRegion  VMRegion      AllExtIPs TotalAllowedFlows  \n",
       "0       centralus    eastus  13.67.143.117               1.0  \n",
       "1   westcentralus    eastus   40.77.232.95               1.0  \n",
       "2  southcentralus    eastus   13.65.107.32               4.0  \n",
       "3  southcentralus    eastus   40.124.45.19               4.0  \n",
       "4          eastus    eastus   20.38.98.100               1.0  \n",
       "\n",
       "[5 rows x 23 columns]"
      ]
     },
     "execution_count": 52,
     "metadata": {},
     "output_type": "execute_result"
    }
   ],
   "source": [
    "net_df = pd.read_pickle(\"../data/az_net_comms_df.pkl\")\n",
    "net_df.head()"
   ]
  },
  {
   "cell_type": "markdown",
   "metadata": {
    "ExecuteTime": {
     "end_time": "2021-11-29T16:36:48.911801Z",
     "start_time": "2021-11-29T16:36:48.902616Z"
    }
   },
   "source": [
    "### Timezone considerations "
   ]
  },
  {
   "cell_type": "code",
   "execution_count": 53,
   "metadata": {
    "ExecuteTime": {
     "end_time": "2021-11-29T16:59:36.761041Z",
     "start_time": "2021-11-29T16:59:36.745145Z"
    }
   },
   "outputs": [
    {
     "name": "stdout",
     "output_type": "stream",
     "text": [
      "0      2019-02-14 13:23:59.512000+00:00\n",
      "1      2019-02-14 13:23:59.512000+00:00\n",
      "2      2019-02-14 03:26:06.765000+00:00\n",
      "3      2019-02-14 03:26:06.765000+00:00\n",
      "4      2019-02-14 03:26:06.828000+00:00\n",
      "                     ...               \n",
      "1355   2019-02-09 03:32:41.967000+00:00\n",
      "1356   2019-02-09 03:32:51.124000+00:00\n",
      "1357   2019-02-09 03:32:51.264000+00:00\n",
      "1358   2019-02-09 03:32:45.608000+00:00\n",
      "1359   2019-02-09 03:32:45.608000+00:00\n",
      "Name: TimeGenerated, Length: 1360, dtype: datetime64[ns, UTC]\n"
     ]
    }
   ],
   "source": [
    "dti = pd.to_datetime(net_df['TimeGenerated'])\n",
    "dti_utc = dti.dt.tz_localize(\"UTC\")\n",
    "print(dti_utc)"
   ]
  },
  {
   "cell_type": "code",
   "execution_count": 54,
   "metadata": {
    "ExecuteTime": {
     "end_time": "2021-11-29T16:59:58.263860Z",
     "start_time": "2021-11-29T16:59:58.228637Z"
    }
   },
   "outputs": [
    {
     "name": "stdout",
     "output_type": "stream",
     "text": [
      "0      2019-02-14 13:23:59.512000-08:00\n",
      "1      2019-02-14 13:23:59.512000-08:00\n",
      "2      2019-02-14 03:26:06.765000-08:00\n",
      "3      2019-02-14 03:26:06.765000-08:00\n",
      "4      2019-02-14 03:26:06.828000-08:00\n",
      "                     ...               \n",
      "1355   2019-02-09 03:32:41.967000-08:00\n",
      "1356   2019-02-09 03:32:51.124000-08:00\n",
      "1357   2019-02-09 03:32:51.264000-08:00\n",
      "1358   2019-02-09 03:32:45.608000-08:00\n",
      "1359   2019-02-09 03:32:45.608000-08:00\n",
      "Name: TimeGenerated, Length: 1360, dtype: datetime64[ns, US/Pacific]\n"
     ]
    }
   ],
   "source": [
    "dti_pst = dti.dt.tz_localize(\"US/Pacific\")\n",
    "print(dti_pst)"
   ]
  },
  {
   "cell_type": "markdown",
   "metadata": {},
   "source": [
    "### Grouping by time\n",
    "\n",
    "[Resampling](https://pandas.pydata.org/pandas-docs/stable/user_guide/timeseries.html#resampling) - `resample()` time-based groupby"
   ]
  },
  {
   "cell_type": "code",
   "execution_count": 55,
   "metadata": {
    "ExecuteTime": {
     "end_time": "2021-11-29T17:00:00.414768Z",
     "start_time": "2021-11-29T17:00:00.391034Z"
    }
   },
   "outputs": [
    {
     "data": {
      "text/plain": [
       "TimeGenerated\n",
       "2019-02-07 13:00:00    3\n",
       "2019-02-07 14:00:00    9\n",
       "2019-02-07 15:00:00    8\n",
       "2019-02-07 16:00:00    8\n",
       "2019-02-07 17:00:00    8\n",
       "                      ..\n",
       "2019-02-14 09:00:00    9\n",
       "2019-02-14 10:00:00    8\n",
       "2019-02-14 11:00:00    9\n",
       "2019-02-14 12:00:00    9\n",
       "2019-02-14 13:00:00    2\n",
       "Freq: H, Name: FlowType, Length: 169, dtype: int64"
      ]
     },
     "execution_count": 55,
     "metadata": {},
     "output_type": "execute_result"
    }
   ],
   "source": [
    "net_df.set_index('TimeGenerated').resample('H')['FlowType'].count()"
   ]
  },
  {
   "cell_type": "markdown",
   "metadata": {
    "tags": []
   },
   "source": [
    "---\n",
    "# Other Useful operations  [Ashwin, Luis Francisco, Ian] \n",
    "\n",
    "- Chaining multiple operations with \".\" \n",
    "- Including external functions with pipe \n",
    "- Apply, assign, others ???? "
   ]
  },
  {
   "cell_type": "markdown",
   "metadata": {},
   "source": [
    "### Chaining multiple operations with \".\""
   ]
  },
  {
   "cell_type": "code",
   "execution_count": 56,
   "metadata": {
    "ExecuteTime": {
     "end_time": "2021-11-29T17:00:30.281446Z",
     "start_time": "2021-11-29T17:00:30.225861Z"
    }
   },
   "outputs": [
    {
     "data": {
      "text/html": [
       "<div>\n",
       "<style scoped>\n",
       "    .dataframe tbody tr th:only-of-type {\n",
       "        vertical-align: middle;\n",
       "    }\n",
       "\n",
       "    .dataframe tbody tr th {\n",
       "        vertical-align: top;\n",
       "    }\n",
       "\n",
       "    .dataframe thead th {\n",
       "        text-align: right;\n",
       "    }\n",
       "</style>\n",
       "<table border=\"1\" class=\"dataframe\">\n",
       "  <thead>\n",
       "    <tr style=\"text-align: right;\">\n",
       "      <th></th>\n",
       "      <th>TimeGenerated</th>\n",
       "      <th>FlowStartTime</th>\n",
       "      <th>FlowEndTime</th>\n",
       "      <th>FlowIntervalEndTime</th>\n",
       "      <th>FlowType</th>\n",
       "      <th>ResourceGroup</th>\n",
       "      <th>VMName</th>\n",
       "      <th>VMIPAddress</th>\n",
       "      <th>PublicIPs</th>\n",
       "      <th>SrcIP</th>\n",
       "      <th>...</th>\n",
       "      <th>DestPort</th>\n",
       "      <th>FlowDirection</th>\n",
       "      <th>AllowedOutFlows</th>\n",
       "      <th>AllowedInFlows</th>\n",
       "      <th>DeniedInFlows</th>\n",
       "      <th>DeniedOutFlows</th>\n",
       "      <th>RemoteRegion</th>\n",
       "      <th>VMRegion</th>\n",
       "      <th>AllExtIPs</th>\n",
       "      <th>TotalAllowedFlows</th>\n",
       "    </tr>\n",
       "  </thead>\n",
       "  <tbody>\n",
       "    <tr>\n",
       "      <th>0</th>\n",
       "      <td>2019-02-14 13:23:59.512</td>\n",
       "      <td>2019-02-14 12:21:58</td>\n",
       "      <td>2019-02-14 12:21:58</td>\n",
       "      <td>2019-02-14 13:00:00</td>\n",
       "      <td>AzurePublic</td>\n",
       "      <td>asihuntomsworkspacerg</td>\n",
       "      <td>msticalertswin1</td>\n",
       "      <td>10.0.3.5</td>\n",
       "      <td>[13.67.143.117]</td>\n",
       "      <td></td>\n",
       "      <td>...</td>\n",
       "      <td>443.0</td>\n",
       "      <td>O</td>\n",
       "      <td>1.0</td>\n",
       "      <td>0.0</td>\n",
       "      <td>0.0</td>\n",
       "      <td>0.0</td>\n",
       "      <td>centralus</td>\n",
       "      <td>eastus</td>\n",
       "      <td>13.67.143.117</td>\n",
       "      <td>1.0</td>\n",
       "    </tr>\n",
       "    <tr>\n",
       "      <th>1</th>\n",
       "      <td>2019-02-14 13:23:59.512</td>\n",
       "      <td>2019-02-14 12:29:02</td>\n",
       "      <td>2019-02-14 12:29:02</td>\n",
       "      <td>2019-02-14 13:00:00</td>\n",
       "      <td>AzurePublic</td>\n",
       "      <td>asihuntomsworkspacerg</td>\n",
       "      <td>msticalertswin1</td>\n",
       "      <td>10.0.3.5</td>\n",
       "      <td>[40.77.232.95]</td>\n",
       "      <td></td>\n",
       "      <td>...</td>\n",
       "      <td>443.0</td>\n",
       "      <td>O</td>\n",
       "      <td>1.0</td>\n",
       "      <td>0.0</td>\n",
       "      <td>0.0</td>\n",
       "      <td>0.0</td>\n",
       "      <td>westcentralus</td>\n",
       "      <td>eastus</td>\n",
       "      <td>40.77.232.95</td>\n",
       "      <td>1.0</td>\n",
       "    </tr>\n",
       "    <tr>\n",
       "      <th>2</th>\n",
       "      <td>2019-02-14 03:26:06.765</td>\n",
       "      <td>2019-02-14 02:08:46</td>\n",
       "      <td>2019-02-14 02:48:45</td>\n",
       "      <td>2019-02-14 03:00:00</td>\n",
       "      <td>AzurePublic</td>\n",
       "      <td>asihuntomsworkspacerg</td>\n",
       "      <td>msticalertswin1</td>\n",
       "      <td>10.0.3.5</td>\n",
       "      <td>[13.65.107.32, 40.124.45.19]</td>\n",
       "      <td></td>\n",
       "      <td>...</td>\n",
       "      <td>443.0</td>\n",
       "      <td>O</td>\n",
       "      <td>4.0</td>\n",
       "      <td>0.0</td>\n",
       "      <td>0.0</td>\n",
       "      <td>0.0</td>\n",
       "      <td>southcentralus</td>\n",
       "      <td>eastus</td>\n",
       "      <td>13.65.107.32</td>\n",
       "      <td>4.0</td>\n",
       "    </tr>\n",
       "    <tr>\n",
       "      <th>3</th>\n",
       "      <td>2019-02-14 03:26:06.765</td>\n",
       "      <td>2019-02-14 02:08:46</td>\n",
       "      <td>2019-02-14 02:48:45</td>\n",
       "      <td>2019-02-14 03:00:00</td>\n",
       "      <td>AzurePublic</td>\n",
       "      <td>asihuntomsworkspacerg</td>\n",
       "      <td>msticalertswin1</td>\n",
       "      <td>10.0.3.5</td>\n",
       "      <td>[13.65.107.32, 40.124.45.19]</td>\n",
       "      <td></td>\n",
       "      <td>...</td>\n",
       "      <td>443.0</td>\n",
       "      <td>O</td>\n",
       "      <td>4.0</td>\n",
       "      <td>0.0</td>\n",
       "      <td>0.0</td>\n",
       "      <td>0.0</td>\n",
       "      <td>southcentralus</td>\n",
       "      <td>eastus</td>\n",
       "      <td>40.124.45.19</td>\n",
       "      <td>4.0</td>\n",
       "    </tr>\n",
       "    <tr>\n",
       "      <th>4</th>\n",
       "      <td>2019-02-14 03:26:06.828</td>\n",
       "      <td>2019-02-14 02:30:56</td>\n",
       "      <td>2019-02-14 02:30:56</td>\n",
       "      <td>2019-02-14 03:00:00</td>\n",
       "      <td>AzurePublic</td>\n",
       "      <td>asihuntomsworkspacerg</td>\n",
       "      <td>msticalertswin1</td>\n",
       "      <td>10.0.3.5</td>\n",
       "      <td>[20.38.98.100]</td>\n",
       "      <td></td>\n",
       "      <td>...</td>\n",
       "      <td>443.0</td>\n",
       "      <td>O</td>\n",
       "      <td>1.0</td>\n",
       "      <td>0.0</td>\n",
       "      <td>0.0</td>\n",
       "      <td>0.0</td>\n",
       "      <td>eastus</td>\n",
       "      <td>eastus</td>\n",
       "      <td>20.38.98.100</td>\n",
       "      <td>1.0</td>\n",
       "    </tr>\n",
       "  </tbody>\n",
       "</table>\n",
       "<p>5 rows × 23 columns</p>\n",
       "</div>"
      ],
      "text/plain": [
       "            TimeGenerated       FlowStartTime         FlowEndTime  \\\n",
       "0 2019-02-14 13:23:59.512 2019-02-14 12:21:58 2019-02-14 12:21:58   \n",
       "1 2019-02-14 13:23:59.512 2019-02-14 12:29:02 2019-02-14 12:29:02   \n",
       "2 2019-02-14 03:26:06.765 2019-02-14 02:08:46 2019-02-14 02:48:45   \n",
       "3 2019-02-14 03:26:06.765 2019-02-14 02:08:46 2019-02-14 02:48:45   \n",
       "4 2019-02-14 03:26:06.828 2019-02-14 02:30:56 2019-02-14 02:30:56   \n",
       "\n",
       "  FlowIntervalEndTime     FlowType          ResourceGroup           VMName  \\\n",
       "0 2019-02-14 13:00:00  AzurePublic  asihuntomsworkspacerg  msticalertswin1   \n",
       "1 2019-02-14 13:00:00  AzurePublic  asihuntomsworkspacerg  msticalertswin1   \n",
       "2 2019-02-14 03:00:00  AzurePublic  asihuntomsworkspacerg  msticalertswin1   \n",
       "3 2019-02-14 03:00:00  AzurePublic  asihuntomsworkspacerg  msticalertswin1   \n",
       "4 2019-02-14 03:00:00  AzurePublic  asihuntomsworkspacerg  msticalertswin1   \n",
       "\n",
       "  VMIPAddress                     PublicIPs SrcIP  ... DestPort FlowDirection  \\\n",
       "0    10.0.3.5               [13.67.143.117]        ...    443.0             O   \n",
       "1    10.0.3.5                [40.77.232.95]        ...    443.0             O   \n",
       "2    10.0.3.5  [13.65.107.32, 40.124.45.19]        ...    443.0             O   \n",
       "3    10.0.3.5  [13.65.107.32, 40.124.45.19]        ...    443.0             O   \n",
       "4    10.0.3.5                [20.38.98.100]        ...    443.0             O   \n",
       "\n",
       "  AllowedOutFlows  AllowedInFlows DeniedInFlows  DeniedOutFlows  \\\n",
       "0             1.0             0.0           0.0             0.0   \n",
       "1             1.0             0.0           0.0             0.0   \n",
       "2             4.0             0.0           0.0             0.0   \n",
       "3             4.0             0.0           0.0             0.0   \n",
       "4             1.0             0.0           0.0             0.0   \n",
       "\n",
       "     RemoteRegion  VMRegion      AllExtIPs TotalAllowedFlows  \n",
       "0       centralus    eastus  13.67.143.117               1.0  \n",
       "1   westcentralus    eastus   40.77.232.95               1.0  \n",
       "2  southcentralus    eastus   13.65.107.32               4.0  \n",
       "3  southcentralus    eastus   40.124.45.19               4.0  \n",
       "4          eastus    eastus   20.38.98.100               1.0  \n",
       "\n",
       "[5 rows x 23 columns]"
      ]
     },
     "execution_count": 56,
     "metadata": {},
     "output_type": "execute_result"
    }
   ],
   "source": [
    "net_df = pd.read_pickle(\"../data/az_net_comms_df.pkl\")\n",
    "net_df.head()"
   ]
  },
  {
   "cell_type": "code",
   "execution_count": 57,
   "metadata": {
    "ExecuteTime": {
     "end_time": "2021-11-29T17:00:05.252169Z",
     "start_time": "2021-11-29T17:00:05.112991Z"
    }
   },
   "outputs": [
    {
     "ename": "KeyError",
     "evalue": "\"['TenantId'] not in index\"",
     "output_type": "error",
     "traceback": [
      "\u001b[1;31m---------------------------------------------------------------------------\u001b[0m",
      "\u001b[1;31mKeyError\u001b[0m                                  Traceback (most recent call last)",
      "\u001b[1;32m~\\AppData\\Local\\Temp/ipykernel_53020/2940527863.py\u001b[0m in \u001b[0;36m<module>\u001b[1;34m\u001b[0m\n\u001b[1;32m----> 1\u001b[1;33m \u001b[0mnet_df\u001b[0m\u001b[1;33m[\u001b[0m\u001b[1;33m[\u001b[0m\u001b[1;34m\"TenantId\"\u001b[0m\u001b[1;33m,\u001b[0m\u001b[1;34m\"AllExtIPs\"\u001b[0m\u001b[1;33m]\u001b[0m\u001b[1;33m]\u001b[0m\u001b[1;33m.\u001b[0m\u001b[0mgroupby\u001b[0m\u001b[1;33m(\u001b[0m\u001b[1;34m\"AllExtIPs\"\u001b[0m\u001b[1;33m)\u001b[0m\u001b[1;33m.\u001b[0m\u001b[0magg\u001b[0m\u001b[1;33m(\u001b[0m\u001b[1;34m\"count\"\u001b[0m\u001b[1;33m)\u001b[0m\u001b[1;33m\u001b[0m\u001b[1;33m\u001b[0m\u001b[0m\n\u001b[0m",
      "\u001b[1;32m~\\AppData\\Roaming\\Python\\Python37\\site-packages\\pandas\\core\\frame.py\u001b[0m in \u001b[0;36m__getitem__\u001b[1;34m(self, key)\u001b[0m\n\u001b[0;32m   3028\u001b[0m             \u001b[1;32mif\u001b[0m \u001b[0mis_iterator\u001b[0m\u001b[1;33m(\u001b[0m\u001b[0mkey\u001b[0m\u001b[1;33m)\u001b[0m\u001b[1;33m:\u001b[0m\u001b[1;33m\u001b[0m\u001b[1;33m\u001b[0m\u001b[0m\n\u001b[0;32m   3029\u001b[0m                 \u001b[0mkey\u001b[0m \u001b[1;33m=\u001b[0m \u001b[0mlist\u001b[0m\u001b[1;33m(\u001b[0m\u001b[0mkey\u001b[0m\u001b[1;33m)\u001b[0m\u001b[1;33m\u001b[0m\u001b[1;33m\u001b[0m\u001b[0m\n\u001b[1;32m-> 3030\u001b[1;33m             \u001b[0mindexer\u001b[0m \u001b[1;33m=\u001b[0m \u001b[0mself\u001b[0m\u001b[1;33m.\u001b[0m\u001b[0mloc\u001b[0m\u001b[1;33m.\u001b[0m\u001b[0m_get_listlike_indexer\u001b[0m\u001b[1;33m(\u001b[0m\u001b[0mkey\u001b[0m\u001b[1;33m,\u001b[0m \u001b[0maxis\u001b[0m\u001b[1;33m=\u001b[0m\u001b[1;36m1\u001b[0m\u001b[1;33m,\u001b[0m \u001b[0mraise_missing\u001b[0m\u001b[1;33m=\u001b[0m\u001b[1;32mTrue\u001b[0m\u001b[1;33m)\u001b[0m\u001b[1;33m[\u001b[0m\u001b[1;36m1\u001b[0m\u001b[1;33m]\u001b[0m\u001b[1;33m\u001b[0m\u001b[1;33m\u001b[0m\u001b[0m\n\u001b[0m\u001b[0;32m   3031\u001b[0m \u001b[1;33m\u001b[0m\u001b[0m\n\u001b[0;32m   3032\u001b[0m         \u001b[1;31m# take() does not accept boolean indexers\u001b[0m\u001b[1;33m\u001b[0m\u001b[1;33m\u001b[0m\u001b[1;33m\u001b[0m\u001b[0m\n",
      "\u001b[1;32m~\\AppData\\Roaming\\Python\\Python37\\site-packages\\pandas\\core\\indexing.py\u001b[0m in \u001b[0;36m_get_listlike_indexer\u001b[1;34m(self, key, axis, raise_missing)\u001b[0m\n\u001b[0;32m   1264\u001b[0m             \u001b[0mkeyarr\u001b[0m\u001b[1;33m,\u001b[0m \u001b[0mindexer\u001b[0m\u001b[1;33m,\u001b[0m \u001b[0mnew_indexer\u001b[0m \u001b[1;33m=\u001b[0m \u001b[0max\u001b[0m\u001b[1;33m.\u001b[0m\u001b[0m_reindex_non_unique\u001b[0m\u001b[1;33m(\u001b[0m\u001b[0mkeyarr\u001b[0m\u001b[1;33m)\u001b[0m\u001b[1;33m\u001b[0m\u001b[1;33m\u001b[0m\u001b[0m\n\u001b[0;32m   1265\u001b[0m \u001b[1;33m\u001b[0m\u001b[0m\n\u001b[1;32m-> 1266\u001b[1;33m         \u001b[0mself\u001b[0m\u001b[1;33m.\u001b[0m\u001b[0m_validate_read_indexer\u001b[0m\u001b[1;33m(\u001b[0m\u001b[0mkeyarr\u001b[0m\u001b[1;33m,\u001b[0m \u001b[0mindexer\u001b[0m\u001b[1;33m,\u001b[0m \u001b[0maxis\u001b[0m\u001b[1;33m,\u001b[0m \u001b[0mraise_missing\u001b[0m\u001b[1;33m=\u001b[0m\u001b[0mraise_missing\u001b[0m\u001b[1;33m)\u001b[0m\u001b[1;33m\u001b[0m\u001b[1;33m\u001b[0m\u001b[0m\n\u001b[0m\u001b[0;32m   1267\u001b[0m         \u001b[1;32mreturn\u001b[0m \u001b[0mkeyarr\u001b[0m\u001b[1;33m,\u001b[0m \u001b[0mindexer\u001b[0m\u001b[1;33m\u001b[0m\u001b[1;33m\u001b[0m\u001b[0m\n\u001b[0;32m   1268\u001b[0m \u001b[1;33m\u001b[0m\u001b[0m\n",
      "\u001b[1;32m~\\AppData\\Roaming\\Python\\Python37\\site-packages\\pandas\\core\\indexing.py\u001b[0m in \u001b[0;36m_validate_read_indexer\u001b[1;34m(self, key, indexer, axis, raise_missing)\u001b[0m\n\u001b[0;32m   1314\u001b[0m             \u001b[1;32mif\u001b[0m \u001b[0mraise_missing\u001b[0m\u001b[1;33m:\u001b[0m\u001b[1;33m\u001b[0m\u001b[1;33m\u001b[0m\u001b[0m\n\u001b[0;32m   1315\u001b[0m                 \u001b[0mnot_found\u001b[0m \u001b[1;33m=\u001b[0m \u001b[0mlist\u001b[0m\u001b[1;33m(\u001b[0m\u001b[0mset\u001b[0m\u001b[1;33m(\u001b[0m\u001b[0mkey\u001b[0m\u001b[1;33m)\u001b[0m \u001b[1;33m-\u001b[0m \u001b[0mset\u001b[0m\u001b[1;33m(\u001b[0m\u001b[0max\u001b[0m\u001b[1;33m)\u001b[0m\u001b[1;33m)\u001b[0m\u001b[1;33m\u001b[0m\u001b[1;33m\u001b[0m\u001b[0m\n\u001b[1;32m-> 1316\u001b[1;33m                 \u001b[1;32mraise\u001b[0m \u001b[0mKeyError\u001b[0m\u001b[1;33m(\u001b[0m\u001b[1;34mf\"{not_found} not in index\"\u001b[0m\u001b[1;33m)\u001b[0m\u001b[1;33m\u001b[0m\u001b[1;33m\u001b[0m\u001b[0m\n\u001b[0m\u001b[0;32m   1317\u001b[0m \u001b[1;33m\u001b[0m\u001b[0m\n\u001b[0;32m   1318\u001b[0m             \u001b[0mnot_found\u001b[0m \u001b[1;33m=\u001b[0m \u001b[0mkey\u001b[0m\u001b[1;33m[\u001b[0m\u001b[0mmissing_mask\u001b[0m\u001b[1;33m]\u001b[0m\u001b[1;33m\u001b[0m\u001b[1;33m\u001b[0m\u001b[0m\n",
      "\u001b[1;31mKeyError\u001b[0m: \"['TenantId'] not in index\""
     ]
    }
   ],
   "source": [
    "net_df[[\"TenantId\",\"AllExtIPs\"]].groupby(\"AllExtIPs\").agg(\"count\")"
   ]
  },
  {
   "cell_type": "code",
   "execution_count": null,
   "metadata": {
    "ExecuteTime": {
     "end_time": "2021-11-29T17:00:05.654200Z",
     "start_time": "2021-11-29T17:00:05.624771Z"
    }
   },
   "outputs": [
    {
     "ename": "KeyError",
     "evalue": "\"['TenantId'] not in index\"",
     "output_type": "error",
     "traceback": [
      "\u001b[0;31m---------------------------------------------------------------------------\u001b[0m",
      "\u001b[0;31mKeyError\u001b[0m                                  Traceback (most recent call last)",
      "\u001b[0;32m/tmp/ipykernel_32641/1415833298.py\u001b[0m in \u001b[0;36m<module>\u001b[0;34m\u001b[0m\n\u001b[0;32m----> 1\u001b[0;31m \u001b[0mnet_df\u001b[0m\u001b[0;34m[\u001b[0m\u001b[0;34m[\u001b[0m\u001b[0;34m\"TenantId\"\u001b[0m\u001b[0;34m,\u001b[0m\u001b[0;34m\"AllExtIPs\"\u001b[0m\u001b[0;34m]\u001b[0m\u001b[0;34m]\u001b[0m\u001b[0;34m.\u001b[0m\u001b[0mgroupby\u001b[0m\u001b[0;34m(\u001b[0m\u001b[0;34m\"AllExtIPs\"\u001b[0m\u001b[0;34m)\u001b[0m\u001b[0;34m.\u001b[0m\u001b[0magg\u001b[0m\u001b[0;34m(\u001b[0m\u001b[0;34m\"count\"\u001b[0m\u001b[0;34m)\u001b[0m\u001b[0;34m.\u001b[0m\u001b[0msort_values\u001b[0m\u001b[0;34m(\u001b[0m\u001b[0mby\u001b[0m\u001b[0;34m=\u001b[0m\u001b[0;34m\"TenantId\"\u001b[0m\u001b[0;34m,\u001b[0m \u001b[0mascending\u001b[0m\u001b[0;34m=\u001b[0m\u001b[0;32mFalse\u001b[0m\u001b[0;34m)\u001b[0m\u001b[0;34m\u001b[0m\u001b[0;34m\u001b[0m\u001b[0m\n\u001b[0m",
      "\u001b[0;32m/opt/conda/lib/python3.9/site-packages/pandas/core/frame.py\u001b[0m in \u001b[0;36m__getitem__\u001b[0;34m(self, key)\u001b[0m\n\u001b[1;32m   3462\u001b[0m             \u001b[0;32mif\u001b[0m \u001b[0mis_iterator\u001b[0m\u001b[0;34m(\u001b[0m\u001b[0mkey\u001b[0m\u001b[0;34m)\u001b[0m\u001b[0;34m:\u001b[0m\u001b[0;34m\u001b[0m\u001b[0;34m\u001b[0m\u001b[0m\n\u001b[1;32m   3463\u001b[0m                 \u001b[0mkey\u001b[0m \u001b[0;34m=\u001b[0m \u001b[0mlist\u001b[0m\u001b[0;34m(\u001b[0m\u001b[0mkey\u001b[0m\u001b[0;34m)\u001b[0m\u001b[0;34m\u001b[0m\u001b[0;34m\u001b[0m\u001b[0m\n\u001b[0;32m-> 3464\u001b[0;31m             \u001b[0mindexer\u001b[0m \u001b[0;34m=\u001b[0m \u001b[0mself\u001b[0m\u001b[0;34m.\u001b[0m\u001b[0mloc\u001b[0m\u001b[0;34m.\u001b[0m\u001b[0m_get_listlike_indexer\u001b[0m\u001b[0;34m(\u001b[0m\u001b[0mkey\u001b[0m\u001b[0;34m,\u001b[0m \u001b[0maxis\u001b[0m\u001b[0;34m=\u001b[0m\u001b[0;36m1\u001b[0m\u001b[0;34m)\u001b[0m\u001b[0;34m[\u001b[0m\u001b[0;36m1\u001b[0m\u001b[0;34m]\u001b[0m\u001b[0;34m\u001b[0m\u001b[0;34m\u001b[0m\u001b[0m\n\u001b[0m\u001b[1;32m   3465\u001b[0m \u001b[0;34m\u001b[0m\u001b[0m\n\u001b[1;32m   3466\u001b[0m         \u001b[0;31m# take() does not accept boolean indexers\u001b[0m\u001b[0;34m\u001b[0m\u001b[0;34m\u001b[0m\u001b[0m\n",
      "\u001b[0;32m/opt/conda/lib/python3.9/site-packages/pandas/core/indexing.py\u001b[0m in \u001b[0;36m_get_listlike_indexer\u001b[0;34m(self, key, axis)\u001b[0m\n\u001b[1;32m   1312\u001b[0m             \u001b[0mkeyarr\u001b[0m\u001b[0;34m,\u001b[0m \u001b[0mindexer\u001b[0m\u001b[0;34m,\u001b[0m \u001b[0mnew_indexer\u001b[0m \u001b[0;34m=\u001b[0m \u001b[0max\u001b[0m\u001b[0;34m.\u001b[0m\u001b[0m_reindex_non_unique\u001b[0m\u001b[0;34m(\u001b[0m\u001b[0mkeyarr\u001b[0m\u001b[0;34m)\u001b[0m\u001b[0;34m\u001b[0m\u001b[0;34m\u001b[0m\u001b[0m\n\u001b[1;32m   1313\u001b[0m \u001b[0;34m\u001b[0m\u001b[0m\n\u001b[0;32m-> 1314\u001b[0;31m         \u001b[0mself\u001b[0m\u001b[0;34m.\u001b[0m\u001b[0m_validate_read_indexer\u001b[0m\u001b[0;34m(\u001b[0m\u001b[0mkeyarr\u001b[0m\u001b[0;34m,\u001b[0m \u001b[0mindexer\u001b[0m\u001b[0;34m,\u001b[0m \u001b[0maxis\u001b[0m\u001b[0;34m)\u001b[0m\u001b[0;34m\u001b[0m\u001b[0;34m\u001b[0m\u001b[0m\n\u001b[0m\u001b[1;32m   1315\u001b[0m \u001b[0;34m\u001b[0m\u001b[0m\n\u001b[1;32m   1316\u001b[0m         if needs_i8_conversion(ax.dtype) or isinstance(\n",
      "\u001b[0;32m/opt/conda/lib/python3.9/site-packages/pandas/core/indexing.py\u001b[0m in \u001b[0;36m_validate_read_indexer\u001b[0;34m(self, key, indexer, axis)\u001b[0m\n\u001b[1;32m   1375\u001b[0m \u001b[0;34m\u001b[0m\u001b[0m\n\u001b[1;32m   1376\u001b[0m             \u001b[0mnot_found\u001b[0m \u001b[0;34m=\u001b[0m \u001b[0mlist\u001b[0m\u001b[0;34m(\u001b[0m\u001b[0mensure_index\u001b[0m\u001b[0;34m(\u001b[0m\u001b[0mkey\u001b[0m\u001b[0;34m)\u001b[0m\u001b[0;34m[\u001b[0m\u001b[0mmissing_mask\u001b[0m\u001b[0;34m.\u001b[0m\u001b[0mnonzero\u001b[0m\u001b[0;34m(\u001b[0m\u001b[0;34m)\u001b[0m\u001b[0;34m[\u001b[0m\u001b[0;36m0\u001b[0m\u001b[0;34m]\u001b[0m\u001b[0;34m]\u001b[0m\u001b[0;34m.\u001b[0m\u001b[0munique\u001b[0m\u001b[0;34m(\u001b[0m\u001b[0;34m)\u001b[0m\u001b[0;34m)\u001b[0m\u001b[0;34m\u001b[0m\u001b[0;34m\u001b[0m\u001b[0m\n\u001b[0;32m-> 1377\u001b[0;31m             \u001b[0;32mraise\u001b[0m \u001b[0mKeyError\u001b[0m\u001b[0;34m(\u001b[0m\u001b[0;34mf\"{not_found} not in index\"\u001b[0m\u001b[0;34m)\u001b[0m\u001b[0;34m\u001b[0m\u001b[0;34m\u001b[0m\u001b[0m\n\u001b[0m\u001b[1;32m   1378\u001b[0m \u001b[0;34m\u001b[0m\u001b[0m\n\u001b[1;32m   1379\u001b[0m \u001b[0;34m\u001b[0m\u001b[0m\n",
      "\u001b[0;31mKeyError\u001b[0m: \"['TenantId'] not in index\""
     ]
    }
   ],
   "source": [
    "net_df[[\"TenantId\",\"AllExtIPs\"]].groupby(\"AllExtIPs\").agg(\"count\").sort_values(by=\"TenantId\", ascending=False)"
   ]
  },
  {
   "cell_type": "markdown",
   "metadata": {},
   "source": [
    "#### Use parentheses to let you stack the functions vertically"
   ]
  },
  {
   "cell_type": "code",
   "execution_count": null,
   "metadata": {},
   "outputs": [],
   "source": [
    "(\n",
    "    net_df[[\"TenantId\",\"AllExtIPs\"]]\n",
    "    .groupby(\"AllExtIPs\")\n",
    "    .agg(\"count\")\n",
    "    .sort_values(by=\"TenantId\", ascending=False)\n",
    ")"
   ]
  },
  {
   "cell_type": "code",
   "execution_count": null,
   "metadata": {},
   "outputs": [
    {
     "data": {
      "text/html": [
       "<div>\n",
       "<style scoped>\n",
       "    .dataframe tbody tr th:only-of-type {\n",
       "        vertical-align: middle;\n",
       "    }\n",
       "\n",
       "    .dataframe tbody tr th {\n",
       "        vertical-align: top;\n",
       "    }\n",
       "\n",
       "    .dataframe thead th {\n",
       "        text-align: right;\n",
       "    }\n",
       "</style>\n",
       "<table border=\"1\" class=\"dataframe\">\n",
       "  <thead>\n",
       "    <tr style=\"text-align: right;\">\n",
       "      <th></th>\n",
       "      <th>TenantId</th>\n",
       "    </tr>\n",
       "    <tr>\n",
       "      <th>AllExtIPs</th>\n",
       "      <th></th>\n",
       "    </tr>\n",
       "  </thead>\n",
       "  <tbody>\n",
       "    <tr>\n",
       "      <th>65.55.44.109</th>\n",
       "      <td>139</td>\n",
       "    </tr>\n",
       "    <tr>\n",
       "      <th>13.71.172.130</th>\n",
       "      <td>136</td>\n",
       "    </tr>\n",
       "    <tr>\n",
       "      <th>52.168.138.145</th>\n",
       "      <td>117</td>\n",
       "    </tr>\n",
       "    <tr>\n",
       "      <th>40.124.45.19</th>\n",
       "      <td>115</td>\n",
       "    </tr>\n",
       "    <tr>\n",
       "      <th>13.71.172.128</th>\n",
       "      <td>114</td>\n",
       "    </tr>\n",
       "  </tbody>\n",
       "</table>\n",
       "</div>"
      ],
      "text/plain": [
       "                TenantId\n",
       "AllExtIPs               \n",
       "65.55.44.109         139\n",
       "13.71.172.130        136\n",
       "52.168.138.145       117\n",
       "40.124.45.19         115\n",
       "13.71.172.128        114"
      ]
     },
     "execution_count": 237,
     "metadata": {},
     "output_type": "execute_result"
    }
   ],
   "source": [
    "(\n",
    "    net_df[[\"TenantId\", \"AllExtIPs\"]]\n",
    "    .groupby(\"AllExtIPs\")\n",
    "    .agg(\"count\")\n",
    "    .sort_values(\n",
    "        by=\"TenantId\", ascending=False\n",
    "    )\n",
    "    .head(5)\n",
    ")"
   ]
  },
  {
   "cell_type": "code",
   "execution_count": null,
   "metadata": {},
   "outputs": [
    {
     "data": {
      "text/plain": [
       "['65.55.44.109',\n",
       " '13.71.172.130',\n",
       " '52.168.138.145',\n",
       " '40.124.45.19',\n",
       " '13.71.172.128']"
      ]
     },
     "execution_count": 243,
     "metadata": {},
     "output_type": "execute_result"
    }
   ],
   "source": [
    "(\n",
    "    net_df[[\"TenantId\",\"AllExtIPs\"]]\n",
    "    .groupby(\"AllExtIPs\")\n",
    "    .agg(\"count\")\n",
    "    .sort_values(by=\"TenantId\", ascending=False)\n",
    "    .head(5)\n",
    "    .index\n",
    "    .to_list()\n",
    ")"
   ]
  },
  {
   "cell_type": "markdown",
   "metadata": {},
   "source": [
    "### External functions with pipe"
   ]
  },
  {
   "cell_type": "code",
   "execution_count": null,
   "metadata": {},
   "outputs": [],
   "source": [
    "def fill_missing_values(df):\n",
    "    for col in df.columns:\n",
    "        df[col].fillna(\"N/A\", inplace=True)\n",
    "    return df\n",
    "\n",
    "def drop_duplicates(df, column_name):\n",
    "    df = df.drop_duplicates(subset=column_name)\n",
    "    return df"
   ]
  },
  {
   "cell_type": "code",
   "execution_count": null,
   "metadata": {},
   "outputs": [
    {
     "data": {
      "text/plain": [
       "AllExtIPs\n",
       "65.55.44.109      139\n",
       "13.71.172.130     136\n",
       "52.168.138.145    117\n",
       "40.124.45.19      115\n",
       "13.71.172.128     114\n",
       "                 ... \n",
       "23.45.181.178       1\n",
       "23.45.181.176       1\n",
       "23.45.181.160       1\n",
       "23.45.180.34        1\n",
       "99.84.106.92        1\n",
       "Length: 125, dtype: int64"
      ]
     },
     "execution_count": 245,
     "metadata": {},
     "output_type": "execute_result"
    }
   ],
   "source": [
    "net_df.value_counts(\"AllExtIPs\")"
   ]
  },
  {
   "cell_type": "code",
   "execution_count": null,
   "metadata": {},
   "outputs": [
    {
     "data": {
      "text/plain": [
       "24"
      ]
     },
     "execution_count": 256,
     "metadata": {},
     "output_type": "execute_result"
    }
   ],
   "source": [
    "net_df.isnull().values.sum()"
   ]
  },
  {
   "cell_type": "code",
   "execution_count": null,
   "metadata": {},
   "outputs": [
    {
     "data": {
      "text/plain": [
       "0"
      ]
     },
     "execution_count": 253,
     "metadata": {},
     "output_type": "execute_result"
    }
   ],
   "source": [
    "net_df.pipe(fill_missing_values).isnull().values.sum()"
   ]
  },
  {
   "cell_type": "code",
   "execution_count": null,
   "metadata": {},
   "outputs": [
    {
     "data": {
      "text/plain": [
       "1360"
      ]
     },
     "execution_count": 258,
     "metadata": {},
     "output_type": "execute_result"
    }
   ],
   "source": [
    "len(net_df)"
   ]
  },
  {
   "cell_type": "code",
   "execution_count": null,
   "metadata": {},
   "outputs": [
    {
     "data": {
      "text/plain": [
       "TenantId               125\n",
       "TimeGenerated          125\n",
       "FlowStartTime          125\n",
       "FlowEndTime            125\n",
       "FlowIntervalEndTime    125\n",
       "FlowType               125\n",
       "ResourceGroup          122\n",
       "VMName                 122\n",
       "VMIPAddress            125\n",
       "PublicIPs              122\n",
       "SrcIP                  125\n",
       "DestIP                 125\n",
       "L4Protocol             125\n",
       "L7Protocol             125\n",
       "DestPort               125\n",
       "FlowDirection          125\n",
       "AllowedOutFlows        125\n",
       "AllowedInFlows         125\n",
       "DeniedInFlows          125\n",
       "DeniedOutFlows         125\n",
       "RemoteRegion           125\n",
       "VMRegion               125\n",
       "AllExtIPs              125\n",
       "TotalAllowedFlows      125\n",
       "dtype: int64"
      ]
     },
     "execution_count": 259,
     "metadata": {},
     "output_type": "execute_result"
    }
   ],
   "source": [
    "net_df.pipe(drop_duplicates, \"AllExtIPs\").count()"
   ]
  },
  {
   "cell_type": "code",
   "execution_count": null,
   "metadata": {},
   "outputs": [],
   "source": [
    "net_df = pd.read_pickle(\"../data/az_net_comms_df.pkl\")"
   ]
  },
  {
   "cell_type": "code",
   "execution_count": null,
   "metadata": {},
   "outputs": [
    {
     "data": {
      "text/plain": [
       "1360"
      ]
     },
     "execution_count": 268,
     "metadata": {},
     "output_type": "execute_result"
    }
   ],
   "source": [
    "len(net_df)"
   ]
  },
  {
   "cell_type": "code",
   "execution_count": null,
   "metadata": {},
   "outputs": [],
   "source": [
    "net_df_pipe = (net_df.pipe(drop_duplicates, \"AllExtIPs\").pipe(fill_missing_values))"
   ]
  },
  {
   "cell_type": "code",
   "execution_count": null,
   "metadata": {},
   "outputs": [
    {
     "data": {
      "text/plain": [
       "0"
      ]
     },
     "execution_count": 266,
     "metadata": {},
     "output_type": "execute_result"
    }
   ],
   "source": [
    "net_df_pipe.isnull().values.sum()"
   ]
  },
  {
   "cell_type": "markdown",
   "metadata": {},
   "source": [
    "### External functions with apply"
   ]
  },
  {
   "cell_type": "code",
   "execution_count": null,
   "metadata": {},
   "outputs": [
    {
     "name": "stdout",
     "output_type": "stream",
     "text": [
      "       Col1      Col2      Col3\n",
      "0  0.379748 -0.459915 -1.630365\n",
      "1  0.733204 -0.477975  0.297341\n",
      "2 -1.187185  0.367660 -1.602276\n",
      "3  0.500678  0.226610 -0.431865\n",
      "4 -0.199604  0.131271 -0.173194\n",
      "5 -0.063522  0.687468  0.009924\n",
      "6 -1.137589  1.686923 -0.835308\n",
      "7 -0.120839 -0.893021 -0.423119\n",
      "8  0.320839  1.275479 -0.092932\n",
      "9  1.274244 -0.363499 -1.022512\n",
      "        Col1       Col2       Col3\n",
      "0  10.379748   9.540085   8.369635\n",
      "1  10.733204   9.522025  10.297341\n",
      "2   8.812815  10.367660   8.397724\n",
      "3  10.500678  10.226610   9.568135\n",
      "4   9.800396  10.131271   9.826806\n",
      "5   9.936478  10.687468  10.009924\n",
      "6   8.862411  11.686923   9.164692\n",
      "7   9.879161   9.106979   9.576881\n",
      "8  10.320839  11.275479   9.907068\n",
      "9  11.274244   9.636501   8.977488\n"
     ]
    }
   ],
   "source": [
    "import pandas as pd\n",
    "import numpy as np\n",
    "\n",
    "def adder(element1, element2):\n",
    "    return element1+element2\n",
    "\n",
    "\n",
    "df = pd.DataFrame(np.random.randn(10, 3), columns=['Col1', 'Col2', 'Col3'])\n",
    "print(df)\n",
    "\n",
    "df1= df.apply(adder, args=([10]))\n",
    "#df1= df.apply(adder, element2=10)\n",
    "\n",
    "print(df1)"
   ]
  },
  {
   "cell_type": "code",
   "execution_count": null,
   "metadata": {},
   "outputs": [
    {
     "data": {
      "text/html": [
       "<div>\n",
       "<style scoped>\n",
       "    .dataframe tbody tr th:only-of-type {\n",
       "        vertical-align: middle;\n",
       "    }\n",
       "\n",
       "    .dataframe tbody tr th {\n",
       "        vertical-align: top;\n",
       "    }\n",
       "\n",
       "    .dataframe thead th {\n",
       "        text-align: right;\n",
       "    }\n",
       "</style>\n",
       "<table border=\"1\" class=\"dataframe\">\n",
       "  <thead>\n",
       "    <tr style=\"text-align: right;\">\n",
       "      <th></th>\n",
       "      <th>TenantId</th>\n",
       "      <th>TimeGenerated</th>\n",
       "      <th>FlowStartTime</th>\n",
       "      <th>FlowEndTime</th>\n",
       "      <th>FlowIntervalEndTime</th>\n",
       "      <th>FlowType</th>\n",
       "      <th>ResourceGroup</th>\n",
       "      <th>VMName</th>\n",
       "      <th>VMIPAddress</th>\n",
       "      <th>PublicIPs</th>\n",
       "      <th>SrcIP</th>\n",
       "      <th>DestIP</th>\n",
       "      <th>L4Protocol</th>\n",
       "      <th>L7Protocol</th>\n",
       "      <th>DestPort</th>\n",
       "      <th>FlowDirection</th>\n",
       "      <th>AllowedOutFlows</th>\n",
       "      <th>AllowedInFlows</th>\n",
       "      <th>DeniedInFlows</th>\n",
       "      <th>DeniedOutFlows</th>\n",
       "      <th>RemoteRegion</th>\n",
       "      <th>VMRegion</th>\n",
       "      <th>AllExtIPs</th>\n",
       "      <th>TotalAllowedFlows</th>\n",
       "    </tr>\n",
       "  </thead>\n",
       "  <tbody>\n",
       "    <tr>\n",
       "      <th>0</th>\n",
       "      <td>52b1ab41-869e-4138-9e40-2a4457f09bf0</td>\n",
       "      <td>2019-02-14 13:23:59.512</td>\n",
       "      <td>2019-02-14 12:21:58</td>\n",
       "      <td>2019-02-14 12:21:58</td>\n",
       "      <td>2019-02-14 13:00:00</td>\n",
       "      <td>AzurePublic</td>\n",
       "      <td>asihuntomsworkspacerg</td>\n",
       "      <td>msticalertswin1</td>\n",
       "      <td>10.0.3.5</td>\n",
       "      <td>[13.67.143.117]</td>\n",
       "      <td></td>\n",
       "      <td></td>\n",
       "      <td>T</td>\n",
       "      <td>https</td>\n",
       "      <td>443.0</td>\n",
       "      <td>O</td>\n",
       "      <td>1.0</td>\n",
       "      <td>0.0</td>\n",
       "      <td>0.0</td>\n",
       "      <td>0.0</td>\n",
       "      <td>centralus</td>\n",
       "      <td>eastus</td>\n",
       "      <td>13.67.143.117</td>\n",
       "      <td>1.0</td>\n",
       "    </tr>\n",
       "    <tr>\n",
       "      <th>1</th>\n",
       "      <td>52b1ab41-869e-4138-9e40-2a4457f09bf0</td>\n",
       "      <td>2019-02-14 13:23:59.512</td>\n",
       "      <td>2019-02-14 12:29:02</td>\n",
       "      <td>2019-02-14 12:29:02</td>\n",
       "      <td>2019-02-14 13:00:00</td>\n",
       "      <td>AzurePublic</td>\n",
       "      <td>asihuntomsworkspacerg</td>\n",
       "      <td>msticalertswin1</td>\n",
       "      <td>10.0.3.5</td>\n",
       "      <td>[40.77.232.95]</td>\n",
       "      <td></td>\n",
       "      <td></td>\n",
       "      <td>T</td>\n",
       "      <td>https</td>\n",
       "      <td>443.0</td>\n",
       "      <td>O</td>\n",
       "      <td>1.0</td>\n",
       "      <td>0.0</td>\n",
       "      <td>0.0</td>\n",
       "      <td>0.0</td>\n",
       "      <td>westcentralus</td>\n",
       "      <td>eastus</td>\n",
       "      <td>40.77.232.95</td>\n",
       "      <td>1.0</td>\n",
       "    </tr>\n",
       "    <tr>\n",
       "      <th>2</th>\n",
       "      <td>52b1ab41-869e-4138-9e40-2a4457f09bf0</td>\n",
       "      <td>2019-02-14 03:26:06.765</td>\n",
       "      <td>2019-02-14 02:08:46</td>\n",
       "      <td>2019-02-14 02:48:45</td>\n",
       "      <td>2019-02-14 03:00:00</td>\n",
       "      <td>AzurePublic</td>\n",
       "      <td>asihuntomsworkspacerg</td>\n",
       "      <td>msticalertswin1</td>\n",
       "      <td>10.0.3.5</td>\n",
       "      <td>[13.65.107.32, 40.124.45.19]</td>\n",
       "      <td></td>\n",
       "      <td></td>\n",
       "      <td>T</td>\n",
       "      <td>https</td>\n",
       "      <td>443.0</td>\n",
       "      <td>O</td>\n",
       "      <td>4.0</td>\n",
       "      <td>0.0</td>\n",
       "      <td>0.0</td>\n",
       "      <td>0.0</td>\n",
       "      <td>southcentralus</td>\n",
       "      <td>eastus</td>\n",
       "      <td>13.65.107.32</td>\n",
       "      <td>4.0</td>\n",
       "    </tr>\n",
       "    <tr>\n",
       "      <th>3</th>\n",
       "      <td>52b1ab41-869e-4138-9e40-2a4457f09bf0</td>\n",
       "      <td>2019-02-14 03:26:06.765</td>\n",
       "      <td>2019-02-14 02:08:46</td>\n",
       "      <td>2019-02-14 02:48:45</td>\n",
       "      <td>2019-02-14 03:00:00</td>\n",
       "      <td>AzurePublic</td>\n",
       "      <td>asihuntomsworkspacerg</td>\n",
       "      <td>msticalertswin1</td>\n",
       "      <td>10.0.3.5</td>\n",
       "      <td>[13.65.107.32, 40.124.45.19]</td>\n",
       "      <td></td>\n",
       "      <td></td>\n",
       "      <td>T</td>\n",
       "      <td>https</td>\n",
       "      <td>443.0</td>\n",
       "      <td>O</td>\n",
       "      <td>4.0</td>\n",
       "      <td>0.0</td>\n",
       "      <td>0.0</td>\n",
       "      <td>0.0</td>\n",
       "      <td>southcentralus</td>\n",
       "      <td>eastus</td>\n",
       "      <td>40.124.45.19</td>\n",
       "      <td>4.0</td>\n",
       "    </tr>\n",
       "    <tr>\n",
       "      <th>4</th>\n",
       "      <td>52b1ab41-869e-4138-9e40-2a4457f09bf0</td>\n",
       "      <td>2019-02-14 03:26:06.828</td>\n",
       "      <td>2019-02-14 02:30:56</td>\n",
       "      <td>2019-02-14 02:30:56</td>\n",
       "      <td>2019-02-14 03:00:00</td>\n",
       "      <td>AzurePublic</td>\n",
       "      <td>asihuntomsworkspacerg</td>\n",
       "      <td>msticalertswin1</td>\n",
       "      <td>10.0.3.5</td>\n",
       "      <td>[20.38.98.100]</td>\n",
       "      <td></td>\n",
       "      <td></td>\n",
       "      <td>T</td>\n",
       "      <td>https</td>\n",
       "      <td>443.0</td>\n",
       "      <td>O</td>\n",
       "      <td>1.0</td>\n",
       "      <td>0.0</td>\n",
       "      <td>0.0</td>\n",
       "      <td>0.0</td>\n",
       "      <td>eastus</td>\n",
       "      <td>eastus</td>\n",
       "      <td>20.38.98.100</td>\n",
       "      <td>1.0</td>\n",
       "    </tr>\n",
       "  </tbody>\n",
       "</table>\n",
       "</div>"
      ],
      "text/plain": [
       "                               TenantId           TimeGenerated  \\\n",
       "0  52b1ab41-869e-4138-9e40-2a4457f09bf0 2019-02-14 13:23:59.512   \n",
       "1  52b1ab41-869e-4138-9e40-2a4457f09bf0 2019-02-14 13:23:59.512   \n",
       "2  52b1ab41-869e-4138-9e40-2a4457f09bf0 2019-02-14 03:26:06.765   \n",
       "3  52b1ab41-869e-4138-9e40-2a4457f09bf0 2019-02-14 03:26:06.765   \n",
       "4  52b1ab41-869e-4138-9e40-2a4457f09bf0 2019-02-14 03:26:06.828   \n",
       "\n",
       "        FlowStartTime         FlowEndTime FlowIntervalEndTime     FlowType  \\\n",
       "0 2019-02-14 12:21:58 2019-02-14 12:21:58 2019-02-14 13:00:00  AzurePublic   \n",
       "1 2019-02-14 12:29:02 2019-02-14 12:29:02 2019-02-14 13:00:00  AzurePublic   \n",
       "2 2019-02-14 02:08:46 2019-02-14 02:48:45 2019-02-14 03:00:00  AzurePublic   \n",
       "3 2019-02-14 02:08:46 2019-02-14 02:48:45 2019-02-14 03:00:00  AzurePublic   \n",
       "4 2019-02-14 02:30:56 2019-02-14 02:30:56 2019-02-14 03:00:00  AzurePublic   \n",
       "\n",
       "           ResourceGroup           VMName VMIPAddress  \\\n",
       "0  asihuntomsworkspacerg  msticalertswin1    10.0.3.5   \n",
       "1  asihuntomsworkspacerg  msticalertswin1    10.0.3.5   \n",
       "2  asihuntomsworkspacerg  msticalertswin1    10.0.3.5   \n",
       "3  asihuntomsworkspacerg  msticalertswin1    10.0.3.5   \n",
       "4  asihuntomsworkspacerg  msticalertswin1    10.0.3.5   \n",
       "\n",
       "                      PublicIPs SrcIP DestIP L4Protocol L7Protocol  DestPort  \\\n",
       "0               [13.67.143.117]                       T      https     443.0   \n",
       "1                [40.77.232.95]                       T      https     443.0   \n",
       "2  [13.65.107.32, 40.124.45.19]                       T      https     443.0   \n",
       "3  [13.65.107.32, 40.124.45.19]                       T      https     443.0   \n",
       "4                [20.38.98.100]                       T      https     443.0   \n",
       "\n",
       "  FlowDirection  AllowedOutFlows  AllowedInFlows  DeniedInFlows  \\\n",
       "0             O              1.0             0.0            0.0   \n",
       "1             O              1.0             0.0            0.0   \n",
       "2             O              4.0             0.0            0.0   \n",
       "3             O              4.0             0.0            0.0   \n",
       "4             O              1.0             0.0            0.0   \n",
       "\n",
       "   DeniedOutFlows    RemoteRegion VMRegion      AllExtIPs  TotalAllowedFlows  \n",
       "0             0.0       centralus   eastus  13.67.143.117                1.0  \n",
       "1             0.0   westcentralus   eastus   40.77.232.95                1.0  \n",
       "2             0.0  southcentralus   eastus   13.65.107.32                4.0  \n",
       "3             0.0  southcentralus   eastus   40.124.45.19                4.0  \n",
       "4             0.0          eastus   eastus   20.38.98.100                1.0  "
      ]
     },
     "execution_count": 306,
     "metadata": {},
     "output_type": "execute_result"
    }
   ],
   "source": [
    "net_df.head()"
   ]
  },
  {
   "cell_type": "code",
   "execution_count": null,
   "metadata": {},
   "outputs": [],
   "source": [
    "net_df_ext = net_df.explode(\"PublicIPs\")"
   ]
  },
  {
   "cell_type": "code",
   "execution_count": null,
   "metadata": {},
   "outputs": [],
   "source": [
    "def get_country(ip):\n",
    "    try:\n",
    "        x = reader.country(ip)\n",
    "    except:\n",
    "        return np.nan\n",
    "    try:\n",
    "        return x.country.name if x else np.nan\n",
    "    except KeyError:\n",
    "        return np.nan"
   ]
  },
  {
   "cell_type": "code",
   "execution_count": null,
   "metadata": {},
   "outputs": [],
   "source": [
    "!pip install geoip2"
   ]
  },
  {
   "cell_type": "code",
   "execution_count": null,
   "metadata": {},
   "outputs": [],
   "source": [
    "import geoip2.database\n",
    "with geoip2.database.Reader(r'./Data/GeoLite2-Country.mmdb') as reader:\n",
    "    unique_ips = net_df_ext['PublicIPs'].unique()\n",
    "    unique_ips = pd.Series(unique_ips, index = unique_ips)\n",
    "    net_df_ext['PublicIPCountry'] = net_df_ext['PublicIPs'].map(unique_ips.apply(get_country))"
   ]
  },
  {
   "cell_type": "code",
   "execution_count": null,
   "metadata": {},
   "outputs": [
    {
     "data": {
      "text/plain": [
       "PublicIPCountry\n",
       "United States     1885\n",
       "Canada             515\n",
       "Ireland             66\n",
       "United Kingdom       4\n",
       "Sweden               2\n",
       "dtype: int64"
      ]
     },
     "execution_count": 317,
     "metadata": {},
     "output_type": "execute_result"
    }
   ],
   "source": [
    "net_df_ext.value_counts(\"PublicIPCountry\")"
   ]
  },
  {
   "cell_type": "code",
   "execution_count": null,
   "metadata": {},
   "outputs": [
    {
     "data": {
      "text/html": [
       "<div>\n",
       "<style scoped>\n",
       "    .dataframe tbody tr th:only-of-type {\n",
       "        vertical-align: middle;\n",
       "    }\n",
       "\n",
       "    .dataframe tbody tr th {\n",
       "        vertical-align: top;\n",
       "    }\n",
       "\n",
       "    .dataframe thead th {\n",
       "        text-align: right;\n",
       "    }\n",
       "</style>\n",
       "<table border=\"1\" class=\"dataframe\">\n",
       "  <thead>\n",
       "    <tr style=\"text-align: right;\">\n",
       "      <th></th>\n",
       "      <th>TenantId</th>\n",
       "      <th>TimeGenerated</th>\n",
       "      <th>FlowStartTime</th>\n",
       "      <th>FlowEndTime</th>\n",
       "      <th>FlowIntervalEndTime</th>\n",
       "      <th>FlowType</th>\n",
       "      <th>ResourceGroup</th>\n",
       "      <th>VMName</th>\n",
       "      <th>VMIPAddress</th>\n",
       "      <th>PublicIPs</th>\n",
       "      <th>SrcIP</th>\n",
       "      <th>DestIP</th>\n",
       "      <th>L4Protocol</th>\n",
       "      <th>L7Protocol</th>\n",
       "      <th>DestPort</th>\n",
       "      <th>FlowDirection</th>\n",
       "      <th>AllowedOutFlows</th>\n",
       "      <th>AllowedInFlows</th>\n",
       "      <th>DeniedInFlows</th>\n",
       "      <th>DeniedOutFlows</th>\n",
       "      <th>RemoteRegion</th>\n",
       "      <th>VMRegion</th>\n",
       "      <th>AllExtIPs</th>\n",
       "      <th>TotalAllowedFlows</th>\n",
       "      <th>PublicIPCountry</th>\n",
       "    </tr>\n",
       "  </thead>\n",
       "  <tbody>\n",
       "    <tr>\n",
       "      <th>0</th>\n",
       "      <td>52b1ab41-869e-4138-9e40-2a4457f09bf0</td>\n",
       "      <td>2019-02-14 13:23:59.512</td>\n",
       "      <td>2019-02-14 12:21:58</td>\n",
       "      <td>2019-02-14 12:21:58</td>\n",
       "      <td>2019-02-14 13:00:00</td>\n",
       "      <td>AzurePublic</td>\n",
       "      <td>asihuntomsworkspacerg</td>\n",
       "      <td>msticalertswin1</td>\n",
       "      <td>10.0.3.5</td>\n",
       "      <td>13.67.143.117</td>\n",
       "      <td></td>\n",
       "      <td></td>\n",
       "      <td>T</td>\n",
       "      <td>https</td>\n",
       "      <td>443.0</td>\n",
       "      <td>O</td>\n",
       "      <td>1.0</td>\n",
       "      <td>0.0</td>\n",
       "      <td>0.0</td>\n",
       "      <td>0.0</td>\n",
       "      <td>centralus</td>\n",
       "      <td>eastus</td>\n",
       "      <td>13.67.143.117</td>\n",
       "      <td>1.0</td>\n",
       "      <td>United States</td>\n",
       "    </tr>\n",
       "    <tr>\n",
       "      <th>1</th>\n",
       "      <td>52b1ab41-869e-4138-9e40-2a4457f09bf0</td>\n",
       "      <td>2019-02-14 13:23:59.512</td>\n",
       "      <td>2019-02-14 12:29:02</td>\n",
       "      <td>2019-02-14 12:29:02</td>\n",
       "      <td>2019-02-14 13:00:00</td>\n",
       "      <td>AzurePublic</td>\n",
       "      <td>asihuntomsworkspacerg</td>\n",
       "      <td>msticalertswin1</td>\n",
       "      <td>10.0.3.5</td>\n",
       "      <td>40.77.232.95</td>\n",
       "      <td></td>\n",
       "      <td></td>\n",
       "      <td>T</td>\n",
       "      <td>https</td>\n",
       "      <td>443.0</td>\n",
       "      <td>O</td>\n",
       "      <td>1.0</td>\n",
       "      <td>0.0</td>\n",
       "      <td>0.0</td>\n",
       "      <td>0.0</td>\n",
       "      <td>westcentralus</td>\n",
       "      <td>eastus</td>\n",
       "      <td>40.77.232.95</td>\n",
       "      <td>1.0</td>\n",
       "      <td>United States</td>\n",
       "    </tr>\n",
       "    <tr>\n",
       "      <th>2</th>\n",
       "      <td>52b1ab41-869e-4138-9e40-2a4457f09bf0</td>\n",
       "      <td>2019-02-14 03:26:06.765</td>\n",
       "      <td>2019-02-14 02:08:46</td>\n",
       "      <td>2019-02-14 02:48:45</td>\n",
       "      <td>2019-02-14 03:00:00</td>\n",
       "      <td>AzurePublic</td>\n",
       "      <td>asihuntomsworkspacerg</td>\n",
       "      <td>msticalertswin1</td>\n",
       "      <td>10.0.3.5</td>\n",
       "      <td>13.65.107.32</td>\n",
       "      <td></td>\n",
       "      <td></td>\n",
       "      <td>T</td>\n",
       "      <td>https</td>\n",
       "      <td>443.0</td>\n",
       "      <td>O</td>\n",
       "      <td>4.0</td>\n",
       "      <td>0.0</td>\n",
       "      <td>0.0</td>\n",
       "      <td>0.0</td>\n",
       "      <td>southcentralus</td>\n",
       "      <td>eastus</td>\n",
       "      <td>13.65.107.32</td>\n",
       "      <td>4.0</td>\n",
       "      <td>United States</td>\n",
       "    </tr>\n",
       "    <tr>\n",
       "      <th>2</th>\n",
       "      <td>52b1ab41-869e-4138-9e40-2a4457f09bf0</td>\n",
       "      <td>2019-02-14 03:26:06.765</td>\n",
       "      <td>2019-02-14 02:08:46</td>\n",
       "      <td>2019-02-14 02:48:45</td>\n",
       "      <td>2019-02-14 03:00:00</td>\n",
       "      <td>AzurePublic</td>\n",
       "      <td>asihuntomsworkspacerg</td>\n",
       "      <td>msticalertswin1</td>\n",
       "      <td>10.0.3.5</td>\n",
       "      <td>40.124.45.19</td>\n",
       "      <td></td>\n",
       "      <td></td>\n",
       "      <td>T</td>\n",
       "      <td>https</td>\n",
       "      <td>443.0</td>\n",
       "      <td>O</td>\n",
       "      <td>4.0</td>\n",
       "      <td>0.0</td>\n",
       "      <td>0.0</td>\n",
       "      <td>0.0</td>\n",
       "      <td>southcentralus</td>\n",
       "      <td>eastus</td>\n",
       "      <td>13.65.107.32</td>\n",
       "      <td>4.0</td>\n",
       "      <td>United States</td>\n",
       "    </tr>\n",
       "    <tr>\n",
       "      <th>3</th>\n",
       "      <td>52b1ab41-869e-4138-9e40-2a4457f09bf0</td>\n",
       "      <td>2019-02-14 03:26:06.765</td>\n",
       "      <td>2019-02-14 02:08:46</td>\n",
       "      <td>2019-02-14 02:48:45</td>\n",
       "      <td>2019-02-14 03:00:00</td>\n",
       "      <td>AzurePublic</td>\n",
       "      <td>asihuntomsworkspacerg</td>\n",
       "      <td>msticalertswin1</td>\n",
       "      <td>10.0.3.5</td>\n",
       "      <td>13.65.107.32</td>\n",
       "      <td></td>\n",
       "      <td></td>\n",
       "      <td>T</td>\n",
       "      <td>https</td>\n",
       "      <td>443.0</td>\n",
       "      <td>O</td>\n",
       "      <td>4.0</td>\n",
       "      <td>0.0</td>\n",
       "      <td>0.0</td>\n",
       "      <td>0.0</td>\n",
       "      <td>southcentralus</td>\n",
       "      <td>eastus</td>\n",
       "      <td>40.124.45.19</td>\n",
       "      <td>4.0</td>\n",
       "      <td>United States</td>\n",
       "    </tr>\n",
       "  </tbody>\n",
       "</table>\n",
       "</div>"
      ],
      "text/plain": [
       "                               TenantId           TimeGenerated  \\\n",
       "0  52b1ab41-869e-4138-9e40-2a4457f09bf0 2019-02-14 13:23:59.512   \n",
       "1  52b1ab41-869e-4138-9e40-2a4457f09bf0 2019-02-14 13:23:59.512   \n",
       "2  52b1ab41-869e-4138-9e40-2a4457f09bf0 2019-02-14 03:26:06.765   \n",
       "2  52b1ab41-869e-4138-9e40-2a4457f09bf0 2019-02-14 03:26:06.765   \n",
       "3  52b1ab41-869e-4138-9e40-2a4457f09bf0 2019-02-14 03:26:06.765   \n",
       "\n",
       "        FlowStartTime         FlowEndTime FlowIntervalEndTime     FlowType  \\\n",
       "0 2019-02-14 12:21:58 2019-02-14 12:21:58 2019-02-14 13:00:00  AzurePublic   \n",
       "1 2019-02-14 12:29:02 2019-02-14 12:29:02 2019-02-14 13:00:00  AzurePublic   \n",
       "2 2019-02-14 02:08:46 2019-02-14 02:48:45 2019-02-14 03:00:00  AzurePublic   \n",
       "2 2019-02-14 02:08:46 2019-02-14 02:48:45 2019-02-14 03:00:00  AzurePublic   \n",
       "3 2019-02-14 02:08:46 2019-02-14 02:48:45 2019-02-14 03:00:00  AzurePublic   \n",
       "\n",
       "           ResourceGroup           VMName VMIPAddress      PublicIPs SrcIP  \\\n",
       "0  asihuntomsworkspacerg  msticalertswin1    10.0.3.5  13.67.143.117         \n",
       "1  asihuntomsworkspacerg  msticalertswin1    10.0.3.5   40.77.232.95         \n",
       "2  asihuntomsworkspacerg  msticalertswin1    10.0.3.5   13.65.107.32         \n",
       "2  asihuntomsworkspacerg  msticalertswin1    10.0.3.5   40.124.45.19         \n",
       "3  asihuntomsworkspacerg  msticalertswin1    10.0.3.5   13.65.107.32         \n",
       "\n",
       "  DestIP L4Protocol L7Protocol  DestPort FlowDirection  AllowedOutFlows  \\\n",
       "0                 T      https     443.0             O              1.0   \n",
       "1                 T      https     443.0             O              1.0   \n",
       "2                 T      https     443.0             O              4.0   \n",
       "2                 T      https     443.0             O              4.0   \n",
       "3                 T      https     443.0             O              4.0   \n",
       "\n",
       "   AllowedInFlows  DeniedInFlows  DeniedOutFlows    RemoteRegion VMRegion  \\\n",
       "0             0.0            0.0             0.0       centralus   eastus   \n",
       "1             0.0            0.0             0.0   westcentralus   eastus   \n",
       "2             0.0            0.0             0.0  southcentralus   eastus   \n",
       "2             0.0            0.0             0.0  southcentralus   eastus   \n",
       "3             0.0            0.0             0.0  southcentralus   eastus   \n",
       "\n",
       "       AllExtIPs  TotalAllowedFlows PublicIPCountry  \n",
       "0  13.67.143.117                1.0   United States  \n",
       "1   40.77.232.95                1.0   United States  \n",
       "2   13.65.107.32                4.0   United States  \n",
       "2   13.65.107.32                4.0   United States  \n",
       "3   40.124.45.19                4.0   United States  "
      ]
     },
     "execution_count": 318,
     "metadata": {},
     "output_type": "execute_result"
    }
   ],
   "source": [
    "net_df_ext.head()"
   ]
  },
  {
   "cell_type": "markdown",
   "metadata": {},
   "source": [
    "# End of Session\n",
    "--------------------------------------\n",
    "\n",
    "# <font color=peru>Break: 5 Minutes</font>\n",
    "\n",
    "![](../media/dog-leash-break.jpg)"
   ]
  },
  {
   "cell_type": "markdown",
   "metadata": {},
   "source": []
  }
 ],
 "metadata": {
  "hide_input": false,
  "interpreter": {
   "hash": "f1a957ba120dd441fca5345565e323085d222a237914b966f18f2f288f750033"
  },
  "kernelspec": {
   "display_name": "Python 3 (ipykernel)",
   "language": "python",
   "name": "python3"
  },
  "language_info": {
   "codemirror_mode": {
    "name": "ipython",
    "version": 3
   },
   "file_extension": ".py",
   "mimetype": "text/x-python",
   "name": "python",
   "nbconvert_exporter": "python",
   "pygments_lexer": "ipython3",
   "version": "3.7.11"
  },
  "toc": {
   "base_numbering": 1,
   "nav_menu": {},
   "number_sections": true,
   "sideBar": true,
   "skip_h1_title": false,
   "title_cell": "Table of Contents",
   "title_sidebar": "Contents",
   "toc_cell": false,
   "toc_position": {
    "height": "calc(100% - 180px)",
    "left": "10px",
    "top": "150px",
    "width": "465.391px"
   },
   "toc_section_display": true,
   "toc_window_display": true
  },
  "varInspector": {
   "cols": {
    "lenName": 16,
    "lenType": 16,
    "lenVar": 40
   },
   "kernels_config": {
    "python": {
     "delete_cmd_postfix": "",
     "delete_cmd_prefix": "del ",
     "library": "var_list.py",
     "varRefreshCmd": "print(var_dic_list())"
    },
    "r": {
     "delete_cmd_postfix": ") ",
     "delete_cmd_prefix": "rm(",
     "library": "var_list.r",
     "varRefreshCmd": "cat(var_dic_list()) "
    }
   },
   "types_to_exclude": [
    "module",
    "function",
    "builtin_function_or_method",
    "instance",
    "_Feature"
   ],
   "window_display": false
  }
 },
 "nbformat": 4,
 "nbformat_minor": 4
}
